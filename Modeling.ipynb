{
 "cells": [
  {
   "cell_type": "markdown",
   "metadata": {},
   "source": [
    "# Importing necessary things"
   ]
  },
  {
   "cell_type": "code",
   "execution_count": 36,
   "metadata": {},
   "outputs": [],
   "source": [
    "import pandas as pd\n",
    "import numpy as np\n",
    "import sklearn\n",
    "\n",
    "import sklearn.metrics as metrics\n",
    "from sklearn.utils import resample\n",
    "from sklearn.preprocessing import MinMaxScaler\n",
    "from sklearn.model_selection import train_test_split\n",
    "from sklearn.preprocessing import LabelEncoder\n",
    "from sklearn.naive_bayes import MultinomialNB\n",
    "from sklearn.ensemble import RandomForestClassifier\n",
    "from sklearn.tree import DecisionTreeClassifier\n",
    "from sklearn.metrics import accuracy_score, confusion_matrix, f1_score, recall_score, precision_score\n",
    "from sklearn.feature_extraction.text import TfidfVectorizer, CountVectorizer\n",
    "from sklearn.svm import SVC\n",
    "\n",
    "import string\n",
    "import nltk\n",
    "from nltk.corpus import stopwords\n",
    "from nltk.stem import WordNetLemmatizer\n",
    "from nltk import word_tokenize, RegexpTokenizer, TweetTokenizer\n",
    "\n",
    "import matplotlib.pyplot as plt\n",
    "import seaborn as sns\n",
    "\n",
    "import re\n",
    "from datetime import datetime\n",
    "\n",
    "import pickle"
   ]
  },
  {
   "cell_type": "markdown",
   "metadata": {},
   "source": [
    "=================================================================================================================="
   ]
  },
  {
   "cell_type": "code",
   "execution_count": 3,
   "metadata": {},
   "outputs": [],
   "source": [
    "from pathlib import Path\n",
    "\n",
    "root = Path('.')\n",
    "\n",
    "my_path1 = root / \"tokens\" / \"processedreviewrating1.pbz2\"\n",
    "my_path2 = root / \"tokens\" / \"processedreviewrating2.pbz2\"\n",
    "my_path3 = root / \"tokens\" / \"processedreviewrating3.pbz2\"\n",
    "my_path4 = root / \"tokens\" / \"processedreviewrating4.pbz2\"\n",
    "my_path5 = root / \"tokens\" / \"processedreviewrating5.pbz2\"\n",
    "\n",
    "import bz2\n",
    "\n",
    "def compressed_pickle(path, data):\n",
    "    with bz2.BZ2File(path, 'w') as f:\n",
    "        pickle.dump(data, f)\n",
    "\n",
    "def decompress_pickle(file):\n",
    "    data = bz2.BZ2File(file, 'rb')\n",
    "    data = pickle.load(data)\n",
    "    return data"
   ]
  },
  {
   "cell_type": "code",
   "execution_count": 4,
   "metadata": {},
   "outputs": [
    {
     "data": {
      "text/html": [
       "<div>\n",
       "<style scoped>\n",
       "    .dataframe tbody tr th:only-of-type {\n",
       "        vertical-align: middle;\n",
       "    }\n",
       "\n",
       "    .dataframe tbody tr th {\n",
       "        vertical-align: top;\n",
       "    }\n",
       "\n",
       "    .dataframe thead th {\n",
       "        text-align: right;\n",
       "    }\n",
       "</style>\n",
       "<table border=\"1\" class=\"dataframe\">\n",
       "  <thead>\n",
       "    <tr style=\"text-align: right;\">\n",
       "      <th></th>\n",
       "      <th>content</th>\n",
       "      <th>score</th>\n",
       "      <th>appId</th>\n",
       "    </tr>\n",
       "  </thead>\n",
       "  <tbody>\n",
       "    <tr>\n",
       "      <th>0</th>\n",
       "      <td>Great game! First, the bad. There are plenty o...</td>\n",
       "      <td>4</td>\n",
       "      <td>com.innersloth.spacemafia</td>\n",
       "    </tr>\n",
       "    <tr>\n",
       "      <th>1</th>\n",
       "      <td>It's a really amazing start for a game but the...</td>\n",
       "      <td>4</td>\n",
       "      <td>com.innersloth.spacemafia</td>\n",
       "    </tr>\n",
       "  </tbody>\n",
       "</table>\n",
       "</div>"
      ],
      "text/plain": [
       "                                             content  score  \\\n",
       "0  Great game! First, the bad. There are plenty o...      4   \n",
       "1  It's a really amazing start for a game but the...      4   \n",
       "\n",
       "                       appId  \n",
       "0  com.innersloth.spacemafia  \n",
       "1  com.innersloth.spacemafia  "
      ]
     },
     "execution_count": 4,
     "metadata": {},
     "output_type": "execute_result"
    }
   ],
   "source": [
    "bigreviewlist = decompress_pickle('compressedbiglistreview.pbz2')\n",
    "dfreview = pd.DataFrame(bigreviewlist)\n",
    "dfreview.head(2)"
   ]
  },
  {
   "cell_type": "code",
   "execution_count": 5,
   "metadata": {},
   "outputs": [],
   "source": [
    "rating1 = decompress_pickle(my_path1)\n",
    "rating2 = decompress_pickle(my_path2)\n",
    "rating3 = decompress_pickle(my_path3)\n",
    "rating4 = decompress_pickle(my_path4)\n",
    "rating5 = decompress_pickle(my_path5)"
   ]
  },
  {
   "cell_type": "markdown",
   "metadata": {},
   "source": [
    "### Downsampling "
   ]
  },
  {
   "cell_type": "code",
   "execution_count": 8,
   "metadata": {
    "scrolled": true
   },
   "outputs": [
    {
     "name": "stdout",
     "output_type": "stream",
     "text": [
      "0:00:02.975819\n",
      "------------\n",
      "74308\n",
      "74308\n",
      "74308\n",
      "74308\n"
     ]
    }
   ],
   "source": [
    "# Downsample due to unbalanced dataset\n",
    "\n",
    "starttime = datetime.now()\n",
    "\n",
    "\n",
    "rating1downsample = resample(rating1,\n",
    "                            replace=False,\n",
    "                            n_samples=len(rating2),\n",
    "                            random_state=72)\n",
    "rating3downsample = resample(rating3,\n",
    "                            replace=False,\n",
    "                            n_samples=len(rating2),\n",
    "                            random_state=72)\n",
    "rating4downsample = resample(rating4,\n",
    "                            replace=False,\n",
    "                            n_samples=len(rating2),\n",
    "                            random_state=72)\n",
    "rating5downsample = resample(rating5,\n",
    "                            replace=False,\n",
    "                            n_samples=len(rating2),\n",
    "                            random_state=72)\n",
    "\n",
    "print(datetime.now() - starttime)\n",
    "print('------------')\n",
    "print(len(rating1downsample))\n",
    "print(len(rating3downsample))\n",
    "print(len(rating4downsample))\n",
    "print(len(rating5downsample))"
   ]
  },
  {
   "cell_type": "code",
   "execution_count": 9,
   "metadata": {
    "scrolled": true
   },
   "outputs": [
    {
     "name": "stdout",
     "output_type": "stream",
     "text": [
      "0:00:00.358392\n",
      "------------\n",
      "371540\n"
     ]
    }
   ],
   "source": [
    "starttime = datetime.now()\n",
    "\n",
    "dfreviewdown = pd.concat([rating1downsample, rating2, rating3downsample, rating4downsample, rating5downsample])\n",
    "\n",
    "print(datetime.now() - starttime)\n",
    "print('------------')\n",
    "print(len(dfreviewdown))"
   ]
  },
  {
   "cell_type": "code",
   "execution_count": 24,
   "metadata": {},
   "outputs": [],
   "source": [
    "# Remove common words\n",
    "stopwords_list = stopwords.words('english') + list(string.punctuation)\n",
    "# Remove more punctuation\n",
    "stopwords_list += [\"''\", '\"\"', '...', '``']\n",
    "# Remove random numerals\n",
    "stopwords_list += ['0', '1', '2', '3', '4', '5', '6', '7', '8', '9']\n",
    "# Remove contractions\n",
    "stopwords_list += [\"'d\", \"'ve\", \"ca\", \"n't\",  \"'t\", \"'re\", \"'ll\", \"'s\"]"
   ]
  },
  {
   "cell_type": "code",
   "execution_count": 28,
   "metadata": {},
   "outputs": [],
   "source": [
    "def process_reviews(reviews):\n",
    "    tokens = nltk.word_tokenize(reviews)\n",
    "    stopwords_removed = [token.lower() for token in tokens if token.lower() not in stopwords_list]\n",
    "    return stopwords_removed  \n",
    "\n",
    "lemmatizer = nltk.stem.WordNetLemmatizer()\n",
    "\n",
    "def lemmatize_text(text):\n",
    "    return [lemmatizer.lemmatize(w) for w in text]"
   ]
  },
  {
   "cell_type": "code",
   "execution_count": 29,
   "metadata": {},
   "outputs": [
    {
     "name": "stdout",
     "output_type": "stream",
     "text": [
      "0:02:51.988637\n",
      "------------\n",
      "179202    crapy control controld dont work developer gam...\n",
      "468048    horrible first downloaded app started hanging ...\n",
      "489520                                      understand game\n",
      "609033    playing game also member started became member...\n",
      "967690    unplayable first screen stay bigger size keybo...\n",
      "                                ...                        \n",
      "365575                                great variety classic\n",
      "181636    love game fun addicting play work play everywhere\n",
      "686756                            good definitely need work\n",
      "739687    kind disheartened feel like pay play game exci...\n",
      "561704    level 143 first level stuck day made eventuall...\n",
      "Name: strings, Length: 371540, dtype: object\n"
     ]
    }
   ],
   "source": [
    "starttime = datetime.now()\n",
    "\n",
    "dfreviewdown['wordlist'] = dfreviewdown['content'].apply(lambda x: process_reviews(x))\n",
    "dfreviewdown['wordlistlem'] = dfreviewdown['wordlist'].apply(lemmatize_text)\n",
    "dfreviewdown['strings'] = [' '.join(i) for i in dfreviewdown['wordlistlem']]\n",
    "\n",
    "print(datetime.now() - starttime)\n",
    "print('------------')\n",
    "print(dfreviewdown['strings'])"
   ]
  },
  {
   "cell_type": "markdown",
   "metadata": {},
   "source": [
    "### TF-IDF"
   ]
  },
  {
   "cell_type": "code",
   "execution_count": 30,
   "metadata": {},
   "outputs": [],
   "source": [
    "x = dfreviewdown['strings']\n",
    "y = dfreviewdown['score']\n",
    "\n",
    "X_train, X_test, y_train, y_test = train_test_split(x, y, random_state = 44)"
   ]
  },
  {
   "cell_type": "code",
   "execution_count": 31,
   "metadata": {},
   "outputs": [],
   "source": [
    "vec = TfidfVectorizer()\n",
    "\n",
    "tfidf_X_train = vec.fit_transform(X_train)\n",
    "tfidf_X_test = vec.transform(X_test)"
   ]
  },
  {
   "cell_type": "markdown",
   "metadata": {},
   "source": [
    "### Dummy Classifier Baseline Model"
   ]
  },
  {
   "cell_type": "code",
   "execution_count": 32,
   "metadata": {},
   "outputs": [
    {
     "name": "stderr",
     "output_type": "stream",
     "text": [
      "/opt/anaconda3/lib/python3.7/site-packages/sklearn/dummy.py:132: FutureWarning: The default value of strategy will change from stratified to prior in 0.24.\n",
      "  \"stratified to prior in 0.24.\", FutureWarning)\n"
     ]
    }
   ],
   "source": [
    "from sklearn.dummy import DummyClassifier\n",
    "\n",
    "dclf = DummyClassifier()\n",
    "dclf.fit(tfidf_X_train, y_train)\n",
    "y_preds_dummy = dclf.predict(tfidf_X_test)"
   ]
  },
  {
   "cell_type": "code",
   "execution_count": 33,
   "metadata": {},
   "outputs": [
    {
     "name": "stdout",
     "output_type": "stream",
     "text": [
      "Test Accuracy Score: 0.20040910803681972\n",
      "Test Precision Score: 0.20040042275439818\n",
      "Test Recall Score: 0.20040910803681972\n",
      "Test F1 Score: 0.20040254435529709\n"
     ]
    }
   ],
   "source": [
    "#Evaluation Metrics for Dummy Classifier\n",
    "\n",
    "print(\"Test Accuracy Score:\", metrics.accuracy_score(y_test, y_preds_dummy))\n",
    "print(\"Test Precision Score:\", metrics.precision_score(y_test, y_preds_dummy, average = \"weighted\"))\n",
    "print(\"Test Recall Score:\", metrics.recall_score(y_test, y_preds_dummy, average = \"weighted\"))\n",
    "print(\"Test F1 Score:\", metrics.f1_score(y_test, y_preds_dummy, average = \"weighted\"))"
   ]
  },
  {
   "cell_type": "markdown",
   "metadata": {},
   "source": [
    "### Naive Bayes"
   ]
  },
  {
   "cell_type": "code",
   "execution_count": 34,
   "metadata": {},
   "outputs": [
    {
     "name": "stdout",
     "output_type": "stream",
     "text": [
      "Test Accuracy Score: 0.45028799052591917\n",
      "Test Precision Score: 0.4484780206645797\n",
      "Test Recall Score: 0.45028799052591917\n",
      "Test F1 Score: 0.4482985710475769\n"
     ]
    }
   ],
   "source": [
    "NB = MultinomialNB(fit_prior = False)\n",
    "\n",
    "NB.fit(tfidf_X_train,y_train)\n",
    "\n",
    "y_pred_nb_test = NB.predict(tfidf_X_test)\n",
    "\n",
    "print(\"Test Accuracy Score:\", metrics.accuracy_score(y_test, y_pred_nb_test))\n",
    "print(\"Test Precision Score:\", metrics.precision_score(y_test, y_pred_nb_test, average = \"weighted\"))\n",
    "print(\"Test Recall Score:\", metrics.recall_score(y_test, y_pred_nb_test, average = \"weighted\"))\n",
    "print(\"Test F1 Score:\", metrics.f1_score(y_test, y_pred_nb_test, average = \"weighted\"))"
   ]
  },
  {
   "cell_type": "code",
   "execution_count": 37,
   "metadata": {},
   "outputs": [
    {
     "data": {
      "text/plain": [
       "Text(91.68, 0.5, 'Predicted Rating')"
      ]
     },
     "execution_count": 37,
     "metadata": {},
     "output_type": "execute_result"
    },
    {
     "data": {
      "image/png": "[encoded data removed]",
      "text/plain": [
       "<Figure size 432x288 with 1 Axes>"
      ]
     },
     "metadata": {
      "needs_background": "light"
     },
     "output_type": "display_data"
    }
   ],
   "source": [
    "matrix = confusion_matrix(y_test, y_pred_nb_test)\n",
    "sns.heatmap(matrix.T, square=True, annot=True, fmt='d', cbar=False, \n",
    "            xticklabels=['1','2','3','4','5'], yticklabels=['1','2','3','4','5'])\n",
    "\n",
    "plt.xlabel('Actual Rating')\n",
    "plt.ylabel('Predicted Rating')"
   ]
  },
  {
   "cell_type": "markdown",
   "metadata": {},
   "source": [
    "### Decision Tree"
   ]
  },
  {
   "cell_type": "code",
   "execution_count": 38,
   "metadata": {},
   "outputs": [
    {
     "name": "stdout",
     "output_type": "stream",
     "text": [
      "0:08:54.515107\n",
      "------------\n",
      "Test Accuracy Score: 0.3539753458577811\n",
      "Test Precision Score: 0.34881605298273455\n",
      "Test Recall Score: 0.3539753458577811\n",
      "Test F1 Score: 0.3509330883474596\n"
     ]
    }
   ],
   "source": [
    "# This takes 9 minutes to run\n",
    "\n",
    "starttime = datetime.now()\n",
    "\n",
    "dtc = DecisionTreeClassifier(class_weight='balanced', random_state=22)\n",
    "\n",
    "dtc.fit(tfidf_X_train, y_train)\n",
    "\n",
    "y_pred_dtc_test = dtc.predict(tfidf_X_test)\n",
    "\n",
    "print(datetime.now() - starttime)\n",
    "print('------------')\n",
    "print(\"Test Accuracy Score:\", metrics.accuracy_score(y_test, y_pred_dtc_test))\n",
    "print(\"Test Precision Score:\", metrics.precision_score(y_test, y_pred_dtc_test, average = \"weighted\"))\n",
    "print(\"Test Recall Score:\", metrics.recall_score(y_test, y_pred_dtc_test, average = \"weighted\"))\n",
    "print(\"Test F1 Score:\", metrics.f1_score(y_test, y_pred_dtc_test, average = \"weighted\"))"
   ]
  },
  {
   "cell_type": "code",
   "execution_count": 39,
   "metadata": {},
   "outputs": [
    {
     "data": {
      "text/plain": [
       "Text(91.68, 0.5, 'Predicted Rating')"
      ]
     },
     "execution_count": 39,
     "metadata": {},
     "output_type": "execute_result"
    },
    {
     "data": {
      "image/png": "[encoded data removed]",
      "text/plain": [
       "<Figure size 432x288 with 1 Axes>"
      ]
     },
     "metadata": {
      "needs_background": "light"
     },
     "output_type": "display_data"
    }
   ],
   "source": [
    "matrix = confusion_matrix(y_test, y_pred_dtc_test)\n",
    "sns.heatmap(matrix.T, square=True, annot=True, fmt='d', cbar=False, \n",
    "            xticklabels=['1','2','3','4','5'], yticklabels=['1','2','3','4','5'])\n",
    "\n",
    "plt.xlabel('Actual Rating')\n",
    "plt.ylabel('Predicted Rating')"
   ]
  },
  {
   "cell_type": "markdown",
   "metadata": {},
   "source": [
    "### Random Forest"
   ]
  },
  {
   "cell_type": "code",
   "execution_count": 40,
   "metadata": {},
   "outputs": [
    {
     "name": "stdout",
     "output_type": "stream",
     "text": [
      "0:44:58.806163\n",
      "------------\n",
      "Test Accuracy Score: 0.4447219680249771\n",
      "Test Precision Score: 0.42740208815620706\n",
      "Test Recall Score: 0.4447219680249771\n",
      "Test F1 Score: 0.43046895546013314\n"
     ]
    }
   ],
   "source": [
    "# Takes 1 hour 30 min with 200 n_estimators, half the time with 100. Similar results.\n",
    "\n",
    "starttime = datetime.now()\n",
    "\n",
    "rfc = RandomForestClassifier(n_estimators = 100, criterion='entropy', random_state = 11, n_jobs=-1)\n",
    "\n",
    "rfc.fit(tfidf_X_train, y_train)\n",
    "\n",
    "y_pred_rfc_test = rfc.predict(tfidf_X_test)\n",
    "\n",
    "print(datetime.now() - starttime)\n",
    "print('------------')\n",
    "print(\"Test Accuracy Score:\", metrics.accuracy_score(y_test, y_pred_rfc_test))\n",
    "print(\"Test Precision Score:\", metrics.precision_score(y_test, y_pred_rfc_test, average = \"weighted\"))\n",
    "print(\"Test Recall Score:\", metrics.recall_score(y_test, y_pred_rfc_test, average = \"weighted\"))\n",
    "print(\"Test F1 Score:\", metrics.f1_score(y_test, y_pred_rfc_test, average = \"weighted\"))"
   ]
  },
  {
   "cell_type": "code",
   "execution_count": 41,
   "metadata": {},
   "outputs": [
    {
     "data": {
      "text/plain": [
       "Text(91.68, 0.5, 'Predicted Rating')"
      ]
     },
     "execution_count": 41,
     "metadata": {},
     "output_type": "execute_result"
    },
    {
     "data": {
      "image/png": "[encoded data removed]",
      "text/plain": [
       "<Figure size 432x288 with 1 Axes>"
      ]
     },
     "metadata": {
      "needs_background": "light"
     },
     "output_type": "display_data"
    }
   ],
   "source": [
    "matrix = confusion_matrix(y_test, y_pred_rfc_test)\n",
    "sns.heatmap(matrix.T, square=True, annot=True, fmt='d', cbar=False, \n",
    "            xticklabels=['1','2','3','4','5'], yticklabels=['1','2','3','4','5'])\n",
    "\n",
    "plt.xlabel('Actual Rating')\n",
    "plt.ylabel('Predicted Rating')"
   ]
  },
  {
   "cell_type": "code",
   "execution_count": null,
   "metadata": {},
   "outputs": [],
   "source": []
  }
 ],
 "metadata": {
  "kernelspec": {
   "display_name": "Python 3",
   "language": "python",
   "name": "python3"
  },
  "language_info": {
   "codemirror_mode": {
    "name": "ipython",
    "version": 3
   },
   "file_extension": ".py",
   "mimetype": "text/x-python",
   "name": "python",
   "nbconvert_exporter": "python",
   "pygments_lexer": "ipython3",
   "version": "3.7.6"
  }
 },
 "nbformat": 4,
 "nbformat_minor": 4
}

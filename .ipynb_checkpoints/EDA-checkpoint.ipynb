{
 "cells": [
  {
   "cell_type": "markdown",
   "metadata": {},
   "source": [
    "# Importing necessary things"
   ]
  },
  {
   "cell_type": "code",
   "execution_count": 1,
   "metadata": {},
   "outputs": [],
   "source": [
    "import pandas as pd\n",
    "import numpy as np\n",
    "import sklearn\n",
    "\n",
    "import sklearn.metrics as metrics\n",
    "from sklearn.utils import resample\n",
    "from sklearn.model_selection import train_test_split\n",
    "from sklearn.preprocessing import LabelEncoder\n",
    "from sklearn.naive_bayes import MultinomialNB\n",
    "from sklearn.ensemble import RandomForestClassifier\n",
    "from sklearn.tree import DecisionTreeClassifier\n",
    "from sklearn.metrics import accuracy_score, confusion_matrix, f1_score, recall_score, precision_score\n",
    "from sklearn.feature_extraction.text import TfidfVectorizer, CountVectorizer\n",
    "\n",
    "import string\n",
    "import nltk\n",
    "from nltk.corpus import stopwords\n",
    "from nltk import word_tokenize, RegexpTokenizer, TweetTokenizer\n",
    "from nltk.stem import WordNetLemmatizer\n",
    "from nltk.stem import PorterStemmer\n",
    "from nltk.probability import FreqDist\n",
    "\n",
    "import matplotlib.pyplot as plt\n",
    "import seaborn as sns\n",
    "from matplotlib import cm\n",
    "from imblearn.over_sampling import ADASYN\n",
    "\n",
    "import re\n",
    "from datetime import datetime\n",
    "\n",
    "import pickle"
   ]
  },
  {
   "cell_type": "markdown",
   "metadata": {},
   "source": [
    "=================================================================================================================="
   ]
  },
  {
   "cell_type": "markdown",
   "metadata": {},
   "source": [
    "# Unpickling our data and taking a look"
   ]
  },
  {
   "cell_type": "code",
   "execution_count": 2,
   "metadata": {
    "scrolled": true
   },
   "outputs": [
    {
     "data": {
      "text/html": [
       "<div>\n",
       "<style scoped>\n",
       "    .dataframe tbody tr th:only-of-type {\n",
       "        vertical-align: middle;\n",
       "    }\n",
       "\n",
       "    .dataframe tbody tr th {\n",
       "        vertical-align: top;\n",
       "    }\n",
       "\n",
       "    .dataframe thead th {\n",
       "        text-align: right;\n",
       "    }\n",
       "</style>\n",
       "<table border=\"1\" class=\"dataframe\">\n",
       "  <thead>\n",
       "    <tr style=\"text-align: right;\">\n",
       "      <th></th>\n",
       "      <th>title</th>\n",
       "      <th>installs</th>\n",
       "      <th>minInstalls</th>\n",
       "      <th>score</th>\n",
       "      <th>ratings</th>\n",
       "      <th>reviews</th>\n",
       "      <th>histogram</th>\n",
       "      <th>price</th>\n",
       "      <th>free</th>\n",
       "      <th>offersIAP</th>\n",
       "      <th>size</th>\n",
       "      <th>genre</th>\n",
       "      <th>genreId</th>\n",
       "      <th>released</th>\n",
       "      <th>contentRating</th>\n",
       "      <th>appId</th>\n",
       "    </tr>\n",
       "  </thead>\n",
       "  <tbody>\n",
       "    <tr>\n",
       "      <th>0</th>\n",
       "      <td>Among Us</td>\n",
       "      <td>100,000,000+</td>\n",
       "      <td>100000000</td>\n",
       "      <td>4.456063</td>\n",
       "      <td>2668720.0</td>\n",
       "      <td>1362398.0</td>\n",
       "      <td>[208157, 50032, 107074, 254737, 2048720]</td>\n",
       "      <td>0.00</td>\n",
       "      <td>True</td>\n",
       "      <td>True</td>\n",
       "      <td>70M</td>\n",
       "      <td>Action</td>\n",
       "      <td>GAME_ACTION</td>\n",
       "      <td>Jun 15, 2018</td>\n",
       "      <td>Everyone 10+</td>\n",
       "      <td>com.innersloth.spacemafia</td>\n",
       "    </tr>\n",
       "    <tr>\n",
       "      <th>1</th>\n",
       "      <td>Scribble Rider</td>\n",
       "      <td>50,000,000+</td>\n",
       "      <td>50000000</td>\n",
       "      <td>3.762067</td>\n",
       "      <td>233833.0</td>\n",
       "      <td>97101.0</td>\n",
       "      <td>[47154, 12830, 18851, 24661, 130337]</td>\n",
       "      <td>0.00</td>\n",
       "      <td>True</td>\n",
       "      <td>True</td>\n",
       "      <td>127M</td>\n",
       "      <td>Action</td>\n",
       "      <td>GAME_ACTION</td>\n",
       "      <td>Jul 23, 2020</td>\n",
       "      <td>Everyone</td>\n",
       "      <td>com.tapped.drawrider</td>\n",
       "    </tr>\n",
       "    <tr>\n",
       "      <th>2</th>\n",
       "      <td>Call of Duty®: Mobile</td>\n",
       "      <td>100,000,000+</td>\n",
       "      <td>100000000</td>\n",
       "      <td>4.468448</td>\n",
       "      <td>10830558.0</td>\n",
       "      <td>4982589.0</td>\n",
       "      <td>[808396, 208675, 410554, 1076290, 8326643]</td>\n",
       "      <td>0.00</td>\n",
       "      <td>True</td>\n",
       "      <td>True</td>\n",
       "      <td>94M</td>\n",
       "      <td>Action</td>\n",
       "      <td>GAME_ACTION</td>\n",
       "      <td>Sep 30, 2019</td>\n",
       "      <td>Mature 17+</td>\n",
       "      <td>com.activision.callofduty.shooter</td>\n",
       "    </tr>\n",
       "    <tr>\n",
       "      <th>3</th>\n",
       "      <td>slither.io</td>\n",
       "      <td>100,000,000+</td>\n",
       "      <td>100000000</td>\n",
       "      <td>4.060273</td>\n",
       "      <td>6289940.0</td>\n",
       "      <td>2612866.0</td>\n",
       "      <td>[842869, 250387, 498673, 790843, 3907168]</td>\n",
       "      <td>0.00</td>\n",
       "      <td>True</td>\n",
       "      <td>True</td>\n",
       "      <td>Varies with device</td>\n",
       "      <td>Action</td>\n",
       "      <td>GAME_ACTION</td>\n",
       "      <td>Mar 25, 2016</td>\n",
       "      <td>Everyone</td>\n",
       "      <td>air.com.hypah.io.slither</td>\n",
       "    </tr>\n",
       "    <tr>\n",
       "      <th>4</th>\n",
       "      <td>Hitmasters</td>\n",
       "      <td>50,000,000+</td>\n",
       "      <td>50000000</td>\n",
       "      <td>4.099427</td>\n",
       "      <td>285765.0</td>\n",
       "      <td>100795.0</td>\n",
       "      <td>[40013, 10334, 17576, 31144, 186698]</td>\n",
       "      <td>0.00</td>\n",
       "      <td>True</td>\n",
       "      <td>True</td>\n",
       "      <td>85M</td>\n",
       "      <td>Action</td>\n",
       "      <td>GAME_ACTION</td>\n",
       "      <td>Mar 19, 2020</td>\n",
       "      <td>Teen</td>\n",
       "      <td>com.playgendary.hitmasters</td>\n",
       "    </tr>\n",
       "    <tr>\n",
       "      <th>...</th>\n",
       "      <td>...</td>\n",
       "      <td>...</td>\n",
       "      <td>...</td>\n",
       "      <td>...</td>\n",
       "      <td>...</td>\n",
       "      <td>...</td>\n",
       "      <td>...</td>\n",
       "      <td>...</td>\n",
       "      <td>...</td>\n",
       "      <td>...</td>\n",
       "      <td>...</td>\n",
       "      <td>...</td>\n",
       "      <td>...</td>\n",
       "      <td>...</td>\n",
       "      <td>...</td>\n",
       "      <td>...</td>\n",
       "    </tr>\n",
       "    <tr>\n",
       "      <th>5117</th>\n",
       "      <td>Cryptic Crossword</td>\n",
       "      <td>10,000+</td>\n",
       "      <td>10000</td>\n",
       "      <td>4.711340</td>\n",
       "      <td>2068.0</td>\n",
       "      <td>862.0</td>\n",
       "      <td>[21, 10, 42, 394, 1601]</td>\n",
       "      <td>3.99</td>\n",
       "      <td>False</td>\n",
       "      <td>False</td>\n",
       "      <td>Varies with device</td>\n",
       "      <td>Word</td>\n",
       "      <td>GAME_WORD</td>\n",
       "      <td>Nov 3, 2010</td>\n",
       "      <td>Everyone</td>\n",
       "      <td>com.teazel.crossword.cryptic.full</td>\n",
       "    </tr>\n",
       "    <tr>\n",
       "      <th>5118</th>\n",
       "      <td>Acrostics Crossword Puzzles</td>\n",
       "      <td>10,000+</td>\n",
       "      <td>10000</td>\n",
       "      <td>4.350000</td>\n",
       "      <td>372.0</td>\n",
       "      <td>180.0</td>\n",
       "      <td>[18, 11, 33, 67, 243]</td>\n",
       "      <td>3.99</td>\n",
       "      <td>False</td>\n",
       "      <td>True</td>\n",
       "      <td>15M</td>\n",
       "      <td>Word</td>\n",
       "      <td>GAME_WORD</td>\n",
       "      <td>Mar 18, 2013</td>\n",
       "      <td>Everyone</td>\n",
       "      <td>agamz.acrostics</td>\n",
       "    </tr>\n",
       "    <tr>\n",
       "      <th>5119</th>\n",
       "      <td>Jumbline 2</td>\n",
       "      <td>10,000+</td>\n",
       "      <td>10000</td>\n",
       "      <td>4.588785</td>\n",
       "      <td>1289.0</td>\n",
       "      <td>628.0</td>\n",
       "      <td>[36, 0, 84, 217, 952]</td>\n",
       "      <td>2.99</td>\n",
       "      <td>False</td>\n",
       "      <td>False</td>\n",
       "      <td>35M</td>\n",
       "      <td>Word</td>\n",
       "      <td>GAME_WORD</td>\n",
       "      <td>Nov 1, 2011</td>\n",
       "      <td>Everyone</td>\n",
       "      <td>com.brainium.jumbline2</td>\n",
       "    </tr>\n",
       "    <tr>\n",
       "      <th>5120</th>\n",
       "      <td>Word Breaker Full</td>\n",
       "      <td>10,000+</td>\n",
       "      <td>10000</td>\n",
       "      <td>4.180000</td>\n",
       "      <td>1109.0</td>\n",
       "      <td>587.0</td>\n",
       "      <td>[55, 33, 166, 255, 600]</td>\n",
       "      <td>2.99</td>\n",
       "      <td>False</td>\n",
       "      <td>False</td>\n",
       "      <td>14M</td>\n",
       "      <td>Word</td>\n",
       "      <td>GAME_WORD</td>\n",
       "      <td>Feb 24, 2011</td>\n",
       "      <td>Everyone</td>\n",
       "      <td>com.firecrackersw.wordbreakerfull</td>\n",
       "    </tr>\n",
       "    <tr>\n",
       "      <th>5121</th>\n",
       "      <td>Pictionary Word Generator - Pro</td>\n",
       "      <td>500+</td>\n",
       "      <td>500</td>\n",
       "      <td>0.000000</td>\n",
       "      <td>NaN</td>\n",
       "      <td>0.0</td>\n",
       "      <td>[0, 0, 0, 0, 0]</td>\n",
       "      <td>2.49</td>\n",
       "      <td>False</td>\n",
       "      <td>False</td>\n",
       "      <td>7.0M</td>\n",
       "      <td>Word</td>\n",
       "      <td>GAME_WORD</td>\n",
       "      <td>Jun 30, 2019</td>\n",
       "      <td>Everyone</td>\n",
       "      <td>com.verywisetech.pictionarypro</td>\n",
       "    </tr>\n",
       "  </tbody>\n",
       "</table>\n",
       "<p>5122 rows × 16 columns</p>\n",
       "</div>"
      ],
      "text/plain": [
       "                                title      installs  minInstalls     score  \\\n",
       "0                            Among Us  100,000,000+    100000000  4.456063   \n",
       "1                      Scribble Rider   50,000,000+     50000000  3.762067   \n",
       "2               Call of Duty®: Mobile  100,000,000+    100000000  4.468448   \n",
       "3                          slither.io  100,000,000+    100000000  4.060273   \n",
       "4                          Hitmasters   50,000,000+     50000000  4.099427   \n",
       "...                               ...           ...          ...       ...   \n",
       "5117                Cryptic Crossword       10,000+        10000  4.711340   \n",
       "5118      Acrostics Crossword Puzzles       10,000+        10000  4.350000   \n",
       "5119                       Jumbline 2       10,000+        10000  4.588785   \n",
       "5120                Word Breaker Full       10,000+        10000  4.180000   \n",
       "5121  Pictionary Word Generator - Pro          500+          500  0.000000   \n",
       "\n",
       "         ratings    reviews                                   histogram  \\\n",
       "0      2668720.0  1362398.0    [208157, 50032, 107074, 254737, 2048720]   \n",
       "1       233833.0    97101.0        [47154, 12830, 18851, 24661, 130337]   \n",
       "2     10830558.0  4982589.0  [808396, 208675, 410554, 1076290, 8326643]   \n",
       "3      6289940.0  2612866.0   [842869, 250387, 498673, 790843, 3907168]   \n",
       "4       285765.0   100795.0        [40013, 10334, 17576, 31144, 186698]   \n",
       "...          ...        ...                                         ...   \n",
       "5117      2068.0      862.0                     [21, 10, 42, 394, 1601]   \n",
       "5118       372.0      180.0                       [18, 11, 33, 67, 243]   \n",
       "5119      1289.0      628.0                       [36, 0, 84, 217, 952]   \n",
       "5120      1109.0      587.0                     [55, 33, 166, 255, 600]   \n",
       "5121         NaN        0.0                             [0, 0, 0, 0, 0]   \n",
       "\n",
       "      price   free  offersIAP                size   genre      genreId  \\\n",
       "0      0.00   True       True                 70M  Action  GAME_ACTION   \n",
       "1      0.00   True       True                127M  Action  GAME_ACTION   \n",
       "2      0.00   True       True                 94M  Action  GAME_ACTION   \n",
       "3      0.00   True       True  Varies with device  Action  GAME_ACTION   \n",
       "4      0.00   True       True                 85M  Action  GAME_ACTION   \n",
       "...     ...    ...        ...                 ...     ...          ...   \n",
       "5117   3.99  False      False  Varies with device    Word    GAME_WORD   \n",
       "5118   3.99  False       True                 15M    Word    GAME_WORD   \n",
       "5119   2.99  False      False                 35M    Word    GAME_WORD   \n",
       "5120   2.99  False      False                 14M    Word    GAME_WORD   \n",
       "5121   2.49  False      False                7.0M    Word    GAME_WORD   \n",
       "\n",
       "          released contentRating                              appId  \n",
       "0     Jun 15, 2018  Everyone 10+          com.innersloth.spacemafia  \n",
       "1     Jul 23, 2020      Everyone               com.tapped.drawrider  \n",
       "2     Sep 30, 2019    Mature 17+  com.activision.callofduty.shooter  \n",
       "3     Mar 25, 2016      Everyone           air.com.hypah.io.slither  \n",
       "4     Mar 19, 2020          Teen         com.playgendary.hitmasters  \n",
       "...            ...           ...                                ...  \n",
       "5117   Nov 3, 2010      Everyone  com.teazel.crossword.cryptic.full  \n",
       "5118  Mar 18, 2013      Everyone                    agamz.acrostics  \n",
       "5119   Nov 1, 2011      Everyone             com.brainium.jumbline2  \n",
       "5120  Feb 24, 2011      Everyone  com.firecrackersw.wordbreakerfull  \n",
       "5121  Jun 30, 2019      Everyone     com.verywisetech.pictionarypro  \n",
       "\n",
       "[5122 rows x 16 columns]"
      ]
     },
     "execution_count": 2,
     "metadata": {},
     "output_type": "execute_result"
    }
   ],
   "source": [
    "df = pd.read_pickle('reviewfeatures.pkl')\n",
    "df"
   ]
  },
  {
   "cell_type": "code",
   "execution_count": 3,
   "metadata": {
    "scrolled": true
   },
   "outputs": [
    {
     "data": {
      "text/plain": [
       "Index(['title', 'installs', 'minInstalls', 'score', 'ratings', 'reviews',\n",
       "       'histogram', 'price', 'free', 'offersIAP', 'size', 'genre', 'genreId',\n",
       "       'released', 'contentRating', 'appId'],\n",
       "      dtype='object')"
      ]
     },
     "execution_count": 3,
     "metadata": {},
     "output_type": "execute_result"
    }
   ],
   "source": [
    "df.columns"
   ]
  },
  {
   "cell_type": "code",
   "execution_count": 4,
   "metadata": {
    "scrolled": true
   },
   "outputs": [
    {
     "data": {
      "text/plain": [
       "title             object\n",
       "installs          object\n",
       "minInstalls        int64\n",
       "score            float64\n",
       "ratings          float64\n",
       "reviews          float64\n",
       "histogram         object\n",
       "price            float64\n",
       "free                bool\n",
       "offersIAP           bool\n",
       "size              object\n",
       "genre             object\n",
       "genreId           object\n",
       "released          object\n",
       "contentRating     object\n",
       "appId             object\n",
       "dtype: object"
      ]
     },
     "execution_count": 4,
     "metadata": {},
     "output_type": "execute_result"
    }
   ],
   "source": [
    "df.dtypes"
   ]
  },
  {
   "cell_type": "code",
   "execution_count": 5,
   "metadata": {},
   "outputs": [
    {
     "data": {
      "text/plain": [
       "title             0\n",
       "installs          0\n",
       "minInstalls       0\n",
       "score             6\n",
       "ratings          76\n",
       "reviews           6\n",
       "histogram         0\n",
       "price             0\n",
       "free              0\n",
       "offersIAP         0\n",
       "size              0\n",
       "genre             0\n",
       "genreId           0\n",
       "released         16\n",
       "contentRating     0\n",
       "appId             0\n",
       "dtype: int64"
      ]
     },
     "execution_count": 5,
     "metadata": {},
     "output_type": "execute_result"
    }
   ],
   "source": [
    "# Will drop games with no ratings\n",
    "\n",
    "df.isna().sum()"
   ]
  },
  {
   "cell_type": "code",
   "execution_count": 6,
   "metadata": {},
   "outputs": [],
   "source": [
    "# 91 rows were removed.\n",
    "\n",
    "df.dropna(inplace=True)"
   ]
  },
  {
   "cell_type": "code",
   "execution_count": 7,
   "metadata": {},
   "outputs": [
    {
     "data": {
      "text/plain": [
       "1,000,000+        894\n",
       "10,000,000+       829\n",
       "100,000+          663\n",
       "10,000+           643\n",
       "5,000,000+        440\n",
       "50,000+           301\n",
       "500,000+          299\n",
       "1,000+            278\n",
       "5,000+            210\n",
       "50,000,000+       198\n",
       "100,000,000+      133\n",
       "100+               64\n",
       "500+               61\n",
       "500,000,000+        9\n",
       "50+                 9\n",
       "10+                 3\n",
       "1,000,000,000+      2\n",
       "Name: installs, dtype: int64"
      ]
     },
     "execution_count": 7,
     "metadata": {},
     "output_type": "execute_result"
    }
   ],
   "source": [
    "# Can probably drop this column as it's the same as minInstalls but in an object format.\n",
    "\n",
    "df['installs'].value_counts()"
   ]
  },
  {
   "cell_type": "code",
   "execution_count": 8,
   "metadata": {
    "scrolled": true
   },
   "outputs": [
    {
     "data": {
      "text/plain": [
       "1000000       894\n",
       "10000000      829\n",
       "100000        663\n",
       "10000         643\n",
       "5000000       440\n",
       "50000         301\n",
       "500000        299\n",
       "1000          278\n",
       "5000          210\n",
       "50000000      198\n",
       "100000000     133\n",
       "100            64\n",
       "500            61\n",
       "50              9\n",
       "500000000       9\n",
       "10              3\n",
       "1000000000      2\n",
       "Name: minInstalls, dtype: int64"
      ]
     },
     "execution_count": 8,
     "metadata": {},
     "output_type": "execute_result"
    }
   ],
   "source": [
    "# Possibly reduce this columns to fewer categories.\n",
    "\n",
    "df['minInstalls'].value_counts()"
   ]
  },
  {
   "cell_type": "code",
   "execution_count": 9,
   "metadata": {},
   "outputs": [
    {
     "data": {
      "text/plain": [
       "count    5036.000000\n",
       "mean        4.216481\n",
       "std         0.412596\n",
       "min         1.000000\n",
       "25%         4.027189\n",
       "50%         4.277893\n",
       "75%         4.497392\n",
       "max         5.000000\n",
       "Name: score, dtype: float64"
      ]
     },
     "execution_count": 9,
     "metadata": {},
     "output_type": "execute_result"
    }
   ],
   "source": [
    "# We are only looking at the apps listed in the Top Free and Top Paid categories, so it makes sense the mean is high.\n",
    "\n",
    "df['score'].describe()"
   ]
  },
  {
   "cell_type": "code",
   "execution_count": 10,
   "metadata": {},
   "outputs": [
    {
     "data": {
      "text/plain": [
       "count    5.036000e+03\n",
       "mean     2.777024e+05\n",
       "std      1.791172e+06\n",
       "min      5.000000e+00\n",
       "25%      1.154500e+03\n",
       "50%      1.029500e+04\n",
       "75%      7.836150e+04\n",
       "max      6.507942e+07\n",
       "Name: ratings, dtype: float64"
      ]
     },
     "execution_count": 10,
     "metadata": {},
     "output_type": "execute_result"
    }
   ],
   "source": [
    "df['ratings'].describe()"
   ]
  },
  {
   "cell_type": "code",
   "execution_count": 11,
   "metadata": {
    "scrolled": true
   },
   "outputs": [
    {
     "data": {
      "text/plain": [
       "count    5.036000e+03\n",
       "mean     1.092222e+05\n",
       "std      8.309096e+05\n",
       "min      1.000000e+00\n",
       "25%      4.780000e+02\n",
       "50%      4.046000e+03\n",
       "75%      3.098350e+04\n",
       "max      3.942706e+07\n",
       "Name: reviews, dtype: float64"
      ]
     },
     "execution_count": 11,
     "metadata": {},
     "output_type": "execute_result"
    }
   ],
   "source": [
    "df['reviews'].describe()"
   ]
  },
  {
   "cell_type": "code",
   "execution_count": 12,
   "metadata": {
    "scrolled": true
   },
   "outputs": [
    {
     "data": {
      "text/plain": [
       "0.00     3329\n",
       "2.99      323\n",
       "0.99      293\n",
       "4.99      248\n",
       "1.99      240\n",
       "3.99      156\n",
       "6.99       54\n",
       "9.99       45\n",
       "2.49       42\n",
       "5.99       42\n",
       "3.49       42\n",
       "1.49       38\n",
       "5.49       35\n",
       "7.99       27\n",
       "4.49       19\n",
       "8.99       12\n",
       "14.99      11\n",
       "15.99       8\n",
       "1.00        6\n",
       "19.99       6\n",
       "7.49        5\n",
       "1.96        4\n",
       "13.99       4\n",
       "6.49        4\n",
       "11.99       4\n",
       "17.99       3\n",
       "24.99       3\n",
       "12.99       2\n",
       "5.00        2\n",
       "2.69        2\n",
       "29.99       2\n",
       "32.99       1\n",
       "3.75        1\n",
       "1.39        1\n",
       "2.00        1\n",
       "1.50        1\n",
       "2.77        1\n",
       "1.02        1\n",
       "22.99       1\n",
       "1.94        1\n",
       "4.89        1\n",
       "9.49        1\n",
       "1.05        1\n",
       "1.59        1\n",
       "20.99       1\n",
       "5.60        1\n",
       "4.40        1\n",
       "1.20        1\n",
       "3.63        1\n",
       "2.19        1\n",
       "4.29        1\n",
       "1.90        1\n",
       "8.49        1\n",
       "1.95        1\n",
       "3.89        1\n",
       "18.99       1\n",
       "Name: price, dtype: int64"
      ]
     },
     "execution_count": 12,
     "metadata": {},
     "output_type": "execute_result"
    }
   ],
   "source": [
    "# Will reduce this columns to fewer categories.\n",
    "\n",
    "df['price'].value_counts()"
   ]
  },
  {
   "cell_type": "code",
   "execution_count": 20,
   "metadata": {
    "scrolled": true
   },
   "outputs": [
    {
     "data": {
      "text/plain": [
       "True     3329\n",
       "False    1707\n",
       "Name: free, dtype: int64"
      ]
     },
     "execution_count": 20,
     "metadata": {},
     "output_type": "execute_result"
    }
   ],
   "source": [
    "# A decent number of these games are free games\n",
    "\n",
    "df['free'].value_counts()"
   ]
  },
  {
   "cell_type": "code",
   "execution_count": 14,
   "metadata": {},
   "outputs": [
    {
     "data": {
      "text/plain": [
       "True     3120\n",
       "False    1916\n",
       "Name: offersIAP, dtype: int64"
      ]
     },
     "execution_count": 14,
     "metadata": {},
     "output_type": "execute_result"
    }
   ],
   "source": [
    "# Numbers are similar to whether games are free to play or not.\n",
    "# Differences at a glance suggests a fair number of free games with no IAPs and paid games that still have IAPs\n",
    "\n",
    "df['offersIAP'].value_counts()"
   ]
  },
  {
   "cell_type": "code",
   "execution_count": 15,
   "metadata": {},
   "outputs": [
    {
     "data": {
      "text/plain": [
       "Varies with device    630\n",
       "37M                    62\n",
       "49M                    60\n",
       "28M                    58\n",
       "47M                    57\n",
       "                     ... \n",
       "164M                    1\n",
       "442M                    1\n",
       "872k                    1\n",
       "349M                    1\n",
       "479M                    1\n",
       "Name: size, Length: 279, dtype: int64"
      ]
     },
     "execution_count": 15,
     "metadata": {},
     "output_type": "execute_result"
    }
   ],
   "source": [
    "df['size'].value_counts()"
   ]
  },
  {
   "cell_type": "code",
   "execution_count": 16,
   "metadata": {
    "scrolled": true
   },
   "outputs": [
    {
     "data": {
      "text/plain": [
       "Adventure       395\n",
       "Role Playing    394\n",
       "Simulation      394\n",
       "Strategy        357\n",
       "Puzzle          351\n",
       "Educational     339\n",
       "Action          333\n",
       "Board           304\n",
       "Arcade          299\n",
       "Casual          289\n",
       "Card            247\n",
       "Sports          245\n",
       "Racing          240\n",
       "Word            217\n",
       "Music           216\n",
       "Casino          209\n",
       "Trivia          207\n",
       "Name: genre, dtype: int64"
      ]
     },
     "execution_count": 16,
     "metadata": {},
     "output_type": "execute_result"
    }
   ],
   "source": [
    "# Fair spread of games in each category.\n",
    "\n",
    "df['genre'].value_counts()"
   ]
  },
  {
   "cell_type": "code",
   "execution_count": 17,
   "metadata": {
    "scrolled": true
   },
   "outputs": [
    {
     "data": {
      "text/plain": [
       "GAME_ADVENTURE       395\n",
       "GAME_SIMULATION      394\n",
       "GAME_ROLE_PLAYING    394\n",
       "GAME_STRATEGY        357\n",
       "GAME_PUZZLE          351\n",
       "GAME_EDUCATIONAL     339\n",
       "GAME_ACTION          333\n",
       "GAME_BOARD           304\n",
       "GAME_ARCADE          299\n",
       "GAME_CASUAL          289\n",
       "GAME_CARD            247\n",
       "GAME_SPORTS          245\n",
       "GAME_RACING          240\n",
       "GAME_WORD            217\n",
       "GAME_MUSIC           216\n",
       "GAME_CASINO          209\n",
       "GAME_TRIVIA          207\n",
       "Name: genreId, dtype: int64"
      ]
     },
     "execution_count": 17,
     "metadata": {},
     "output_type": "execute_result"
    }
   ],
   "source": [
    "# Can remove this column as it's the same thing as genre.\n",
    "\n",
    "df['genreId'].value_counts()"
   ]
  },
  {
   "cell_type": "code",
   "execution_count": 18,
   "metadata": {},
   "outputs": [
    {
     "data": {
      "text/plain": [
       "Jul 28, 2020    14\n",
       "Apr 24, 2020    13\n",
       "Jul 23, 2020    13\n",
       "Aug 26, 2020    12\n",
       "Jul 15, 2020    12\n",
       "                ..\n",
       "Dec 8, 2016      1\n",
       "Feb 12, 2017     1\n",
       "Jan 20, 2015     1\n",
       "Dec 7, 2010      1\n",
       "Jun 16, 2013     1\n",
       "Name: released, Length: 2146, dtype: int64"
      ]
     },
     "execution_count": 18,
     "metadata": {},
     "output_type": "execute_result"
    }
   ],
   "source": [
    "# Need to change this to a useable column.\n",
    "\n",
    "df['released'].value_counts()"
   ]
  },
  {
   "cell_type": "code",
   "execution_count": 19,
   "metadata": {
    "scrolled": true
   },
   "outputs": [
    {
     "data": {
      "text/plain": [
       "Everyone           3017\n",
       "Teen               1293\n",
       "Everyone 10+        562\n",
       "Mature 17+          158\n",
       "Adults only 18+       6\n",
       "Name: contentRating, dtype: int64"
      ]
     },
     "execution_count": 19,
     "metadata": {},
     "output_type": "execute_result"
    }
   ],
   "source": [
    "# Most top apps are either for Everyone or Teen. Makes sense to appeal to wider audiences.\n",
    "\n",
    "df['contentRating'].value_counts()"
   ]
  },
  {
   "cell_type": "markdown",
   "metadata": {},
   "source": [
    "=================================================================================================================="
   ]
  },
  {
   "cell_type": "markdown",
   "metadata": {},
   "source": [
    "# Cleaning"
   ]
  },
  {
   "cell_type": "code",
   "execution_count": 21,
   "metadata": {
    "scrolled": true
   },
   "outputs": [
    {
     "data": {
      "text/html": [
       "<div>\n",
       "<style scoped>\n",
       "    .dataframe tbody tr th:only-of-type {\n",
       "        vertical-align: middle;\n",
       "    }\n",
       "\n",
       "    .dataframe tbody tr th {\n",
       "        vertical-align: top;\n",
       "    }\n",
       "\n",
       "    .dataframe thead th {\n",
       "        text-align: right;\n",
       "    }\n",
       "</style>\n",
       "<table border=\"1\" class=\"dataframe\">\n",
       "  <thead>\n",
       "    <tr style=\"text-align: right;\">\n",
       "      <th></th>\n",
       "      <th>title</th>\n",
       "      <th>minInstalls</th>\n",
       "      <th>score</th>\n",
       "      <th>ratings</th>\n",
       "      <th>reviews</th>\n",
       "      <th>histogram</th>\n",
       "      <th>price</th>\n",
       "      <th>free</th>\n",
       "      <th>offersIAP</th>\n",
       "      <th>size</th>\n",
       "      <th>genre</th>\n",
       "      <th>released</th>\n",
       "      <th>contentRating</th>\n",
       "      <th>appId</th>\n",
       "    </tr>\n",
       "  </thead>\n",
       "  <tbody>\n",
       "    <tr>\n",
       "      <th>0</th>\n",
       "      <td>Among Us</td>\n",
       "      <td>100000000</td>\n",
       "      <td>4.456063</td>\n",
       "      <td>2668720.0</td>\n",
       "      <td>1362398.0</td>\n",
       "      <td>[208157, 50032, 107074, 254737, 2048720]</td>\n",
       "      <td>0.00</td>\n",
       "      <td>True</td>\n",
       "      <td>True</td>\n",
       "      <td>70M</td>\n",
       "      <td>Action</td>\n",
       "      <td>Jun 15, 2018</td>\n",
       "      <td>Everyone 10+</td>\n",
       "      <td>com.innersloth.spacemafia</td>\n",
       "    </tr>\n",
       "    <tr>\n",
       "      <th>1</th>\n",
       "      <td>Scribble Rider</td>\n",
       "      <td>50000000</td>\n",
       "      <td>3.762067</td>\n",
       "      <td>233833.0</td>\n",
       "      <td>97101.0</td>\n",
       "      <td>[47154, 12830, 18851, 24661, 130337]</td>\n",
       "      <td>0.00</td>\n",
       "      <td>True</td>\n",
       "      <td>True</td>\n",
       "      <td>127M</td>\n",
       "      <td>Action</td>\n",
       "      <td>Jul 23, 2020</td>\n",
       "      <td>Everyone</td>\n",
       "      <td>com.tapped.drawrider</td>\n",
       "    </tr>\n",
       "    <tr>\n",
       "      <th>2</th>\n",
       "      <td>Call of Duty®: Mobile</td>\n",
       "      <td>100000000</td>\n",
       "      <td>4.468448</td>\n",
       "      <td>10830558.0</td>\n",
       "      <td>4982589.0</td>\n",
       "      <td>[808396, 208675, 410554, 1076290, 8326643]</td>\n",
       "      <td>0.00</td>\n",
       "      <td>True</td>\n",
       "      <td>True</td>\n",
       "      <td>94M</td>\n",
       "      <td>Action</td>\n",
       "      <td>Sep 30, 2019</td>\n",
       "      <td>Mature 17+</td>\n",
       "      <td>com.activision.callofduty.shooter</td>\n",
       "    </tr>\n",
       "    <tr>\n",
       "      <th>3</th>\n",
       "      <td>slither.io</td>\n",
       "      <td>100000000</td>\n",
       "      <td>4.060273</td>\n",
       "      <td>6289940.0</td>\n",
       "      <td>2612866.0</td>\n",
       "      <td>[842869, 250387, 498673, 790843, 3907168]</td>\n",
       "      <td>0.00</td>\n",
       "      <td>True</td>\n",
       "      <td>True</td>\n",
       "      <td>Varies with device</td>\n",
       "      <td>Action</td>\n",
       "      <td>Mar 25, 2016</td>\n",
       "      <td>Everyone</td>\n",
       "      <td>air.com.hypah.io.slither</td>\n",
       "    </tr>\n",
       "    <tr>\n",
       "      <th>4</th>\n",
       "      <td>Hitmasters</td>\n",
       "      <td>50000000</td>\n",
       "      <td>4.099427</td>\n",
       "      <td>285765.0</td>\n",
       "      <td>100795.0</td>\n",
       "      <td>[40013, 10334, 17576, 31144, 186698]</td>\n",
       "      <td>0.00</td>\n",
       "      <td>True</td>\n",
       "      <td>True</td>\n",
       "      <td>85M</td>\n",
       "      <td>Action</td>\n",
       "      <td>Mar 19, 2020</td>\n",
       "      <td>Teen</td>\n",
       "      <td>com.playgendary.hitmasters</td>\n",
       "    </tr>\n",
       "    <tr>\n",
       "      <th>...</th>\n",
       "      <td>...</td>\n",
       "      <td>...</td>\n",
       "      <td>...</td>\n",
       "      <td>...</td>\n",
       "      <td>...</td>\n",
       "      <td>...</td>\n",
       "      <td>...</td>\n",
       "      <td>...</td>\n",
       "      <td>...</td>\n",
       "      <td>...</td>\n",
       "      <td>...</td>\n",
       "      <td>...</td>\n",
       "      <td>...</td>\n",
       "      <td>...</td>\n",
       "    </tr>\n",
       "    <tr>\n",
       "      <th>5116</th>\n",
       "      <td>Word Search Daily PRO (900+ Levels)</td>\n",
       "      <td>1000</td>\n",
       "      <td>4.425532</td>\n",
       "      <td>47.0</td>\n",
       "      <td>19.0</td>\n",
       "      <td>[2, 0, 4, 11, 30]</td>\n",
       "      <td>1.99</td>\n",
       "      <td>False</td>\n",
       "      <td>False</td>\n",
       "      <td>9.9M</td>\n",
       "      <td>Word</td>\n",
       "      <td>Aug 13, 2018</td>\n",
       "      <td>Everyone</td>\n",
       "      <td>air.com.littlebigplay.games.wordsearchdailypro</td>\n",
       "    </tr>\n",
       "    <tr>\n",
       "      <th>5117</th>\n",
       "      <td>Cryptic Crossword</td>\n",
       "      <td>10000</td>\n",
       "      <td>4.711340</td>\n",
       "      <td>2068.0</td>\n",
       "      <td>862.0</td>\n",
       "      <td>[21, 10, 42, 394, 1601]</td>\n",
       "      <td>3.99</td>\n",
       "      <td>False</td>\n",
       "      <td>False</td>\n",
       "      <td>Varies with device</td>\n",
       "      <td>Word</td>\n",
       "      <td>Nov 3, 2010</td>\n",
       "      <td>Everyone</td>\n",
       "      <td>com.teazel.crossword.cryptic.full</td>\n",
       "    </tr>\n",
       "    <tr>\n",
       "      <th>5118</th>\n",
       "      <td>Acrostics Crossword Puzzles</td>\n",
       "      <td>10000</td>\n",
       "      <td>4.350000</td>\n",
       "      <td>372.0</td>\n",
       "      <td>180.0</td>\n",
       "      <td>[18, 11, 33, 67, 243]</td>\n",
       "      <td>3.99</td>\n",
       "      <td>False</td>\n",
       "      <td>True</td>\n",
       "      <td>15M</td>\n",
       "      <td>Word</td>\n",
       "      <td>Mar 18, 2013</td>\n",
       "      <td>Everyone</td>\n",
       "      <td>agamz.acrostics</td>\n",
       "    </tr>\n",
       "    <tr>\n",
       "      <th>5119</th>\n",
       "      <td>Jumbline 2</td>\n",
       "      <td>10000</td>\n",
       "      <td>4.588785</td>\n",
       "      <td>1289.0</td>\n",
       "      <td>628.0</td>\n",
       "      <td>[36, 0, 84, 217, 952]</td>\n",
       "      <td>2.99</td>\n",
       "      <td>False</td>\n",
       "      <td>False</td>\n",
       "      <td>35M</td>\n",
       "      <td>Word</td>\n",
       "      <td>Nov 1, 2011</td>\n",
       "      <td>Everyone</td>\n",
       "      <td>com.brainium.jumbline2</td>\n",
       "    </tr>\n",
       "    <tr>\n",
       "      <th>5120</th>\n",
       "      <td>Word Breaker Full</td>\n",
       "      <td>10000</td>\n",
       "      <td>4.180000</td>\n",
       "      <td>1109.0</td>\n",
       "      <td>587.0</td>\n",
       "      <td>[55, 33, 166, 255, 600]</td>\n",
       "      <td>2.99</td>\n",
       "      <td>False</td>\n",
       "      <td>False</td>\n",
       "      <td>14M</td>\n",
       "      <td>Word</td>\n",
       "      <td>Feb 24, 2011</td>\n",
       "      <td>Everyone</td>\n",
       "      <td>com.firecrackersw.wordbreakerfull</td>\n",
       "    </tr>\n",
       "  </tbody>\n",
       "</table>\n",
       "<p>5036 rows × 14 columns</p>\n",
       "</div>"
      ],
      "text/plain": [
       "                                    title  minInstalls     score     ratings  \\\n",
       "0                                Among Us    100000000  4.456063   2668720.0   \n",
       "1                          Scribble Rider     50000000  3.762067    233833.0   \n",
       "2                   Call of Duty®: Mobile    100000000  4.468448  10830558.0   \n",
       "3                              slither.io    100000000  4.060273   6289940.0   \n",
       "4                              Hitmasters     50000000  4.099427    285765.0   \n",
       "...                                   ...          ...       ...         ...   \n",
       "5116  Word Search Daily PRO (900+ Levels)         1000  4.425532        47.0   \n",
       "5117                    Cryptic Crossword        10000  4.711340      2068.0   \n",
       "5118          Acrostics Crossword Puzzles        10000  4.350000       372.0   \n",
       "5119                           Jumbline 2        10000  4.588785      1289.0   \n",
       "5120                    Word Breaker Full        10000  4.180000      1109.0   \n",
       "\n",
       "        reviews                                   histogram  price   free  \\\n",
       "0     1362398.0    [208157, 50032, 107074, 254737, 2048720]   0.00   True   \n",
       "1       97101.0        [47154, 12830, 18851, 24661, 130337]   0.00   True   \n",
       "2     4982589.0  [808396, 208675, 410554, 1076290, 8326643]   0.00   True   \n",
       "3     2612866.0   [842869, 250387, 498673, 790843, 3907168]   0.00   True   \n",
       "4      100795.0        [40013, 10334, 17576, 31144, 186698]   0.00   True   \n",
       "...         ...                                         ...    ...    ...   \n",
       "5116       19.0                           [2, 0, 4, 11, 30]   1.99  False   \n",
       "5117      862.0                     [21, 10, 42, 394, 1601]   3.99  False   \n",
       "5118      180.0                       [18, 11, 33, 67, 243]   3.99  False   \n",
       "5119      628.0                       [36, 0, 84, 217, 952]   2.99  False   \n",
       "5120      587.0                     [55, 33, 166, 255, 600]   2.99  False   \n",
       "\n",
       "      offersIAP                size   genre      released contentRating  \\\n",
       "0          True                 70M  Action  Jun 15, 2018  Everyone 10+   \n",
       "1          True                127M  Action  Jul 23, 2020      Everyone   \n",
       "2          True                 94M  Action  Sep 30, 2019    Mature 17+   \n",
       "3          True  Varies with device  Action  Mar 25, 2016      Everyone   \n",
       "4          True                 85M  Action  Mar 19, 2020          Teen   \n",
       "...         ...                 ...     ...           ...           ...   \n",
       "5116      False                9.9M    Word  Aug 13, 2018      Everyone   \n",
       "5117      False  Varies with device    Word   Nov 3, 2010      Everyone   \n",
       "5118       True                 15M    Word  Mar 18, 2013      Everyone   \n",
       "5119      False                 35M    Word   Nov 1, 2011      Everyone   \n",
       "5120      False                 14M    Word  Feb 24, 2011      Everyone   \n",
       "\n",
       "                                               appId  \n",
       "0                          com.innersloth.spacemafia  \n",
       "1                               com.tapped.drawrider  \n",
       "2                  com.activision.callofduty.shooter  \n",
       "3                           air.com.hypah.io.slither  \n",
       "4                         com.playgendary.hitmasters  \n",
       "...                                              ...  \n",
       "5116  air.com.littlebigplay.games.wordsearchdailypro  \n",
       "5117               com.teazel.crossword.cryptic.full  \n",
       "5118                                 agamz.acrostics  \n",
       "5119                          com.brainium.jumbline2  \n",
       "5120               com.firecrackersw.wordbreakerfull  \n",
       "\n",
       "[5036 rows x 14 columns]"
      ]
     },
     "execution_count": 21,
     "metadata": {},
     "output_type": "execute_result"
    }
   ],
   "source": [
    "df.drop(columns=['installs', 'genreId'], inplace=True)\n",
    "df"
   ]
  },
  {
   "cell_type": "code",
   "execution_count": 22,
   "metadata": {
    "scrolled": true
   },
   "outputs": [
    {
     "data": {
      "text/html": [
       "<div>\n",
       "<style scoped>\n",
       "    .dataframe tbody tr th:only-of-type {\n",
       "        vertical-align: middle;\n",
       "    }\n",
       "\n",
       "    .dataframe tbody tr th {\n",
       "        vertical-align: top;\n",
       "    }\n",
       "\n",
       "    .dataframe thead th {\n",
       "        text-align: right;\n",
       "    }\n",
       "</style>\n",
       "<table border=\"1\" class=\"dataframe\">\n",
       "  <thead>\n",
       "    <tr style=\"text-align: right;\">\n",
       "      <th></th>\n",
       "      <th>title</th>\n",
       "      <th>minInstalls</th>\n",
       "      <th>score</th>\n",
       "      <th>ratings</th>\n",
       "      <th>reviews</th>\n",
       "      <th>histogram</th>\n",
       "      <th>price</th>\n",
       "      <th>free</th>\n",
       "      <th>offersIAP</th>\n",
       "      <th>size</th>\n",
       "      <th>genre</th>\n",
       "      <th>contentRating</th>\n",
       "      <th>appId</th>\n",
       "      <th>releasedate</th>\n",
       "    </tr>\n",
       "  </thead>\n",
       "  <tbody>\n",
       "    <tr>\n",
       "      <th>0</th>\n",
       "      <td>Among Us</td>\n",
       "      <td>100000000</td>\n",
       "      <td>4.456063</td>\n",
       "      <td>2668720.0</td>\n",
       "      <td>1362398.0</td>\n",
       "      <td>[208157, 50032, 107074, 254737, 2048720]</td>\n",
       "      <td>0.00</td>\n",
       "      <td>True</td>\n",
       "      <td>True</td>\n",
       "      <td>70M</td>\n",
       "      <td>Action</td>\n",
       "      <td>Everyone 10+</td>\n",
       "      <td>com.innersloth.spacemafia</td>\n",
       "      <td>2018-06-15</td>\n",
       "    </tr>\n",
       "    <tr>\n",
       "      <th>1</th>\n",
       "      <td>Scribble Rider</td>\n",
       "      <td>50000000</td>\n",
       "      <td>3.762067</td>\n",
       "      <td>233833.0</td>\n",
       "      <td>97101.0</td>\n",
       "      <td>[47154, 12830, 18851, 24661, 130337]</td>\n",
       "      <td>0.00</td>\n",
       "      <td>True</td>\n",
       "      <td>True</td>\n",
       "      <td>127M</td>\n",
       "      <td>Action</td>\n",
       "      <td>Everyone</td>\n",
       "      <td>com.tapped.drawrider</td>\n",
       "      <td>2020-07-23</td>\n",
       "    </tr>\n",
       "    <tr>\n",
       "      <th>2</th>\n",
       "      <td>Call of Duty®: Mobile</td>\n",
       "      <td>100000000</td>\n",
       "      <td>4.468448</td>\n",
       "      <td>10830558.0</td>\n",
       "      <td>4982589.0</td>\n",
       "      <td>[808396, 208675, 410554, 1076290, 8326643]</td>\n",
       "      <td>0.00</td>\n",
       "      <td>True</td>\n",
       "      <td>True</td>\n",
       "      <td>94M</td>\n",
       "      <td>Action</td>\n",
       "      <td>Mature 17+</td>\n",
       "      <td>com.activision.callofduty.shooter</td>\n",
       "      <td>2019-09-30</td>\n",
       "    </tr>\n",
       "    <tr>\n",
       "      <th>3</th>\n",
       "      <td>slither.io</td>\n",
       "      <td>100000000</td>\n",
       "      <td>4.060273</td>\n",
       "      <td>6289940.0</td>\n",
       "      <td>2612866.0</td>\n",
       "      <td>[842869, 250387, 498673, 790843, 3907168]</td>\n",
       "      <td>0.00</td>\n",
       "      <td>True</td>\n",
       "      <td>True</td>\n",
       "      <td>Varies with device</td>\n",
       "      <td>Action</td>\n",
       "      <td>Everyone</td>\n",
       "      <td>air.com.hypah.io.slither</td>\n",
       "      <td>2016-03-25</td>\n",
       "    </tr>\n",
       "    <tr>\n",
       "      <th>4</th>\n",
       "      <td>Hitmasters</td>\n",
       "      <td>50000000</td>\n",
       "      <td>4.099427</td>\n",
       "      <td>285765.0</td>\n",
       "      <td>100795.0</td>\n",
       "      <td>[40013, 10334, 17576, 31144, 186698]</td>\n",
       "      <td>0.00</td>\n",
       "      <td>True</td>\n",
       "      <td>True</td>\n",
       "      <td>85M</td>\n",
       "      <td>Action</td>\n",
       "      <td>Teen</td>\n",
       "      <td>com.playgendary.hitmasters</td>\n",
       "      <td>2020-03-19</td>\n",
       "    </tr>\n",
       "    <tr>\n",
       "      <th>...</th>\n",
       "      <td>...</td>\n",
       "      <td>...</td>\n",
       "      <td>...</td>\n",
       "      <td>...</td>\n",
       "      <td>...</td>\n",
       "      <td>...</td>\n",
       "      <td>...</td>\n",
       "      <td>...</td>\n",
       "      <td>...</td>\n",
       "      <td>...</td>\n",
       "      <td>...</td>\n",
       "      <td>...</td>\n",
       "      <td>...</td>\n",
       "      <td>...</td>\n",
       "    </tr>\n",
       "    <tr>\n",
       "      <th>5116</th>\n",
       "      <td>Word Search Daily PRO (900+ Levels)</td>\n",
       "      <td>1000</td>\n",
       "      <td>4.425532</td>\n",
       "      <td>47.0</td>\n",
       "      <td>19.0</td>\n",
       "      <td>[2, 0, 4, 11, 30]</td>\n",
       "      <td>1.99</td>\n",
       "      <td>False</td>\n",
       "      <td>False</td>\n",
       "      <td>9.9M</td>\n",
       "      <td>Word</td>\n",
       "      <td>Everyone</td>\n",
       "      <td>air.com.littlebigplay.games.wordsearchdailypro</td>\n",
       "      <td>2018-08-13</td>\n",
       "    </tr>\n",
       "    <tr>\n",
       "      <th>5117</th>\n",
       "      <td>Cryptic Crossword</td>\n",
       "      <td>10000</td>\n",
       "      <td>4.711340</td>\n",
       "      <td>2068.0</td>\n",
       "      <td>862.0</td>\n",
       "      <td>[21, 10, 42, 394, 1601]</td>\n",
       "      <td>3.99</td>\n",
       "      <td>False</td>\n",
       "      <td>False</td>\n",
       "      <td>Varies with device</td>\n",
       "      <td>Word</td>\n",
       "      <td>Everyone</td>\n",
       "      <td>com.teazel.crossword.cryptic.full</td>\n",
       "      <td>2010-11-03</td>\n",
       "    </tr>\n",
       "    <tr>\n",
       "      <th>5118</th>\n",
       "      <td>Acrostics Crossword Puzzles</td>\n",
       "      <td>10000</td>\n",
       "      <td>4.350000</td>\n",
       "      <td>372.0</td>\n",
       "      <td>180.0</td>\n",
       "      <td>[18, 11, 33, 67, 243]</td>\n",
       "      <td>3.99</td>\n",
       "      <td>False</td>\n",
       "      <td>True</td>\n",
       "      <td>15M</td>\n",
       "      <td>Word</td>\n",
       "      <td>Everyone</td>\n",
       "      <td>agamz.acrostics</td>\n",
       "      <td>2013-03-18</td>\n",
       "    </tr>\n",
       "    <tr>\n",
       "      <th>5119</th>\n",
       "      <td>Jumbline 2</td>\n",
       "      <td>10000</td>\n",
       "      <td>4.588785</td>\n",
       "      <td>1289.0</td>\n",
       "      <td>628.0</td>\n",
       "      <td>[36, 0, 84, 217, 952]</td>\n",
       "      <td>2.99</td>\n",
       "      <td>False</td>\n",
       "      <td>False</td>\n",
       "      <td>35M</td>\n",
       "      <td>Word</td>\n",
       "      <td>Everyone</td>\n",
       "      <td>com.brainium.jumbline2</td>\n",
       "      <td>2011-11-01</td>\n",
       "    </tr>\n",
       "    <tr>\n",
       "      <th>5120</th>\n",
       "      <td>Word Breaker Full</td>\n",
       "      <td>10000</td>\n",
       "      <td>4.180000</td>\n",
       "      <td>1109.0</td>\n",
       "      <td>587.0</td>\n",
       "      <td>[55, 33, 166, 255, 600]</td>\n",
       "      <td>2.99</td>\n",
       "      <td>False</td>\n",
       "      <td>False</td>\n",
       "      <td>14M</td>\n",
       "      <td>Word</td>\n",
       "      <td>Everyone</td>\n",
       "      <td>com.firecrackersw.wordbreakerfull</td>\n",
       "      <td>2011-02-24</td>\n",
       "    </tr>\n",
       "  </tbody>\n",
       "</table>\n",
       "<p>5036 rows × 14 columns</p>\n",
       "</div>"
      ],
      "text/plain": [
       "                                    title  minInstalls     score     ratings  \\\n",
       "0                                Among Us    100000000  4.456063   2668720.0   \n",
       "1                          Scribble Rider     50000000  3.762067    233833.0   \n",
       "2                   Call of Duty®: Mobile    100000000  4.468448  10830558.0   \n",
       "3                              slither.io    100000000  4.060273   6289940.0   \n",
       "4                              Hitmasters     50000000  4.099427    285765.0   \n",
       "...                                   ...          ...       ...         ...   \n",
       "5116  Word Search Daily PRO (900+ Levels)         1000  4.425532        47.0   \n",
       "5117                    Cryptic Crossword        10000  4.711340      2068.0   \n",
       "5118          Acrostics Crossword Puzzles        10000  4.350000       372.0   \n",
       "5119                           Jumbline 2        10000  4.588785      1289.0   \n",
       "5120                    Word Breaker Full        10000  4.180000      1109.0   \n",
       "\n",
       "        reviews                                   histogram  price   free  \\\n",
       "0     1362398.0    [208157, 50032, 107074, 254737, 2048720]   0.00   True   \n",
       "1       97101.0        [47154, 12830, 18851, 24661, 130337]   0.00   True   \n",
       "2     4982589.0  [808396, 208675, 410554, 1076290, 8326643]   0.00   True   \n",
       "3     2612866.0   [842869, 250387, 498673, 790843, 3907168]   0.00   True   \n",
       "4      100795.0        [40013, 10334, 17576, 31144, 186698]   0.00   True   \n",
       "...         ...                                         ...    ...    ...   \n",
       "5116       19.0                           [2, 0, 4, 11, 30]   1.99  False   \n",
       "5117      862.0                     [21, 10, 42, 394, 1601]   3.99  False   \n",
       "5118      180.0                       [18, 11, 33, 67, 243]   3.99  False   \n",
       "5119      628.0                       [36, 0, 84, 217, 952]   2.99  False   \n",
       "5120      587.0                     [55, 33, 166, 255, 600]   2.99  False   \n",
       "\n",
       "      offersIAP                size   genre contentRating  \\\n",
       "0          True                 70M  Action  Everyone 10+   \n",
       "1          True                127M  Action      Everyone   \n",
       "2          True                 94M  Action    Mature 17+   \n",
       "3          True  Varies with device  Action      Everyone   \n",
       "4          True                 85M  Action          Teen   \n",
       "...         ...                 ...     ...           ...   \n",
       "5116      False                9.9M    Word      Everyone   \n",
       "5117      False  Varies with device    Word      Everyone   \n",
       "5118       True                 15M    Word      Everyone   \n",
       "5119      False                 35M    Word      Everyone   \n",
       "5120      False                 14M    Word      Everyone   \n",
       "\n",
       "                                               appId releasedate  \n",
       "0                          com.innersloth.spacemafia  2018-06-15  \n",
       "1                               com.tapped.drawrider  2020-07-23  \n",
       "2                  com.activision.callofduty.shooter  2019-09-30  \n",
       "3                           air.com.hypah.io.slither  2016-03-25  \n",
       "4                         com.playgendary.hitmasters  2020-03-19  \n",
       "...                                              ...         ...  \n",
       "5116  air.com.littlebigplay.games.wordsearchdailypro  2018-08-13  \n",
       "5117               com.teazel.crossword.cryptic.full  2010-11-03  \n",
       "5118                                 agamz.acrostics  2013-03-18  \n",
       "5119                          com.brainium.jumbline2  2011-11-01  \n",
       "5120               com.firecrackersw.wordbreakerfull  2011-02-24  \n",
       "\n",
       "[5036 rows x 14 columns]"
      ]
     },
     "execution_count": 22,
     "metadata": {},
     "output_type": "execute_result"
    }
   ],
   "source": [
    "df['releasedate'] = df['released'].apply(pd.to_datetime)\n",
    "df.drop(columns=['released'], inplace=True)\n",
    "df"
   ]
  },
  {
   "cell_type": "code",
   "execution_count": 99,
   "metadata": {
    "scrolled": true
   },
   "outputs": [
    {
     "data": {
      "text/html": [
       "<div>\n",
       "<style scoped>\n",
       "    .dataframe tbody tr th:only-of-type {\n",
       "        vertical-align: middle;\n",
       "    }\n",
       "\n",
       "    .dataframe tbody tr th {\n",
       "        vertical-align: top;\n",
       "    }\n",
       "\n",
       "    .dataframe thead th {\n",
       "        text-align: right;\n",
       "    }\n",
       "</style>\n",
       "<table border=\"1\" class=\"dataframe\">\n",
       "  <thead>\n",
       "    <tr style=\"text-align: right;\">\n",
       "      <th></th>\n",
       "      <th>minInstalls</th>\n",
       "      <th>ratings</th>\n",
       "      <th>reviews</th>\n",
       "      <th>free</th>\n",
       "      <th>offersIAP</th>\n",
       "      <th>genre</th>\n",
       "      <th>contentRating</th>\n",
       "      <th>appId</th>\n",
       "      <th>releasedate</th>\n",
       "    </tr>\n",
       "  </thead>\n",
       "  <tbody>\n",
       "    <tr>\n",
       "      <th>0</th>\n",
       "      <td>100000000</td>\n",
       "      <td>2668720.0</td>\n",
       "      <td>1362398.0</td>\n",
       "      <td>True</td>\n",
       "      <td>True</td>\n",
       "      <td>Action</td>\n",
       "      <td>Everyone 10+</td>\n",
       "      <td>com.innersloth.spacemafia</td>\n",
       "      <td>2018-06-15</td>\n",
       "    </tr>\n",
       "    <tr>\n",
       "      <th>1</th>\n",
       "      <td>50000000</td>\n",
       "      <td>233833.0</td>\n",
       "      <td>97101.0</td>\n",
       "      <td>True</td>\n",
       "      <td>True</td>\n",
       "      <td>Action</td>\n",
       "      <td>Everyone</td>\n",
       "      <td>com.tapped.drawrider</td>\n",
       "      <td>2020-07-23</td>\n",
       "    </tr>\n",
       "    <tr>\n",
       "      <th>2</th>\n",
       "      <td>100000000</td>\n",
       "      <td>10830558.0</td>\n",
       "      <td>4982589.0</td>\n",
       "      <td>True</td>\n",
       "      <td>True</td>\n",
       "      <td>Action</td>\n",
       "      <td>Mature 17+</td>\n",
       "      <td>com.activision.callofduty.shooter</td>\n",
       "      <td>2019-09-30</td>\n",
       "    </tr>\n",
       "    <tr>\n",
       "      <th>3</th>\n",
       "      <td>100000000</td>\n",
       "      <td>6289940.0</td>\n",
       "      <td>2612866.0</td>\n",
       "      <td>True</td>\n",
       "      <td>True</td>\n",
       "      <td>Action</td>\n",
       "      <td>Everyone</td>\n",
       "      <td>air.com.hypah.io.slither</td>\n",
       "      <td>2016-03-25</td>\n",
       "    </tr>\n",
       "    <tr>\n",
       "      <th>4</th>\n",
       "      <td>50000000</td>\n",
       "      <td>285765.0</td>\n",
       "      <td>100795.0</td>\n",
       "      <td>True</td>\n",
       "      <td>True</td>\n",
       "      <td>Action</td>\n",
       "      <td>Teen</td>\n",
       "      <td>com.playgendary.hitmasters</td>\n",
       "      <td>2020-03-19</td>\n",
       "    </tr>\n",
       "    <tr>\n",
       "      <th>...</th>\n",
       "      <td>...</td>\n",
       "      <td>...</td>\n",
       "      <td>...</td>\n",
       "      <td>...</td>\n",
       "      <td>...</td>\n",
       "      <td>...</td>\n",
       "      <td>...</td>\n",
       "      <td>...</td>\n",
       "      <td>...</td>\n",
       "    </tr>\n",
       "    <tr>\n",
       "      <th>5116</th>\n",
       "      <td>1000</td>\n",
       "      <td>47.0</td>\n",
       "      <td>19.0</td>\n",
       "      <td>False</td>\n",
       "      <td>False</td>\n",
       "      <td>Word</td>\n",
       "      <td>Everyone</td>\n",
       "      <td>air.com.littlebigplay.games.wordsearchdailypro</td>\n",
       "      <td>2018-08-13</td>\n",
       "    </tr>\n",
       "    <tr>\n",
       "      <th>5117</th>\n",
       "      <td>10000</td>\n",
       "      <td>2068.0</td>\n",
       "      <td>862.0</td>\n",
       "      <td>False</td>\n",
       "      <td>False</td>\n",
       "      <td>Word</td>\n",
       "      <td>Everyone</td>\n",
       "      <td>com.teazel.crossword.cryptic.full</td>\n",
       "      <td>2010-11-03</td>\n",
       "    </tr>\n",
       "    <tr>\n",
       "      <th>5118</th>\n",
       "      <td>10000</td>\n",
       "      <td>372.0</td>\n",
       "      <td>180.0</td>\n",
       "      <td>False</td>\n",
       "      <td>True</td>\n",
       "      <td>Word</td>\n",
       "      <td>Everyone</td>\n",
       "      <td>agamz.acrostics</td>\n",
       "      <td>2013-03-18</td>\n",
       "    </tr>\n",
       "    <tr>\n",
       "      <th>5119</th>\n",
       "      <td>10000</td>\n",
       "      <td>1289.0</td>\n",
       "      <td>628.0</td>\n",
       "      <td>False</td>\n",
       "      <td>False</td>\n",
       "      <td>Word</td>\n",
       "      <td>Everyone</td>\n",
       "      <td>com.brainium.jumbline2</td>\n",
       "      <td>2011-11-01</td>\n",
       "    </tr>\n",
       "    <tr>\n",
       "      <th>5120</th>\n",
       "      <td>10000</td>\n",
       "      <td>1109.0</td>\n",
       "      <td>587.0</td>\n",
       "      <td>False</td>\n",
       "      <td>False</td>\n",
       "      <td>Word</td>\n",
       "      <td>Everyone</td>\n",
       "      <td>com.firecrackersw.wordbreakerfull</td>\n",
       "      <td>2011-02-24</td>\n",
       "    </tr>\n",
       "  </tbody>\n",
       "</table>\n",
       "<p>5036 rows × 9 columns</p>\n",
       "</div>"
      ],
      "text/plain": [
       "      minInstalls     ratings    reviews   free  offersIAP   genre  \\\n",
       "0       100000000   2668720.0  1362398.0   True       True  Action   \n",
       "1        50000000    233833.0    97101.0   True       True  Action   \n",
       "2       100000000  10830558.0  4982589.0   True       True  Action   \n",
       "3       100000000   6289940.0  2612866.0   True       True  Action   \n",
       "4        50000000    285765.0   100795.0   True       True  Action   \n",
       "...           ...         ...        ...    ...        ...     ...   \n",
       "5116         1000        47.0       19.0  False      False    Word   \n",
       "5117        10000      2068.0      862.0  False      False    Word   \n",
       "5118        10000       372.0      180.0  False       True    Word   \n",
       "5119        10000      1289.0      628.0  False      False    Word   \n",
       "5120        10000      1109.0      587.0  False      False    Word   \n",
       "\n",
       "     contentRating                                           appId releasedate  \n",
       "0     Everyone 10+                       com.innersloth.spacemafia  2018-06-15  \n",
       "1         Everyone                            com.tapped.drawrider  2020-07-23  \n",
       "2       Mature 17+               com.activision.callofduty.shooter  2019-09-30  \n",
       "3         Everyone                        air.com.hypah.io.slither  2016-03-25  \n",
       "4             Teen                      com.playgendary.hitmasters  2020-03-19  \n",
       "...            ...                                             ...         ...  \n",
       "5116      Everyone  air.com.littlebigplay.games.wordsearchdailypro  2018-08-13  \n",
       "5117      Everyone               com.teazel.crossword.cryptic.full  2010-11-03  \n",
       "5118      Everyone                                 agamz.acrostics  2013-03-18  \n",
       "5119      Everyone                          com.brainium.jumbline2  2011-11-01  \n",
       "5120      Everyone               com.firecrackersw.wordbreakerfull  2011-02-24  \n",
       "\n",
       "[5036 rows x 9 columns]"
      ]
     },
     "execution_count": 99,
     "metadata": {},
     "output_type": "execute_result"
    }
   ],
   "source": [
    "# minInstalls a little difficult to work with due to very distant categories\n",
    "# Title is not useful as a feature\n",
    "# Score is what we're trying to predict so we will remove it\n",
    "# Histogram is difficult to work with in this context\n",
    "# Size is difficult to work with, as there are a lot of varying sizes, and changes with updates quite frequently.\n",
    "# Price is a little difficult to work with as there are sales/promotions sometimes\n",
    "\n",
    "df.drop(columns=['title', 'score', 'histogram', 'size', 'price', 'minInstalls'], inplace=True)\n",
    "df"
   ]
  },
  {
   "cell_type": "code",
   "execution_count": 100,
   "metadata": {},
   "outputs": [
    {
     "data": {
      "text/html": [
       "<div>\n",
       "<style scoped>\n",
       "    .dataframe tbody tr th:only-of-type {\n",
       "        vertical-align: middle;\n",
       "    }\n",
       "\n",
       "    .dataframe tbody tr th {\n",
       "        vertical-align: top;\n",
       "    }\n",
       "\n",
       "    .dataframe thead th {\n",
       "        text-align: right;\n",
       "    }\n",
       "</style>\n",
       "<table border=\"1\" class=\"dataframe\">\n",
       "  <thead>\n",
       "    <tr style=\"text-align: right;\">\n",
       "      <th></th>\n",
       "      <th>ratings</th>\n",
       "      <th>reviews</th>\n",
       "      <th>free</th>\n",
       "      <th>offersIAP</th>\n",
       "      <th>genre</th>\n",
       "      <th>contentRating</th>\n",
       "      <th>appId</th>\n",
       "      <th>releasedate</th>\n",
       "    </tr>\n",
       "  </thead>\n",
       "  <tbody>\n",
       "    <tr>\n",
       "      <th>0</th>\n",
       "      <td>2668720.0</td>\n",
       "      <td>1362398.0</td>\n",
       "      <td>True</td>\n",
       "      <td>True</td>\n",
       "      <td>Action</td>\n",
       "      <td>Everyone 10+</td>\n",
       "      <td>com.innersloth.spacemafia</td>\n",
       "      <td>2018-06-15</td>\n",
       "    </tr>\n",
       "    <tr>\n",
       "      <th>1</th>\n",
       "      <td>233833.0</td>\n",
       "      <td>97101.0</td>\n",
       "      <td>True</td>\n",
       "      <td>True</td>\n",
       "      <td>Action</td>\n",
       "      <td>Everyone</td>\n",
       "      <td>com.tapped.drawrider</td>\n",
       "      <td>2020-07-23</td>\n",
       "    </tr>\n",
       "    <tr>\n",
       "      <th>2</th>\n",
       "      <td>10830558.0</td>\n",
       "      <td>4982589.0</td>\n",
       "      <td>True</td>\n",
       "      <td>True</td>\n",
       "      <td>Action</td>\n",
       "      <td>Mature 17+</td>\n",
       "      <td>com.activision.callofduty.shooter</td>\n",
       "      <td>2019-09-30</td>\n",
       "    </tr>\n",
       "    <tr>\n",
       "      <th>3</th>\n",
       "      <td>6289940.0</td>\n",
       "      <td>2612866.0</td>\n",
       "      <td>True</td>\n",
       "      <td>True</td>\n",
       "      <td>Action</td>\n",
       "      <td>Everyone</td>\n",
       "      <td>air.com.hypah.io.slither</td>\n",
       "      <td>2016-03-25</td>\n",
       "    </tr>\n",
       "    <tr>\n",
       "      <th>4</th>\n",
       "      <td>285765.0</td>\n",
       "      <td>100795.0</td>\n",
       "      <td>True</td>\n",
       "      <td>True</td>\n",
       "      <td>Action</td>\n",
       "      <td>Teen</td>\n",
       "      <td>com.playgendary.hitmasters</td>\n",
       "      <td>2020-03-19</td>\n",
       "    </tr>\n",
       "    <tr>\n",
       "      <th>...</th>\n",
       "      <td>...</td>\n",
       "      <td>...</td>\n",
       "      <td>...</td>\n",
       "      <td>...</td>\n",
       "      <td>...</td>\n",
       "      <td>...</td>\n",
       "      <td>...</td>\n",
       "      <td>...</td>\n",
       "    </tr>\n",
       "    <tr>\n",
       "      <th>5116</th>\n",
       "      <td>47.0</td>\n",
       "      <td>19.0</td>\n",
       "      <td>False</td>\n",
       "      <td>False</td>\n",
       "      <td>Word</td>\n",
       "      <td>Everyone</td>\n",
       "      <td>air.com.littlebigplay.games.wordsearchdailypro</td>\n",
       "      <td>2018-08-13</td>\n",
       "    </tr>\n",
       "    <tr>\n",
       "      <th>5117</th>\n",
       "      <td>2068.0</td>\n",
       "      <td>862.0</td>\n",
       "      <td>False</td>\n",
       "      <td>False</td>\n",
       "      <td>Word</td>\n",
       "      <td>Everyone</td>\n",
       "      <td>com.teazel.crossword.cryptic.full</td>\n",
       "      <td>2010-11-03</td>\n",
       "    </tr>\n",
       "    <tr>\n",
       "      <th>5118</th>\n",
       "      <td>372.0</td>\n",
       "      <td>180.0</td>\n",
       "      <td>False</td>\n",
       "      <td>True</td>\n",
       "      <td>Word</td>\n",
       "      <td>Everyone</td>\n",
       "      <td>agamz.acrostics</td>\n",
       "      <td>2013-03-18</td>\n",
       "    </tr>\n",
       "    <tr>\n",
       "      <th>5119</th>\n",
       "      <td>1289.0</td>\n",
       "      <td>628.0</td>\n",
       "      <td>False</td>\n",
       "      <td>False</td>\n",
       "      <td>Word</td>\n",
       "      <td>Everyone</td>\n",
       "      <td>com.brainium.jumbline2</td>\n",
       "      <td>2011-11-01</td>\n",
       "    </tr>\n",
       "    <tr>\n",
       "      <th>5120</th>\n",
       "      <td>1109.0</td>\n",
       "      <td>587.0</td>\n",
       "      <td>False</td>\n",
       "      <td>False</td>\n",
       "      <td>Word</td>\n",
       "      <td>Everyone</td>\n",
       "      <td>com.firecrackersw.wordbreakerfull</td>\n",
       "      <td>2011-02-24</td>\n",
       "    </tr>\n",
       "  </tbody>\n",
       "</table>\n",
       "<p>5036 rows × 8 columns</p>\n",
       "</div>"
      ],
      "text/plain": [
       "         ratings    reviews   free  offersIAP   genre contentRating  \\\n",
       "0      2668720.0  1362398.0   True       True  Action  Everyone 10+   \n",
       "1       233833.0    97101.0   True       True  Action      Everyone   \n",
       "2     10830558.0  4982589.0   True       True  Action    Mature 17+   \n",
       "3      6289940.0  2612866.0   True       True  Action      Everyone   \n",
       "4       285765.0   100795.0   True       True  Action          Teen   \n",
       "...          ...        ...    ...        ...     ...           ...   \n",
       "5116        47.0       19.0  False      False    Word      Everyone   \n",
       "5117      2068.0      862.0  False      False    Word      Everyone   \n",
       "5118       372.0      180.0  False       True    Word      Everyone   \n",
       "5119      1289.0      628.0  False      False    Word      Everyone   \n",
       "5120      1109.0      587.0  False      False    Word      Everyone   \n",
       "\n",
       "                                               appId releasedate  \n",
       "0                          com.innersloth.spacemafia  2018-06-15  \n",
       "1                               com.tapped.drawrider  2020-07-23  \n",
       "2                  com.activision.callofduty.shooter  2019-09-30  \n",
       "3                           air.com.hypah.io.slither  2016-03-25  \n",
       "4                         com.playgendary.hitmasters  2020-03-19  \n",
       "...                                              ...         ...  \n",
       "5116  air.com.littlebigplay.games.wordsearchdailypro  2018-08-13  \n",
       "5117               com.teazel.crossword.cryptic.full  2010-11-03  \n",
       "5118                                 agamz.acrostics  2013-03-18  \n",
       "5119                          com.brainium.jumbline2  2011-11-01  \n",
       "5120               com.firecrackersw.wordbreakerfull  2011-02-24  \n",
       "\n",
       "[5036 rows x 8 columns]"
      ]
     },
     "execution_count": 100,
     "metadata": {},
     "output_type": "execute_result"
    }
   ],
   "source": [
    "df.drop(columns=['minInstalls'], inplace=True)\n",
    "df"
   ]
  },
  {
   "cell_type": "markdown",
   "metadata": {},
   "source": [
    "=================================================================================================================="
   ]
  },
  {
   "cell_type": "markdown",
   "metadata": {},
   "source": [
    "# Feature Engineering"
   ]
  },
  {
   "cell_type": "code",
   "execution_count": 101,
   "metadata": {},
   "outputs": [
    {
     "data": {
      "text/html": [
       "<div>\n",
       "<style scoped>\n",
       "    .dataframe tbody tr th:only-of-type {\n",
       "        vertical-align: middle;\n",
       "    }\n",
       "\n",
       "    .dataframe tbody tr th {\n",
       "        vertical-align: top;\n",
       "    }\n",
       "\n",
       "    .dataframe thead th {\n",
       "        text-align: right;\n",
       "    }\n",
       "</style>\n",
       "<table border=\"1\" class=\"dataframe\">\n",
       "  <thead>\n",
       "    <tr style=\"text-align: right;\">\n",
       "      <th></th>\n",
       "      <th>ratings</th>\n",
       "      <th>reviews</th>\n",
       "      <th>free</th>\n",
       "      <th>offersIAP</th>\n",
       "      <th>genre</th>\n",
       "      <th>contentRating</th>\n",
       "      <th>appId</th>\n",
       "      <th>daysfromlaunch</th>\n",
       "    </tr>\n",
       "  </thead>\n",
       "  <tbody>\n",
       "    <tr>\n",
       "      <th>0</th>\n",
       "      <td>2668720.0</td>\n",
       "      <td>1362398.0</td>\n",
       "      <td>True</td>\n",
       "      <td>True</td>\n",
       "      <td>Action</td>\n",
       "      <td>Everyone 10+</td>\n",
       "      <td>com.innersloth.spacemafia</td>\n",
       "      <td>836</td>\n",
       "    </tr>\n",
       "    <tr>\n",
       "      <th>1</th>\n",
       "      <td>233833.0</td>\n",
       "      <td>97101.0</td>\n",
       "      <td>True</td>\n",
       "      <td>True</td>\n",
       "      <td>Action</td>\n",
       "      <td>Everyone</td>\n",
       "      <td>com.tapped.drawrider</td>\n",
       "      <td>67</td>\n",
       "    </tr>\n",
       "    <tr>\n",
       "      <th>2</th>\n",
       "      <td>10830558.0</td>\n",
       "      <td>4982589.0</td>\n",
       "      <td>True</td>\n",
       "      <td>True</td>\n",
       "      <td>Action</td>\n",
       "      <td>Mature 17+</td>\n",
       "      <td>com.activision.callofduty.shooter</td>\n",
       "      <td>364</td>\n",
       "    </tr>\n",
       "    <tr>\n",
       "      <th>3</th>\n",
       "      <td>6289940.0</td>\n",
       "      <td>2612866.0</td>\n",
       "      <td>True</td>\n",
       "      <td>True</td>\n",
       "      <td>Action</td>\n",
       "      <td>Everyone</td>\n",
       "      <td>air.com.hypah.io.slither</td>\n",
       "      <td>1648</td>\n",
       "    </tr>\n",
       "    <tr>\n",
       "      <th>4</th>\n",
       "      <td>285765.0</td>\n",
       "      <td>100795.0</td>\n",
       "      <td>True</td>\n",
       "      <td>True</td>\n",
       "      <td>Action</td>\n",
       "      <td>Teen</td>\n",
       "      <td>com.playgendary.hitmasters</td>\n",
       "      <td>193</td>\n",
       "    </tr>\n",
       "    <tr>\n",
       "      <th>...</th>\n",
       "      <td>...</td>\n",
       "      <td>...</td>\n",
       "      <td>...</td>\n",
       "      <td>...</td>\n",
       "      <td>...</td>\n",
       "      <td>...</td>\n",
       "      <td>...</td>\n",
       "      <td>...</td>\n",
       "    </tr>\n",
       "    <tr>\n",
       "      <th>5116</th>\n",
       "      <td>47.0</td>\n",
       "      <td>19.0</td>\n",
       "      <td>False</td>\n",
       "      <td>False</td>\n",
       "      <td>Word</td>\n",
       "      <td>Everyone</td>\n",
       "      <td>air.com.littlebigplay.games.wordsearchdailypro</td>\n",
       "      <td>777</td>\n",
       "    </tr>\n",
       "    <tr>\n",
       "      <th>5117</th>\n",
       "      <td>2068.0</td>\n",
       "      <td>862.0</td>\n",
       "      <td>False</td>\n",
       "      <td>False</td>\n",
       "      <td>Word</td>\n",
       "      <td>Everyone</td>\n",
       "      <td>com.teazel.crossword.cryptic.full</td>\n",
       "      <td>3617</td>\n",
       "    </tr>\n",
       "    <tr>\n",
       "      <th>5118</th>\n",
       "      <td>372.0</td>\n",
       "      <td>180.0</td>\n",
       "      <td>False</td>\n",
       "      <td>True</td>\n",
       "      <td>Word</td>\n",
       "      <td>Everyone</td>\n",
       "      <td>agamz.acrostics</td>\n",
       "      <td>2751</td>\n",
       "    </tr>\n",
       "    <tr>\n",
       "      <th>5119</th>\n",
       "      <td>1289.0</td>\n",
       "      <td>628.0</td>\n",
       "      <td>False</td>\n",
       "      <td>False</td>\n",
       "      <td>Word</td>\n",
       "      <td>Everyone</td>\n",
       "      <td>com.brainium.jumbline2</td>\n",
       "      <td>3254</td>\n",
       "    </tr>\n",
       "    <tr>\n",
       "      <th>5120</th>\n",
       "      <td>1109.0</td>\n",
       "      <td>587.0</td>\n",
       "      <td>False</td>\n",
       "      <td>False</td>\n",
       "      <td>Word</td>\n",
       "      <td>Everyone</td>\n",
       "      <td>com.firecrackersw.wordbreakerfull</td>\n",
       "      <td>3504</td>\n",
       "    </tr>\n",
       "  </tbody>\n",
       "</table>\n",
       "<p>5036 rows × 8 columns</p>\n",
       "</div>"
      ],
      "text/plain": [
       "         ratings    reviews   free  offersIAP   genre contentRating  \\\n",
       "0      2668720.0  1362398.0   True       True  Action  Everyone 10+   \n",
       "1       233833.0    97101.0   True       True  Action      Everyone   \n",
       "2     10830558.0  4982589.0   True       True  Action    Mature 17+   \n",
       "3      6289940.0  2612866.0   True       True  Action      Everyone   \n",
       "4       285765.0   100795.0   True       True  Action          Teen   \n",
       "...          ...        ...    ...        ...     ...           ...   \n",
       "5116        47.0       19.0  False      False    Word      Everyone   \n",
       "5117      2068.0      862.0  False      False    Word      Everyone   \n",
       "5118       372.0      180.0  False       True    Word      Everyone   \n",
       "5119      1289.0      628.0  False      False    Word      Everyone   \n",
       "5120      1109.0      587.0  False      False    Word      Everyone   \n",
       "\n",
       "                                               appId  daysfromlaunch  \n",
       "0                          com.innersloth.spacemafia             836  \n",
       "1                               com.tapped.drawrider              67  \n",
       "2                  com.activision.callofduty.shooter             364  \n",
       "3                           air.com.hypah.io.slither            1648  \n",
       "4                         com.playgendary.hitmasters             193  \n",
       "...                                              ...             ...  \n",
       "5116  air.com.littlebigplay.games.wordsearchdailypro             777  \n",
       "5117               com.teazel.crossword.cryptic.full            3617  \n",
       "5118                                 agamz.acrostics            2751  \n",
       "5119                          com.brainium.jumbline2            3254  \n",
       "5120               com.firecrackersw.wordbreakerfull            3504  \n",
       "\n",
       "[5036 rows x 8 columns]"
      ]
     },
     "execution_count": 101,
     "metadata": {},
     "output_type": "execute_result"
    }
   ],
   "source": [
    "def days_between(d1, d2):\n",
    "    d1 = datetime.strptime(d1, \"%Y-%m-%d %H:%M:%S\")\n",
    "    d2 = datetime.strptime(d2, \"%Y-%m-%d %H:%M:%S\")\n",
    "    return abs((d2 - d1).days)\n",
    "\n",
    "\n",
    "df['releasedate'] = df['releasedate'].astype('datetime64[ns]')\n",
    "\n",
    "df['daysfromlaunch'] = df['releasedate'].apply(lambda row: days_between(f'{row}', '2020-09-28 0:0:0'))\n",
    "\n",
    "df.drop(columns='releasedate', inplace=True)\n",
    "\n",
    "df"
   ]
  },
  {
   "cell_type": "markdown",
   "metadata": {},
   "source": [
    "=================================================================================================================="
   ]
  },
  {
   "cell_type": "markdown",
   "metadata": {},
   "source": [
    "# NLP"
   ]
  },
  {
   "cell_type": "code",
   "execution_count": 23,
   "metadata": {},
   "outputs": [],
   "source": [
    "import bz2\n",
    "\n",
    "def decompress_pickle(file):\n",
    "    data = bz2.BZ2File(file, 'rb')\n",
    "    data = pickle.load(data)\n",
    "    return data"
   ]
  },
  {
   "cell_type": "code",
   "execution_count": 24,
   "metadata": {},
   "outputs": [
    {
     "data": {
      "text/plain": [
       "1041127"
      ]
     },
     "execution_count": 24,
     "metadata": {},
     "output_type": "execute_result"
    }
   ],
   "source": [
    "bigreviewlist = decompress_pickle('compressedbiglistreview.pbz2')\n",
    "len(bigreviewlist)"
   ]
  },
  {
   "cell_type": "code",
   "execution_count": 26,
   "metadata": {},
   "outputs": [
    {
     "data": {
      "text/html": [
       "<div>\n",
       "<style scoped>\n",
       "    .dataframe tbody tr th:only-of-type {\n",
       "        vertical-align: middle;\n",
       "    }\n",
       "\n",
       "    .dataframe tbody tr th {\n",
       "        vertical-align: top;\n",
       "    }\n",
       "\n",
       "    .dataframe thead th {\n",
       "        text-align: right;\n",
       "    }\n",
       "</style>\n",
       "<table border=\"1\" class=\"dataframe\">\n",
       "  <thead>\n",
       "    <tr style=\"text-align: right;\">\n",
       "      <th></th>\n",
       "      <th>content</th>\n",
       "      <th>score</th>\n",
       "      <th>appId</th>\n",
       "    </tr>\n",
       "  </thead>\n",
       "  <tbody>\n",
       "    <tr>\n",
       "      <th>0</th>\n",
       "      <td>Great game! First, the bad. There are plenty o...</td>\n",
       "      <td>4</td>\n",
       "      <td>com.innersloth.spacemafia</td>\n",
       "    </tr>\n",
       "    <tr>\n",
       "      <th>1</th>\n",
       "      <td>It's a really amazing start for a game but the...</td>\n",
       "      <td>4</td>\n",
       "      <td>com.innersloth.spacemafia</td>\n",
       "    </tr>\n",
       "    <tr>\n",
       "      <th>2</th>\n",
       "      <td>A wonderful game to test how strong your bond ...</td>\n",
       "      <td>5</td>\n",
       "      <td>com.innersloth.spacemafia</td>\n",
       "    </tr>\n",
       "    <tr>\n",
       "      <th>3</th>\n",
       "      <td>It's an extremely fun game, it's only setback ...</td>\n",
       "      <td>4</td>\n",
       "      <td>com.innersloth.spacemafia</td>\n",
       "    </tr>\n",
       "    <tr>\n",
       "      <th>4</th>\n",
       "      <td>It's a really fun game, especially if you're t...</td>\n",
       "      <td>5</td>\n",
       "      <td>com.innersloth.spacemafia</td>\n",
       "    </tr>\n",
       "    <tr>\n",
       "      <th>...</th>\n",
       "      <td>...</td>\n",
       "      <td>...</td>\n",
       "      <td>...</td>\n",
       "    </tr>\n",
       "    <tr>\n",
       "      <th>1041122</th>\n",
       "      <td>Love this app.   Very helpful !</td>\n",
       "      <td>5</td>\n",
       "      <td>com.firecrackersw.wordbreakerfull</td>\n",
       "    </tr>\n",
       "    <tr>\n",
       "      <th>1041123</th>\n",
       "      <td>Excellent app.</td>\n",
       "      <td>5</td>\n",
       "      <td>com.firecrackersw.wordbreakerfull</td>\n",
       "    </tr>\n",
       "    <tr>\n",
       "      <th>1041124</th>\n",
       "      <td>Still doesn't find the highest scoring words 9...</td>\n",
       "      <td>2</td>\n",
       "      <td>com.firecrackersw.wordbreakerfull</td>\n",
       "    </tr>\n",
       "    <tr>\n",
       "      <th>1041125</th>\n",
       "      <td>Which is the best dictionary for English's uk ...</td>\n",
       "      <td>5</td>\n",
       "      <td>com.firecrackersw.wordbreakerfull</td>\n",
       "    </tr>\n",
       "    <tr>\n",
       "      <th>1041126</th>\n",
       "      <td>Fun game, but for a paid app it'd be better wi...</td>\n",
       "      <td>4</td>\n",
       "      <td>com.verywisetech.pictionarypro</td>\n",
       "    </tr>\n",
       "  </tbody>\n",
       "</table>\n",
       "<p>1041127 rows × 3 columns</p>\n",
       "</div>"
      ],
      "text/plain": [
       "                                                   content  score  \\\n",
       "0        Great game! First, the bad. There are plenty o...      4   \n",
       "1        It's a really amazing start for a game but the...      4   \n",
       "2        A wonderful game to test how strong your bond ...      5   \n",
       "3        It's an extremely fun game, it's only setback ...      4   \n",
       "4        It's a really fun game, especially if you're t...      5   \n",
       "...                                                    ...    ...   \n",
       "1041122                    Love this app.   Very helpful !      5   \n",
       "1041123                                     Excellent app.      5   \n",
       "1041124  Still doesn't find the highest scoring words 9...      2   \n",
       "1041125  Which is the best dictionary for English's uk ...      5   \n",
       "1041126  Fun game, but for a paid app it'd be better wi...      4   \n",
       "\n",
       "                                     appId  \n",
       "0                com.innersloth.spacemafia  \n",
       "1                com.innersloth.spacemafia  \n",
       "2                com.innersloth.spacemafia  \n",
       "3                com.innersloth.spacemafia  \n",
       "4                com.innersloth.spacemafia  \n",
       "...                                    ...  \n",
       "1041122  com.firecrackersw.wordbreakerfull  \n",
       "1041123  com.firecrackersw.wordbreakerfull  \n",
       "1041124  com.firecrackersw.wordbreakerfull  \n",
       "1041125  com.firecrackersw.wordbreakerfull  \n",
       "1041126     com.verywisetech.pictionarypro  \n",
       "\n",
       "[1041127 rows x 3 columns]"
      ]
     },
     "execution_count": 26,
     "metadata": {},
     "output_type": "execute_result"
    }
   ],
   "source": [
    "dfreview = pd.DataFrame(bigreviewlist)\n",
    "dfreview"
   ]
  },
  {
   "cell_type": "code",
   "execution_count": 27,
   "metadata": {},
   "outputs": [
    {
     "data": {
      "text/plain": [
       "content    209\n",
       "score        0\n",
       "appId        0\n",
       "dtype: int64"
      ]
     },
     "execution_count": 27,
     "metadata": {},
     "output_type": "execute_result"
    }
   ],
   "source": [
    "dfreview.isna().sum()"
   ]
  },
  {
   "cell_type": "code",
   "execution_count": 28,
   "metadata": {
    "scrolled": true
   },
   "outputs": [
    {
     "data": {
      "text/html": [
       "<div>\n",
       "<style scoped>\n",
       "    .dataframe tbody tr th:only-of-type {\n",
       "        vertical-align: middle;\n",
       "    }\n",
       "\n",
       "    .dataframe tbody tr th {\n",
       "        vertical-align: top;\n",
       "    }\n",
       "\n",
       "    .dataframe thead th {\n",
       "        text-align: right;\n",
       "    }\n",
       "</style>\n",
       "<table border=\"1\" class=\"dataframe\">\n",
       "  <thead>\n",
       "    <tr style=\"text-align: right;\">\n",
       "      <th></th>\n",
       "      <th>content</th>\n",
       "      <th>score</th>\n",
       "      <th>appId</th>\n",
       "    </tr>\n",
       "  </thead>\n",
       "  <tbody>\n",
       "    <tr>\n",
       "      <th>0</th>\n",
       "      <td>Great game! First, the bad. There are plenty o...</td>\n",
       "      <td>4</td>\n",
       "      <td>com.innersloth.spacemafia</td>\n",
       "    </tr>\n",
       "    <tr>\n",
       "      <th>1</th>\n",
       "      <td>It's a really amazing start for a game but the...</td>\n",
       "      <td>4</td>\n",
       "      <td>com.innersloth.spacemafia</td>\n",
       "    </tr>\n",
       "    <tr>\n",
       "      <th>2</th>\n",
       "      <td>A wonderful game to test how strong your bond ...</td>\n",
       "      <td>5</td>\n",
       "      <td>com.innersloth.spacemafia</td>\n",
       "    </tr>\n",
       "    <tr>\n",
       "      <th>3</th>\n",
       "      <td>It's an extremely fun game, it's only setback ...</td>\n",
       "      <td>4</td>\n",
       "      <td>com.innersloth.spacemafia</td>\n",
       "    </tr>\n",
       "    <tr>\n",
       "      <th>4</th>\n",
       "      <td>It's a really fun game, especially if you're t...</td>\n",
       "      <td>5</td>\n",
       "      <td>com.innersloth.spacemafia</td>\n",
       "    </tr>\n",
       "    <tr>\n",
       "      <th>...</th>\n",
       "      <td>...</td>\n",
       "      <td>...</td>\n",
       "      <td>...</td>\n",
       "    </tr>\n",
       "    <tr>\n",
       "      <th>1041122</th>\n",
       "      <td>Love this app.   Very helpful !</td>\n",
       "      <td>5</td>\n",
       "      <td>com.firecrackersw.wordbreakerfull</td>\n",
       "    </tr>\n",
       "    <tr>\n",
       "      <th>1041123</th>\n",
       "      <td>Excellent app.</td>\n",
       "      <td>5</td>\n",
       "      <td>com.firecrackersw.wordbreakerfull</td>\n",
       "    </tr>\n",
       "    <tr>\n",
       "      <th>1041124</th>\n",
       "      <td>Still doesn't find the highest scoring words 9...</td>\n",
       "      <td>2</td>\n",
       "      <td>com.firecrackersw.wordbreakerfull</td>\n",
       "    </tr>\n",
       "    <tr>\n",
       "      <th>1041125</th>\n",
       "      <td>Which is the best dictionary for English's uk ...</td>\n",
       "      <td>5</td>\n",
       "      <td>com.firecrackersw.wordbreakerfull</td>\n",
       "    </tr>\n",
       "    <tr>\n",
       "      <th>1041126</th>\n",
       "      <td>Fun game, but for a paid app it'd be better wi...</td>\n",
       "      <td>4</td>\n",
       "      <td>com.verywisetech.pictionarypro</td>\n",
       "    </tr>\n",
       "  </tbody>\n",
       "</table>\n",
       "<p>1040918 rows × 3 columns</p>\n",
       "</div>"
      ],
      "text/plain": [
       "                                                   content  score  \\\n",
       "0        Great game! First, the bad. There are plenty o...      4   \n",
       "1        It's a really amazing start for a game but the...      4   \n",
       "2        A wonderful game to test how strong your bond ...      5   \n",
       "3        It's an extremely fun game, it's only setback ...      4   \n",
       "4        It's a really fun game, especially if you're t...      5   \n",
       "...                                                    ...    ...   \n",
       "1041122                    Love this app.   Very helpful !      5   \n",
       "1041123                                     Excellent app.      5   \n",
       "1041124  Still doesn't find the highest scoring words 9...      2   \n",
       "1041125  Which is the best dictionary for English's uk ...      5   \n",
       "1041126  Fun game, but for a paid app it'd be better wi...      4   \n",
       "\n",
       "                                     appId  \n",
       "0                com.innersloth.spacemafia  \n",
       "1                com.innersloth.spacemafia  \n",
       "2                com.innersloth.spacemafia  \n",
       "3                com.innersloth.spacemafia  \n",
       "4                com.innersloth.spacemafia  \n",
       "...                                    ...  \n",
       "1041122  com.firecrackersw.wordbreakerfull  \n",
       "1041123  com.firecrackersw.wordbreakerfull  \n",
       "1041124  com.firecrackersw.wordbreakerfull  \n",
       "1041125  com.firecrackersw.wordbreakerfull  \n",
       "1041126     com.verywisetech.pictionarypro  \n",
       "\n",
       "[1040918 rows x 3 columns]"
      ]
     },
     "execution_count": 28,
     "metadata": {},
     "output_type": "execute_result"
    }
   ],
   "source": [
    "dfreview.dropna(inplace=True)\n",
    "dfreview"
   ]
  },
  {
   "cell_type": "code",
   "execution_count": 29,
   "metadata": {},
   "outputs": [
    {
     "data": {
      "text/plain": [
       "5    514234\n",
       "1    188103\n",
       "4    159399\n",
       "3    104857\n",
       "2     74308\n",
       "0        17\n",
       "Name: score, dtype: int64"
      ]
     },
     "execution_count": 29,
     "metadata": {},
     "output_type": "execute_result"
    }
   ],
   "source": [
    "dfreview['score'].value_counts()"
   ]
  },
  {
   "cell_type": "code",
   "execution_count": 30,
   "metadata": {},
   "outputs": [],
   "source": [
    "dfreview = dfreview[dfreview['score'] != 0]"
   ]
  },
  {
   "cell_type": "code",
   "execution_count": 31,
   "metadata": {
    "scrolled": true
   },
   "outputs": [],
   "source": [
    "count1 = len(dfreview[dfreview['score'] == 1])\n",
    "count2 = len(dfreview[dfreview['score'] == 2])\n",
    "count3 = len(dfreview[dfreview['score'] == 3])\n",
    "count4 = len(dfreview[dfreview['score'] == 4])\n",
    "count5 = len(dfreview[dfreview['score'] == 5])\n",
    "\n",
    "total = count1 + count2 + count3 + count4 + count5"
   ]
  },
  {
   "cell_type": "code",
   "execution_count": 32,
   "metadata": {},
   "outputs": [
    {
     "data": {
      "image/png": "[encoded data removed]",
      "text/plain": [
       "<Figure size 720x720 with 1 Axes>"
      ]
     },
     "metadata": {
      "needs_background": "light"
     },
     "output_type": "display_data"
    }
   ],
   "source": [
    "plt.figure(figsize=(10,10))\n",
    "\n",
    "xaxis = ['1', '2', '3', '4', '5']\n",
    "yaxis = [count1, count2, count3, count4, count5]\n",
    "ax = sns.barplot(xaxis, yaxis)\n",
    "\n",
    "plt.title('% Rating for Top Free and Paid Mobile Games')\n",
    "plt.ylabel('Count', fontsize = 20)\n",
    "plt.xlabel('Rating', fontsize = 20)\n",
    "\n",
    "\n",
    "for p in ax.patches:\n",
    "             ax.annotate(\"%.2f\" % (p.get_height()*100/total)+'%', (p.get_x() + p.get_width() / 2., p.get_height()),\n",
    "                 ha='center', va='center', fontsize=11, color='black', xytext=(0, 20),\n",
    "                 textcoords='offset points')"
   ]
  },
  {
   "cell_type": "code",
   "execution_count": 33,
   "metadata": {},
   "outputs": [],
   "source": [
    "# Separating reviews into their scores.\n",
    "\n",
    "rating1 = dfreview.loc[dfreview['score'] == 1]\n",
    "rating2 = dfreview.loc[dfreview['score'] == 2]\n",
    "rating3 = dfreview.loc[dfreview['score'] == 3]\n",
    "rating4 = dfreview.loc[dfreview['score'] == 4]\n",
    "rating5 = dfreview.loc[dfreview['score'] == 5]"
   ]
  },
  {
   "cell_type": "code",
   "execution_count": 34,
   "metadata": {
    "scrolled": false
   },
   "outputs": [
    {
     "data": {
      "text/html": [
       "<div>\n",
       "<style scoped>\n",
       "    .dataframe tbody tr th:only-of-type {\n",
       "        vertical-align: middle;\n",
       "    }\n",
       "\n",
       "    .dataframe tbody tr th {\n",
       "        vertical-align: top;\n",
       "    }\n",
       "\n",
       "    .dataframe thead th {\n",
       "        text-align: right;\n",
       "    }\n",
       "</style>\n",
       "<table border=\"1\" class=\"dataframe\">\n",
       "  <thead>\n",
       "    <tr style=\"text-align: right;\">\n",
       "      <th></th>\n",
       "      <th>content</th>\n",
       "      <th>score</th>\n",
       "      <th>appId</th>\n",
       "    </tr>\n",
       "  </thead>\n",
       "  <tbody>\n",
       "    <tr>\n",
       "      <th>81</th>\n",
       "      <td>This is a rubbish game that would not let me j...</td>\n",
       "      <td>1</td>\n",
       "      <td>com.innersloth.spacemafia</td>\n",
       "    </tr>\n",
       "    <tr>\n",
       "      <th>146</th>\n",
       "      <td>Would be a good game but its filled with group...</td>\n",
       "      <td>1</td>\n",
       "      <td>com.innersloth.spacemafia</td>\n",
       "    </tr>\n",
       "  </tbody>\n",
       "</table>\n",
       "</div>"
      ],
      "text/plain": [
       "                                               content  score  \\\n",
       "81   This is a rubbish game that would not let me j...      1   \n",
       "146  Would be a good game but its filled with group...      1   \n",
       "\n",
       "                         appId  \n",
       "81   com.innersloth.spacemafia  \n",
       "146  com.innersloth.spacemafia  "
      ]
     },
     "execution_count": 34,
     "metadata": {},
     "output_type": "execute_result"
    }
   ],
   "source": [
    "rating1.head(2)"
   ]
  },
  {
   "cell_type": "code",
   "execution_count": 35,
   "metadata": {},
   "outputs": [
    {
     "data": {
      "text/html": [
       "<div>\n",
       "<style scoped>\n",
       "    .dataframe tbody tr th:only-of-type {\n",
       "        vertical-align: middle;\n",
       "    }\n",
       "\n",
       "    .dataframe tbody tr th {\n",
       "        vertical-align: top;\n",
       "    }\n",
       "\n",
       "    .dataframe thead th {\n",
       "        text-align: right;\n",
       "    }\n",
       "</style>\n",
       "<table border=\"1\" class=\"dataframe\">\n",
       "  <thead>\n",
       "    <tr style=\"text-align: right;\">\n",
       "      <th></th>\n",
       "      <th>content</th>\n",
       "      <th>score</th>\n",
       "      <th>appId</th>\n",
       "    </tr>\n",
       "  </thead>\n",
       "  <tbody>\n",
       "    <tr>\n",
       "      <th>35</th>\n",
       "      <td>I really enjoy the game but it has some proble...</td>\n",
       "      <td>2</td>\n",
       "      <td>com.innersloth.spacemafia</td>\n",
       "    </tr>\n",
       "    <tr>\n",
       "      <th>40</th>\n",
       "      <td>SO. MANY. BUGS. The game is great, enjoyable a...</td>\n",
       "      <td>2</td>\n",
       "      <td>com.innersloth.spacemafia</td>\n",
       "    </tr>\n",
       "  </tbody>\n",
       "</table>\n",
       "</div>"
      ],
      "text/plain": [
       "                                              content  score  \\\n",
       "35  I really enjoy the game but it has some proble...      2   \n",
       "40  SO. MANY. BUGS. The game is great, enjoyable a...      2   \n",
       "\n",
       "                        appId  \n",
       "35  com.innersloth.spacemafia  \n",
       "40  com.innersloth.spacemafia  "
      ]
     },
     "execution_count": 35,
     "metadata": {},
     "output_type": "execute_result"
    }
   ],
   "source": [
    "rating2.head(2)"
   ]
  },
  {
   "cell_type": "code",
   "execution_count": 36,
   "metadata": {},
   "outputs": [
    {
     "data": {
      "text/html": [
       "<div>\n",
       "<style scoped>\n",
       "    .dataframe tbody tr th:only-of-type {\n",
       "        vertical-align: middle;\n",
       "    }\n",
       "\n",
       "    .dataframe tbody tr th {\n",
       "        vertical-align: top;\n",
       "    }\n",
       "\n",
       "    .dataframe thead th {\n",
       "        text-align: right;\n",
       "    }\n",
       "</style>\n",
       "<table border=\"1\" class=\"dataframe\">\n",
       "  <thead>\n",
       "    <tr style=\"text-align: right;\">\n",
       "      <th></th>\n",
       "      <th>content</th>\n",
       "      <th>score</th>\n",
       "      <th>appId</th>\n",
       "    </tr>\n",
       "  </thead>\n",
       "  <tbody>\n",
       "    <tr>\n",
       "      <th>15</th>\n",
       "      <td>After playing this game for a while. I see a f...</td>\n",
       "      <td>3</td>\n",
       "      <td>com.innersloth.spacemafia</td>\n",
       "    </tr>\n",
       "    <tr>\n",
       "      <th>19</th>\n",
       "      <td>The game is absolutely wonderful, on pc. Playi...</td>\n",
       "      <td>3</td>\n",
       "      <td>com.innersloth.spacemafia</td>\n",
       "    </tr>\n",
       "  </tbody>\n",
       "</table>\n",
       "</div>"
      ],
      "text/plain": [
       "                                              content  score  \\\n",
       "15  After playing this game for a while. I see a f...      3   \n",
       "19  The game is absolutely wonderful, on pc. Playi...      3   \n",
       "\n",
       "                        appId  \n",
       "15  com.innersloth.spacemafia  \n",
       "19  com.innersloth.spacemafia  "
      ]
     },
     "execution_count": 36,
     "metadata": {},
     "output_type": "execute_result"
    }
   ],
   "source": [
    "rating3.head(2)"
   ]
  },
  {
   "cell_type": "code",
   "execution_count": 37,
   "metadata": {},
   "outputs": [
    {
     "data": {
      "text/html": [
       "<div>\n",
       "<style scoped>\n",
       "    .dataframe tbody tr th:only-of-type {\n",
       "        vertical-align: middle;\n",
       "    }\n",
       "\n",
       "    .dataframe tbody tr th {\n",
       "        vertical-align: top;\n",
       "    }\n",
       "\n",
       "    .dataframe thead th {\n",
       "        text-align: right;\n",
       "    }\n",
       "</style>\n",
       "<table border=\"1\" class=\"dataframe\">\n",
       "  <thead>\n",
       "    <tr style=\"text-align: right;\">\n",
       "      <th></th>\n",
       "      <th>content</th>\n",
       "      <th>score</th>\n",
       "      <th>appId</th>\n",
       "    </tr>\n",
       "  </thead>\n",
       "  <tbody>\n",
       "    <tr>\n",
       "      <th>0</th>\n",
       "      <td>Great game! First, the bad. There are plenty o...</td>\n",
       "      <td>4</td>\n",
       "      <td>com.innersloth.spacemafia</td>\n",
       "    </tr>\n",
       "    <tr>\n",
       "      <th>1</th>\n",
       "      <td>It's a really amazing start for a game but the...</td>\n",
       "      <td>4</td>\n",
       "      <td>com.innersloth.spacemafia</td>\n",
       "    </tr>\n",
       "  </tbody>\n",
       "</table>\n",
       "</div>"
      ],
      "text/plain": [
       "                                             content  score  \\\n",
       "0  Great game! First, the bad. There are plenty o...      4   \n",
       "1  It's a really amazing start for a game but the...      4   \n",
       "\n",
       "                       appId  \n",
       "0  com.innersloth.spacemafia  \n",
       "1  com.innersloth.spacemafia  "
      ]
     },
     "execution_count": 37,
     "metadata": {},
     "output_type": "execute_result"
    }
   ],
   "source": [
    "rating4.head(2)"
   ]
  },
  {
   "cell_type": "code",
   "execution_count": 38,
   "metadata": {},
   "outputs": [
    {
     "data": {
      "text/html": [
       "<div>\n",
       "<style scoped>\n",
       "    .dataframe tbody tr th:only-of-type {\n",
       "        vertical-align: middle;\n",
       "    }\n",
       "\n",
       "    .dataframe tbody tr th {\n",
       "        vertical-align: top;\n",
       "    }\n",
       "\n",
       "    .dataframe thead th {\n",
       "        text-align: right;\n",
       "    }\n",
       "</style>\n",
       "<table border=\"1\" class=\"dataframe\">\n",
       "  <thead>\n",
       "    <tr style=\"text-align: right;\">\n",
       "      <th></th>\n",
       "      <th>content</th>\n",
       "      <th>score</th>\n",
       "      <th>appId</th>\n",
       "    </tr>\n",
       "  </thead>\n",
       "  <tbody>\n",
       "    <tr>\n",
       "      <th>2</th>\n",
       "      <td>A wonderful game to test how strong your bond ...</td>\n",
       "      <td>5</td>\n",
       "      <td>com.innersloth.spacemafia</td>\n",
       "    </tr>\n",
       "    <tr>\n",
       "      <th>4</th>\n",
       "      <td>It's a really fun game, especially if you're t...</td>\n",
       "      <td>5</td>\n",
       "      <td>com.innersloth.spacemafia</td>\n",
       "    </tr>\n",
       "  </tbody>\n",
       "</table>\n",
       "</div>"
      ],
      "text/plain": [
       "                                             content  score  \\\n",
       "2  A wonderful game to test how strong your bond ...      5   \n",
       "4  It's a really fun game, especially if you're t...      5   \n",
       "\n",
       "                       appId  \n",
       "2  com.innersloth.spacemafia  \n",
       "4  com.innersloth.spacemafia  "
      ]
     },
     "execution_count": 38,
     "metadata": {},
     "output_type": "execute_result"
    }
   ],
   "source": [
    "rating5.head(2)"
   ]
  },
  {
   "cell_type": "markdown",
   "metadata": {},
   "source": [
    "### Tokenizing"
   ]
  },
  {
   "cell_type": "code",
   "execution_count": 39,
   "metadata": {},
   "outputs": [],
   "source": [
    "# Remove common words\n",
    "stopwords_list = stopwords.words('english') + list(string.punctuation)\n",
    "# Remove more punctuation\n",
    "stopwords_list += [\"''\", '\"\"', '...', '``']\n",
    "# Remove random numerals\n",
    "stopwords_list += ['0', '1', '2', '3', '4', '5', '6', '7', '8', '9']\n",
    "# Remove contractions\n",
    "stopwords_list += [\"'d\", \"'ve\", \"ca\", \"n't\",  \"'t\", \"'re\", \"'ll\", \"'s\"]"
   ]
  },
  {
   "cell_type": "code",
   "execution_count": 40,
   "metadata": {},
   "outputs": [],
   "source": [
    "def process_reviews(reviews):\n",
    "    tokens = nltk.word_tokenize(reviews)\n",
    "    stopwords_removed = [token.lower() for token in tokens if token.lower() not in stopwords_list]\n",
    "    return stopwords_removed    "
   ]
  },
  {
   "cell_type": "code",
   "execution_count": 42,
   "metadata": {
    "scrolled": false
   },
   "outputs": [
    {
     "name": "stderr",
     "output_type": "stream",
     "text": [
      "/opt/anaconda3/lib/python3.7/site-packages/ipykernel_launcher.py:3: SettingWithCopyWarning: \n",
      "A value is trying to be set on a copy of a slice from a DataFrame.\n",
      "Try using .loc[row_indexer,col_indexer] = value instead\n",
      "\n",
      "See the caveats in the documentation: https://pandas.pydata.org/pandas-docs/stable/user_guide/indexing.html#returning-a-view-versus-a-copy\n",
      "  This is separate from the ipykernel package so we can avoid doing imports until\n",
      "/opt/anaconda3/lib/python3.7/site-packages/ipykernel_launcher.py:4: SettingWithCopyWarning: \n",
      "A value is trying to be set on a copy of a slice from a DataFrame.\n",
      "Try using .loc[row_indexer,col_indexer] = value instead\n",
      "\n",
      "See the caveats in the documentation: https://pandas.pydata.org/pandas-docs/stable/user_guide/indexing.html#returning-a-view-versus-a-copy\n",
      "  after removing the cwd from sys.path.\n",
      "/opt/anaconda3/lib/python3.7/site-packages/ipykernel_launcher.py:5: SettingWithCopyWarning: \n",
      "A value is trying to be set on a copy of a slice from a DataFrame.\n",
      "Try using .loc[row_indexer,col_indexer] = value instead\n",
      "\n",
      "See the caveats in the documentation: https://pandas.pydata.org/pandas-docs/stable/user_guide/indexing.html#returning-a-view-versus-a-copy\n",
      "  \"\"\"\n",
      "/opt/anaconda3/lib/python3.7/site-packages/ipykernel_launcher.py:6: SettingWithCopyWarning: \n",
      "A value is trying to be set on a copy of a slice from a DataFrame.\n",
      "Try using .loc[row_indexer,col_indexer] = value instead\n",
      "\n",
      "See the caveats in the documentation: https://pandas.pydata.org/pandas-docs/stable/user_guide/indexing.html#returning-a-view-versus-a-copy\n",
      "  \n"
     ]
    },
    {
     "name": "stdout",
     "output_type": "stream",
     "text": [
      "0:05:52.528812\n"
     ]
    },
    {
     "name": "stderr",
     "output_type": "stream",
     "text": [
      "/opt/anaconda3/lib/python3.7/site-packages/ipykernel_launcher.py:7: SettingWithCopyWarning: \n",
      "A value is trying to be set on a copy of a slice from a DataFrame.\n",
      "Try using .loc[row_indexer,col_indexer] = value instead\n",
      "\n",
      "See the caveats in the documentation: https://pandas.pydata.org/pandas-docs/stable/user_guide/indexing.html#returning-a-view-versus-a-copy\n",
      "  import sys\n"
     ]
    }
   ],
   "source": [
    "starttime = datetime.now()\n",
    "\n",
    "rating1['wordlist'] = rating1['content'].apply(lambda x: process_reviews(x))\n",
    "rating2['wordlist'] = rating2['content'].apply(lambda x: process_reviews(x))\n",
    "rating3['wordlist'] = rating3['content'].apply(lambda x: process_reviews(x))\n",
    "rating4['wordlist'] = rating4['content'].apply(lambda x: process_reviews(x))\n",
    "rating5['wordlist'] = rating5['content'].apply(lambda x: process_reviews(x))\n",
    "\n",
    "print(datetime.now() - starttime)"
   ]
  },
  {
   "cell_type": "markdown",
   "metadata": {},
   "source": [
    "### Lemmatizer"
   ]
  },
  {
   "cell_type": "code",
   "execution_count": 43,
   "metadata": {},
   "outputs": [],
   "source": [
    "lemmatizer = nltk.stem.WordNetLemmatizer()\n",
    "\n",
    "def lemmatize_text(text):\n",
    "    return [lemmatizer.lemmatize(w) for w in text]"
   ]
  },
  {
   "cell_type": "code",
   "execution_count": 44,
   "metadata": {
    "scrolled": true
   },
   "outputs": [
    {
     "name": "stderr",
     "output_type": "stream",
     "text": [
      "/opt/anaconda3/lib/python3.7/site-packages/ipykernel_launcher.py:3: SettingWithCopyWarning: \n",
      "A value is trying to be set on a copy of a slice from a DataFrame.\n",
      "Try using .loc[row_indexer,col_indexer] = value instead\n",
      "\n",
      "See the caveats in the documentation: https://pandas.pydata.org/pandas-docs/stable/user_guide/indexing.html#returning-a-view-versus-a-copy\n",
      "  This is separate from the ipykernel package so we can avoid doing imports until\n",
      "/opt/anaconda3/lib/python3.7/site-packages/ipykernel_launcher.py:4: SettingWithCopyWarning: \n",
      "A value is trying to be set on a copy of a slice from a DataFrame.\n",
      "Try using .loc[row_indexer,col_indexer] = value instead\n",
      "\n",
      "See the caveats in the documentation: https://pandas.pydata.org/pandas-docs/stable/user_guide/indexing.html#returning-a-view-versus-a-copy\n",
      "  after removing the cwd from sys.path.\n",
      "/opt/anaconda3/lib/python3.7/site-packages/ipykernel_launcher.py:5: SettingWithCopyWarning: \n",
      "A value is trying to be set on a copy of a slice from a DataFrame.\n",
      "Try using .loc[row_indexer,col_indexer] = value instead\n",
      "\n",
      "See the caveats in the documentation: https://pandas.pydata.org/pandas-docs/stable/user_guide/indexing.html#returning-a-view-versus-a-copy\n",
      "  \"\"\"\n",
      "/opt/anaconda3/lib/python3.7/site-packages/ipykernel_launcher.py:6: SettingWithCopyWarning: \n",
      "A value is trying to be set on a copy of a slice from a DataFrame.\n",
      "Try using .loc[row_indexer,col_indexer] = value instead\n",
      "\n",
      "See the caveats in the documentation: https://pandas.pydata.org/pandas-docs/stable/user_guide/indexing.html#returning-a-view-versus-a-copy\n",
      "  \n"
     ]
    },
    {
     "name": "stdout",
     "output_type": "stream",
     "text": [
      "0:01:12.052970\n"
     ]
    },
    {
     "name": "stderr",
     "output_type": "stream",
     "text": [
      "/opt/anaconda3/lib/python3.7/site-packages/ipykernel_launcher.py:7: SettingWithCopyWarning: \n",
      "A value is trying to be set on a copy of a slice from a DataFrame.\n",
      "Try using .loc[row_indexer,col_indexer] = value instead\n",
      "\n",
      "See the caveats in the documentation: https://pandas.pydata.org/pandas-docs/stable/user_guide/indexing.html#returning-a-view-versus-a-copy\n",
      "  import sys\n"
     ]
    }
   ],
   "source": [
    "starttime = datetime.now()\n",
    "\n",
    "rating1['wordlistlem'] = rating1['wordlist'].apply(lemmatize_text)\n",
    "rating2['wordlistlem'] = rating2['wordlist'].apply(lemmatize_text)\n",
    "rating3['wordlistlem'] = rating3['wordlist'].apply(lemmatize_text)\n",
    "rating4['wordlistlem'] = rating4['wordlist'].apply(lemmatize_text)\n",
    "rating5['wordlistlem'] = rating5['wordlist'].apply(lemmatize_text)\n",
    "\n",
    "print(datetime.now() - starttime)"
   ]
  },
  {
   "cell_type": "markdown",
   "metadata": {},
   "source": [
    "### Saving Dataframes"
   ]
  },
  {
   "cell_type": "code",
   "execution_count": 45,
   "metadata": {},
   "outputs": [],
   "source": [
    "# Saving tokens into a sub-folder in for tidiness.\n",
    "\n",
    "from pathlib import Path\n",
    "\n",
    "root = Path('.')\n",
    "\n",
    "my_path1 = root / \"tokens\" / \"processedreviewrating1.pbz2\"\n",
    "my_path2 = root / \"tokens\" / \"processedreviewrating2.pbz2\"\n",
    "my_path3 = root / \"tokens\" / \"processedreviewrating3.pbz2\"\n",
    "my_path4 = root / \"tokens\" / \"processedreviewrating4.pbz2\"\n",
    "my_path5 = root / \"tokens\" / \"processedreviewrating5.pbz2\"\n",
    "\n",
    "import bz2\n",
    "\n",
    "def compressed_pickle(path, data):\n",
    "    with bz2.BZ2File(path, 'w') as f:\n",
    "        pickle.dump(data, f)"
   ]
  },
  {
   "cell_type": "code",
   "execution_count": 46,
   "metadata": {},
   "outputs": [],
   "source": [
    "compressed_pickle(my_path1, rating1)\n",
    "compressed_pickle(my_path2, rating2)\n",
    "compressed_pickle(my_path3, rating3)\n",
    "compressed_pickle(my_path4, rating4)\n",
    "compressed_pickle(my_path5, rating5)"
   ]
  },
  {
   "cell_type": "code",
   "execution_count": 47,
   "metadata": {},
   "outputs": [],
   "source": [
    "# Retrieve our pickled dataframes\n",
    "\n",
    "rating1 = decompress_pickle(my_path1)\n",
    "rating2 = decompress_pickle(my_path2)\n",
    "rating3 = decompress_pickle(my_path3)\n",
    "rating4 = decompress_pickle(my_path4)\n",
    "rating5 = decompress_pickle(my_path5)"
   ]
  },
  {
   "cell_type": "markdown",
   "metadata": {},
   "source": [
    "## Word Frequency in all reviews"
   ]
  },
  {
   "cell_type": "code",
   "execution_count": 48,
   "metadata": {},
   "outputs": [
    {
     "data": {
      "text/plain": [
       "81     [rubbish, game, would, let, join, host, game, ...\n",
       "146    [would, good, game, filled, group, people, pri...\n",
       "197    [want, play, game, friend, recommended, suppos...\n",
       "215    [good, game, found, modders, mod, menu, game, ...\n",
       "253    [stupid.., stupid.., stupid, ad, ad, seriously...\n",
       "Name: wordlistlem, dtype: object"
      ]
     },
     "execution_count": 48,
     "metadata": {},
     "output_type": "execute_result"
    }
   ],
   "source": [
    "rating1['wordlistlem'].head()"
   ]
  },
  {
   "cell_type": "code",
   "execution_count": 49,
   "metadata": {},
   "outputs": [
    {
     "name": "stdout",
     "output_type": "stream",
     "text": [
      "0:00:00.792135\n",
      "------------\n",
      "3501669\n",
      "1598683\n",
      "2119339\n",
      "2842957\n",
      "6932989\n"
     ]
    }
   ],
   "source": [
    "starttime = datetime.now()\n",
    "\n",
    "processedreviewrating1 = [item for elem in rating1['wordlistlem'] for item in elem]\n",
    "processedreviewrating2 = [item for elem in rating2['wordlistlem'] for item in elem]\n",
    "processedreviewrating3 = [item for elem in rating3['wordlistlem'] for item in elem]\n",
    "processedreviewrating4 = [item for elem in rating4['wordlistlem'] for item in elem]\n",
    "processedreviewrating5 = [item for elem in rating5['wordlistlem'] for item in elem]\n",
    "\n",
    "print(datetime.now() - starttime)\n",
    "print('------------')\n",
    "print(len(processedreviewrating1))\n",
    "print(len(processedreviewrating2))\n",
    "print(len(processedreviewrating3))\n",
    "print(len(processedreviewrating4))\n",
    "print(len(processedreviewrating5))"
   ]
  },
  {
   "cell_type": "code",
   "execution_count": 50,
   "metadata": {
    "scrolled": true
   },
   "outputs": [
    {
     "data": {
      "text/plain": [
       "16995637"
      ]
     },
     "execution_count": 50,
     "metadata": {},
     "output_type": "execute_result"
    }
   ],
   "source": [
    "# 17.1 million words total.\n",
    "\n",
    "totalprocessedreviews = processedreviewrating1 + processedreviewrating2 + processedreviewrating3 + processedreviewrating4 + processedreviewrating5\n",
    "len(totalprocessedreviews)"
   ]
  },
  {
   "cell_type": "code",
   "execution_count": 51,
   "metadata": {
    "scrolled": true
   },
   "outputs": [
    {
     "data": {
      "text/plain": [
       "[('game', 1105600),\n",
       " ('like', 233824),\n",
       " ('play', 216554),\n",
       " ('good', 196449),\n",
       " ('fun', 187192),\n",
       " ('love', 186848),\n",
       " ('get', 179136),\n",
       " ('ad', 171374),\n",
       " ('time', 153533),\n",
       " ('great', 146498),\n",
       " ('really', 136139),\n",
       " ('one', 119789),\n",
       " ('app', 109534),\n",
       " ('would', 107370),\n",
       " ('make', 106168),\n",
       " ('level', 102526),\n",
       " ('playing', 87480),\n",
       " ('much', 82311),\n",
       " ('star', 77927),\n",
       " ('even', 75129)]"
      ]
     },
     "execution_count": 51,
     "metadata": {},
     "output_type": "execute_result"
    }
   ],
   "source": [
    "review_freqdist = FreqDist(totalprocessedreviews)\n",
    "review_freqdist.most_common(20)"
   ]
  },
  {
   "cell_type": "code",
   "execution_count": 52,
   "metadata": {},
   "outputs": [
    {
     "data": {
      "image/png": "[encoded data removed]",
      "text/plain": [
       "<Figure size 1296x1008 with 1 Axes>"
      ]
     },
     "metadata": {
      "needs_background": "light"
     },
     "output_type": "display_data"
    }
   ],
   "source": [
    "mostcommonwords20 = review_freqdist.most_common(20)\n",
    "\n",
    "yaxis20 = [val[1] for val in mostcommonwords20]\n",
    "\n",
    "xaxis20 = [val[0] for val in mostcommonwords20]\n",
    "\n",
    "plt.figure(figsize=(18, 14))\n",
    "ax = sns.barplot(xaxis20, yaxis20)\n",
    "plt.title('Top 20 Most Common Words in Mobile Game Reviews', fontsize = 25)\n",
    "plt.ylabel('Frequency of word', fontsize = 20)\n",
    "\n",
    "\n",
    "for p in ax.patches:\n",
    "             ax.annotate(\"%.2f\" % (p.get_height()*100/sum(yaxis20))+'%', (p.get_x() + p.get_width() / 2., p.get_height()),\n",
    "                 ha='center', va='center', fontsize=11, color='black', xytext=(0, 20),\n",
    "                 textcoords='offset points')"
   ]
  },
  {
   "cell_type": "markdown",
   "metadata": {},
   "source": [
    "## Word Frequency in 1 Rating Reviews"
   ]
  },
  {
   "cell_type": "code",
   "execution_count": 53,
   "metadata": {},
   "outputs": [],
   "source": [
    "uselesswords = ['game', 'play', 'really', 'get', 'would']\n",
    "processedreviewrating1[:] = [x for x in processedreviewrating1 if x not in uselesswords]"
   ]
  },
  {
   "cell_type": "code",
   "execution_count": 54,
   "metadata": {
    "scrolled": true
   },
   "outputs": [
    {
     "data": {
      "text/plain": [
       "[('ad', 66607),\n",
       " ('time', 40962),\n",
       " ('like', 29535),\n",
       " ('app', 29447),\n",
       " ('even', 28418),\n",
       " ('money', 27062),\n",
       " ('level', 25021),\n",
       " ('one', 21893),\n",
       " ('every', 20310),\n",
       " ('many', 19186),\n",
       " ('make', 18418),\n",
       " ('good', 16983),\n",
       " ('playing', 16938),\n",
       " ('star', 16589),\n",
       " ('fix', 15009),\n",
       " ('give', 14771),\n",
       " ('want', 14501),\n",
       " ('update', 14366),\n",
       " ('fun', 14201),\n",
       " ('way', 13833)]"
      ]
     },
     "execution_count": 54,
     "metadata": {},
     "output_type": "execute_result"
    }
   ],
   "source": [
    "review1_freqdist = FreqDist(processedreviewrating1)\n",
    "review1_freqdist.most_common(20)"
   ]
  },
  {
   "cell_type": "code",
   "execution_count": 55,
   "metadata": {},
   "outputs": [
    {
     "data": {
      "image/png": "[encoded data removed]",
      "text/plain": [
       "<Figure size 1296x1008 with 1 Axes>"
      ]
     },
     "metadata": {
      "needs_background": "light"
     },
     "output_type": "display_data"
    }
   ],
   "source": [
    "mostcommonwords201 = review1_freqdist.most_common(20)\n",
    "\n",
    "yaxis201 = [val[1] for val in mostcommonwords201]\n",
    "\n",
    "xaxis201 = [val[0] for val in mostcommonwords201]\n",
    "\n",
    "plt.figure(figsize=(18, 14))\n",
    "ax = sns.barplot(xaxis201, yaxis201)\n",
    "plt.title('Top 20 Most Common Words in Mobile Game Reviews for 1 Rating', fontsize = 25)\n",
    "plt.ylabel('Frequency of word', fontsize = 20)\n",
    "\n",
    "\n",
    "for p in ax.patches:\n",
    "             ax.annotate(\"%.2f\" % (p.get_height()*100/sum(yaxis201))+'%', (p.get_x() + p.get_width() / 2., p.get_height()),\n",
    "                 ha='center', va='center', fontsize=11, color='black', xytext=(0, 20),\n",
    "                 textcoords='offset points')"
   ]
  },
  {
   "cell_type": "markdown",
   "metadata": {},
   "source": [
    "## Word Frequency in 2 Rating Reviews"
   ]
  },
  {
   "cell_type": "code",
   "execution_count": 56,
   "metadata": {},
   "outputs": [],
   "source": [
    "processedreviewrating2[:] = [x for x in processedreviewrating2 if x not in uselesswords]"
   ]
  },
  {
   "cell_type": "code",
   "execution_count": 57,
   "metadata": {
    "scrolled": true
   },
   "outputs": [
    {
     "data": {
      "text/plain": [
       "[('ad', 26280),\n",
       " ('like', 16571),\n",
       " ('time', 16333),\n",
       " ('level', 13654),\n",
       " ('good', 12079),\n",
       " ('fun', 11941),\n",
       " ('one', 9533),\n",
       " ('even', 9406),\n",
       " ('make', 9396),\n",
       " ('many', 9107),\n",
       " ('app', 9057),\n",
       " ('money', 8658),\n",
       " ('every', 8467),\n",
       " ('playing', 8007),\n",
       " ('way', 7576),\n",
       " ('star', 7367),\n",
       " ('fix', 7173),\n",
       " ('need', 6977),\n",
       " (\"'m\", 6684),\n",
       " ('much', 6677)]"
      ]
     },
     "execution_count": 57,
     "metadata": {},
     "output_type": "execute_result"
    }
   ],
   "source": [
    "review2_freqdist = FreqDist(processedreviewrating2)\n",
    "review2_freqdist.most_common(20)"
   ]
  },
  {
   "cell_type": "code",
   "execution_count": 58,
   "metadata": {},
   "outputs": [
    {
     "data": {
      "image/png": "[encoded data removed]",
      "text/plain": [
       "<Figure size 1296x1008 with 1 Axes>"
      ]
     },
     "metadata": {
      "needs_background": "light"
     },
     "output_type": "display_data"
    }
   ],
   "source": [
    "mostcommonwords202 = review2_freqdist.most_common(20)\n",
    "\n",
    "yaxis202 = [val[1] for val in mostcommonwords202]\n",
    "\n",
    "xaxis202 = [val[0] for val in mostcommonwords202]\n",
    "\n",
    "plt.figure(figsize=(18, 14))\n",
    "ax = sns.barplot(xaxis202, yaxis202)\n",
    "plt.title('Top 20 Most Common Words in Mobile Game Reviews for 2 Rating', fontsize = 25)\n",
    "plt.ylabel('Frequency of word', fontsize = 20)\n",
    "\n",
    "\n",
    "for p in ax.patches:\n",
    "             ax.annotate(\"%.2f\" % (p.get_height()*100/sum(yaxis202))+'%', (p.get_x() + p.get_width() / 2., p.get_height()),\n",
    "                 ha='center', va='center', fontsize=11, color='black', xytext=(0, 20),\n",
    "                 textcoords='offset points')"
   ]
  },
  {
   "cell_type": "markdown",
   "metadata": {},
   "source": [
    "## Word Frequency in 3 Rating Reviews"
   ]
  },
  {
   "cell_type": "code",
   "execution_count": 59,
   "metadata": {},
   "outputs": [],
   "source": [
    "processedreviewrating3[:] = [x for x in processedreviewrating3 if x not in uselesswords]"
   ]
  },
  {
   "cell_type": "code",
   "execution_count": 60,
   "metadata": {
    "scrolled": true
   },
   "outputs": [
    {
     "data": {
      "text/plain": [
       "[('like', 27532),\n",
       " ('ad', 23964),\n",
       " ('good', 23893),\n",
       " ('time', 19691),\n",
       " ('fun', 18367),\n",
       " ('level', 16060),\n",
       " ('make', 13616),\n",
       " ('one', 13194),\n",
       " ('star', 12906),\n",
       " ('please', 11625),\n",
       " ('need', 11553),\n",
       " ('great', 11451),\n",
       " ('love', 10803),\n",
       " ('also', 10547),\n",
       " ('app', 10466),\n",
       " ('many', 10210),\n",
       " ('playing', 10126),\n",
       " ('fix', 10098),\n",
       " ('even', 9194),\n",
       " ('way', 9126)]"
      ]
     },
     "execution_count": 60,
     "metadata": {},
     "output_type": "execute_result"
    }
   ],
   "source": [
    "review3_freqdist = FreqDist(processedreviewrating3)\n",
    "review3_freqdist.most_common(20)"
   ]
  },
  {
   "cell_type": "code",
   "execution_count": 61,
   "metadata": {},
   "outputs": [
    {
     "data": {
      "image/png": "[encoded data removed]",
      "text/plain": [
       "<Figure size 1296x1008 with 1 Axes>"
      ]
     },
     "metadata": {
      "needs_background": "light"
     },
     "output_type": "display_data"
    }
   ],
   "source": [
    "mostcommonwords203 = review3_freqdist.most_common(20)\n",
    "\n",
    "yaxis203 = [val[1] for val in mostcommonwords203]\n",
    "\n",
    "xaxis203 = [val[0] for val in mostcommonwords203]\n",
    "\n",
    "plt.figure(figsize=(18, 14))\n",
    "ax = sns.barplot(xaxis203, yaxis203)\n",
    "plt.title('Top 20 Most Common Words in Mobile Game Reviews for 3 Rating', fontsize = 25)\n",
    "plt.ylabel('Frequency of word', fontsize = 20)\n",
    "\n",
    "\n",
    "for p in ax.patches:\n",
    "             ax.annotate(\"%.2f\" % (p.get_height()*100/sum(yaxis203))+'%', (p.get_x() + p.get_width() / 2., p.get_height()),\n",
    "                 ha='center', va='center', fontsize=11, color='black', xytext=(0, 20),\n",
    "                 textcoords='offset points')"
   ]
  },
  {
   "cell_type": "markdown",
   "metadata": {},
   "source": [
    "## Word Frequency in 4 Rating Reviews"
   ]
  },
  {
   "cell_type": "code",
   "execution_count": 62,
   "metadata": {},
   "outputs": [],
   "source": [
    "processedreviewrating4[:] = [x for x in processedreviewrating4 if x not in uselesswords]"
   ]
  },
  {
   "cell_type": "code",
   "execution_count": 63,
   "metadata": {
    "scrolled": true
   },
   "outputs": [
    {
     "data": {
      "text/plain": [
       "[('like', 45708),\n",
       " ('good', 43265),\n",
       " ('fun', 33869),\n",
       " ('great', 28634),\n",
       " ('love', 26818),\n",
       " ('time', 23976),\n",
       " ('ad', 22364),\n",
       " ('one', 20692),\n",
       " ('star', 20251),\n",
       " ('make', 19335),\n",
       " ('level', 16893),\n",
       " ('thing', 15472),\n",
       " ('please', 15377),\n",
       " ('add', 14884),\n",
       " ('also', 14313),\n",
       " ('app', 14206),\n",
       " ('need', 14161),\n",
       " ('could', 13114),\n",
       " ('nice', 12585),\n",
       " ('playing', 12525)]"
      ]
     },
     "execution_count": 63,
     "metadata": {},
     "output_type": "execute_result"
    }
   ],
   "source": [
    "review4_freqdist = FreqDist(processedreviewrating4)\n",
    "review4_freqdist.most_common(20)"
   ]
  },
  {
   "cell_type": "code",
   "execution_count": 64,
   "metadata": {},
   "outputs": [
    {
     "data": {
      "image/png": "[encoded data removed]",
      "text/plain": [
       "<Figure size 1296x1008 with 1 Axes>"
      ]
     },
     "metadata": {
      "needs_background": "light"
     },
     "output_type": "display_data"
    }
   ],
   "source": [
    "mostcommonwords204 = review4_freqdist.most_common(20)\n",
    "\n",
    "yaxis204 = [val[1] for val in mostcommonwords204]\n",
    "\n",
    "xaxis204 = [val[0] for val in mostcommonwords204]\n",
    "\n",
    "plt.figure(figsize=(18, 14))\n",
    "ax = sns.barplot(xaxis204, yaxis204)\n",
    "plt.title('Top 20 Most Common Words in Mobile Game Reviews for 4 Rating', fontsize = 25)\n",
    "plt.ylabel('Frequency of word', fontsize = 20)\n",
    "\n",
    "\n",
    "for p in ax.patches:\n",
    "             ax.annotate(\"%.2f\" % (p.get_height()*100/sum(yaxis204))+'%', (p.get_x() + p.get_width() / 2., p.get_height()),\n",
    "                 ha='center', va='center', fontsize=11, color='black', xytext=(0, 20),\n",
    "                 textcoords='offset points')"
   ]
  },
  {
   "cell_type": "markdown",
   "metadata": {},
   "source": [
    "## Word Frequency in 5 Rating Reviews"
   ]
  },
  {
   "cell_type": "code",
   "execution_count": 65,
   "metadata": {},
   "outputs": [],
   "source": [
    "processedreviewrating5[:] = [x for x in processedreviewrating5 if x not in uselesswords]"
   ]
  },
  {
   "cell_type": "code",
   "execution_count": 66,
   "metadata": {
    "scrolled": true
   },
   "outputs": [
    {
     "data": {
      "text/plain": [
       "[('love', 137354),\n",
       " ('like', 114478),\n",
       " ('fun', 108814),\n",
       " ('good', 100229),\n",
       " ('great', 93286),\n",
       " ('one', 54477),\n",
       " ('best', 53465),\n",
       " ('time', 52571),\n",
       " ('app', 46358),\n",
       " ('make', 45403),\n",
       " ('much', 42850),\n",
       " ('playing', 39884),\n",
       " ('amazing', 39548),\n",
       " ('graphic', 35613),\n",
       " ('nice', 34818),\n",
       " ('ad', 32159),\n",
       " ('level', 30898),\n",
       " ('also', 30858),\n",
       " ('awesome', 30803),\n",
       " ('lot', 29761)]"
      ]
     },
     "execution_count": 66,
     "metadata": {},
     "output_type": "execute_result"
    }
   ],
   "source": [
    "review5_freqdist = FreqDist(processedreviewrating5)\n",
    "review5_freqdist.most_common(20)"
   ]
  },
  {
   "cell_type": "code",
   "execution_count": 67,
   "metadata": {},
   "outputs": [
    {
     "data": {
      "image/png": "[encoded data removed]",
      "text/plain": [
       "<Figure size 1296x1008 with 1 Axes>"
      ]
     },
     "metadata": {
      "needs_background": "light"
     },
     "output_type": "display_data"
    }
   ],
   "source": [
    "mostcommonwords205 = review5_freqdist.most_common(20)\n",
    "\n",
    "yaxis205 = [val[1] for val in mostcommonwords205]\n",
    "\n",
    "xaxis205 = [val[0] for val in mostcommonwords205]\n",
    "\n",
    "plt.figure(figsize=(18, 14))\n",
    "ax = sns.barplot(xaxis205, yaxis205)\n",
    "plt.title('Top 20 Most Common Words in Mobile Game Reviews for 5 Rating', fontsize = 25)\n",
    "plt.ylabel('Frequency of word', fontsize = 20)\n",
    "\n",
    "\n",
    "for p in ax.patches:\n",
    "             ax.annotate(\"%.2f\" % (p.get_height()*100/sum(yaxis205))+'%', (p.get_x() + p.get_width() / 2., p.get_height()),\n",
    "                 ha='center', va='center', fontsize=11, color='black', xytext=(0, 20),\n",
    "                 textcoords='offset points')"
   ]
  },
  {
   "cell_type": "markdown",
   "metadata": {},
   "source": [
    "# Bi-grams/Tri-grams"
   ]
  },
  {
   "cell_type": "code",
   "execution_count": 68,
   "metadata": {},
   "outputs": [],
   "source": [
    "# One without removing any common words to see common n-grams.\n",
    "\n",
    "def n_gramall(df_col, n=None):\n",
    "    # Build the vectorizer, specify inputted n-gram, remove stop words\n",
    "    vect = CountVectorizer(ngram_range = (n,n), stop_words = gramstopwords_list, min_df = 10)\n",
    "    # fit/transform vectorizer on specified column\n",
    "    vect_fit = vect.fit_transform(df_col.values.astype('U'))\n",
    "    # get all words and store in a list\n",
    "    word_list = vect.get_feature_names()\n",
    "    # get a count of all the words\n",
    "    count_list = vect_fit.toarray().sum(axis=0)\n",
    "    #create a dictionary of word to count pairings\n",
    "    count_dict = dict(zip(word_list, count_list))\n",
    "    # sort the dictionary to show highest counted words on top\n",
    "    sort_vocab = sorted(count_dict.items(), key=lambda x: x[1], reverse=True)\n",
    "    return sort_vocab\n",
    "\n",
    "\n",
    "# One with removing common words to see if any more notable n-grams show up.\n",
    "\n",
    "def n_gram(df_col, n=None):\n",
    "\n",
    "    vect = CountVectorizer(ngram_range = (n,n), stop_words = stopwords_list, min_df = 10)\n",
    "\n",
    "    vect_fit = vect.fit_transform(df_col.values.astype('U'))\n",
    "\n",
    "    word_list = vect.get_feature_names()\n",
    "\n",
    "    count_list = vect_fit.toarray().sum(axis=0)\n",
    "\n",
    "    count_dict = dict(zip(word_list, count_list))\n",
    "\n",
    "    sort_vocab = sorted(count_dict.items(), key=lambda x: x[1], reverse=True)\n",
    "    return sort_vocab"
   ]
  },
  {
   "cell_type": "code",
   "execution_count": 69,
   "metadata": {},
   "outputs": [],
   "source": [
    "gramstopwords_list = stopwords.words('english') + list(string.punctuation)\n",
    "gramstopwords_list += [\"''\", '\"\"', '...', '``']\n",
    "\n",
    "stopwords_list += uselesswords"
   ]
  },
  {
   "cell_type": "code",
   "execution_count": 70,
   "metadata": {},
   "outputs": [
    {
     "data": {
      "text/plain": [
       "0          Great game! First, the bad. There are plenty o...\n",
       "1          It's a really amazing start for a game but the...\n",
       "2          A wonderful game to test how strong your bond ...\n",
       "3          It's an extremely fun game, it's only setback ...\n",
       "4          It's a really fun game, especially if you're t...\n",
       "                                 ...                        \n",
       "1041122                      Love this app.   Very helpful !\n",
       "1041123                                       Excellent app.\n",
       "1041124    Still doesn't find the highest scoring words 9...\n",
       "1041125    Which is the best dictionary for English's uk ...\n",
       "1041126    Fun game, but for a paid app it'd be better wi...\n",
       "Name: content, Length: 1040901, dtype: object"
      ]
     },
     "execution_count": 70,
     "metadata": {},
     "output_type": "execute_result"
    }
   ],
   "source": [
    "dftotalreview = dfreview['content']\n",
    "dftotalreview"
   ]
  },
  {
   "cell_type": "code",
   "execution_count": 71,
   "metadata": {},
   "outputs": [
    {
     "data": {
      "text/plain": [
       "[('love game', 3129),\n",
       " ('good game', 2479),\n",
       " ('great game', 2316),\n",
       " ('like game', 1471),\n",
       " ('fun game', 1345),\n",
       " ('play game', 1282),\n",
       " ('game play', 1096),\n",
       " ('many ads', 1029),\n",
       " ('game good', 993),\n",
       " ('please fix', 907),\n",
       " ('game ever', 894),\n",
       " ('playing game', 891),\n",
       " ('game really', 870),\n",
       " ('game fun', 861),\n",
       " ('game like', 821),\n",
       " ('best game', 809),\n",
       " ('nice game', 716),\n",
       " ('game much', 702),\n",
       " ('game great', 700),\n",
       " ('really fun', 674)]"
      ]
     },
     "execution_count": 71,
     "metadata": {},
     "output_type": "execute_result"
    }
   ],
   "source": [
    "bigramall = n_gramall(dftotalreview.sample(50000), n=2)\n",
    "bigramall[:20]"
   ]
  },
  {
   "cell_type": "code",
   "execution_count": 72,
   "metadata": {},
   "outputs": [
    {
     "data": {
      "text/plain": [
       "[('best game ever', 348),\n",
       " ('really like game', 272),\n",
       " ('love game much', 238),\n",
       " ('game ever played', 213),\n",
       " ('way many ads', 209),\n",
       " ('keep good work', 201),\n",
       " ('really good game', 186),\n",
       " ('game really fun', 161),\n",
       " ('really love game', 142),\n",
       " ('really fun game', 141),\n",
       " ('like game much', 140),\n",
       " ('one best games', 115),\n",
       " ('really enjoy game', 101),\n",
       " ('absolutely love game', 98),\n",
       " ('fun game play', 90),\n",
       " ('game much fun', 90),\n",
       " ('game many ads', 88),\n",
       " ('game really good', 88),\n",
       " ('way pass time', 86),\n",
       " ('would give stars', 85)]"
      ]
     },
     "execution_count": 72,
     "metadata": {},
     "output_type": "execute_result"
    }
   ],
   "source": [
    "trigramall = n_gramall(dftotalreview.sample(50000), n=3)\n",
    "trigramall[:20]"
   ]
  },
  {
   "cell_type": "code",
   "execution_count": 73,
   "metadata": {
    "scrolled": true
   },
   "outputs": [
    {
     "data": {
      "text/plain": [
       "[('many ads', 1029),\n",
       " ('please fix', 922),\n",
       " ('every time', 599),\n",
       " ('one best', 468),\n",
       " ('give stars', 418),\n",
       " ('love much', 415),\n",
       " ('best ever', 409),\n",
       " ('ever played', 386),\n",
       " ('please make', 373),\n",
       " ('waste time', 372),\n",
       " ('please add', 340),\n",
       " ('much fun', 333),\n",
       " ('long time', 328),\n",
       " ('way many', 319),\n",
       " ('like much', 315),\n",
       " ('love app', 308),\n",
       " ('games like', 303),\n",
       " ('one thing', 303),\n",
       " ('pretty good', 292),\n",
       " ('spend money', 284)]"
      ]
     },
     "execution_count": 73,
     "metadata": {},
     "output_type": "execute_result"
    }
   ],
   "source": [
    "bigram = n_gram(dftotalreview.sample(50000), n=2)\n",
    "bigram[:20]"
   ]
  },
  {
   "cell_type": "code",
   "execution_count": 74,
   "metadata": {},
   "outputs": [
    {
     "data": {
      "image/png": "[encoded data removed]",
      "text/plain": [
       "<Figure size 1296x1008 with 1 Axes>"
      ]
     },
     "metadata": {
      "needs_background": "light"
     },
     "output_type": "display_data"
    }
   ],
   "source": [
    "mostcommonwords20bigram = bigram[:20]\n",
    "\n",
    "yaxis20bigram = [val[1] for val in mostcommonwords20bigram]\n",
    "\n",
    "xaxis20biram = [val[0] for val in mostcommonwords20bigram]\n",
    "\n",
    "plt.figure(figsize=(18, 14))\n",
    "ax = sns.barplot(xaxis20biram, yaxis20bigram)\n",
    "plt.title('Top 20 Most Bigrams in Mobile Game Reviews Overall', fontsize = 25)\n",
    "plt.ylabel('Frequency of word', fontsize = 20)\n",
    "plt.xticks(rotation=45)\n",
    "\n",
    "\n",
    "for p in ax.patches:\n",
    "             ax.annotate(\"%.2f\" % (p.get_height()*100/sum(yaxis20bigram))+'%', (p.get_x() + p.get_width() / 2., p.get_height()),\n",
    "                 ha='center', va='center', fontsize=11, color='black', xytext=(0, 20),\n",
    "                 textcoords='offset points')"
   ]
  },
  {
   "cell_type": "code",
   "execution_count": 75,
   "metadata": {
    "scrolled": true
   },
   "outputs": [
    {
     "data": {
      "text/plain": [
       "[('way many ads', 230),\n",
       " ('keep good work', 221),\n",
       " ('best ever played', 104),\n",
       " ('one best games', 87),\n",
       " ('games ever played', 73),\n",
       " ('give five stars', 71),\n",
       " ('please please please', 70),\n",
       " ('way pass time', 67),\n",
       " ('great time killer', 63),\n",
       " ('keep great work', 60),\n",
       " ('one favorite games', 59),\n",
       " ('please fix problem', 59),\n",
       " ('worth every penny', 56),\n",
       " ('every time try', 52),\n",
       " ('30 second ad', 51),\n",
       " ('every single time', 48),\n",
       " ('give five star', 46),\n",
       " ('ad free version', 42),\n",
       " ('best games ever', 42),\n",
       " ('good graphics good', 41)]"
      ]
     },
     "execution_count": 75,
     "metadata": {},
     "output_type": "execute_result"
    }
   ],
   "source": [
    "trigram = n_gram(dftotalreview.sample(50000), n=3)\n",
    "trigram[:20]"
   ]
  },
  {
   "cell_type": "code",
   "execution_count": 76,
   "metadata": {},
   "outputs": [
    {
     "data": {
      "image/png": "[encoded data removed]",
      "text/plain": [
       "<Figure size 1296x1008 with 1 Axes>"
      ]
     },
     "metadata": {
      "needs_background": "light"
     },
     "output_type": "display_data"
    }
   ],
   "source": [
    "mostcommonwords20trigram = trigram[:20]\n",
    "\n",
    "yaxis20trigram = [val[1] for val in mostcommonwords20trigram]\n",
    "\n",
    "xaxis20triram = [val[0] for val in mostcommonwords20trigram]\n",
    "\n",
    "plt.figure(figsize=(18, 14))\n",
    "ax = sns.barplot(xaxis20triram, yaxis20trigram)\n",
    "plt.title('Top 20 Most Trigrams in Mobile Game Reviews Overall', fontsize = 25)\n",
    "plt.ylabel('Frequency of word', fontsize = 20)\n",
    "plt.xticks(rotation=45)\n",
    "\n",
    "\n",
    "for p in ax.patches:\n",
    "             ax.annotate(\"%.2f\" % (p.get_height()*100/sum(yaxis20trigram))+'%', (p.get_x() + p.get_width() / 2., p.get_height()),\n",
    "                 ha='center', va='center', fontsize=11, color='black', xytext=(0, 20),\n",
    "                 textcoords='offset points')"
   ]
  },
  {
   "cell_type": "markdown",
   "metadata": {},
   "source": [
    "# Bigrams/Trigrams for Ratings"
   ]
  },
  {
   "cell_type": "markdown",
   "metadata": {},
   "source": [
    "### Rating 1"
   ]
  },
  {
   "cell_type": "code",
   "execution_count": 77,
   "metadata": {},
   "outputs": [
    {
     "data": {
      "text/plain": [
       "[('many ads', 2218),\n",
       " ('waste time', 1788),\n",
       " ('every time', 1239),\n",
       " ('please fix', 1233),\n",
       " ('way many', 737),\n",
       " ('one star', 668),\n",
       " ('ads every', 640),\n",
       " ('worst ever', 564),\n",
       " ('spend money', 561),\n",
       " ('watch ad', 559),\n",
       " ('ads ads', 544),\n",
       " ('pay win', 499),\n",
       " ('ad every', 496),\n",
       " ('every single', 483),\n",
       " ('every level', 471),\n",
       " ('real money', 471),\n",
       " ('watch ads', 463),\n",
       " ('money back', 429),\n",
       " ('waste money', 429),\n",
       " ('give stars', 405)]"
      ]
     },
     "execution_count": 77,
     "metadata": {},
     "output_type": "execute_result"
    }
   ],
   "source": [
    "bigram1 = n_gram(rating1['content'].sample(50000), n=2)\n",
    "bigram1[:20]"
   ]
  },
  {
   "cell_type": "code",
   "execution_count": 78,
   "metadata": {
    "scrolled": true
   },
   "outputs": [
    {
     "data": {
      "text/plain": [
       "[('way many ads', 535),\n",
       " ('ads ads ads', 238),\n",
       " ('want money back', 196),\n",
       " ('every single time', 150),\n",
       " ('time watching ads', 150),\n",
       " ('worst ever played', 145),\n",
       " ('dont waste time', 141),\n",
       " ('30 second ad', 140),\n",
       " ('give one star', 125),\n",
       " ('waste time money', 124),\n",
       " ('every time try', 123),\n",
       " ('ad every level', 114),\n",
       " ('ads every level', 111),\n",
       " ('spend time watching', 102),\n",
       " ('many ads every', 98),\n",
       " ('every single level', 93),\n",
       " ('wish could give', 90),\n",
       " ('please fix problem', 89),\n",
       " ('watching ads playing', 85),\n",
       " ('please please please', 83)]"
      ]
     },
     "execution_count": 78,
     "metadata": {},
     "output_type": "execute_result"
    }
   ],
   "source": [
    "trigram1 = n_gram(rating1['content'].sample(50000), n=3)\n",
    "trigram1[:20]"
   ]
  },
  {
   "cell_type": "code",
   "execution_count": 79,
   "metadata": {},
   "outputs": [
    {
     "data": {
      "image/png": "[encoded data removed]",
      "text/plain": [
       "<Figure size 1296x1008 with 1 Axes>"
      ]
     },
     "metadata": {
      "needs_background": "light"
     },
     "output_type": "display_data"
    }
   ],
   "source": [
    "mostcommonwords205 = review5_freqdist.most_common(20)\n",
    "\n",
    "yaxis205 = [val[1] for val in mostcommonwords205]\n",
    "\n",
    "xaxis205 = [val[0] for val in mostcommonwords205]\n",
    "\n",
    "plt.figure(figsize=(18, 14))\n",
    "ax = sns.barplot(xaxis205, yaxis205)\n",
    "plt.title('Top 20 Most Common Words in Mobile Game Reviews for 5 Rating', fontsize = 25)\n",
    "plt.ylabel('Frequency of word', fontsize = 20)\n",
    "\n",
    "\n",
    "for p in ax.patches:\n",
    "             ax.annotate(\"%.2f\" % (p.get_height()*100/sum(yaxis205))+'%', (p.get_x() + p.get_width() / 2., p.get_height()),\n",
    "                 ha='center', va='center', fontsize=11, color='black', xytext=(0, 20),\n",
    "                 textcoords='offset points')"
   ]
  },
  {
   "cell_type": "markdown",
   "metadata": {},
   "source": [
    "## Rating 2"
   ]
  },
  {
   "cell_type": "code",
   "execution_count": 80,
   "metadata": {},
   "outputs": [
    {
     "data": {
      "text/plain": [
       "[('many ads', 2522),\n",
       " ('please fix', 1871),\n",
       " ('every time', 1348),\n",
       " ('way many', 982),\n",
       " ('watch ad', 674),\n",
       " ('give stars', 634),\n",
       " ('ads every', 600),\n",
       " ('spend money', 553),\n",
       " ('pay win', 534),\n",
       " ('every level', 519),\n",
       " ('ad every', 517),\n",
       " ('watch ads', 489),\n",
       " ('real money', 485),\n",
       " ('every single', 478),\n",
       " ('even though', 465),\n",
       " ('waste time', 463),\n",
       " ('watching ads', 421),\n",
       " ('ads ads', 368),\n",
       " ('two stars', 360),\n",
       " ('long time', 354)]"
      ]
     },
     "execution_count": 80,
     "metadata": {},
     "output_type": "execute_result"
    }
   ],
   "source": [
    "bigram2 = n_gram(rating2['content'].sample(50000), n=2)\n",
    "bigram2[:20]"
   ]
  },
  {
   "cell_type": "code",
   "execution_count": 81,
   "metadata": {},
   "outputs": [
    {
     "data": {
      "text/plain": [
       "[('way many ads', 683),\n",
       " ('every single time', 123),\n",
       " ('30 second ad', 122),\n",
       " ('time watching ads', 116),\n",
       " ('every time try', 113),\n",
       " ('spend real money', 108),\n",
       " ('ads every level', 106),\n",
       " ('please fix problem', 101),\n",
       " ('fun way many', 98),\n",
       " ('every single level', 97),\n",
       " ('ads ads ads', 95),\n",
       " ('ad every level', 87),\n",
       " ('since last update', 86),\n",
       " ('please fix issue', 81),\n",
       " ('30 second ads', 79),\n",
       " ('way many adds', 78),\n",
       " ('without spending money', 74),\n",
       " ('ads every single', 72),\n",
       " ('many ads every', 71),\n",
       " ('gave two stars', 70)]"
      ]
     },
     "execution_count": 81,
     "metadata": {},
     "output_type": "execute_result"
    }
   ],
   "source": [
    "trigram2 = n_gram(rating2['content'].sample(50000), n=3)\n",
    "trigram2[:20]"
   ]
  },
  {
   "cell_type": "markdown",
   "metadata": {},
   "source": [
    "## Rating 3"
   ]
  },
  {
   "cell_type": "code",
   "execution_count": 82,
   "metadata": {},
   "outputs": [
    {
     "data": {
      "text/plain": [
       "[('please fix', 2027),\n",
       " ('many ads', 1720),\n",
       " ('every time', 979),\n",
       " ('give stars', 934),\n",
       " ('way many', 590),\n",
       " ('pretty good', 542),\n",
       " ('even though', 412),\n",
       " ('please make', 407),\n",
       " ('spend money', 404),\n",
       " ('real money', 401),\n",
       " ('long time', 394),\n",
       " ('watch ad', 388),\n",
       " ('three stars', 373),\n",
       " ('feel like', 372),\n",
       " ('please add', 362),\n",
       " ('pay win', 352),\n",
       " ('go back', 327),\n",
       " ('one thing', 326),\n",
       " ('ads every', 314),\n",
       " ('many adds', 303)]"
      ]
     },
     "execution_count": 82,
     "metadata": {},
     "output_type": "execute_result"
    }
   ],
   "source": [
    "bigram3 = n_gram(rating3['content'].sample(50000), n=2)\n",
    "bigram3[:20]"
   ]
  },
  {
   "cell_type": "code",
   "execution_count": 83,
   "metadata": {},
   "outputs": [
    {
     "data": {
      "text/plain": [
       "[('way many ads', 358),\n",
       " ('please fix problem', 123),\n",
       " ('give five stars', 97),\n",
       " ('good many ads', 96),\n",
       " ('give three stars', 90),\n",
       " ('takes long time', 86),\n",
       " ('gave three stars', 83),\n",
       " ('every time try', 82),\n",
       " ('every single time', 79),\n",
       " ('please fix bug', 79),\n",
       " ('since last update', 79),\n",
       " ('please fix issue', 70),\n",
       " ('fun many ads', 69),\n",
       " ('way many adds', 63),\n",
       " ('spend real money', 61),\n",
       " ('ads ads ads', 57),\n",
       " ('ads every level', 56),\n",
       " ('many ads every', 56),\n",
       " ('way pass time', 52),\n",
       " ('fun way many', 51)]"
      ]
     },
     "execution_count": 83,
     "metadata": {},
     "output_type": "execute_result"
    }
   ],
   "source": [
    "trigram3 = n_gram(rating3['content'].sample(50000), n=3)\n",
    "trigram3[:20]"
   ]
  },
  {
   "cell_type": "markdown",
   "metadata": {},
   "source": [
    "# Rating 4"
   ]
  },
  {
   "cell_type": "code",
   "execution_count": 84,
   "metadata": {},
   "outputs": [
    {
     "data": {
      "text/plain": [
       "[('please fix', 1288),\n",
       " ('many ads', 1076),\n",
       " ('give stars', 940),\n",
       " ('pretty good', 860),\n",
       " ('please add', 606),\n",
       " ('one thing', 588),\n",
       " ('every time', 535),\n",
       " ('please make', 473),\n",
       " ('wish could', 473),\n",
       " ('gave stars', 421),\n",
       " ('little bit', 391),\n",
       " ('pretty fun', 376),\n",
       " ('four stars', 371),\n",
       " ('one problem', 359),\n",
       " ('good graphics', 351),\n",
       " ('give star', 350),\n",
       " ('overall good', 329),\n",
       " ('pass time', 329),\n",
       " ('feel like', 328),\n",
       " ('five stars', 328)]"
      ]
     },
     "execution_count": 84,
     "metadata": {},
     "output_type": "execute_result"
    }
   ],
   "source": [
    "bigram4 = n_gram(rating4['content'].sample(50000), n=2)\n",
    "bigram4[:20]"
   ]
  },
  {
   "cell_type": "code",
   "execution_count": 85,
   "metadata": {},
   "outputs": [
    {
     "data": {
      "text/plain": [
       "[('keep good work', 175),\n",
       " ('give five stars', 134),\n",
       " ('gave four stars', 116),\n",
       " ('reason gave stars', 111),\n",
       " ('way many ads', 108),\n",
       " ('way pass time', 108),\n",
       " ('great time killer', 89),\n",
       " ('reason give stars', 83),\n",
       " ('one best games', 79),\n",
       " ('give four stars', 73),\n",
       " ('good many ads', 73),\n",
       " ('please fix bug', 72),\n",
       " ('good time killer', 71),\n",
       " ('give five star', 70),\n",
       " ('please fix problem', 70),\n",
       " ('takes long time', 69),\n",
       " ('please please please', 66),\n",
       " ('one thing like', 56),\n",
       " ('fun many ads', 49),\n",
       " ('please fix issue', 43)]"
      ]
     },
     "execution_count": 85,
     "metadata": {},
     "output_type": "execute_result"
    }
   ],
   "source": [
    "trigram4 = n_gram(rating4['content'].sample(50000), n=3)\n",
    "trigram4[:20]"
   ]
  },
  {
   "cell_type": "markdown",
   "metadata": {},
   "source": [
    "## Rating 5"
   ]
  },
  {
   "cell_type": "code",
   "execution_count": 86,
   "metadata": {},
   "outputs": [
    {
     "data": {
      "text/plain": [
       "[('one best', 738),\n",
       " ('best ever', 710),\n",
       " ('love much', 639),\n",
       " ('much fun', 574),\n",
       " ('ever played', 558),\n",
       " ('like much', 486),\n",
       " ('love app', 427),\n",
       " ('games like', 416),\n",
       " ('good work', 393),\n",
       " ('good graphics', 384),\n",
       " ('please make', 372),\n",
       " ('love love', 368),\n",
       " ('keep good', 348),\n",
       " ('please add', 342),\n",
       " ('great app', 340),\n",
       " ('highly recommend', 336),\n",
       " ('great graphics', 328),\n",
       " ('one thing', 324),\n",
       " ('many ads', 312),\n",
       " ('lots fun', 304)]"
      ]
     },
     "execution_count": 86,
     "metadata": {},
     "output_type": "execute_result"
    }
   ],
   "source": [
    "bigram5 = n_gram(rating5['content'].sample(50000), n=2)\n",
    "bigram5[:20]"
   ]
  },
  {
   "cell_type": "code",
   "execution_count": 87,
   "metadata": {
    "scrolled": true
   },
   "outputs": [
    {
     "data": {
      "text/plain": [
       "[('keep good work', 297),\n",
       " ('best ever played', 175),\n",
       " ('one best games', 158),\n",
       " ('love love love', 127),\n",
       " ('way pass time', 114),\n",
       " ('games ever played', 111),\n",
       " ('worth every penny', 105),\n",
       " ('please please please', 88),\n",
       " ('best games ever', 87),\n",
       " ('fun fun fun', 76),\n",
       " ('keep great work', 76),\n",
       " ('great time killer', 74),\n",
       " ('great way pass', 64),\n",
       " ('make games like', 63),\n",
       " ('give five stars', 59),\n",
       " ('one favorite games', 57),\n",
       " ('well worth money', 54),\n",
       " ('love much fun', 48),\n",
       " ('please make games', 47),\n",
       " ('good graphics good', 44)]"
      ]
     },
     "execution_count": 87,
     "metadata": {},
     "output_type": "execute_result"
    }
   ],
   "source": [
    "trigram5 = n_gram(rating5['content'].sample(50000), n=3)\n",
    "trigram5[:20]"
   ]
  },
  {
   "cell_type": "markdown",
   "metadata": {},
   "source": [
    "# Modeling"
   ]
  },
  {
   "cell_type": "markdown",
   "metadata": {},
   "source": [
    "### Downsampling"
   ]
  },
  {
   "cell_type": "code",
   "execution_count": 88,
   "metadata": {
    "scrolled": true
   },
   "outputs": [
    {
     "name": "stdout",
     "output_type": "stream",
     "text": [
      "0:00:01.017967\n",
      "------------\n",
      "74308\n",
      "74308\n",
      "74308\n",
      "74308\n"
     ]
    }
   ],
   "source": [
    "# Downsample due to unbalanced dataset\n",
    "\n",
    "starttime = datetime.now()\n",
    "\n",
    "\n",
    "rating1downsample = resample(rating1,\n",
    "                            replace=False,\n",
    "                            n_samples=len(rating2),\n",
    "                            random_state=72)\n",
    "rating3downsample = resample(rating3,\n",
    "                            replace=False,\n",
    "                            n_samples=len(rating2),\n",
    "                            random_state=72)\n",
    "rating4downsample = resample(rating4,\n",
    "                            replace=False,\n",
    "                            n_samples=len(rating2),\n",
    "                            random_state=72)\n",
    "rating5downsample = resample(rating5,\n",
    "                            replace=False,\n",
    "                            n_samples=len(rating2),\n",
    "                            random_state=72)\n",
    "\n",
    "print(datetime.now() - starttime)\n",
    "print('------------')\n",
    "print(len(rating1downsample))\n",
    "print(len(rating3downsample))\n",
    "print(len(rating4downsample))\n",
    "print(len(rating5downsample))"
   ]
  },
  {
   "cell_type": "code",
   "execution_count": 89,
   "metadata": {},
   "outputs": [
    {
     "name": "stdout",
     "output_type": "stream",
     "text": [
      "0:00:00.180953\n",
      "------------\n",
      "371540\n"
     ]
    }
   ],
   "source": [
    "starttime = datetime.now()\n",
    "\n",
    "dfreviewdown = pd.concat([rating1downsample, rating2, rating3downsample, rating4downsample, rating5downsample])\n",
    "\n",
    "print(datetime.now() - starttime)\n",
    "print('------------')\n",
    "print(len(dfreviewdown))"
   ]
  },
  {
   "cell_type": "code",
   "execution_count": 90,
   "metadata": {},
   "outputs": [
    {
     "data": {
      "text/html": [
       "<div>\n",
       "<style scoped>\n",
       "    .dataframe tbody tr th:only-of-type {\n",
       "        vertical-align: middle;\n",
       "    }\n",
       "\n",
       "    .dataframe tbody tr th {\n",
       "        vertical-align: top;\n",
       "    }\n",
       "\n",
       "    .dataframe thead th {\n",
       "        text-align: right;\n",
       "    }\n",
       "</style>\n",
       "<table border=\"1\" class=\"dataframe\">\n",
       "  <thead>\n",
       "    <tr style=\"text-align: right;\">\n",
       "      <th></th>\n",
       "      <th>content</th>\n",
       "      <th>score</th>\n",
       "      <th>appId</th>\n",
       "      <th>wordlist</th>\n",
       "      <th>wordlistlem</th>\n",
       "    </tr>\n",
       "  </thead>\n",
       "  <tbody>\n",
       "    <tr>\n",
       "      <th>179202</th>\n",
       "      <td>Crapy controls controld dont work because deve...</td>\n",
       "      <td>1</td>\n",
       "      <td>com.highcore.hoopstars</td>\n",
       "      <td>[crapy, controls, controld, dont, work, develo...</td>\n",
       "      <td>[crapy, control, controld, dont, work, develop...</td>\n",
       "    </tr>\n",
       "    <tr>\n",
       "      <th>468048</th>\n",
       "      <td>It's horrible at first when I downloaded this ...</td>\n",
       "      <td>1</td>\n",
       "      <td>com.tutotoons.app.partypopteeniessurprise.free</td>\n",
       "      <td>[horrible, first, downloaded, app, started, ha...</td>\n",
       "      <td>[horrible, first, downloaded, app, started, ha...</td>\n",
       "    </tr>\n",
       "    <tr>\n",
       "      <th>489520</th>\n",
       "      <td>I can't understand this game</td>\n",
       "      <td>1</td>\n",
       "      <td>com.peppapig.sportsday</td>\n",
       "      <td>[understand, game]</td>\n",
       "      <td>[understand, game]</td>\n",
       "    </tr>\n",
       "    <tr>\n",
       "      <th>609033</th>\n",
       "      <td>I've been playing this game for a while and wa...</td>\n",
       "      <td>1</td>\n",
       "      <td>com.battlecreek.offroadoutlaws</td>\n",
       "      <td>[playing, game, also, member, started, became,...</td>\n",
       "      <td>[playing, game, also, member, started, became,...</td>\n",
       "    </tr>\n",
       "    <tr>\n",
       "      <th>967690</th>\n",
       "      <td>Unplayable, first of all, the screen should st...</td>\n",
       "      <td>1</td>\n",
       "      <td>io.gartic.Gartic</td>\n",
       "      <td>[unplayable, first, screen, stay, bigger, size...</td>\n",
       "      <td>[unplayable, first, screen, stay, bigger, size...</td>\n",
       "    </tr>\n",
       "    <tr>\n",
       "      <th>...</th>\n",
       "      <td>...</td>\n",
       "      <td>...</td>\n",
       "      <td>...</td>\n",
       "      <td>...</td>\n",
       "      <td>...</td>\n",
       "    </tr>\n",
       "    <tr>\n",
       "      <th>365575</th>\n",
       "      <td>Great variety on a classic!</td>\n",
       "      <td>5</td>\n",
       "      <td>com.blastworks.slingoarcade</td>\n",
       "      <td>[great, variety, classic]</td>\n",
       "      <td>[great, variety, classic]</td>\n",
       "    </tr>\n",
       "    <tr>\n",
       "      <th>181636</th>\n",
       "      <td>I love this game. Because it is so fun and add...</td>\n",
       "      <td>5</td>\n",
       "      <td>bts.kpop.piano.music.tiles</td>\n",
       "      <td>[love, game, fun, addicting, play, work, play,...</td>\n",
       "      <td>[love, game, fun, addicting, play, work, play,...</td>\n",
       "    </tr>\n",
       "    <tr>\n",
       "      <th>686756</th>\n",
       "      <td>Good but definitely needs more work on it.</td>\n",
       "      <td>5</td>\n",
       "      <td>com.spilgames.OperateNow2</td>\n",
       "      <td>[good, definitely, needs, work]</td>\n",
       "      <td>[good, definitely, need, work]</td>\n",
       "    </tr>\n",
       "    <tr>\n",
       "      <th>739687</th>\n",
       "      <td>kind of disheartened because this feels like a...</td>\n",
       "      <td>5</td>\n",
       "      <td>com.netmarble.pan</td>\n",
       "      <td>[kind, disheartened, feels, like, pay, play, g...</td>\n",
       "      <td>[kind, disheartened, feel, like, pay, play, ga...</td>\n",
       "    </tr>\n",
       "    <tr>\n",
       "      <th>561704</th>\n",
       "      <td>Level 143 was my first level where I was stuck...</td>\n",
       "      <td>5</td>\n",
       "      <td>games.bit.storyngtonhall</td>\n",
       "      <td>[level, 143, first, level, stuck, days, made, ...</td>\n",
       "      <td>[level, 143, first, level, stuck, day, made, e...</td>\n",
       "    </tr>\n",
       "  </tbody>\n",
       "</table>\n",
       "<p>371540 rows × 5 columns</p>\n",
       "</div>"
      ],
      "text/plain": [
       "                                                  content  score  \\\n",
       "179202  Crapy controls controld dont work because deve...      1   \n",
       "468048  It's horrible at first when I downloaded this ...      1   \n",
       "489520                       I can't understand this game      1   \n",
       "609033  I've been playing this game for a while and wa...      1   \n",
       "967690  Unplayable, first of all, the screen should st...      1   \n",
       "...                                                   ...    ...   \n",
       "365575                        Great variety on a classic!      5   \n",
       "181636  I love this game. Because it is so fun and add...      5   \n",
       "686756         Good but definitely needs more work on it.      5   \n",
       "739687  kind of disheartened because this feels like a...      5   \n",
       "561704  Level 143 was my first level where I was stuck...      5   \n",
       "\n",
       "                                                 appId  \\\n",
       "179202                          com.highcore.hoopstars   \n",
       "468048  com.tutotoons.app.partypopteeniessurprise.free   \n",
       "489520                          com.peppapig.sportsday   \n",
       "609033                  com.battlecreek.offroadoutlaws   \n",
       "967690                                io.gartic.Gartic   \n",
       "...                                                ...   \n",
       "365575                     com.blastworks.slingoarcade   \n",
       "181636                      bts.kpop.piano.music.tiles   \n",
       "686756                       com.spilgames.OperateNow2   \n",
       "739687                               com.netmarble.pan   \n",
       "561704                        games.bit.storyngtonhall   \n",
       "\n",
       "                                                 wordlist  \\\n",
       "179202  [crapy, controls, controld, dont, work, develo...   \n",
       "468048  [horrible, first, downloaded, app, started, ha...   \n",
       "489520                                 [understand, game]   \n",
       "609033  [playing, game, also, member, started, became,...   \n",
       "967690  [unplayable, first, screen, stay, bigger, size...   \n",
       "...                                                   ...   \n",
       "365575                          [great, variety, classic]   \n",
       "181636  [love, game, fun, addicting, play, work, play,...   \n",
       "686756                    [good, definitely, needs, work]   \n",
       "739687  [kind, disheartened, feels, like, pay, play, g...   \n",
       "561704  [level, 143, first, level, stuck, days, made, ...   \n",
       "\n",
       "                                              wordlistlem  \n",
       "179202  [crapy, control, controld, dont, work, develop...  \n",
       "468048  [horrible, first, downloaded, app, started, ha...  \n",
       "489520                                 [understand, game]  \n",
       "609033  [playing, game, also, member, started, became,...  \n",
       "967690  [unplayable, first, screen, stay, bigger, size...  \n",
       "...                                                   ...  \n",
       "365575                          [great, variety, classic]  \n",
       "181636  [love, game, fun, addicting, play, work, play,...  \n",
       "686756                     [good, definitely, need, work]  \n",
       "739687  [kind, disheartened, feel, like, pay, play, ga...  \n",
       "561704  [level, 143, first, level, stuck, day, made, e...  \n",
       "\n",
       "[371540 rows x 5 columns]"
      ]
     },
     "execution_count": 90,
     "metadata": {},
     "output_type": "execute_result"
    }
   ],
   "source": [
    "dfreviewdown"
   ]
  },
  {
   "cell_type": "markdown",
   "metadata": {},
   "source": [
    "### Dummy Classifier (Baseline Model)"
   ]
  },
  {
   "cell_type": "code",
   "execution_count": 91,
   "metadata": {
    "scrolled": true
   },
   "outputs": [
    {
     "name": "stdout",
     "output_type": "stream",
     "text": [
      "0:02:42.497895\n",
      "------------\n",
      "179202    [crapy, control, controld, dont, work, develop...\n",
      "468048    [horrible, first, downloaded, app, started, ha...\n",
      "489520                                         [understand]\n",
      "609033    [playing, also, member, started, became, membe...\n",
      "967690    [unplayable, first, screen, stay, bigger, size...\n",
      "                                ...                        \n",
      "365575                            [great, variety, classic]\n",
      "181636             [love, fun, addicting, work, everywhere]\n",
      "686756                       [good, definitely, need, work]\n",
      "739687    [kind, disheartened, feel, like, pay, excited,...\n",
      "561704    [level, 143, first, level, stuck, day, made, e...\n",
      "Name: wordlistlem, Length: 371540, dtype: object\n"
     ]
    }
   ],
   "source": [
    "starttime = datetime.now()\n",
    "\n",
    "dfreviewdown['wordlist'] = dfreviewdown['content'].apply(lambda x: process_reviews(x))\n",
    "dfreviewdown['wordlistlem'] = dfreviewdown['wordlist'].apply(lemmatize_text)\n",
    "\n",
    "print(datetime.now() - starttime)\n",
    "print('------------')\n",
    "print(dfreviewdown['wordlistlem'])"
   ]
  },
  {
   "cell_type": "code",
   "execution_count": 92,
   "metadata": {
    "scrolled": false
   },
   "outputs": [
    {
     "data": {
      "text/plain": [
       "179202    crapy control controld dont work developer cau...\n",
       "468048    horrible first downloaded app started hanging ...\n",
       "489520                                           understand\n",
       "609033    playing also member started became member boug...\n",
       "967690    unplayable first screen stay bigger size keybo...\n",
       "                                ...                        \n",
       "365575                                great variety classic\n",
       "181636                   love fun addicting work everywhere\n",
       "686756                            good definitely need work\n",
       "739687    kind disheartened feel like pay excited main s...\n",
       "561704    level 143 first level stuck day made eventuall...\n",
       "Name: strings, Length: 371540, dtype: object"
      ]
     },
     "execution_count": 92,
     "metadata": {},
     "output_type": "execute_result"
    }
   ],
   "source": [
    "dfreviewdown['strings'] = [' '.join(i) for i in dfreviewdown['wordlistlem']]\n",
    "dfreviewdown['strings']"
   ]
  },
  {
   "cell_type": "markdown",
   "metadata": {},
   "source": [
    "### TF-IDF"
   ]
  },
  {
   "cell_type": "code",
   "execution_count": 93,
   "metadata": {},
   "outputs": [],
   "source": [
    "x = dfreviewdown['strings']\n",
    "y = dfreviewdown['score']\n",
    "\n",
    "X_train, X_test, y_train, y_test = train_test_split(x, y, random_state = 44)"
   ]
  },
  {
   "cell_type": "code",
   "execution_count": 94,
   "metadata": {},
   "outputs": [],
   "source": [
    "vec = TfidfVectorizer()\n",
    "\n",
    "tfidf_X_train = vec.fit_transform(X_train)\n",
    "tfidf_X_test = vec.transform(X_test)"
   ]
  },
  {
   "cell_type": "markdown",
   "metadata": {},
   "source": [
    "### Dummy Classifier (Baseline Model)"
   ]
  },
  {
   "cell_type": "code",
   "execution_count": 95,
   "metadata": {},
   "outputs": [
    {
     "name": "stderr",
     "output_type": "stream",
     "text": [
      "/opt/anaconda3/lib/python3.7/site-packages/sklearn/dummy.py:132: FutureWarning: The default value of strategy will change from stratified to prior in 0.24.\n",
      "  \"stratified to prior in 0.24.\", FutureWarning)\n"
     ]
    }
   ],
   "source": [
    "from sklearn.dummy import DummyClassifier\n",
    "\n",
    "dclf = DummyClassifier()\n",
    "dclf.fit(tfidf_X_train, y_train)\n",
    "y_preds_dummy = dclf.predict(tfidf_X_test)"
   ]
  },
  {
   "cell_type": "code",
   "execution_count": 96,
   "metadata": {
    "scrolled": true
   },
   "outputs": [
    {
     "name": "stdout",
     "output_type": "stream",
     "text": [
      "Test Accuracy Score: 0.1984927598643484\n",
      "Test Precision Score: 0.1984992002788876\n",
      "Test Recall Score: 0.1984927598643484\n",
      "Test F1 Score: 0.1984947288061146\n"
     ]
    }
   ],
   "source": [
    "#Evaluation Metrics for Dummy Classifier\n",
    "\n",
    "print(\"Test Accuracy Score:\", metrics.accuracy_score(y_test, y_preds_dummy))\n",
    "print(\"Test Precision Score:\", metrics.precision_score(y_test, y_preds_dummy, average = \"weighted\"))\n",
    "print(\"Test Recall Score:\", metrics.recall_score(y_test, y_preds_dummy, average = \"weighted\"))\n",
    "print(\"Test F1 Score:\", metrics.f1_score(y_test, y_preds_dummy, average = \"weighted\"))"
   ]
  },
  {
   "cell_type": "markdown",
   "metadata": {},
   "source": [
    "### Naive Bayes (no engineered features)"
   ]
  },
  {
   "cell_type": "code",
   "execution_count": 97,
   "metadata": {
    "scrolled": true
   },
   "outputs": [
    {
     "name": "stdout",
     "output_type": "stream",
     "text": [
      "Test Accuracy Score: 0.4487161543844539\n",
      "Test Precision Score: 0.44741024018376235\n",
      "Test Recall Score: 0.4487161543844539\n",
      "Test F1 Score: 0.44697899233572363\n"
     ]
    }
   ],
   "source": [
    "NB = MultinomialNB(fit_prior = False)\n",
    "\n",
    "NB.fit(tfidf_X_train,y_train)\n",
    "\n",
    "y_pred_nb_test = NB.predict(tfidf_X_test)\n",
    "\n",
    "print(\"Test Accuracy Score:\", metrics.accuracy_score(y_test, y_pred_nb_test))\n",
    "print(\"Test Precision Score:\", metrics.precision_score(y_test, y_pred_nb_test, average = \"weighted\"))\n",
    "print(\"Test Recall Score:\", metrics.recall_score(y_test, y_pred_nb_test, average = \"weighted\"))\n",
    "print(\"Test F1 Score:\", metrics.f1_score(y_test, y_pred_nb_test, average = \"weighted\"))"
   ]
  },
  {
   "cell_type": "markdown",
   "metadata": {},
   "source": [
    "### Decision Tree (no engineered features)"
   ]
  },
  {
   "cell_type": "code",
   "execution_count": 98,
   "metadata": {},
   "outputs": [
    {
     "name": "stdout",
     "output_type": "stream",
     "text": [
      "0:09:15.014836\n",
      "------------\n",
      "Test Accuracy Score: 0.3568175701135813\n",
      "Test Precision Score: 0.3513379770930156\n",
      "Test Recall Score: 0.3568175701135813\n",
      "Test F1 Score: 0.35361581689516136\n"
     ]
    }
   ],
   "source": [
    "# This takes 9 minutes to run\n",
    "\n",
    "starttime = datetime.now()\n",
    "\n",
    "dtc = DecisionTreeClassifier(class_weight='balanced', random_state=22)\n",
    "\n",
    "dtc.fit(tfidf_X_train, y_train)\n",
    "\n",
    "y_pred_dtc_test = dtc.predict(tfidf_X_test)\n",
    "\n",
    "print(datetime.now() - starttime)\n",
    "print('------------')\n",
    "print(\"Test Accuracy Score:\", metrics.accuracy_score(y_test, y_pred_dtc_test))\n",
    "print(\"Test Precision Score:\", metrics.precision_score(y_test, y_pred_dtc_test, average = \"weighted\"))\n",
    "print(\"Test Recall Score:\", metrics.recall_score(y_test, y_pred_dtc_test, average = \"weighted\"))\n",
    "print(\"Test F1 Score:\", metrics.f1_score(y_test, y_pred_dtc_test, average = \"weighted\"))"
   ]
  },
  {
   "cell_type": "markdown",
   "metadata": {},
   "source": [
    "### Random Forest (no engineered features)"
   ]
  },
  {
   "cell_type": "code",
   "execution_count": null,
   "metadata": {},
   "outputs": [],
   "source": [
    "starttime = datetime.now()\n",
    "\n",
    "rfc = RandomForestClassifier(n_estimators = 100, criterion='entropy', random_state = 11, n_jobs=-1)\n",
    "\n",
    "rfc.fit(tfidf_X_train, y_train)\n",
    "\n",
    "y_pred_rfc_test = rfc.predict(tfidf_X_test)\n",
    "\n",
    "print(datetime.now() - starttime)\n",
    "print('------------')\n",
    "print(\"Test Accuracy Score:\", metrics.accuracy_score(y_test, y_pred_rfc_test))\n",
    "print(\"Test Precision Score:\", metrics.precision_score(y_test, y_pred_rfc_test, average = \"weighted\"))\n",
    "print(\"Test Recall Score:\", metrics.recall_score(y_test, y_pred_rfc_test, average = \"weighted\"))\n",
    "print(\"Test F1 Score:\", metrics.f1_score(y_test, y_pred_rfc_test, average = \"weighted\"))"
   ]
  },
  {
   "cell_type": "code",
   "execution_count": null,
   "metadata": {},
   "outputs": [],
   "source": []
  }
 ],
 "metadata": {
  "kernelspec": {
   "display_name": "Python 3",
   "language": "python",
   "name": "python3"
  },
  "language_info": {
   "codemirror_mode": {
    "name": "ipython",
    "version": 3
   },
   "file_extension": ".py",
   "mimetype": "text/x-python",
   "name": "python",
   "nbconvert_exporter": "python",
   "pygments_lexer": "ipython3",
   "version": "3.7.6"
  }
 },
 "nbformat": 4,
 "nbformat_minor": 4
}

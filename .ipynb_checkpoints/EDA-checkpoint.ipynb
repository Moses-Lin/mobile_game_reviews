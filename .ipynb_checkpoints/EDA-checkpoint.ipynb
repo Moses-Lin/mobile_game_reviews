{
 "cells": [
  {
   "cell_type": "markdown",
   "metadata": {},
   "source": [
    "# Importing necessary things"
   ]
  },
  {
   "cell_type": "code",
   "execution_count": 26,
   "metadata": {},
   "outputs": [],
   "source": [
    "import pandas as pd\n",
    "import numpy as np\n",
    "import sklearn\n",
    "from sklearn.model_selection import train_test_split\n",
    "from sklearn.preprocessing import LabelEncoder\n",
    "from sklearn.naive_bayes import MultinomialNB\n",
    "from sklearn.ensemble import RandomForestClassifier\n",
    "from sklearn.metrics import accuracy_score, confusion_matrix, f1_score, recall_score, precision_score\n",
    "\n",
    "from sklearn.feature_extraction.text import TfidfVectorizer, CountVectorizer\n",
    "\n",
    "import string\n",
    "import nltk\n",
    "from nltk.corpus import stopwords\n",
    "from nltk import word_tokenize, RegexpTokenizer, TweetTokenizer\n",
    "from nltk.stem import WordNetLemmatizer\n",
    "from nltk.stem import PorterStemmer\n",
    "from nltk.probability import FreqDist\n",
    "\n",
    "import matplotlib.pyplot as plt\n",
    "import seaborn as sns\n",
    "from matplotlib import cm\n",
    "from imblearn.over_sampling import ADASYN\n",
    "\n",
    "import re\n",
    "from datetime import datetime"
   ]
  },
  {
   "cell_type": "markdown",
   "metadata": {},
   "source": [
    "=================================================================================================================="
   ]
  },
  {
   "cell_type": "markdown",
   "metadata": {},
   "source": [
    "# Unpickling our data and taking a look"
   ]
  },
  {
   "cell_type": "code",
   "execution_count": 2,
   "metadata": {
    "scrolled": true
   },
   "outputs": [
    {
     "data": {
      "text/html": [
       "<div>\n",
       "<style scoped>\n",
       "    .dataframe tbody tr th:only-of-type {\n",
       "        vertical-align: middle;\n",
       "    }\n",
       "\n",
       "    .dataframe tbody tr th {\n",
       "        vertical-align: top;\n",
       "    }\n",
       "\n",
       "    .dataframe thead th {\n",
       "        text-align: right;\n",
       "    }\n",
       "</style>\n",
       "<table border=\"1\" class=\"dataframe\">\n",
       "  <thead>\n",
       "    <tr style=\"text-align: right;\">\n",
       "      <th></th>\n",
       "      <th>title</th>\n",
       "      <th>installs</th>\n",
       "      <th>minInstalls</th>\n",
       "      <th>score</th>\n",
       "      <th>ratings</th>\n",
       "      <th>reviews</th>\n",
       "      <th>histogram</th>\n",
       "      <th>price</th>\n",
       "      <th>free</th>\n",
       "      <th>offersIAP</th>\n",
       "      <th>size</th>\n",
       "      <th>genre</th>\n",
       "      <th>genreId</th>\n",
       "      <th>released</th>\n",
       "      <th>contentRating</th>\n",
       "    </tr>\n",
       "  </thead>\n",
       "  <tbody>\n",
       "    <tr>\n",
       "      <th>0</th>\n",
       "      <td>Among Us</td>\n",
       "      <td>100,000,000+</td>\n",
       "      <td>100000000</td>\n",
       "      <td>4.474048</td>\n",
       "      <td>2132693.0</td>\n",
       "      <td>1101564.0</td>\n",
       "      <td>[154333, 39857, 89011, 206765, 1642727]</td>\n",
       "      <td>0.00</td>\n",
       "      <td>True</td>\n",
       "      <td>True</td>\n",
       "      <td>70M</td>\n",
       "      <td>Action</td>\n",
       "      <td>GAME_ACTION</td>\n",
       "      <td>Jun 15, 2018</td>\n",
       "      <td>Everyone 10+</td>\n",
       "    </tr>\n",
       "    <tr>\n",
       "      <th>1</th>\n",
       "      <td>Scribble Rider</td>\n",
       "      <td>10,000,000+</td>\n",
       "      <td>10000000</td>\n",
       "      <td>3.884314</td>\n",
       "      <td>219513.0</td>\n",
       "      <td>91620.0</td>\n",
       "      <td>[39359, 11409, 15784, 21673, 131288]</td>\n",
       "      <td>0.00</td>\n",
       "      <td>True</td>\n",
       "      <td>True</td>\n",
       "      <td>123M</td>\n",
       "      <td>Action</td>\n",
       "      <td>GAME_ACTION</td>\n",
       "      <td>Jul 23, 2020</td>\n",
       "      <td>Everyone</td>\n",
       "    </tr>\n",
       "    <tr>\n",
       "      <th>2</th>\n",
       "      <td>Call of Duty®: Mobile</td>\n",
       "      <td>100,000,000+</td>\n",
       "      <td>100000000</td>\n",
       "      <td>4.478313</td>\n",
       "      <td>10757089.0</td>\n",
       "      <td>4953322.0</td>\n",
       "      <td>[783831, 203300, 401111, 1064381, 8304466]</td>\n",
       "      <td>0.00</td>\n",
       "      <td>True</td>\n",
       "      <td>True</td>\n",
       "      <td>94M</td>\n",
       "      <td>Action</td>\n",
       "      <td>GAME_ACTION</td>\n",
       "      <td>Sep 30, 2019</td>\n",
       "      <td>Mature 17+</td>\n",
       "    </tr>\n",
       "    <tr>\n",
       "      <th>3</th>\n",
       "      <td>Hitmasters</td>\n",
       "      <td>50,000,000+</td>\n",
       "      <td>50000000</td>\n",
       "      <td>4.090488</td>\n",
       "      <td>280248.0</td>\n",
       "      <td>98967.0</td>\n",
       "      <td>[39272, 10530, 17919, 30372, 182155]</td>\n",
       "      <td>0.00</td>\n",
       "      <td>True</td>\n",
       "      <td>True</td>\n",
       "      <td>85M</td>\n",
       "      <td>Action</td>\n",
       "      <td>GAME_ACTION</td>\n",
       "      <td>Mar 19, 2020</td>\n",
       "      <td>Teen</td>\n",
       "    </tr>\n",
       "    <tr>\n",
       "      <th>4</th>\n",
       "      <td>Draw Defence</td>\n",
       "      <td>500,000+</td>\n",
       "      <td>500000</td>\n",
       "      <td>3.910000</td>\n",
       "      <td>1080.0</td>\n",
       "      <td>425.0</td>\n",
       "      <td>[227, 21, 54, 97, 681]</td>\n",
       "      <td>0.00</td>\n",
       "      <td>True</td>\n",
       "      <td>False</td>\n",
       "      <td>76M</td>\n",
       "      <td>Action</td>\n",
       "      <td>GAME_ACTION</td>\n",
       "      <td>Aug 27, 2020</td>\n",
       "      <td>Everyone</td>\n",
       "    </tr>\n",
       "    <tr>\n",
       "      <th>...</th>\n",
       "      <td>...</td>\n",
       "      <td>...</td>\n",
       "      <td>...</td>\n",
       "      <td>...</td>\n",
       "      <td>...</td>\n",
       "      <td>...</td>\n",
       "      <td>...</td>\n",
       "      <td>...</td>\n",
       "      <td>...</td>\n",
       "      <td>...</td>\n",
       "      <td>...</td>\n",
       "      <td>...</td>\n",
       "      <td>...</td>\n",
       "      <td>...</td>\n",
       "      <td>...</td>\n",
       "    </tr>\n",
       "    <tr>\n",
       "      <th>5130</th>\n",
       "      <td>Dropwords 2</td>\n",
       "      <td>1,000+</td>\n",
       "      <td>1000</td>\n",
       "      <td>4.452381</td>\n",
       "      <td>42.0</td>\n",
       "      <td>17.0</td>\n",
       "      <td>[1, 2, 2, 9, 28]</td>\n",
       "      <td>0.99</td>\n",
       "      <td>False</td>\n",
       "      <td>False</td>\n",
       "      <td>16M</td>\n",
       "      <td>Word</td>\n",
       "      <td>GAME_WORD</td>\n",
       "      <td>Jul 22, 2014</td>\n",
       "      <td>Everyone</td>\n",
       "    </tr>\n",
       "    <tr>\n",
       "      <th>5131</th>\n",
       "      <td>CrossCraze PRO</td>\n",
       "      <td>10,000+</td>\n",
       "      <td>10000</td>\n",
       "      <td>4.676190</td>\n",
       "      <td>1061.0</td>\n",
       "      <td>627.0</td>\n",
       "      <td>[10, 30, 50, 111, 860]</td>\n",
       "      <td>5.49</td>\n",
       "      <td>False</td>\n",
       "      <td>False</td>\n",
       "      <td>21M</td>\n",
       "      <td>Word</td>\n",
       "      <td>GAME_WORD</td>\n",
       "      <td>Mar 22, 2013</td>\n",
       "      <td>Everyone</td>\n",
       "    </tr>\n",
       "    <tr>\n",
       "      <th>5132</th>\n",
       "      <td>Word Breaker Full</td>\n",
       "      <td>10,000+</td>\n",
       "      <td>10000</td>\n",
       "      <td>4.160000</td>\n",
       "      <td>1109.0</td>\n",
       "      <td>588.0</td>\n",
       "      <td>[66, 33, 166, 233, 611]</td>\n",
       "      <td>2.99</td>\n",
       "      <td>False</td>\n",
       "      <td>False</td>\n",
       "      <td>14M</td>\n",
       "      <td>Word</td>\n",
       "      <td>GAME_WORD</td>\n",
       "      <td>Feb 24, 2011</td>\n",
       "      <td>Everyone</td>\n",
       "    </tr>\n",
       "    <tr>\n",
       "      <th>5133</th>\n",
       "      <td>Spelling Challenge PRO</td>\n",
       "      <td>100+</td>\n",
       "      <td>100</td>\n",
       "      <td>0.000000</td>\n",
       "      <td>NaN</td>\n",
       "      <td>0.0</td>\n",
       "      <td>[0, 0, 0, 0, 0]</td>\n",
       "      <td>1.99</td>\n",
       "      <td>False</td>\n",
       "      <td>False</td>\n",
       "      <td>Varies with device</td>\n",
       "      <td>Word</td>\n",
       "      <td>GAME_WORD</td>\n",
       "      <td>Jun 18, 2019</td>\n",
       "      <td>Everyone</td>\n",
       "    </tr>\n",
       "    <tr>\n",
       "      <th>5134</th>\n",
       "      <td>Word Plus</td>\n",
       "      <td>1+</td>\n",
       "      <td>1</td>\n",
       "      <td>0.000000</td>\n",
       "      <td>NaN</td>\n",
       "      <td>0.0</td>\n",
       "      <td>[0, 0, 0, 0, 0]</td>\n",
       "      <td>1.99</td>\n",
       "      <td>False</td>\n",
       "      <td>False</td>\n",
       "      <td>5.2M</td>\n",
       "      <td>Word</td>\n",
       "      <td>GAME_WORD</td>\n",
       "      <td>Jun 23, 2020</td>\n",
       "      <td>Everyone</td>\n",
       "    </tr>\n",
       "  </tbody>\n",
       "</table>\n",
       "<p>5135 rows × 15 columns</p>\n",
       "</div>"
      ],
      "text/plain": [
       "                       title      installs  minInstalls     score     ratings  \\\n",
       "0                   Among Us  100,000,000+    100000000  4.474048   2132693.0   \n",
       "1             Scribble Rider   10,000,000+     10000000  3.884314    219513.0   \n",
       "2      Call of Duty®: Mobile  100,000,000+    100000000  4.478313  10757089.0   \n",
       "3                 Hitmasters   50,000,000+     50000000  4.090488    280248.0   \n",
       "4               Draw Defence      500,000+       500000  3.910000      1080.0   \n",
       "...                      ...           ...          ...       ...         ...   \n",
       "5130             Dropwords 2        1,000+         1000  4.452381        42.0   \n",
       "5131          CrossCraze PRO       10,000+        10000  4.676190      1061.0   \n",
       "5132       Word Breaker Full       10,000+        10000  4.160000      1109.0   \n",
       "5133  Spelling Challenge PRO          100+          100  0.000000         NaN   \n",
       "5134               Word Plus            1+            1  0.000000         NaN   \n",
       "\n",
       "        reviews                                   histogram  price   free  \\\n",
       "0     1101564.0     [154333, 39857, 89011, 206765, 1642727]   0.00   True   \n",
       "1       91620.0        [39359, 11409, 15784, 21673, 131288]   0.00   True   \n",
       "2     4953322.0  [783831, 203300, 401111, 1064381, 8304466]   0.00   True   \n",
       "3       98967.0        [39272, 10530, 17919, 30372, 182155]   0.00   True   \n",
       "4         425.0                      [227, 21, 54, 97, 681]   0.00   True   \n",
       "...         ...                                         ...    ...    ...   \n",
       "5130       17.0                            [1, 2, 2, 9, 28]   0.99  False   \n",
       "5131      627.0                      [10, 30, 50, 111, 860]   5.49  False   \n",
       "5132      588.0                     [66, 33, 166, 233, 611]   2.99  False   \n",
       "5133        0.0                             [0, 0, 0, 0, 0]   1.99  False   \n",
       "5134        0.0                             [0, 0, 0, 0, 0]   1.99  False   \n",
       "\n",
       "      offersIAP                size   genre      genreId      released  \\\n",
       "0          True                 70M  Action  GAME_ACTION  Jun 15, 2018   \n",
       "1          True                123M  Action  GAME_ACTION  Jul 23, 2020   \n",
       "2          True                 94M  Action  GAME_ACTION  Sep 30, 2019   \n",
       "3          True                 85M  Action  GAME_ACTION  Mar 19, 2020   \n",
       "4         False                 76M  Action  GAME_ACTION  Aug 27, 2020   \n",
       "...         ...                 ...     ...          ...           ...   \n",
       "5130      False                 16M    Word    GAME_WORD  Jul 22, 2014   \n",
       "5131      False                 21M    Word    GAME_WORD  Mar 22, 2013   \n",
       "5132      False                 14M    Word    GAME_WORD  Feb 24, 2011   \n",
       "5133      False  Varies with device    Word    GAME_WORD  Jun 18, 2019   \n",
       "5134      False                5.2M    Word    GAME_WORD  Jun 23, 2020   \n",
       "\n",
       "     contentRating  \n",
       "0     Everyone 10+  \n",
       "1         Everyone  \n",
       "2       Mature 17+  \n",
       "3             Teen  \n",
       "4         Everyone  \n",
       "...            ...  \n",
       "5130      Everyone  \n",
       "5131      Everyone  \n",
       "5132      Everyone  \n",
       "5133      Everyone  \n",
       "5134      Everyone  \n",
       "\n",
       "[5135 rows x 15 columns]"
      ]
     },
     "execution_count": 2,
     "metadata": {},
     "output_type": "execute_result"
    }
   ],
   "source": [
    "df = pd.read_pickle('reviewfeatures.pkl')\n",
    "df"
   ]
  },
  {
   "cell_type": "code",
   "execution_count": 3,
   "metadata": {
    "scrolled": true
   },
   "outputs": [
    {
     "data": {
      "text/plain": [
       "Index(['title', 'installs', 'minInstalls', 'score', 'ratings', 'reviews',\n",
       "       'histogram', 'price', 'free', 'offersIAP', 'size', 'genre', 'genreId',\n",
       "       'released', 'contentRating'],\n",
       "      dtype='object')"
      ]
     },
     "execution_count": 3,
     "metadata": {},
     "output_type": "execute_result"
    }
   ],
   "source": [
    "df.columns"
   ]
  },
  {
   "cell_type": "code",
   "execution_count": 4,
   "metadata": {
    "scrolled": true
   },
   "outputs": [
    {
     "data": {
      "text/plain": [
       "title             object\n",
       "installs          object\n",
       "minInstalls        int64\n",
       "score            float64\n",
       "ratings          float64\n",
       "reviews          float64\n",
       "histogram         object\n",
       "price            float64\n",
       "free                bool\n",
       "offersIAP           bool\n",
       "size              object\n",
       "genre             object\n",
       "genreId           object\n",
       "released          object\n",
       "contentRating     object\n",
       "dtype: object"
      ]
     },
     "execution_count": 4,
     "metadata": {},
     "output_type": "execute_result"
    }
   ],
   "source": [
    "df.dtypes"
   ]
  },
  {
   "cell_type": "code",
   "execution_count": 5,
   "metadata": {},
   "outputs": [
    {
     "data": {
      "text/plain": [
       "title             0\n",
       "installs          0\n",
       "minInstalls       0\n",
       "score             5\n",
       "ratings          85\n",
       "reviews           5\n",
       "histogram         0\n",
       "price             0\n",
       "free              0\n",
       "offersIAP         0\n",
       "size              0\n",
       "genre             0\n",
       "genreId           0\n",
       "released         14\n",
       "contentRating     0\n",
       "dtype: int64"
      ]
     },
     "execution_count": 5,
     "metadata": {},
     "output_type": "execute_result"
    }
   ],
   "source": [
    "# Will drop games with no ratings\n",
    "\n",
    "df.isna().sum()"
   ]
  },
  {
   "cell_type": "code",
   "execution_count": 6,
   "metadata": {},
   "outputs": [],
   "source": [
    "# 91 rows were removed.\n",
    "\n",
    "df.dropna(inplace=True)"
   ]
  },
  {
   "cell_type": "code",
   "execution_count": 7,
   "metadata": {},
   "outputs": [
    {
     "data": {
      "text/plain": [
       "1,000,000+        895\n",
       "10,000,000+       858\n",
       "100,000+          664\n",
       "10,000+           664\n",
       "5,000,000+        424\n",
       "500,000+          301\n",
       "50,000+           283\n",
       "1,000+            280\n",
       "5,000+            216\n",
       "50,000,000+       197\n",
       "100,000,000+      132\n",
       "100+               55\n",
       "500+               51\n",
       "500,000,000+        9\n",
       "50+                 6\n",
       "10+                 4\n",
       "1,000,000,000+      2\n",
       "Name: installs, dtype: int64"
      ]
     },
     "execution_count": 7,
     "metadata": {},
     "output_type": "execute_result"
    }
   ],
   "source": [
    "# Can probably drop this column as it's the same as minInstalls but in an object format.\n",
    "\n",
    "df['installs'].value_counts()"
   ]
  },
  {
   "cell_type": "code",
   "execution_count": 8,
   "metadata": {
    "scrolled": true
   },
   "outputs": [
    {
     "data": {
      "text/plain": [
       "1000000       895\n",
       "10000000      858\n",
       "10000         664\n",
       "100000        664\n",
       "5000000       424\n",
       "500000        301\n",
       "50000         283\n",
       "1000          280\n",
       "5000          216\n",
       "50000000      197\n",
       "100000000     132\n",
       "100            55\n",
       "500            51\n",
       "500000000       9\n",
       "50              6\n",
       "10              4\n",
       "1000000000      2\n",
       "Name: minInstalls, dtype: int64"
      ]
     },
     "execution_count": 8,
     "metadata": {},
     "output_type": "execute_result"
    }
   ],
   "source": [
    "# Possibly reduce this columns to fewer categories.\n",
    "\n",
    "df['minInstalls'].value_counts()"
   ]
  },
  {
   "cell_type": "code",
   "execution_count": 9,
   "metadata": {},
   "outputs": [
    {
     "data": {
      "text/plain": [
       "count    5041.000000\n",
       "mean        4.211683\n",
       "std         0.418547\n",
       "min         1.160000\n",
       "25%         4.020566\n",
       "50%         4.274995\n",
       "75%         4.495050\n",
       "max         5.000000\n",
       "Name: score, dtype: float64"
      ]
     },
     "execution_count": 9,
     "metadata": {},
     "output_type": "execute_result"
    }
   ],
   "source": [
    "# We are only looking at the apps listed in the Top Free and Top Paid categories, so it makes sense the mean is high.\n",
    "\n",
    "df['score'].describe()"
   ]
  },
  {
   "cell_type": "code",
   "execution_count": 10,
   "metadata": {},
   "outputs": [
    {
     "data": {
      "text/plain": [
       "count    5.041000e+03\n",
       "mean     2.758921e+05\n",
       "std      1.772676e+06\n",
       "min      5.000000e+00\n",
       "25%      1.150000e+03\n",
       "50%      1.015100e+04\n",
       "75%      7.912600e+04\n",
       "max      6.302431e+07\n",
       "Name: ratings, dtype: float64"
      ]
     },
     "execution_count": 10,
     "metadata": {},
     "output_type": "execute_result"
    }
   ],
   "source": [
    "df['ratings'].describe()"
   ]
  },
  {
   "cell_type": "code",
   "execution_count": 11,
   "metadata": {
    "scrolled": true
   },
   "outputs": [
    {
     "data": {
      "text/plain": [
       "count    5.041000e+03\n",
       "mean     1.084286e+05\n",
       "std      8.181436e+05\n",
       "min      1.000000e+00\n",
       "25%      4.720000e+02\n",
       "50%      4.026000e+03\n",
       "75%      3.150300e+04\n",
       "max      3.826257e+07\n",
       "Name: reviews, dtype: float64"
      ]
     },
     "execution_count": 11,
     "metadata": {},
     "output_type": "execute_result"
    }
   ],
   "source": [
    "df['reviews'].describe()"
   ]
  },
  {
   "cell_type": "code",
   "execution_count": 12,
   "metadata": {
    "scrolled": true
   },
   "outputs": [
    {
     "data": {
      "text/plain": [
       "0.00     3346\n",
       "2.99      325\n",
       "0.99      272\n",
       "4.99      252\n",
       "1.99      239\n",
       "3.99      165\n",
       "6.99       57\n",
       "9.99       45\n",
       "3.49       41\n",
       "1.49       41\n",
       "5.99       37\n",
       "5.49       35\n",
       "2.49       32\n",
       "7.99       28\n",
       "4.49       19\n",
       "8.99       14\n",
       "14.99      11\n",
       "19.99       7\n",
       "6.49        7\n",
       "15.99       7\n",
       "1.00        6\n",
       "13.99       5\n",
       "24.99       4\n",
       "1.96        4\n",
       "7.49        4\n",
       "11.99       4\n",
       "17.99       3\n",
       "12.99       3\n",
       "2.00        2\n",
       "5.00        2\n",
       "29.99       2\n",
       "1.79        2\n",
       "3.75        1\n",
       "3.63        1\n",
       "1.50        1\n",
       "4.29        1\n",
       "20.99       1\n",
       "1.02        1\n",
       "2.69        1\n",
       "3.89        1\n",
       "32.99       1\n",
       "1.95        1\n",
       "5.60        1\n",
       "4.40        1\n",
       "1.20        1\n",
       "2.29        1\n",
       "2.19        1\n",
       "1.39        1\n",
       "18.99       1\n",
       "8.49        1\n",
       "1.19        1\n",
       "1.90        1\n",
       "Name: price, dtype: int64"
      ]
     },
     "execution_count": 12,
     "metadata": {},
     "output_type": "execute_result"
    }
   ],
   "source": [
    "# Will reduce this columns to fewer categories.\n",
    "\n",
    "df['price'].value_counts()"
   ]
  },
  {
   "cell_type": "code",
   "execution_count": 13,
   "metadata": {
    "scrolled": true
   },
   "outputs": [
    {
     "data": {
      "text/plain": [
       "True     3346\n",
       "False    1695\n",
       "Name: free, dtype: int64"
      ]
     },
     "execution_count": 13,
     "metadata": {},
     "output_type": "execute_result"
    }
   ],
   "source": [
    "# A decent number of these games are free games\n",
    "\n",
    "df['free'].value_counts()"
   ]
  },
  {
   "cell_type": "code",
   "execution_count": 14,
   "metadata": {},
   "outputs": [
    {
     "data": {
      "text/plain": [
       "True     3139\n",
       "False    1902\n",
       "Name: offersIAP, dtype: int64"
      ]
     },
     "execution_count": 14,
     "metadata": {},
     "output_type": "execute_result"
    }
   ],
   "source": [
    "# Numbers are similar to whether games are free to play or not.\n",
    "# Differences at a glance suggests a fair number of free games with no IAPs and paid games that still have IAPs\n",
    "\n",
    "df['offersIAP'].value_counts()"
   ]
  },
  {
   "cell_type": "code",
   "execution_count": 15,
   "metadata": {},
   "outputs": [
    {
     "data": {
      "text/plain": [
       "Varies with device    631\n",
       "49M                    68\n",
       "37M                    66\n",
       "25M                    63\n",
       "28M                    61\n",
       "                     ... \n",
       "198M                    1\n",
       "223M                    1\n",
       "158M                    1\n",
       "473M                    1\n",
       "599M                    1\n",
       "Name: size, Length: 269, dtype: int64"
      ]
     },
     "execution_count": 15,
     "metadata": {},
     "output_type": "execute_result"
    }
   ],
   "source": [
    "df['size'].value_counts()"
   ]
  },
  {
   "cell_type": "code",
   "execution_count": 16,
   "metadata": {
    "scrolled": true
   },
   "outputs": [
    {
     "data": {
      "text/plain": [
       "Adventure       394\n",
       "Role Playing    392\n",
       "Simulation      389\n",
       "Strategy        359\n",
       "Puzzle          358\n",
       "Educational     334\n",
       "Action          333\n",
       "Arcade          329\n",
       "Board           292\n",
       "Casual          292\n",
       "Card            248\n",
       "Sports          246\n",
       "Racing          241\n",
       "Word            217\n",
       "Music           208\n",
       "Casino          205\n",
       "Trivia          204\n",
       "Name: genre, dtype: int64"
      ]
     },
     "execution_count": 16,
     "metadata": {},
     "output_type": "execute_result"
    }
   ],
   "source": [
    "# Fair spread of games in each category.\n",
    "\n",
    "df['genre'].value_counts()"
   ]
  },
  {
   "cell_type": "code",
   "execution_count": 17,
   "metadata": {
    "scrolled": true
   },
   "outputs": [
    {
     "data": {
      "text/plain": [
       "GAME_ADVENTURE       394\n",
       "GAME_ROLE_PLAYING    392\n",
       "GAME_SIMULATION      389\n",
       "GAME_STRATEGY        359\n",
       "GAME_PUZZLE          358\n",
       "GAME_EDUCATIONAL     334\n",
       "GAME_ACTION          333\n",
       "GAME_ARCADE          329\n",
       "GAME_BOARD           292\n",
       "GAME_CASUAL          292\n",
       "GAME_CARD            248\n",
       "GAME_SPORTS          246\n",
       "GAME_RACING          241\n",
       "GAME_WORD            217\n",
       "GAME_MUSIC           208\n",
       "GAME_CASINO          205\n",
       "GAME_TRIVIA          204\n",
       "Name: genreId, dtype: int64"
      ]
     },
     "execution_count": 17,
     "metadata": {},
     "output_type": "execute_result"
    }
   ],
   "source": [
    "# Can remove this column as it's the same thing as genre.\n",
    "\n",
    "df['genreId'].value_counts()"
   ]
  },
  {
   "cell_type": "code",
   "execution_count": 18,
   "metadata": {},
   "outputs": [
    {
     "data": {
      "text/plain": [
       "Jul 23, 2020    15\n",
       "Apr 24, 2020    14\n",
       "Aug 19, 2020    13\n",
       "Jul 28, 2020    13\n",
       "Aug 26, 2020    12\n",
       "                ..\n",
       "Jan 21, 2011     1\n",
       "Jan 28, 2019     1\n",
       "Jun 3, 2017      1\n",
       "Oct 5, 2016      1\n",
       "Aug 12, 2013     1\n",
       "Name: released, Length: 2106, dtype: int64"
      ]
     },
     "execution_count": 18,
     "metadata": {},
     "output_type": "execute_result"
    }
   ],
   "source": [
    "# Need to change this to a useable column.\n",
    "\n",
    "df['released'].value_counts()"
   ]
  },
  {
   "cell_type": "code",
   "execution_count": 19,
   "metadata": {
    "scrolled": true
   },
   "outputs": [
    {
     "data": {
      "text/plain": [
       "Everyone           3034\n",
       "Teen               1279\n",
       "Everyone 10+        561\n",
       "Mature 17+          161\n",
       "Adults only 18+       6\n",
       "Name: contentRating, dtype: int64"
      ]
     },
     "execution_count": 19,
     "metadata": {},
     "output_type": "execute_result"
    }
   ],
   "source": [
    "# Most top apps are either for Everyone or Teen. Makes sense to appeal to wider audiences.\n",
    "\n",
    "df['contentRating'].value_counts()"
   ]
  },
  {
   "cell_type": "markdown",
   "metadata": {},
   "source": [
    "=================================================================================================================="
   ]
  },
  {
   "cell_type": "markdown",
   "metadata": {},
   "source": [
    "# Cleaning"
   ]
  },
  {
   "cell_type": "code",
   "execution_count": null,
   "metadata": {},
   "outputs": [],
   "source": []
  },
  {
   "cell_type": "code",
   "execution_count": 20,
   "metadata": {
    "scrolled": true
   },
   "outputs": [
    {
     "data": {
      "text/html": [
       "<div>\n",
       "<style scoped>\n",
       "    .dataframe tbody tr th:only-of-type {\n",
       "        vertical-align: middle;\n",
       "    }\n",
       "\n",
       "    .dataframe tbody tr th {\n",
       "        vertical-align: top;\n",
       "    }\n",
       "\n",
       "    .dataframe thead th {\n",
       "        text-align: right;\n",
       "    }\n",
       "</style>\n",
       "<table border=\"1\" class=\"dataframe\">\n",
       "  <thead>\n",
       "    <tr style=\"text-align: right;\">\n",
       "      <th></th>\n",
       "      <th>title</th>\n",
       "      <th>minInstalls</th>\n",
       "      <th>score</th>\n",
       "      <th>ratings</th>\n",
       "      <th>reviews</th>\n",
       "      <th>histogram</th>\n",
       "      <th>price</th>\n",
       "      <th>free</th>\n",
       "      <th>offersIAP</th>\n",
       "      <th>size</th>\n",
       "      <th>genre</th>\n",
       "      <th>released</th>\n",
       "      <th>contentRating</th>\n",
       "    </tr>\n",
       "  </thead>\n",
       "  <tbody>\n",
       "    <tr>\n",
       "      <th>0</th>\n",
       "      <td>Among Us</td>\n",
       "      <td>100000000</td>\n",
       "      <td>4.474048</td>\n",
       "      <td>2132693.0</td>\n",
       "      <td>1101564.0</td>\n",
       "      <td>[154333, 39857, 89011, 206765, 1642727]</td>\n",
       "      <td>0.00</td>\n",
       "      <td>True</td>\n",
       "      <td>True</td>\n",
       "      <td>70M</td>\n",
       "      <td>Action</td>\n",
       "      <td>Jun 15, 2018</td>\n",
       "      <td>Everyone 10+</td>\n",
       "    </tr>\n",
       "    <tr>\n",
       "      <th>1</th>\n",
       "      <td>Scribble Rider</td>\n",
       "      <td>10000000</td>\n",
       "      <td>3.884314</td>\n",
       "      <td>219513.0</td>\n",
       "      <td>91620.0</td>\n",
       "      <td>[39359, 11409, 15784, 21673, 131288]</td>\n",
       "      <td>0.00</td>\n",
       "      <td>True</td>\n",
       "      <td>True</td>\n",
       "      <td>123M</td>\n",
       "      <td>Action</td>\n",
       "      <td>Jul 23, 2020</td>\n",
       "      <td>Everyone</td>\n",
       "    </tr>\n",
       "    <tr>\n",
       "      <th>2</th>\n",
       "      <td>Call of Duty®: Mobile</td>\n",
       "      <td>100000000</td>\n",
       "      <td>4.478313</td>\n",
       "      <td>10757089.0</td>\n",
       "      <td>4953322.0</td>\n",
       "      <td>[783831, 203300, 401111, 1064381, 8304466]</td>\n",
       "      <td>0.00</td>\n",
       "      <td>True</td>\n",
       "      <td>True</td>\n",
       "      <td>94M</td>\n",
       "      <td>Action</td>\n",
       "      <td>Sep 30, 2019</td>\n",
       "      <td>Mature 17+</td>\n",
       "    </tr>\n",
       "    <tr>\n",
       "      <th>3</th>\n",
       "      <td>Hitmasters</td>\n",
       "      <td>50000000</td>\n",
       "      <td>4.090488</td>\n",
       "      <td>280248.0</td>\n",
       "      <td>98967.0</td>\n",
       "      <td>[39272, 10530, 17919, 30372, 182155]</td>\n",
       "      <td>0.00</td>\n",
       "      <td>True</td>\n",
       "      <td>True</td>\n",
       "      <td>85M</td>\n",
       "      <td>Action</td>\n",
       "      <td>Mar 19, 2020</td>\n",
       "      <td>Teen</td>\n",
       "    </tr>\n",
       "    <tr>\n",
       "      <th>4</th>\n",
       "      <td>Draw Defence</td>\n",
       "      <td>500000</td>\n",
       "      <td>3.910000</td>\n",
       "      <td>1080.0</td>\n",
       "      <td>425.0</td>\n",
       "      <td>[227, 21, 54, 97, 681]</td>\n",
       "      <td>0.00</td>\n",
       "      <td>True</td>\n",
       "      <td>False</td>\n",
       "      <td>76M</td>\n",
       "      <td>Action</td>\n",
       "      <td>Aug 27, 2020</td>\n",
       "      <td>Everyone</td>\n",
       "    </tr>\n",
       "    <tr>\n",
       "      <th>...</th>\n",
       "      <td>...</td>\n",
       "      <td>...</td>\n",
       "      <td>...</td>\n",
       "      <td>...</td>\n",
       "      <td>...</td>\n",
       "      <td>...</td>\n",
       "      <td>...</td>\n",
       "      <td>...</td>\n",
       "      <td>...</td>\n",
       "      <td>...</td>\n",
       "      <td>...</td>\n",
       "      <td>...</td>\n",
       "      <td>...</td>\n",
       "    </tr>\n",
       "    <tr>\n",
       "      <th>5128</th>\n",
       "      <td>Word Crack (Ad free)</td>\n",
       "      <td>50000</td>\n",
       "      <td>4.225993</td>\n",
       "      <td>16368.0</td>\n",
       "      <td>7664.0</td>\n",
       "      <td>[1335, 472, 1040, 3829, 9692]</td>\n",
       "      <td>2.99</td>\n",
       "      <td>False</td>\n",
       "      <td>True</td>\n",
       "      <td>56M</td>\n",
       "      <td>Word</td>\n",
       "      <td>Oct 19, 2011</td>\n",
       "      <td>Everyone</td>\n",
       "    </tr>\n",
       "    <tr>\n",
       "      <th>5129</th>\n",
       "      <td>The Game Gal's Word Generator</td>\n",
       "      <td>1000</td>\n",
       "      <td>4.666666</td>\n",
       "      <td>12.0</td>\n",
       "      <td>6.0</td>\n",
       "      <td>[0, 1, 0, 1, 10]</td>\n",
       "      <td>1.99</td>\n",
       "      <td>False</td>\n",
       "      <td>False</td>\n",
       "      <td>9.4M</td>\n",
       "      <td>Word</td>\n",
       "      <td>Dec 25, 2017</td>\n",
       "      <td>Everyone</td>\n",
       "    </tr>\n",
       "    <tr>\n",
       "      <th>5130</th>\n",
       "      <td>Dropwords 2</td>\n",
       "      <td>1000</td>\n",
       "      <td>4.452381</td>\n",
       "      <td>42.0</td>\n",
       "      <td>17.0</td>\n",
       "      <td>[1, 2, 2, 9, 28]</td>\n",
       "      <td>0.99</td>\n",
       "      <td>False</td>\n",
       "      <td>False</td>\n",
       "      <td>16M</td>\n",
       "      <td>Word</td>\n",
       "      <td>Jul 22, 2014</td>\n",
       "      <td>Everyone</td>\n",
       "    </tr>\n",
       "    <tr>\n",
       "      <th>5131</th>\n",
       "      <td>CrossCraze PRO</td>\n",
       "      <td>10000</td>\n",
       "      <td>4.676190</td>\n",
       "      <td>1061.0</td>\n",
       "      <td>627.0</td>\n",
       "      <td>[10, 30, 50, 111, 860]</td>\n",
       "      <td>5.49</td>\n",
       "      <td>False</td>\n",
       "      <td>False</td>\n",
       "      <td>21M</td>\n",
       "      <td>Word</td>\n",
       "      <td>Mar 22, 2013</td>\n",
       "      <td>Everyone</td>\n",
       "    </tr>\n",
       "    <tr>\n",
       "      <th>5132</th>\n",
       "      <td>Word Breaker Full</td>\n",
       "      <td>10000</td>\n",
       "      <td>4.160000</td>\n",
       "      <td>1109.0</td>\n",
       "      <td>588.0</td>\n",
       "      <td>[66, 33, 166, 233, 611]</td>\n",
       "      <td>2.99</td>\n",
       "      <td>False</td>\n",
       "      <td>False</td>\n",
       "      <td>14M</td>\n",
       "      <td>Word</td>\n",
       "      <td>Feb 24, 2011</td>\n",
       "      <td>Everyone</td>\n",
       "    </tr>\n",
       "  </tbody>\n",
       "</table>\n",
       "<p>5041 rows × 13 columns</p>\n",
       "</div>"
      ],
      "text/plain": [
       "                              title  minInstalls     score     ratings  \\\n",
       "0                          Among Us    100000000  4.474048   2132693.0   \n",
       "1                    Scribble Rider     10000000  3.884314    219513.0   \n",
       "2             Call of Duty®: Mobile    100000000  4.478313  10757089.0   \n",
       "3                        Hitmasters     50000000  4.090488    280248.0   \n",
       "4                      Draw Defence       500000  3.910000      1080.0   \n",
       "...                             ...          ...       ...         ...   \n",
       "5128           Word Crack (Ad free)        50000  4.225993     16368.0   \n",
       "5129  The Game Gal's Word Generator         1000  4.666666        12.0   \n",
       "5130                    Dropwords 2         1000  4.452381        42.0   \n",
       "5131                 CrossCraze PRO        10000  4.676190      1061.0   \n",
       "5132              Word Breaker Full        10000  4.160000      1109.0   \n",
       "\n",
       "        reviews                                   histogram  price   free  \\\n",
       "0     1101564.0     [154333, 39857, 89011, 206765, 1642727]   0.00   True   \n",
       "1       91620.0        [39359, 11409, 15784, 21673, 131288]   0.00   True   \n",
       "2     4953322.0  [783831, 203300, 401111, 1064381, 8304466]   0.00   True   \n",
       "3       98967.0        [39272, 10530, 17919, 30372, 182155]   0.00   True   \n",
       "4         425.0                      [227, 21, 54, 97, 681]   0.00   True   \n",
       "...         ...                                         ...    ...    ...   \n",
       "5128     7664.0               [1335, 472, 1040, 3829, 9692]   2.99  False   \n",
       "5129        6.0                            [0, 1, 0, 1, 10]   1.99  False   \n",
       "5130       17.0                            [1, 2, 2, 9, 28]   0.99  False   \n",
       "5131      627.0                      [10, 30, 50, 111, 860]   5.49  False   \n",
       "5132      588.0                     [66, 33, 166, 233, 611]   2.99  False   \n",
       "\n",
       "      offersIAP  size   genre      released contentRating  \n",
       "0          True   70M  Action  Jun 15, 2018  Everyone 10+  \n",
       "1          True  123M  Action  Jul 23, 2020      Everyone  \n",
       "2          True   94M  Action  Sep 30, 2019    Mature 17+  \n",
       "3          True   85M  Action  Mar 19, 2020          Teen  \n",
       "4         False   76M  Action  Aug 27, 2020      Everyone  \n",
       "...         ...   ...     ...           ...           ...  \n",
       "5128       True   56M    Word  Oct 19, 2011      Everyone  \n",
       "5129      False  9.4M    Word  Dec 25, 2017      Everyone  \n",
       "5130      False   16M    Word  Jul 22, 2014      Everyone  \n",
       "5131      False   21M    Word  Mar 22, 2013      Everyone  \n",
       "5132      False   14M    Word  Feb 24, 2011      Everyone  \n",
       "\n",
       "[5041 rows x 13 columns]"
      ]
     },
     "execution_count": 20,
     "metadata": {},
     "output_type": "execute_result"
    }
   ],
   "source": [
    "df.drop(columns=['installs', 'genreId'], inplace=True)\n",
    "df"
   ]
  },
  {
   "cell_type": "code",
   "execution_count": 25,
   "metadata": {},
   "outputs": [
    {
     "data": {
      "text/html": [
       "<div>\n",
       "<style scoped>\n",
       "    .dataframe tbody tr th:only-of-type {\n",
       "        vertical-align: middle;\n",
       "    }\n",
       "\n",
       "    .dataframe tbody tr th {\n",
       "        vertical-align: top;\n",
       "    }\n",
       "\n",
       "    .dataframe thead th {\n",
       "        text-align: right;\n",
       "    }\n",
       "</style>\n",
       "<table border=\"1\" class=\"dataframe\">\n",
       "  <thead>\n",
       "    <tr style=\"text-align: right;\">\n",
       "      <th></th>\n",
       "      <th>title</th>\n",
       "      <th>minInstalls</th>\n",
       "      <th>score</th>\n",
       "      <th>ratings</th>\n",
       "      <th>reviews</th>\n",
       "      <th>histogram</th>\n",
       "      <th>price</th>\n",
       "      <th>free</th>\n",
       "      <th>offersIAP</th>\n",
       "      <th>size</th>\n",
       "      <th>genre</th>\n",
       "      <th>contentRating</th>\n",
       "      <th>releasedate</th>\n",
       "    </tr>\n",
       "  </thead>\n",
       "  <tbody>\n",
       "    <tr>\n",
       "      <th>0</th>\n",
       "      <td>Among Us</td>\n",
       "      <td>100000000</td>\n",
       "      <td>4.474048</td>\n",
       "      <td>2132693.0</td>\n",
       "      <td>1101564.0</td>\n",
       "      <td>[154333, 39857, 89011, 206765, 1642727]</td>\n",
       "      <td>0.00</td>\n",
       "      <td>True</td>\n",
       "      <td>True</td>\n",
       "      <td>70M</td>\n",
       "      <td>Action</td>\n",
       "      <td>Everyone 10+</td>\n",
       "      <td>2018-06-15</td>\n",
       "    </tr>\n",
       "    <tr>\n",
       "      <th>1</th>\n",
       "      <td>Scribble Rider</td>\n",
       "      <td>10000000</td>\n",
       "      <td>3.884314</td>\n",
       "      <td>219513.0</td>\n",
       "      <td>91620.0</td>\n",
       "      <td>[39359, 11409, 15784, 21673, 131288]</td>\n",
       "      <td>0.00</td>\n",
       "      <td>True</td>\n",
       "      <td>True</td>\n",
       "      <td>123M</td>\n",
       "      <td>Action</td>\n",
       "      <td>Everyone</td>\n",
       "      <td>2020-07-23</td>\n",
       "    </tr>\n",
       "    <tr>\n",
       "      <th>2</th>\n",
       "      <td>Call of Duty®: Mobile</td>\n",
       "      <td>100000000</td>\n",
       "      <td>4.478313</td>\n",
       "      <td>10757089.0</td>\n",
       "      <td>4953322.0</td>\n",
       "      <td>[783831, 203300, 401111, 1064381, 8304466]</td>\n",
       "      <td>0.00</td>\n",
       "      <td>True</td>\n",
       "      <td>True</td>\n",
       "      <td>94M</td>\n",
       "      <td>Action</td>\n",
       "      <td>Mature 17+</td>\n",
       "      <td>2019-09-30</td>\n",
       "    </tr>\n",
       "    <tr>\n",
       "      <th>3</th>\n",
       "      <td>Hitmasters</td>\n",
       "      <td>50000000</td>\n",
       "      <td>4.090488</td>\n",
       "      <td>280248.0</td>\n",
       "      <td>98967.0</td>\n",
       "      <td>[39272, 10530, 17919, 30372, 182155]</td>\n",
       "      <td>0.00</td>\n",
       "      <td>True</td>\n",
       "      <td>True</td>\n",
       "      <td>85M</td>\n",
       "      <td>Action</td>\n",
       "      <td>Teen</td>\n",
       "      <td>2020-03-19</td>\n",
       "    </tr>\n",
       "    <tr>\n",
       "      <th>4</th>\n",
       "      <td>Draw Defence</td>\n",
       "      <td>500000</td>\n",
       "      <td>3.910000</td>\n",
       "      <td>1080.0</td>\n",
       "      <td>425.0</td>\n",
       "      <td>[227, 21, 54, 97, 681]</td>\n",
       "      <td>0.00</td>\n",
       "      <td>True</td>\n",
       "      <td>False</td>\n",
       "      <td>76M</td>\n",
       "      <td>Action</td>\n",
       "      <td>Everyone</td>\n",
       "      <td>2020-08-27</td>\n",
       "    </tr>\n",
       "    <tr>\n",
       "      <th>...</th>\n",
       "      <td>...</td>\n",
       "      <td>...</td>\n",
       "      <td>...</td>\n",
       "      <td>...</td>\n",
       "      <td>...</td>\n",
       "      <td>...</td>\n",
       "      <td>...</td>\n",
       "      <td>...</td>\n",
       "      <td>...</td>\n",
       "      <td>...</td>\n",
       "      <td>...</td>\n",
       "      <td>...</td>\n",
       "      <td>...</td>\n",
       "    </tr>\n",
       "    <tr>\n",
       "      <th>5128</th>\n",
       "      <td>Word Crack (Ad free)</td>\n",
       "      <td>50000</td>\n",
       "      <td>4.225993</td>\n",
       "      <td>16368.0</td>\n",
       "      <td>7664.0</td>\n",
       "      <td>[1335, 472, 1040, 3829, 9692]</td>\n",
       "      <td>2.99</td>\n",
       "      <td>False</td>\n",
       "      <td>True</td>\n",
       "      <td>56M</td>\n",
       "      <td>Word</td>\n",
       "      <td>Everyone</td>\n",
       "      <td>2011-10-19</td>\n",
       "    </tr>\n",
       "    <tr>\n",
       "      <th>5129</th>\n",
       "      <td>The Game Gal's Word Generator</td>\n",
       "      <td>1000</td>\n",
       "      <td>4.666666</td>\n",
       "      <td>12.0</td>\n",
       "      <td>6.0</td>\n",
       "      <td>[0, 1, 0, 1, 10]</td>\n",
       "      <td>1.99</td>\n",
       "      <td>False</td>\n",
       "      <td>False</td>\n",
       "      <td>9.4M</td>\n",
       "      <td>Word</td>\n",
       "      <td>Everyone</td>\n",
       "      <td>2017-12-25</td>\n",
       "    </tr>\n",
       "    <tr>\n",
       "      <th>5130</th>\n",
       "      <td>Dropwords 2</td>\n",
       "      <td>1000</td>\n",
       "      <td>4.452381</td>\n",
       "      <td>42.0</td>\n",
       "      <td>17.0</td>\n",
       "      <td>[1, 2, 2, 9, 28]</td>\n",
       "      <td>0.99</td>\n",
       "      <td>False</td>\n",
       "      <td>False</td>\n",
       "      <td>16M</td>\n",
       "      <td>Word</td>\n",
       "      <td>Everyone</td>\n",
       "      <td>2014-07-22</td>\n",
       "    </tr>\n",
       "    <tr>\n",
       "      <th>5131</th>\n",
       "      <td>CrossCraze PRO</td>\n",
       "      <td>10000</td>\n",
       "      <td>4.676190</td>\n",
       "      <td>1061.0</td>\n",
       "      <td>627.0</td>\n",
       "      <td>[10, 30, 50, 111, 860]</td>\n",
       "      <td>5.49</td>\n",
       "      <td>False</td>\n",
       "      <td>False</td>\n",
       "      <td>21M</td>\n",
       "      <td>Word</td>\n",
       "      <td>Everyone</td>\n",
       "      <td>2013-03-22</td>\n",
       "    </tr>\n",
       "    <tr>\n",
       "      <th>5132</th>\n",
       "      <td>Word Breaker Full</td>\n",
       "      <td>10000</td>\n",
       "      <td>4.160000</td>\n",
       "      <td>1109.0</td>\n",
       "      <td>588.0</td>\n",
       "      <td>[66, 33, 166, 233, 611]</td>\n",
       "      <td>2.99</td>\n",
       "      <td>False</td>\n",
       "      <td>False</td>\n",
       "      <td>14M</td>\n",
       "      <td>Word</td>\n",
       "      <td>Everyone</td>\n",
       "      <td>2011-02-24</td>\n",
       "    </tr>\n",
       "  </tbody>\n",
       "</table>\n",
       "<p>5041 rows × 13 columns</p>\n",
       "</div>"
      ],
      "text/plain": [
       "                              title  minInstalls     score     ratings  \\\n",
       "0                          Among Us    100000000  4.474048   2132693.0   \n",
       "1                    Scribble Rider     10000000  3.884314    219513.0   \n",
       "2             Call of Duty®: Mobile    100000000  4.478313  10757089.0   \n",
       "3                        Hitmasters     50000000  4.090488    280248.0   \n",
       "4                      Draw Defence       500000  3.910000      1080.0   \n",
       "...                             ...          ...       ...         ...   \n",
       "5128           Word Crack (Ad free)        50000  4.225993     16368.0   \n",
       "5129  The Game Gal's Word Generator         1000  4.666666        12.0   \n",
       "5130                    Dropwords 2         1000  4.452381        42.0   \n",
       "5131                 CrossCraze PRO        10000  4.676190      1061.0   \n",
       "5132              Word Breaker Full        10000  4.160000      1109.0   \n",
       "\n",
       "        reviews                                   histogram  price   free  \\\n",
       "0     1101564.0     [154333, 39857, 89011, 206765, 1642727]   0.00   True   \n",
       "1       91620.0        [39359, 11409, 15784, 21673, 131288]   0.00   True   \n",
       "2     4953322.0  [783831, 203300, 401111, 1064381, 8304466]   0.00   True   \n",
       "3       98967.0        [39272, 10530, 17919, 30372, 182155]   0.00   True   \n",
       "4         425.0                      [227, 21, 54, 97, 681]   0.00   True   \n",
       "...         ...                                         ...    ...    ...   \n",
       "5128     7664.0               [1335, 472, 1040, 3829, 9692]   2.99  False   \n",
       "5129        6.0                            [0, 1, 0, 1, 10]   1.99  False   \n",
       "5130       17.0                            [1, 2, 2, 9, 28]   0.99  False   \n",
       "5131      627.0                      [10, 30, 50, 111, 860]   5.49  False   \n",
       "5132      588.0                     [66, 33, 166, 233, 611]   2.99  False   \n",
       "\n",
       "      offersIAP  size   genre contentRating releasedate  \n",
       "0          True   70M  Action  Everyone 10+  2018-06-15  \n",
       "1          True  123M  Action      Everyone  2020-07-23  \n",
       "2          True   94M  Action    Mature 17+  2019-09-30  \n",
       "3          True   85M  Action          Teen  2020-03-19  \n",
       "4         False   76M  Action      Everyone  2020-08-27  \n",
       "...         ...   ...     ...           ...         ...  \n",
       "5128       True   56M    Word      Everyone  2011-10-19  \n",
       "5129      False  9.4M    Word      Everyone  2017-12-25  \n",
       "5130      False   16M    Word      Everyone  2014-07-22  \n",
       "5131      False   21M    Word      Everyone  2013-03-22  \n",
       "5132      False   14M    Word      Everyone  2011-02-24  \n",
       "\n",
       "[5041 rows x 13 columns]"
      ]
     },
     "execution_count": 25,
     "metadata": {},
     "output_type": "execute_result"
    }
   ],
   "source": [
    "df['releasedate'] = df['released'].apply(pd.to_datetime)\n",
    "df.drop(columns=['released'], inplace=True)\n",
    "df"
   ]
  },
  {
   "cell_type": "markdown",
   "metadata": {},
   "source": [
    "=================================================================================================================="
   ]
  },
  {
   "cell_type": "markdown",
   "metadata": {},
   "source": [
    "# Feature Engineering"
   ]
  },
  {
   "cell_type": "markdown",
   "metadata": {},
   "source": [
    "=================================================================================================================="
   ]
  },
  {
   "cell_type": "markdown",
   "metadata": {},
   "source": [
    "# NLP"
   ]
  },
  {
   "cell_type": "code",
   "execution_count": 28,
   "metadata": {},
   "outputs": [],
   "source": [
    "import bz2\n",
    "\n",
    "def decompress_pickle(file):\n",
    "    data = bz2.BZ2File(file, 'rb')\n",
    "    data = pickle.load(data)\n",
    "    return data"
   ]
  },
  {
   "cell_type": "code",
   "execution_count": 31,
   "metadata": {},
   "outputs": [
    {
     "data": {
      "text/plain": [
       "1911805"
      ]
     },
     "execution_count": 31,
     "metadata": {},
     "output_type": "execute_result"
    }
   ],
   "source": [
    "bigreviewlist = decompress_pickle('compressedbiglistreview.pbz2')\n",
    "len(bigreviewlist)"
   ]
  },
  {
   "cell_type": "code",
   "execution_count": 30,
   "metadata": {},
   "outputs": [
    {
     "data": {
      "text/html": [
       "<div>\n",
       "<style scoped>\n",
       "    .dataframe tbody tr th:only-of-type {\n",
       "        vertical-align: middle;\n",
       "    }\n",
       "\n",
       "    .dataframe tbody tr th {\n",
       "        vertical-align: top;\n",
       "    }\n",
       "\n",
       "    .dataframe thead th {\n",
       "        text-align: right;\n",
       "    }\n",
       "</style>\n",
       "<table border=\"1\" class=\"dataframe\">\n",
       "  <thead>\n",
       "    <tr style=\"text-align: right;\">\n",
       "      <th></th>\n",
       "      <th>content</th>\n",
       "      <th>score</th>\n",
       "    </tr>\n",
       "  </thead>\n",
       "  <tbody>\n",
       "    <tr>\n",
       "      <th>0</th>\n",
       "      <td>It is an amazing and unique game, really liked...</td>\n",
       "      <td>4</td>\n",
       "    </tr>\n",
       "    <tr>\n",
       "      <th>1</th>\n",
       "      <td>I really like this game! I would love to see f...</td>\n",
       "      <td>4</td>\n",
       "    </tr>\n",
       "    <tr>\n",
       "      <th>2</th>\n",
       "      <td>I love the mystery and intrigue that Among Us ...</td>\n",
       "      <td>5</td>\n",
       "    </tr>\n",
       "    <tr>\n",
       "      <th>3</th>\n",
       "      <td>This game is great, but the more I play, the w...</td>\n",
       "      <td>3</td>\n",
       "    </tr>\n",
       "    <tr>\n",
       "      <th>4</th>\n",
       "      <td>The game is pretty decent, and i enjoy it most...</td>\n",
       "      <td>4</td>\n",
       "    </tr>\n",
       "    <tr>\n",
       "      <th>...</th>\n",
       "      <td>...</td>\n",
       "      <td>...</td>\n",
       "    </tr>\n",
       "    <tr>\n",
       "      <th>1911800</th>\n",
       "      <td>awesome</td>\n",
       "      <td>5</td>\n",
       "    </tr>\n",
       "    <tr>\n",
       "      <th>1911801</th>\n",
       "      <td>Pretty nice...</td>\n",
       "      <td>4</td>\n",
       "    </tr>\n",
       "    <tr>\n",
       "      <th>1911802</th>\n",
       "      <td>This app looks great. It's easy to use but wha...</td>\n",
       "      <td>1</td>\n",
       "    </tr>\n",
       "    <tr>\n",
       "      <th>1911803</th>\n",
       "      <td>Spelling has always been my forte, but this ga...</td>\n",
       "      <td>5</td>\n",
       "    </tr>\n",
       "    <tr>\n",
       "      <th>1911804</th>\n",
       "      <td>One of my favorites. Keeps me young in thought.</td>\n",
       "      <td>5</td>\n",
       "    </tr>\n",
       "  </tbody>\n",
       "</table>\n",
       "<p>1911805 rows × 2 columns</p>\n",
       "</div>"
      ],
      "text/plain": [
       "                                                   content  score\n",
       "0        It is an amazing and unique game, really liked...      4\n",
       "1        I really like this game! I would love to see f...      4\n",
       "2        I love the mystery and intrigue that Among Us ...      5\n",
       "3        This game is great, but the more I play, the w...      3\n",
       "4        The game is pretty decent, and i enjoy it most...      4\n",
       "...                                                    ...    ...\n",
       "1911800                                            awesome      5\n",
       "1911801                                     Pretty nice...      4\n",
       "1911802  This app looks great. It's easy to use but wha...      1\n",
       "1911803  Spelling has always been my forte, but this ga...      5\n",
       "1911804    One of my favorites. Keeps me young in thought.      5\n",
       "\n",
       "[1911805 rows x 2 columns]"
      ]
     },
     "execution_count": 30,
     "metadata": {},
     "output_type": "execute_result"
    }
   ],
   "source": [
    "dfreview = pd.DataFrame(bigreviewlist)\n",
    "dfreview"
   ]
  },
  {
   "cell_type": "code",
   "execution_count": 33,
   "metadata": {},
   "outputs": [
    {
     "data": {
      "text/plain": [
       "content    463\n",
       "score        0\n",
       "dtype: int64"
      ]
     },
     "execution_count": 33,
     "metadata": {},
     "output_type": "execute_result"
    }
   ],
   "source": [
    "dfreview.isna().sum()"
   ]
  },
  {
   "cell_type": "code",
   "execution_count": 34,
   "metadata": {
    "scrolled": true
   },
   "outputs": [
    {
     "data": {
      "text/html": [
       "<div>\n",
       "<style scoped>\n",
       "    .dataframe tbody tr th:only-of-type {\n",
       "        vertical-align: middle;\n",
       "    }\n",
       "\n",
       "    .dataframe tbody tr th {\n",
       "        vertical-align: top;\n",
       "    }\n",
       "\n",
       "    .dataframe thead th {\n",
       "        text-align: right;\n",
       "    }\n",
       "</style>\n",
       "<table border=\"1\" class=\"dataframe\">\n",
       "  <thead>\n",
       "    <tr style=\"text-align: right;\">\n",
       "      <th></th>\n",
       "      <th>content</th>\n",
       "      <th>score</th>\n",
       "    </tr>\n",
       "  </thead>\n",
       "  <tbody>\n",
       "    <tr>\n",
       "      <th>0</th>\n",
       "      <td>It is an amazing and unique game, really liked...</td>\n",
       "      <td>4</td>\n",
       "    </tr>\n",
       "    <tr>\n",
       "      <th>1</th>\n",
       "      <td>I really like this game! I would love to see f...</td>\n",
       "      <td>4</td>\n",
       "    </tr>\n",
       "    <tr>\n",
       "      <th>2</th>\n",
       "      <td>I love the mystery and intrigue that Among Us ...</td>\n",
       "      <td>5</td>\n",
       "    </tr>\n",
       "    <tr>\n",
       "      <th>3</th>\n",
       "      <td>This game is great, but the more I play, the w...</td>\n",
       "      <td>3</td>\n",
       "    </tr>\n",
       "    <tr>\n",
       "      <th>4</th>\n",
       "      <td>The game is pretty decent, and i enjoy it most...</td>\n",
       "      <td>4</td>\n",
       "    </tr>\n",
       "    <tr>\n",
       "      <th>...</th>\n",
       "      <td>...</td>\n",
       "      <td>...</td>\n",
       "    </tr>\n",
       "    <tr>\n",
       "      <th>1911800</th>\n",
       "      <td>awesome</td>\n",
       "      <td>5</td>\n",
       "    </tr>\n",
       "    <tr>\n",
       "      <th>1911801</th>\n",
       "      <td>Pretty nice...</td>\n",
       "      <td>4</td>\n",
       "    </tr>\n",
       "    <tr>\n",
       "      <th>1911802</th>\n",
       "      <td>This app looks great. It's easy to use but wha...</td>\n",
       "      <td>1</td>\n",
       "    </tr>\n",
       "    <tr>\n",
       "      <th>1911803</th>\n",
       "      <td>Spelling has always been my forte, but this ga...</td>\n",
       "      <td>5</td>\n",
       "    </tr>\n",
       "    <tr>\n",
       "      <th>1911804</th>\n",
       "      <td>One of my favorites. Keeps me young in thought.</td>\n",
       "      <td>5</td>\n",
       "    </tr>\n",
       "  </tbody>\n",
       "</table>\n",
       "<p>1911342 rows × 2 columns</p>\n",
       "</div>"
      ],
      "text/plain": [
       "                                                   content  score\n",
       "0        It is an amazing and unique game, really liked...      4\n",
       "1        I really like this game! I would love to see f...      4\n",
       "2        I love the mystery and intrigue that Among Us ...      5\n",
       "3        This game is great, but the more I play, the w...      3\n",
       "4        The game is pretty decent, and i enjoy it most...      4\n",
       "...                                                    ...    ...\n",
       "1911800                                            awesome      5\n",
       "1911801                                     Pretty nice...      4\n",
       "1911802  This app looks great. It's easy to use but wha...      1\n",
       "1911803  Spelling has always been my forte, but this ga...      5\n",
       "1911804    One of my favorites. Keeps me young in thought.      5\n",
       "\n",
       "[1911342 rows x 2 columns]"
      ]
     },
     "execution_count": 34,
     "metadata": {},
     "output_type": "execute_result"
    }
   ],
   "source": [
    "dfreview.dropna(inplace=True)\n",
    "dfreview"
   ]
  },
  {
   "cell_type": "code",
   "execution_count": 47,
   "metadata": {},
   "outputs": [
    {
     "data": {
      "text/plain": [
       "5    983456\n",
       "1    337216\n",
       "4    282761\n",
       "3    180536\n",
       "2    127332\n",
       "0        41\n",
       "Name: score, dtype: int64"
      ]
     },
     "execution_count": 47,
     "metadata": {},
     "output_type": "execute_result"
    }
   ],
   "source": [
    "dfreview['score'].value_counts()"
   ]
  },
  {
   "cell_type": "code",
   "execution_count": 48,
   "metadata": {},
   "outputs": [],
   "source": [
    "dfreview = dfreview[dfreview['score'] != 0]"
   ]
  },
  {
   "cell_type": "code",
   "execution_count": 90,
   "metadata": {
    "scrolled": true
   },
   "outputs": [],
   "source": [
    "count1 = len(dfreview[dfreview['score'] == 1])\n",
    "count2 = len(dfreview[dfreview['score'] == 2])\n",
    "count3 = len(dfreview[dfreview['score'] == 3])\n",
    "count4 = len(dfreview[dfreview['score'] == 4])\n",
    "count5 = len(dfreview[dfreview['score'] == 5])\n",
    "\n",
    "total = count1 + count2 + count3 + count4 + count5"
   ]
  },
  {
   "cell_type": "code",
   "execution_count": 109,
   "metadata": {},
   "outputs": [
    {
     "data": {
      "image/png": "[encoded data removed]",
      "text/plain": [
       "<Figure size 720x720 with 1 Axes>"
      ]
     },
     "metadata": {
      "needs_background": "light"
     },
     "output_type": "display_data"
    }
   ],
   "source": [
    "plt.figure(figsize=(10,10))\n",
    "\n",
    "xaxis = ['1', '2', '3', '4', '5']\n",
    "yaxis = [count1, count2, count3, count4, count5]\n",
    "ax = sns.barplot(xaxis, yaxis)\n",
    "\n",
    "plt.title('% Rating for Top Free and Paid Mobile Games')\n",
    "plt.ylabel('Count', fontsize = 20)\n",
    "plt.xlabel('Rating', fontsize = 20)\n",
    "\n",
    "\n",
    "for p in ax.patches:\n",
    "             ax.annotate(\"%.2f\" % (p.get_height()*100/total)+'%', (p.get_x() + p.get_width() / 2., p.get_height()),\n",
    "                 ha='center', va='center', fontsize=11, color='black', xytext=(0, 20),\n",
    "                 textcoords='offset points')"
   ]
  },
  {
   "cell_type": "code",
   "execution_count": 50,
   "metadata": {},
   "outputs": [],
   "source": [
    "# Separating reviews into their scores.\n",
    "\n",
    "rating1 = dfreview.loc[dfreview['score'] == 1]\n",
    "rating2 = dfreview.loc[dfreview['score'] == 2]\n",
    "rating3 = dfreview.loc[dfreview['score'] == 3]\n",
    "rating4 = dfreview.loc[dfreview['score'] == 4]\n",
    "rating5 = dfreview.loc[dfreview['score'] == 5]"
   ]
  },
  {
   "cell_type": "code",
   "execution_count": 110,
   "metadata": {
    "scrolled": false
   },
   "outputs": [
    {
     "data": {
      "text/html": [
       "<div>\n",
       "<style scoped>\n",
       "    .dataframe tbody tr th:only-of-type {\n",
       "        vertical-align: middle;\n",
       "    }\n",
       "\n",
       "    .dataframe tbody tr th {\n",
       "        vertical-align: top;\n",
       "    }\n",
       "\n",
       "    .dataframe thead th {\n",
       "        text-align: right;\n",
       "    }\n",
       "</style>\n",
       "<table border=\"1\" class=\"dataframe\">\n",
       "  <thead>\n",
       "    <tr style=\"text-align: right;\">\n",
       "      <th></th>\n",
       "      <th>content</th>\n",
       "      <th>score</th>\n",
       "    </tr>\n",
       "  </thead>\n",
       "  <tbody>\n",
       "    <tr>\n",
       "      <th>140</th>\n",
       "      <td>Reliable packet 1 (size=14) was not ack'd afte...</td>\n",
       "      <td>1</td>\n",
       "    </tr>\n",
       "    <tr>\n",
       "      <th>157</th>\n",
       "      <td>I was having great fun playing this game, but ...</td>\n",
       "      <td>1</td>\n",
       "    </tr>\n",
       "  </tbody>\n",
       "</table>\n",
       "</div>"
      ],
      "text/plain": [
       "                                               content  score\n",
       "140  Reliable packet 1 (size=14) was not ack'd afte...      1\n",
       "157  I was having great fun playing this game, but ...      1"
      ]
     },
     "execution_count": 110,
     "metadata": {},
     "output_type": "execute_result"
    }
   ],
   "source": [
    "rating1.head(2)"
   ]
  },
  {
   "cell_type": "code",
   "execution_count": 111,
   "metadata": {},
   "outputs": [
    {
     "data": {
      "text/html": [
       "<div>\n",
       "<style scoped>\n",
       "    .dataframe tbody tr th:only-of-type {\n",
       "        vertical-align: middle;\n",
       "    }\n",
       "\n",
       "    .dataframe tbody tr th {\n",
       "        vertical-align: top;\n",
       "    }\n",
       "\n",
       "    .dataframe thead th {\n",
       "        text-align: right;\n",
       "    }\n",
       "</style>\n",
       "<table border=\"1\" class=\"dataframe\">\n",
       "  <thead>\n",
       "    <tr style=\"text-align: right;\">\n",
       "      <th></th>\n",
       "      <th>content</th>\n",
       "      <th>score</th>\n",
       "    </tr>\n",
       "  </thead>\n",
       "  <tbody>\n",
       "    <tr>\n",
       "      <th>16</th>\n",
       "      <td>Thia should have been fun if bugs will be fixe...</td>\n",
       "      <td>2</td>\n",
       "    </tr>\n",
       "    <tr>\n",
       "      <th>75</th>\n",
       "      <td>This Game is so fun and enjoyable! I would pla...</td>\n",
       "      <td>2</td>\n",
       "    </tr>\n",
       "  </tbody>\n",
       "</table>\n",
       "</div>"
      ],
      "text/plain": [
       "                                              content  score\n",
       "16  Thia should have been fun if bugs will be fixe...      2\n",
       "75  This Game is so fun and enjoyable! I would pla...      2"
      ]
     },
     "execution_count": 111,
     "metadata": {},
     "output_type": "execute_result"
    }
   ],
   "source": [
    "rating2.head(2)"
   ]
  },
  {
   "cell_type": "code",
   "execution_count": 112,
   "metadata": {},
   "outputs": [
    {
     "data": {
      "text/html": [
       "<div>\n",
       "<style scoped>\n",
       "    .dataframe tbody tr th:only-of-type {\n",
       "        vertical-align: middle;\n",
       "    }\n",
       "\n",
       "    .dataframe tbody tr th {\n",
       "        vertical-align: top;\n",
       "    }\n",
       "\n",
       "    .dataframe thead th {\n",
       "        text-align: right;\n",
       "    }\n",
       "</style>\n",
       "<table border=\"1\" class=\"dataframe\">\n",
       "  <thead>\n",
       "    <tr style=\"text-align: right;\">\n",
       "      <th></th>\n",
       "      <th>content</th>\n",
       "      <th>score</th>\n",
       "    </tr>\n",
       "  </thead>\n",
       "  <tbody>\n",
       "    <tr>\n",
       "      <th>3</th>\n",
       "      <td>This game is great, but the more I play, the w...</td>\n",
       "      <td>3</td>\n",
       "    </tr>\n",
       "    <tr>\n",
       "      <th>5</th>\n",
       "      <td>I think the game is really fun, but I do have ...</td>\n",
       "      <td>3</td>\n",
       "    </tr>\n",
       "  </tbody>\n",
       "</table>\n",
       "</div>"
      ],
      "text/plain": [
       "                                             content  score\n",
       "3  This game is great, but the more I play, the w...      3\n",
       "5  I think the game is really fun, but I do have ...      3"
      ]
     },
     "execution_count": 112,
     "metadata": {},
     "output_type": "execute_result"
    }
   ],
   "source": [
    "rating3.head(2)"
   ]
  },
  {
   "cell_type": "code",
   "execution_count": 113,
   "metadata": {},
   "outputs": [
    {
     "data": {
      "text/html": [
       "<div>\n",
       "<style scoped>\n",
       "    .dataframe tbody tr th:only-of-type {\n",
       "        vertical-align: middle;\n",
       "    }\n",
       "\n",
       "    .dataframe tbody tr th {\n",
       "        vertical-align: top;\n",
       "    }\n",
       "\n",
       "    .dataframe thead th {\n",
       "        text-align: right;\n",
       "    }\n",
       "</style>\n",
       "<table border=\"1\" class=\"dataframe\">\n",
       "  <thead>\n",
       "    <tr style=\"text-align: right;\">\n",
       "      <th></th>\n",
       "      <th>content</th>\n",
       "      <th>score</th>\n",
       "    </tr>\n",
       "  </thead>\n",
       "  <tbody>\n",
       "    <tr>\n",
       "      <th>0</th>\n",
       "      <td>It is an amazing and unique game, really liked...</td>\n",
       "      <td>4</td>\n",
       "    </tr>\n",
       "    <tr>\n",
       "      <th>1</th>\n",
       "      <td>I really like this game! I would love to see f...</td>\n",
       "      <td>4</td>\n",
       "    </tr>\n",
       "  </tbody>\n",
       "</table>\n",
       "</div>"
      ],
      "text/plain": [
       "                                             content  score\n",
       "0  It is an amazing and unique game, really liked...      4\n",
       "1  I really like this game! I would love to see f...      4"
      ]
     },
     "execution_count": 113,
     "metadata": {},
     "output_type": "execute_result"
    }
   ],
   "source": [
    "rating4.head(2)"
   ]
  },
  {
   "cell_type": "code",
   "execution_count": 114,
   "metadata": {},
   "outputs": [
    {
     "data": {
      "text/html": [
       "<div>\n",
       "<style scoped>\n",
       "    .dataframe tbody tr th:only-of-type {\n",
       "        vertical-align: middle;\n",
       "    }\n",
       "\n",
       "    .dataframe tbody tr th {\n",
       "        vertical-align: top;\n",
       "    }\n",
       "\n",
       "    .dataframe thead th {\n",
       "        text-align: right;\n",
       "    }\n",
       "</style>\n",
       "<table border=\"1\" class=\"dataframe\">\n",
       "  <thead>\n",
       "    <tr style=\"text-align: right;\">\n",
       "      <th></th>\n",
       "      <th>content</th>\n",
       "      <th>score</th>\n",
       "    </tr>\n",
       "  </thead>\n",
       "  <tbody>\n",
       "    <tr>\n",
       "      <th>2</th>\n",
       "      <td>I love the mystery and intrigue that Among Us ...</td>\n",
       "      <td>5</td>\n",
       "    </tr>\n",
       "    <tr>\n",
       "      <th>7</th>\n",
       "      <td>The game is a great and fun game that I would ...</td>\n",
       "      <td>5</td>\n",
       "    </tr>\n",
       "  </tbody>\n",
       "</table>\n",
       "</div>"
      ],
      "text/plain": [
       "                                             content  score\n",
       "2  I love the mystery and intrigue that Among Us ...      5\n",
       "7  The game is a great and fun game that I would ...      5"
      ]
     },
     "execution_count": 114,
     "metadata": {},
     "output_type": "execute_result"
    }
   ],
   "source": [
    "rating5.head(2)"
   ]
  },
  {
   "cell_type": "markdown",
   "metadata": {},
   "source": [
    "### Tokenizing"
   ]
  },
  {
   "cell_type": "code",
   "execution_count": 153,
   "metadata": {},
   "outputs": [],
   "source": [
    "# Turning dataframe of text into list for tokenizing.\n",
    "\n",
    "rating1text = list(rating1['content'])\n",
    "rating2text = list(rating2['content'])\n",
    "rating3text = list(rating3['content'])\n",
    "rating4text = list(rating4['content'])\n",
    "rating5text = list(rating5['content'])"
   ]
  },
  {
   "cell_type": "code",
   "execution_count": 192,
   "metadata": {},
   "outputs": [],
   "source": [
    "# Remove common words\n",
    "stopwords_list = stopwords.words('english') + list(string.punctuation)\n",
    "# Remove more punctuation\n",
    "stopwords_list += [\"''\", '\"\"', '...', '``']\n",
    "# Remove random numerals\n",
    "stopwords_list += ['0', '1', '2', '3', '4', '5', '6', '7', '8', '9']\n",
    "# Remove contractions\n",
    "stopwords_list += [\"'d\", \"'ve\", \"'nt\",  \"'t\", \"'re\", \"'ll\", \"'s\"]"
   ]
  },
  {
   "cell_type": "code",
   "execution_count": 193,
   "metadata": {},
   "outputs": [],
   "source": [
    "def process_reviews(reviews):\n",
    "    tokens = nltk.word_tokenize(reviews)\n",
    "    stopwords_removed = [token.lower() for token in tokens if token.lower() not in stopwords_list]\n",
    "    return stopwords_removed    "
   ]
  },
  {
   "cell_type": "code",
   "execution_count": 194,
   "metadata": {},
   "outputs": [],
   "source": [
    "# Testing if this function works\n",
    "# It takes about 25 minutes to run 5 ratings.\n",
    "\n",
    "processedreviewrating1 = [item for sublist in list(map(process_reviews, rating1text)) for item in sublist]\n",
    "processedreviewrating2 = [item for sublist in list(map(process_reviews, rating2text)) for item in sublist]\n",
    "processedreviewrating3 = [item for sublist in list(map(process_reviews, rating3text)) for item in sublist]\n",
    "processedreviewrating4 = [item for sublist in list(map(process_reviews, rating4text)) for item in sublist]\n",
    "processedreviewrating5 = [item for sublist in list(map(process_reviews, rating5text)) for item in sublist]"
   ]
  },
  {
   "cell_type": "code",
   "execution_count": 204,
   "metadata": {},
   "outputs": [],
   "source": [
    "# Saving tokens into a sub-folder in for tidiness.\n",
    "\n",
    "from pathlib import Path\n",
    "\n",
    "root = Path('.')\n",
    "\n",
    "my_path1 = root / \"tokens\" / \"processedreviewrating1.pbz2\"\n",
    "my_path2 = root / \"tokens\" / \"processedreviewrating2.pbz2\"\n",
    "my_path3 = root / \"tokens\" / \"processedreviewrating3.pbz2\"\n",
    "my_path4 = root / \"tokens\" / \"processedreviewrating4.pbz2\"\n",
    "my_path5 = root / \"tokens\" / \"processedreviewrating5.pbz2\"\n",
    "\n",
    "import bz2\n",
    "\n",
    "def compressed_pickle(path, data):\n",
    "    with bz2.BZ2File(path, 'w') as f:\n",
    "        pickle.dump(data, f)\n",
    "\n",
    "compressed_pickle(my_path1, processedreviewrating1)\n",
    "compressed_pickle(my_path2, processedreviewrating2)\n",
    "compressed_pickle(my_path3, processedreviewrating3)\n",
    "compressed_pickle(my_path4, processedreviewrating4)\n",
    "compressed_pickle(my_path5, processedreviewrating5)"
   ]
  },
  {
   "cell_type": "code",
   "execution_count": null,
   "metadata": {},
   "outputs": [],
   "source": []
  }
 ],
 "metadata": {
  "kernelspec": {
   "display_name": "Python 3",
   "language": "python",
   "name": "python3"
  },
  "language_info": {
   "codemirror_mode": {
    "name": "ipython",
    "version": 3
   },
   "file_extension": ".py",
   "mimetype": "text/x-python",
   "name": "python",
   "nbconvert_exporter": "python",
   "pygments_lexer": "ipython3",
   "version": "3.7.6"
  }
 },
 "nbformat": 4,
 "nbformat_minor": 4
}

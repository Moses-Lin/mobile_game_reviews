{
 "cells": [
  {
   "cell_type": "markdown",
   "metadata": {},
   "source": [
    "# Importing necessary things"
   ]
  },
  {
   "cell_type": "code",
   "execution_count": 115,
   "metadata": {},
   "outputs": [],
   "source": [
    "import pandas as pd\n",
    "import numpy as np\n",
    "import sklearn\n",
    "\n",
    "import sklearn.metrics as metrics\n",
    "from sklearn.utils import resample\n",
    "from sklearn.model_selection import train_test_split\n",
    "from sklearn.preprocessing import LabelEncoder\n",
    "from sklearn.naive_bayes import MultinomialNB\n",
    "from sklearn.ensemble import RandomForestClassifier\n",
    "from sklearn.tree import DecisionTreeClassifier\n",
    "from sklearn.metrics import accuracy_score, confusion_matrix, f1_score, recall_score, precision_score\n",
    "from sklearn.feature_extraction.text import TfidfVectorizer, CountVectorizer\n",
    "\n",
    "import string\n",
    "import nltk\n",
    "from nltk.corpus import stopwords\n",
    "from nltk import word_tokenize, RegexpTokenizer, TweetTokenizer\n",
    "from nltk.stem import WordNetLemmatizer\n",
    "from nltk.stem import PorterStemmer\n",
    "from nltk.probability import FreqDist\n",
    "\n",
    "import matplotlib.pyplot as plt\n",
    "import seaborn as sns\n",
    "from matplotlib import cm\n",
    "from imblearn.over_sampling import ADASYN\n",
    "\n",
    "import re\n",
    "from datetime import datetime\n",
    "\n",
    "import pickle"
   ]
  },
  {
   "cell_type": "markdown",
   "metadata": {},
   "source": [
    "=================================================================================================================="
   ]
  },
  {
   "cell_type": "markdown",
   "metadata": {},
   "source": [
    "# Unpickling our data and taking a look"
   ]
  },
  {
   "cell_type": "code",
   "execution_count": 2,
   "metadata": {
    "scrolled": true
   },
   "outputs": [
    {
     "data": {
      "text/html": [
       "<div>\n",
       "<style scoped>\n",
       "    .dataframe tbody tr th:only-of-type {\n",
       "        vertical-align: middle;\n",
       "    }\n",
       "\n",
       "    .dataframe tbody tr th {\n",
       "        vertical-align: top;\n",
       "    }\n",
       "\n",
       "    .dataframe thead th {\n",
       "        text-align: right;\n",
       "    }\n",
       "</style>\n",
       "<table border=\"1\" class=\"dataframe\">\n",
       "  <thead>\n",
       "    <tr style=\"text-align: right;\">\n",
       "      <th></th>\n",
       "      <th>title</th>\n",
       "      <th>installs</th>\n",
       "      <th>minInstalls</th>\n",
       "      <th>score</th>\n",
       "      <th>ratings</th>\n",
       "      <th>reviews</th>\n",
       "      <th>histogram</th>\n",
       "      <th>price</th>\n",
       "      <th>free</th>\n",
       "      <th>offersIAP</th>\n",
       "      <th>size</th>\n",
       "      <th>genre</th>\n",
       "      <th>genreId</th>\n",
       "      <th>released</th>\n",
       "      <th>contentRating</th>\n",
       "    </tr>\n",
       "  </thead>\n",
       "  <tbody>\n",
       "    <tr>\n",
       "      <th>0</th>\n",
       "      <td>Among Us</td>\n",
       "      <td>100,000,000+</td>\n",
       "      <td>100000000</td>\n",
       "      <td>4.474048</td>\n",
       "      <td>2132693.0</td>\n",
       "      <td>1101564.0</td>\n",
       "      <td>[154333, 39857, 89011, 206765, 1642727]</td>\n",
       "      <td>0.00</td>\n",
       "      <td>True</td>\n",
       "      <td>True</td>\n",
       "      <td>70M</td>\n",
       "      <td>Action</td>\n",
       "      <td>GAME_ACTION</td>\n",
       "      <td>Jun 15, 2018</td>\n",
       "      <td>Everyone 10+</td>\n",
       "    </tr>\n",
       "    <tr>\n",
       "      <th>1</th>\n",
       "      <td>Scribble Rider</td>\n",
       "      <td>10,000,000+</td>\n",
       "      <td>10000000</td>\n",
       "      <td>3.884314</td>\n",
       "      <td>219513.0</td>\n",
       "      <td>91620.0</td>\n",
       "      <td>[39359, 11409, 15784, 21673, 131288]</td>\n",
       "      <td>0.00</td>\n",
       "      <td>True</td>\n",
       "      <td>True</td>\n",
       "      <td>123M</td>\n",
       "      <td>Action</td>\n",
       "      <td>GAME_ACTION</td>\n",
       "      <td>Jul 23, 2020</td>\n",
       "      <td>Everyone</td>\n",
       "    </tr>\n",
       "    <tr>\n",
       "      <th>2</th>\n",
       "      <td>Call of Duty®: Mobile</td>\n",
       "      <td>100,000,000+</td>\n",
       "      <td>100000000</td>\n",
       "      <td>4.478313</td>\n",
       "      <td>10757089.0</td>\n",
       "      <td>4953322.0</td>\n",
       "      <td>[783831, 203300, 401111, 1064381, 8304466]</td>\n",
       "      <td>0.00</td>\n",
       "      <td>True</td>\n",
       "      <td>True</td>\n",
       "      <td>94M</td>\n",
       "      <td>Action</td>\n",
       "      <td>GAME_ACTION</td>\n",
       "      <td>Sep 30, 2019</td>\n",
       "      <td>Mature 17+</td>\n",
       "    </tr>\n",
       "    <tr>\n",
       "      <th>3</th>\n",
       "      <td>Hitmasters</td>\n",
       "      <td>50,000,000+</td>\n",
       "      <td>50000000</td>\n",
       "      <td>4.090488</td>\n",
       "      <td>280248.0</td>\n",
       "      <td>98967.0</td>\n",
       "      <td>[39272, 10530, 17919, 30372, 182155]</td>\n",
       "      <td>0.00</td>\n",
       "      <td>True</td>\n",
       "      <td>True</td>\n",
       "      <td>85M</td>\n",
       "      <td>Action</td>\n",
       "      <td>GAME_ACTION</td>\n",
       "      <td>Mar 19, 2020</td>\n",
       "      <td>Teen</td>\n",
       "    </tr>\n",
       "    <tr>\n",
       "      <th>4</th>\n",
       "      <td>Draw Defence</td>\n",
       "      <td>500,000+</td>\n",
       "      <td>500000</td>\n",
       "      <td>3.910000</td>\n",
       "      <td>1080.0</td>\n",
       "      <td>425.0</td>\n",
       "      <td>[227, 21, 54, 97, 681]</td>\n",
       "      <td>0.00</td>\n",
       "      <td>True</td>\n",
       "      <td>False</td>\n",
       "      <td>76M</td>\n",
       "      <td>Action</td>\n",
       "      <td>GAME_ACTION</td>\n",
       "      <td>Aug 27, 2020</td>\n",
       "      <td>Everyone</td>\n",
       "    </tr>\n",
       "    <tr>\n",
       "      <th>...</th>\n",
       "      <td>...</td>\n",
       "      <td>...</td>\n",
       "      <td>...</td>\n",
       "      <td>...</td>\n",
       "      <td>...</td>\n",
       "      <td>...</td>\n",
       "      <td>...</td>\n",
       "      <td>...</td>\n",
       "      <td>...</td>\n",
       "      <td>...</td>\n",
       "      <td>...</td>\n",
       "      <td>...</td>\n",
       "      <td>...</td>\n",
       "      <td>...</td>\n",
       "      <td>...</td>\n",
       "    </tr>\n",
       "    <tr>\n",
       "      <th>5130</th>\n",
       "      <td>Dropwords 2</td>\n",
       "      <td>1,000+</td>\n",
       "      <td>1000</td>\n",
       "      <td>4.452381</td>\n",
       "      <td>42.0</td>\n",
       "      <td>17.0</td>\n",
       "      <td>[1, 2, 2, 9, 28]</td>\n",
       "      <td>0.99</td>\n",
       "      <td>False</td>\n",
       "      <td>False</td>\n",
       "      <td>16M</td>\n",
       "      <td>Word</td>\n",
       "      <td>GAME_WORD</td>\n",
       "      <td>Jul 22, 2014</td>\n",
       "      <td>Everyone</td>\n",
       "    </tr>\n",
       "    <tr>\n",
       "      <th>5131</th>\n",
       "      <td>CrossCraze PRO</td>\n",
       "      <td>10,000+</td>\n",
       "      <td>10000</td>\n",
       "      <td>4.676190</td>\n",
       "      <td>1061.0</td>\n",
       "      <td>627.0</td>\n",
       "      <td>[10, 30, 50, 111, 860]</td>\n",
       "      <td>5.49</td>\n",
       "      <td>False</td>\n",
       "      <td>False</td>\n",
       "      <td>21M</td>\n",
       "      <td>Word</td>\n",
       "      <td>GAME_WORD</td>\n",
       "      <td>Mar 22, 2013</td>\n",
       "      <td>Everyone</td>\n",
       "    </tr>\n",
       "    <tr>\n",
       "      <th>5132</th>\n",
       "      <td>Word Breaker Full</td>\n",
       "      <td>10,000+</td>\n",
       "      <td>10000</td>\n",
       "      <td>4.160000</td>\n",
       "      <td>1109.0</td>\n",
       "      <td>588.0</td>\n",
       "      <td>[66, 33, 166, 233, 611]</td>\n",
       "      <td>2.99</td>\n",
       "      <td>False</td>\n",
       "      <td>False</td>\n",
       "      <td>14M</td>\n",
       "      <td>Word</td>\n",
       "      <td>GAME_WORD</td>\n",
       "      <td>Feb 24, 2011</td>\n",
       "      <td>Everyone</td>\n",
       "    </tr>\n",
       "    <tr>\n",
       "      <th>5133</th>\n",
       "      <td>Spelling Challenge PRO</td>\n",
       "      <td>100+</td>\n",
       "      <td>100</td>\n",
       "      <td>0.000000</td>\n",
       "      <td>NaN</td>\n",
       "      <td>0.0</td>\n",
       "      <td>[0, 0, 0, 0, 0]</td>\n",
       "      <td>1.99</td>\n",
       "      <td>False</td>\n",
       "      <td>False</td>\n",
       "      <td>Varies with device</td>\n",
       "      <td>Word</td>\n",
       "      <td>GAME_WORD</td>\n",
       "      <td>Jun 18, 2019</td>\n",
       "      <td>Everyone</td>\n",
       "    </tr>\n",
       "    <tr>\n",
       "      <th>5134</th>\n",
       "      <td>Word Plus</td>\n",
       "      <td>1+</td>\n",
       "      <td>1</td>\n",
       "      <td>0.000000</td>\n",
       "      <td>NaN</td>\n",
       "      <td>0.0</td>\n",
       "      <td>[0, 0, 0, 0, 0]</td>\n",
       "      <td>1.99</td>\n",
       "      <td>False</td>\n",
       "      <td>False</td>\n",
       "      <td>5.2M</td>\n",
       "      <td>Word</td>\n",
       "      <td>GAME_WORD</td>\n",
       "      <td>Jun 23, 2020</td>\n",
       "      <td>Everyone</td>\n",
       "    </tr>\n",
       "  </tbody>\n",
       "</table>\n",
       "<p>5135 rows × 15 columns</p>\n",
       "</div>"
      ],
      "text/plain": [
       "                       title      installs  minInstalls     score     ratings  \\\n",
       "0                   Among Us  100,000,000+    100000000  4.474048   2132693.0   \n",
       "1             Scribble Rider   10,000,000+     10000000  3.884314    219513.0   \n",
       "2      Call of Duty®: Mobile  100,000,000+    100000000  4.478313  10757089.0   \n",
       "3                 Hitmasters   50,000,000+     50000000  4.090488    280248.0   \n",
       "4               Draw Defence      500,000+       500000  3.910000      1080.0   \n",
       "...                      ...           ...          ...       ...         ...   \n",
       "5130             Dropwords 2        1,000+         1000  4.452381        42.0   \n",
       "5131          CrossCraze PRO       10,000+        10000  4.676190      1061.0   \n",
       "5132       Word Breaker Full       10,000+        10000  4.160000      1109.0   \n",
       "5133  Spelling Challenge PRO          100+          100  0.000000         NaN   \n",
       "5134               Word Plus            1+            1  0.000000         NaN   \n",
       "\n",
       "        reviews                                   histogram  price   free  \\\n",
       "0     1101564.0     [154333, 39857, 89011, 206765, 1642727]   0.00   True   \n",
       "1       91620.0        [39359, 11409, 15784, 21673, 131288]   0.00   True   \n",
       "2     4953322.0  [783831, 203300, 401111, 1064381, 8304466]   0.00   True   \n",
       "3       98967.0        [39272, 10530, 17919, 30372, 182155]   0.00   True   \n",
       "4         425.0                      [227, 21, 54, 97, 681]   0.00   True   \n",
       "...         ...                                         ...    ...    ...   \n",
       "5130       17.0                            [1, 2, 2, 9, 28]   0.99  False   \n",
       "5131      627.0                      [10, 30, 50, 111, 860]   5.49  False   \n",
       "5132      588.0                     [66, 33, 166, 233, 611]   2.99  False   \n",
       "5133        0.0                             [0, 0, 0, 0, 0]   1.99  False   \n",
       "5134        0.0                             [0, 0, 0, 0, 0]   1.99  False   \n",
       "\n",
       "      offersIAP                size   genre      genreId      released  \\\n",
       "0          True                 70M  Action  GAME_ACTION  Jun 15, 2018   \n",
       "1          True                123M  Action  GAME_ACTION  Jul 23, 2020   \n",
       "2          True                 94M  Action  GAME_ACTION  Sep 30, 2019   \n",
       "3          True                 85M  Action  GAME_ACTION  Mar 19, 2020   \n",
       "4         False                 76M  Action  GAME_ACTION  Aug 27, 2020   \n",
       "...         ...                 ...     ...          ...           ...   \n",
       "5130      False                 16M    Word    GAME_WORD  Jul 22, 2014   \n",
       "5131      False                 21M    Word    GAME_WORD  Mar 22, 2013   \n",
       "5132      False                 14M    Word    GAME_WORD  Feb 24, 2011   \n",
       "5133      False  Varies with device    Word    GAME_WORD  Jun 18, 2019   \n",
       "5134      False                5.2M    Word    GAME_WORD  Jun 23, 2020   \n",
       "\n",
       "     contentRating  \n",
       "0     Everyone 10+  \n",
       "1         Everyone  \n",
       "2       Mature 17+  \n",
       "3             Teen  \n",
       "4         Everyone  \n",
       "...            ...  \n",
       "5130      Everyone  \n",
       "5131      Everyone  \n",
       "5132      Everyone  \n",
       "5133      Everyone  \n",
       "5134      Everyone  \n",
       "\n",
       "[5135 rows x 15 columns]"
      ]
     },
     "execution_count": 2,
     "metadata": {},
     "output_type": "execute_result"
    }
   ],
   "source": [
    "df = pd.read_pickle('reviewfeatures.pkl')\n",
    "df"
   ]
  },
  {
   "cell_type": "code",
   "execution_count": 3,
   "metadata": {
    "scrolled": true
   },
   "outputs": [
    {
     "data": {
      "text/plain": [
       "Index(['title', 'installs', 'minInstalls', 'score', 'ratings', 'reviews',\n",
       "       'histogram', 'price', 'free', 'offersIAP', 'size', 'genre', 'genreId',\n",
       "       'released', 'contentRating'],\n",
       "      dtype='object')"
      ]
     },
     "execution_count": 3,
     "metadata": {},
     "output_type": "execute_result"
    }
   ],
   "source": [
    "df.columns"
   ]
  },
  {
   "cell_type": "code",
   "execution_count": 4,
   "metadata": {
    "scrolled": true
   },
   "outputs": [
    {
     "data": {
      "text/plain": [
       "title             object\n",
       "installs          object\n",
       "minInstalls        int64\n",
       "score            float64\n",
       "ratings          float64\n",
       "reviews          float64\n",
       "histogram         object\n",
       "price            float64\n",
       "free                bool\n",
       "offersIAP           bool\n",
       "size              object\n",
       "genre             object\n",
       "genreId           object\n",
       "released          object\n",
       "contentRating     object\n",
       "dtype: object"
      ]
     },
     "execution_count": 4,
     "metadata": {},
     "output_type": "execute_result"
    }
   ],
   "source": [
    "df.dtypes"
   ]
  },
  {
   "cell_type": "code",
   "execution_count": 5,
   "metadata": {},
   "outputs": [
    {
     "data": {
      "text/plain": [
       "title             0\n",
       "installs          0\n",
       "minInstalls       0\n",
       "score             5\n",
       "ratings          85\n",
       "reviews           5\n",
       "histogram         0\n",
       "price             0\n",
       "free              0\n",
       "offersIAP         0\n",
       "size              0\n",
       "genre             0\n",
       "genreId           0\n",
       "released         14\n",
       "contentRating     0\n",
       "dtype: int64"
      ]
     },
     "execution_count": 5,
     "metadata": {},
     "output_type": "execute_result"
    }
   ],
   "source": [
    "# Will drop games with no ratings\n",
    "\n",
    "df.isna().sum()"
   ]
  },
  {
   "cell_type": "code",
   "execution_count": 6,
   "metadata": {},
   "outputs": [],
   "source": [
    "# 91 rows were removed.\n",
    "\n",
    "df.dropna(inplace=True)"
   ]
  },
  {
   "cell_type": "code",
   "execution_count": 7,
   "metadata": {},
   "outputs": [
    {
     "data": {
      "text/plain": [
       "1,000,000+        895\n",
       "10,000,000+       858\n",
       "10,000+           664\n",
       "100,000+          664\n",
       "5,000,000+        424\n",
       "500,000+          301\n",
       "50,000+           283\n",
       "1,000+            280\n",
       "5,000+            216\n",
       "50,000,000+       197\n",
       "100,000,000+      132\n",
       "100+               55\n",
       "500+               51\n",
       "500,000,000+        9\n",
       "50+                 6\n",
       "10+                 4\n",
       "1,000,000,000+      2\n",
       "Name: installs, dtype: int64"
      ]
     },
     "execution_count": 7,
     "metadata": {},
     "output_type": "execute_result"
    }
   ],
   "source": [
    "# Can probably drop this column as it's the same as minInstalls but in an object format.\n",
    "\n",
    "df['installs'].value_counts()"
   ]
  },
  {
   "cell_type": "code",
   "execution_count": 8,
   "metadata": {
    "scrolled": true
   },
   "outputs": [
    {
     "data": {
      "text/plain": [
       "1000000       895\n",
       "10000000      858\n",
       "10000         664\n",
       "100000        664\n",
       "5000000       424\n",
       "500000        301\n",
       "50000         283\n",
       "1000          280\n",
       "5000          216\n",
       "50000000      197\n",
       "100000000     132\n",
       "100            55\n",
       "500            51\n",
       "500000000       9\n",
       "50              6\n",
       "10              4\n",
       "1000000000      2\n",
       "Name: minInstalls, dtype: int64"
      ]
     },
     "execution_count": 8,
     "metadata": {},
     "output_type": "execute_result"
    }
   ],
   "source": [
    "# Possibly reduce this columns to fewer categories.\n",
    "\n",
    "df['minInstalls'].value_counts()"
   ]
  },
  {
   "cell_type": "code",
   "execution_count": 9,
   "metadata": {},
   "outputs": [
    {
     "data": {
      "text/plain": [
       "count    5041.000000\n",
       "mean        4.211683\n",
       "std         0.418547\n",
       "min         1.160000\n",
       "25%         4.020566\n",
       "50%         4.274995\n",
       "75%         4.495050\n",
       "max         5.000000\n",
       "Name: score, dtype: float64"
      ]
     },
     "execution_count": 9,
     "metadata": {},
     "output_type": "execute_result"
    }
   ],
   "source": [
    "# We are only looking at the apps listed in the Top Free and Top Paid categories, so it makes sense the mean is high.\n",
    "\n",
    "df['score'].describe()"
   ]
  },
  {
   "cell_type": "code",
   "execution_count": 10,
   "metadata": {},
   "outputs": [
    {
     "data": {
      "text/plain": [
       "count    5.041000e+03\n",
       "mean     2.758921e+05\n",
       "std      1.772676e+06\n",
       "min      5.000000e+00\n",
       "25%      1.150000e+03\n",
       "50%      1.015100e+04\n",
       "75%      7.912600e+04\n",
       "max      6.302431e+07\n",
       "Name: ratings, dtype: float64"
      ]
     },
     "execution_count": 10,
     "metadata": {},
     "output_type": "execute_result"
    }
   ],
   "source": [
    "df['ratings'].describe()"
   ]
  },
  {
   "cell_type": "code",
   "execution_count": 11,
   "metadata": {
    "scrolled": true
   },
   "outputs": [
    {
     "data": {
      "text/plain": [
       "count    5.041000e+03\n",
       "mean     1.084286e+05\n",
       "std      8.181436e+05\n",
       "min      1.000000e+00\n",
       "25%      4.720000e+02\n",
       "50%      4.026000e+03\n",
       "75%      3.150300e+04\n",
       "max      3.826257e+07\n",
       "Name: reviews, dtype: float64"
      ]
     },
     "execution_count": 11,
     "metadata": {},
     "output_type": "execute_result"
    }
   ],
   "source": [
    "df['reviews'].describe()"
   ]
  },
  {
   "cell_type": "code",
   "execution_count": 12,
   "metadata": {
    "scrolled": true
   },
   "outputs": [
    {
     "data": {
      "text/plain": [
       "0.00     3346\n",
       "2.99      325\n",
       "0.99      272\n",
       "4.99      252\n",
       "1.99      239\n",
       "3.99      165\n",
       "6.99       57\n",
       "9.99       45\n",
       "3.49       41\n",
       "1.49       41\n",
       "5.99       37\n",
       "5.49       35\n",
       "2.49       32\n",
       "7.99       28\n",
       "4.49       19\n",
       "8.99       14\n",
       "14.99      11\n",
       "19.99       7\n",
       "6.49        7\n",
       "15.99       7\n",
       "1.00        6\n",
       "13.99       5\n",
       "24.99       4\n",
       "1.96        4\n",
       "7.49        4\n",
       "11.99       4\n",
       "17.99       3\n",
       "12.99       3\n",
       "2.00        2\n",
       "5.00        2\n",
       "29.99       2\n",
       "1.79        2\n",
       "3.75        1\n",
       "3.63        1\n",
       "1.50        1\n",
       "4.29        1\n",
       "20.99       1\n",
       "1.02        1\n",
       "2.69        1\n",
       "3.89        1\n",
       "32.99       1\n",
       "1.95        1\n",
       "5.60        1\n",
       "4.40        1\n",
       "1.20        1\n",
       "2.29        1\n",
       "2.19        1\n",
       "1.39        1\n",
       "18.99       1\n",
       "8.49        1\n",
       "1.19        1\n",
       "1.90        1\n",
       "Name: price, dtype: int64"
      ]
     },
     "execution_count": 12,
     "metadata": {},
     "output_type": "execute_result"
    }
   ],
   "source": [
    "# Will reduce this columns to fewer categories.\n",
    "\n",
    "df['price'].value_counts()"
   ]
  },
  {
   "cell_type": "code",
   "execution_count": 13,
   "metadata": {
    "scrolled": true
   },
   "outputs": [
    {
     "data": {
      "text/plain": [
       "True     3346\n",
       "False    1695\n",
       "Name: free, dtype: int64"
      ]
     },
     "execution_count": 13,
     "metadata": {},
     "output_type": "execute_result"
    }
   ],
   "source": [
    "# A decent number of these games are free games\n",
    "\n",
    "df['free'].value_counts()"
   ]
  },
  {
   "cell_type": "code",
   "execution_count": 14,
   "metadata": {},
   "outputs": [
    {
     "data": {
      "text/plain": [
       "True     3139\n",
       "False    1902\n",
       "Name: offersIAP, dtype: int64"
      ]
     },
     "execution_count": 14,
     "metadata": {},
     "output_type": "execute_result"
    }
   ],
   "source": [
    "# Numbers are similar to whether games are free to play or not.\n",
    "# Differences at a glance suggests a fair number of free games with no IAPs and paid games that still have IAPs\n",
    "\n",
    "df['offersIAP'].value_counts()"
   ]
  },
  {
   "cell_type": "code",
   "execution_count": 15,
   "metadata": {},
   "outputs": [
    {
     "data": {
      "text/plain": [
       "Varies with device    631\n",
       "49M                    68\n",
       "37M                    66\n",
       "25M                    63\n",
       "28M                    61\n",
       "                     ... \n",
       "776k                    1\n",
       "601M                    1\n",
       "761M                    1\n",
       "166M                    1\n",
       "215M                    1\n",
       "Name: size, Length: 269, dtype: int64"
      ]
     },
     "execution_count": 15,
     "metadata": {},
     "output_type": "execute_result"
    }
   ],
   "source": [
    "df['size'].value_counts()"
   ]
  },
  {
   "cell_type": "code",
   "execution_count": 16,
   "metadata": {
    "scrolled": true
   },
   "outputs": [
    {
     "data": {
      "text/plain": [
       "Adventure       394\n",
       "Role Playing    392\n",
       "Simulation      389\n",
       "Strategy        359\n",
       "Puzzle          358\n",
       "Educational     334\n",
       "Action          333\n",
       "Arcade          329\n",
       "Casual          292\n",
       "Board           292\n",
       "Card            248\n",
       "Sports          246\n",
       "Racing          241\n",
       "Word            217\n",
       "Music           208\n",
       "Casino          205\n",
       "Trivia          204\n",
       "Name: genre, dtype: int64"
      ]
     },
     "execution_count": 16,
     "metadata": {},
     "output_type": "execute_result"
    }
   ],
   "source": [
    "# Fair spread of games in each category.\n",
    "\n",
    "df['genre'].value_counts()"
   ]
  },
  {
   "cell_type": "code",
   "execution_count": 17,
   "metadata": {
    "scrolled": true
   },
   "outputs": [
    {
     "data": {
      "text/plain": [
       "GAME_ADVENTURE       394\n",
       "GAME_ROLE_PLAYING    392\n",
       "GAME_SIMULATION      389\n",
       "GAME_STRATEGY        359\n",
       "GAME_PUZZLE          358\n",
       "GAME_EDUCATIONAL     334\n",
       "GAME_ACTION          333\n",
       "GAME_ARCADE          329\n",
       "GAME_BOARD           292\n",
       "GAME_CASUAL          292\n",
       "GAME_CARD            248\n",
       "GAME_SPORTS          246\n",
       "GAME_RACING          241\n",
       "GAME_WORD            217\n",
       "GAME_MUSIC           208\n",
       "GAME_CASINO          205\n",
       "GAME_TRIVIA          204\n",
       "Name: genreId, dtype: int64"
      ]
     },
     "execution_count": 17,
     "metadata": {},
     "output_type": "execute_result"
    }
   ],
   "source": [
    "# Can remove this column as it's the same thing as genre.\n",
    "\n",
    "df['genreId'].value_counts()"
   ]
  },
  {
   "cell_type": "code",
   "execution_count": 18,
   "metadata": {},
   "outputs": [
    {
     "data": {
      "text/plain": [
       "Jul 23, 2020    15\n",
       "Apr 24, 2020    14\n",
       "Aug 19, 2020    13\n",
       "Jul 28, 2020    13\n",
       "Aug 26, 2020    12\n",
       "                ..\n",
       "Apr 28, 2017     1\n",
       "Aug 31, 2019     1\n",
       "Jan 9, 2018      1\n",
       "Sep 16, 2013     1\n",
       "Feb 17, 2016     1\n",
       "Name: released, Length: 2106, dtype: int64"
      ]
     },
     "execution_count": 18,
     "metadata": {},
     "output_type": "execute_result"
    }
   ],
   "source": [
    "# Need to change this to a useable column.\n",
    "\n",
    "df['released'].value_counts()"
   ]
  },
  {
   "cell_type": "code",
   "execution_count": 19,
   "metadata": {
    "scrolled": true
   },
   "outputs": [
    {
     "data": {
      "text/plain": [
       "Everyone           3034\n",
       "Teen               1279\n",
       "Everyone 10+        561\n",
       "Mature 17+          161\n",
       "Adults only 18+       6\n",
       "Name: contentRating, dtype: int64"
      ]
     },
     "execution_count": 19,
     "metadata": {},
     "output_type": "execute_result"
    }
   ],
   "source": [
    "# Most top apps are either for Everyone or Teen. Makes sense to appeal to wider audiences.\n",
    "\n",
    "df['contentRating'].value_counts()"
   ]
  },
  {
   "cell_type": "markdown",
   "metadata": {},
   "source": [
    "=================================================================================================================="
   ]
  },
  {
   "cell_type": "markdown",
   "metadata": {},
   "source": [
    "# Cleaning"
   ]
  },
  {
   "cell_type": "code",
   "execution_count": 20,
   "metadata": {
    "scrolled": true
   },
   "outputs": [
    {
     "data": {
      "text/html": [
       "<div>\n",
       "<style scoped>\n",
       "    .dataframe tbody tr th:only-of-type {\n",
       "        vertical-align: middle;\n",
       "    }\n",
       "\n",
       "    .dataframe tbody tr th {\n",
       "        vertical-align: top;\n",
       "    }\n",
       "\n",
       "    .dataframe thead th {\n",
       "        text-align: right;\n",
       "    }\n",
       "</style>\n",
       "<table border=\"1\" class=\"dataframe\">\n",
       "  <thead>\n",
       "    <tr style=\"text-align: right;\">\n",
       "      <th></th>\n",
       "      <th>title</th>\n",
       "      <th>minInstalls</th>\n",
       "      <th>score</th>\n",
       "      <th>ratings</th>\n",
       "      <th>reviews</th>\n",
       "      <th>histogram</th>\n",
       "      <th>price</th>\n",
       "      <th>free</th>\n",
       "      <th>offersIAP</th>\n",
       "      <th>size</th>\n",
       "      <th>genre</th>\n",
       "      <th>released</th>\n",
       "      <th>contentRating</th>\n",
       "    </tr>\n",
       "  </thead>\n",
       "  <tbody>\n",
       "    <tr>\n",
       "      <th>0</th>\n",
       "      <td>Among Us</td>\n",
       "      <td>100000000</td>\n",
       "      <td>4.474048</td>\n",
       "      <td>2132693.0</td>\n",
       "      <td>1101564.0</td>\n",
       "      <td>[154333, 39857, 89011, 206765, 1642727]</td>\n",
       "      <td>0.00</td>\n",
       "      <td>True</td>\n",
       "      <td>True</td>\n",
       "      <td>70M</td>\n",
       "      <td>Action</td>\n",
       "      <td>Jun 15, 2018</td>\n",
       "      <td>Everyone 10+</td>\n",
       "    </tr>\n",
       "    <tr>\n",
       "      <th>1</th>\n",
       "      <td>Scribble Rider</td>\n",
       "      <td>10000000</td>\n",
       "      <td>3.884314</td>\n",
       "      <td>219513.0</td>\n",
       "      <td>91620.0</td>\n",
       "      <td>[39359, 11409, 15784, 21673, 131288]</td>\n",
       "      <td>0.00</td>\n",
       "      <td>True</td>\n",
       "      <td>True</td>\n",
       "      <td>123M</td>\n",
       "      <td>Action</td>\n",
       "      <td>Jul 23, 2020</td>\n",
       "      <td>Everyone</td>\n",
       "    </tr>\n",
       "    <tr>\n",
       "      <th>2</th>\n",
       "      <td>Call of Duty®: Mobile</td>\n",
       "      <td>100000000</td>\n",
       "      <td>4.478313</td>\n",
       "      <td>10757089.0</td>\n",
       "      <td>4953322.0</td>\n",
       "      <td>[783831, 203300, 401111, 1064381, 8304466]</td>\n",
       "      <td>0.00</td>\n",
       "      <td>True</td>\n",
       "      <td>True</td>\n",
       "      <td>94M</td>\n",
       "      <td>Action</td>\n",
       "      <td>Sep 30, 2019</td>\n",
       "      <td>Mature 17+</td>\n",
       "    </tr>\n",
       "    <tr>\n",
       "      <th>3</th>\n",
       "      <td>Hitmasters</td>\n",
       "      <td>50000000</td>\n",
       "      <td>4.090488</td>\n",
       "      <td>280248.0</td>\n",
       "      <td>98967.0</td>\n",
       "      <td>[39272, 10530, 17919, 30372, 182155]</td>\n",
       "      <td>0.00</td>\n",
       "      <td>True</td>\n",
       "      <td>True</td>\n",
       "      <td>85M</td>\n",
       "      <td>Action</td>\n",
       "      <td>Mar 19, 2020</td>\n",
       "      <td>Teen</td>\n",
       "    </tr>\n",
       "    <tr>\n",
       "      <th>4</th>\n",
       "      <td>Draw Defence</td>\n",
       "      <td>500000</td>\n",
       "      <td>3.910000</td>\n",
       "      <td>1080.0</td>\n",
       "      <td>425.0</td>\n",
       "      <td>[227, 21, 54, 97, 681]</td>\n",
       "      <td>0.00</td>\n",
       "      <td>True</td>\n",
       "      <td>False</td>\n",
       "      <td>76M</td>\n",
       "      <td>Action</td>\n",
       "      <td>Aug 27, 2020</td>\n",
       "      <td>Everyone</td>\n",
       "    </tr>\n",
       "    <tr>\n",
       "      <th>...</th>\n",
       "      <td>...</td>\n",
       "      <td>...</td>\n",
       "      <td>...</td>\n",
       "      <td>...</td>\n",
       "      <td>...</td>\n",
       "      <td>...</td>\n",
       "      <td>...</td>\n",
       "      <td>...</td>\n",
       "      <td>...</td>\n",
       "      <td>...</td>\n",
       "      <td>...</td>\n",
       "      <td>...</td>\n",
       "      <td>...</td>\n",
       "    </tr>\n",
       "    <tr>\n",
       "      <th>5128</th>\n",
       "      <td>Word Crack (Ad free)</td>\n",
       "      <td>50000</td>\n",
       "      <td>4.225993</td>\n",
       "      <td>16368.0</td>\n",
       "      <td>7664.0</td>\n",
       "      <td>[1335, 472, 1040, 3829, 9692]</td>\n",
       "      <td>2.99</td>\n",
       "      <td>False</td>\n",
       "      <td>True</td>\n",
       "      <td>56M</td>\n",
       "      <td>Word</td>\n",
       "      <td>Oct 19, 2011</td>\n",
       "      <td>Everyone</td>\n",
       "    </tr>\n",
       "    <tr>\n",
       "      <th>5129</th>\n",
       "      <td>The Game Gal's Word Generator</td>\n",
       "      <td>1000</td>\n",
       "      <td>4.666666</td>\n",
       "      <td>12.0</td>\n",
       "      <td>6.0</td>\n",
       "      <td>[0, 1, 0, 1, 10]</td>\n",
       "      <td>1.99</td>\n",
       "      <td>False</td>\n",
       "      <td>False</td>\n",
       "      <td>9.4M</td>\n",
       "      <td>Word</td>\n",
       "      <td>Dec 25, 2017</td>\n",
       "      <td>Everyone</td>\n",
       "    </tr>\n",
       "    <tr>\n",
       "      <th>5130</th>\n",
       "      <td>Dropwords 2</td>\n",
       "      <td>1000</td>\n",
       "      <td>4.452381</td>\n",
       "      <td>42.0</td>\n",
       "      <td>17.0</td>\n",
       "      <td>[1, 2, 2, 9, 28]</td>\n",
       "      <td>0.99</td>\n",
       "      <td>False</td>\n",
       "      <td>False</td>\n",
       "      <td>16M</td>\n",
       "      <td>Word</td>\n",
       "      <td>Jul 22, 2014</td>\n",
       "      <td>Everyone</td>\n",
       "    </tr>\n",
       "    <tr>\n",
       "      <th>5131</th>\n",
       "      <td>CrossCraze PRO</td>\n",
       "      <td>10000</td>\n",
       "      <td>4.676190</td>\n",
       "      <td>1061.0</td>\n",
       "      <td>627.0</td>\n",
       "      <td>[10, 30, 50, 111, 860]</td>\n",
       "      <td>5.49</td>\n",
       "      <td>False</td>\n",
       "      <td>False</td>\n",
       "      <td>21M</td>\n",
       "      <td>Word</td>\n",
       "      <td>Mar 22, 2013</td>\n",
       "      <td>Everyone</td>\n",
       "    </tr>\n",
       "    <tr>\n",
       "      <th>5132</th>\n",
       "      <td>Word Breaker Full</td>\n",
       "      <td>10000</td>\n",
       "      <td>4.160000</td>\n",
       "      <td>1109.0</td>\n",
       "      <td>588.0</td>\n",
       "      <td>[66, 33, 166, 233, 611]</td>\n",
       "      <td>2.99</td>\n",
       "      <td>False</td>\n",
       "      <td>False</td>\n",
       "      <td>14M</td>\n",
       "      <td>Word</td>\n",
       "      <td>Feb 24, 2011</td>\n",
       "      <td>Everyone</td>\n",
       "    </tr>\n",
       "  </tbody>\n",
       "</table>\n",
       "<p>5041 rows × 13 columns</p>\n",
       "</div>"
      ],
      "text/plain": [
       "                              title  minInstalls     score     ratings  \\\n",
       "0                          Among Us    100000000  4.474048   2132693.0   \n",
       "1                    Scribble Rider     10000000  3.884314    219513.0   \n",
       "2             Call of Duty®: Mobile    100000000  4.478313  10757089.0   \n",
       "3                        Hitmasters     50000000  4.090488    280248.0   \n",
       "4                      Draw Defence       500000  3.910000      1080.0   \n",
       "...                             ...          ...       ...         ...   \n",
       "5128           Word Crack (Ad free)        50000  4.225993     16368.0   \n",
       "5129  The Game Gal's Word Generator         1000  4.666666        12.0   \n",
       "5130                    Dropwords 2         1000  4.452381        42.0   \n",
       "5131                 CrossCraze PRO        10000  4.676190      1061.0   \n",
       "5132              Word Breaker Full        10000  4.160000      1109.0   \n",
       "\n",
       "        reviews                                   histogram  price   free  \\\n",
       "0     1101564.0     [154333, 39857, 89011, 206765, 1642727]   0.00   True   \n",
       "1       91620.0        [39359, 11409, 15784, 21673, 131288]   0.00   True   \n",
       "2     4953322.0  [783831, 203300, 401111, 1064381, 8304466]   0.00   True   \n",
       "3       98967.0        [39272, 10530, 17919, 30372, 182155]   0.00   True   \n",
       "4         425.0                      [227, 21, 54, 97, 681]   0.00   True   \n",
       "...         ...                                         ...    ...    ...   \n",
       "5128     7664.0               [1335, 472, 1040, 3829, 9692]   2.99  False   \n",
       "5129        6.0                            [0, 1, 0, 1, 10]   1.99  False   \n",
       "5130       17.0                            [1, 2, 2, 9, 28]   0.99  False   \n",
       "5131      627.0                      [10, 30, 50, 111, 860]   5.49  False   \n",
       "5132      588.0                     [66, 33, 166, 233, 611]   2.99  False   \n",
       "\n",
       "      offersIAP  size   genre      released contentRating  \n",
       "0          True   70M  Action  Jun 15, 2018  Everyone 10+  \n",
       "1          True  123M  Action  Jul 23, 2020      Everyone  \n",
       "2          True   94M  Action  Sep 30, 2019    Mature 17+  \n",
       "3          True   85M  Action  Mar 19, 2020          Teen  \n",
       "4         False   76M  Action  Aug 27, 2020      Everyone  \n",
       "...         ...   ...     ...           ...           ...  \n",
       "5128       True   56M    Word  Oct 19, 2011      Everyone  \n",
       "5129      False  9.4M    Word  Dec 25, 2017      Everyone  \n",
       "5130      False   16M    Word  Jul 22, 2014      Everyone  \n",
       "5131      False   21M    Word  Mar 22, 2013      Everyone  \n",
       "5132      False   14M    Word  Feb 24, 2011      Everyone  \n",
       "\n",
       "[5041 rows x 13 columns]"
      ]
     },
     "execution_count": 20,
     "metadata": {},
     "output_type": "execute_result"
    }
   ],
   "source": [
    "df.drop(columns=['installs', 'genreId'], inplace=True)\n",
    "df"
   ]
  },
  {
   "cell_type": "code",
   "execution_count": 21,
   "metadata": {},
   "outputs": [
    {
     "data": {
      "text/html": [
       "<div>\n",
       "<style scoped>\n",
       "    .dataframe tbody tr th:only-of-type {\n",
       "        vertical-align: middle;\n",
       "    }\n",
       "\n",
       "    .dataframe tbody tr th {\n",
       "        vertical-align: top;\n",
       "    }\n",
       "\n",
       "    .dataframe thead th {\n",
       "        text-align: right;\n",
       "    }\n",
       "</style>\n",
       "<table border=\"1\" class=\"dataframe\">\n",
       "  <thead>\n",
       "    <tr style=\"text-align: right;\">\n",
       "      <th></th>\n",
       "      <th>title</th>\n",
       "      <th>minInstalls</th>\n",
       "      <th>score</th>\n",
       "      <th>ratings</th>\n",
       "      <th>reviews</th>\n",
       "      <th>histogram</th>\n",
       "      <th>price</th>\n",
       "      <th>free</th>\n",
       "      <th>offersIAP</th>\n",
       "      <th>size</th>\n",
       "      <th>genre</th>\n",
       "      <th>contentRating</th>\n",
       "      <th>releasedate</th>\n",
       "    </tr>\n",
       "  </thead>\n",
       "  <tbody>\n",
       "    <tr>\n",
       "      <th>0</th>\n",
       "      <td>Among Us</td>\n",
       "      <td>100000000</td>\n",
       "      <td>4.474048</td>\n",
       "      <td>2132693.0</td>\n",
       "      <td>1101564.0</td>\n",
       "      <td>[154333, 39857, 89011, 206765, 1642727]</td>\n",
       "      <td>0.00</td>\n",
       "      <td>True</td>\n",
       "      <td>True</td>\n",
       "      <td>70M</td>\n",
       "      <td>Action</td>\n",
       "      <td>Everyone 10+</td>\n",
       "      <td>2018-06-15</td>\n",
       "    </tr>\n",
       "    <tr>\n",
       "      <th>1</th>\n",
       "      <td>Scribble Rider</td>\n",
       "      <td>10000000</td>\n",
       "      <td>3.884314</td>\n",
       "      <td>219513.0</td>\n",
       "      <td>91620.0</td>\n",
       "      <td>[39359, 11409, 15784, 21673, 131288]</td>\n",
       "      <td>0.00</td>\n",
       "      <td>True</td>\n",
       "      <td>True</td>\n",
       "      <td>123M</td>\n",
       "      <td>Action</td>\n",
       "      <td>Everyone</td>\n",
       "      <td>2020-07-23</td>\n",
       "    </tr>\n",
       "    <tr>\n",
       "      <th>2</th>\n",
       "      <td>Call of Duty®: Mobile</td>\n",
       "      <td>100000000</td>\n",
       "      <td>4.478313</td>\n",
       "      <td>10757089.0</td>\n",
       "      <td>4953322.0</td>\n",
       "      <td>[783831, 203300, 401111, 1064381, 8304466]</td>\n",
       "      <td>0.00</td>\n",
       "      <td>True</td>\n",
       "      <td>True</td>\n",
       "      <td>94M</td>\n",
       "      <td>Action</td>\n",
       "      <td>Mature 17+</td>\n",
       "      <td>2019-09-30</td>\n",
       "    </tr>\n",
       "    <tr>\n",
       "      <th>3</th>\n",
       "      <td>Hitmasters</td>\n",
       "      <td>50000000</td>\n",
       "      <td>4.090488</td>\n",
       "      <td>280248.0</td>\n",
       "      <td>98967.0</td>\n",
       "      <td>[39272, 10530, 17919, 30372, 182155]</td>\n",
       "      <td>0.00</td>\n",
       "      <td>True</td>\n",
       "      <td>True</td>\n",
       "      <td>85M</td>\n",
       "      <td>Action</td>\n",
       "      <td>Teen</td>\n",
       "      <td>2020-03-19</td>\n",
       "    </tr>\n",
       "    <tr>\n",
       "      <th>4</th>\n",
       "      <td>Draw Defence</td>\n",
       "      <td>500000</td>\n",
       "      <td>3.910000</td>\n",
       "      <td>1080.0</td>\n",
       "      <td>425.0</td>\n",
       "      <td>[227, 21, 54, 97, 681]</td>\n",
       "      <td>0.00</td>\n",
       "      <td>True</td>\n",
       "      <td>False</td>\n",
       "      <td>76M</td>\n",
       "      <td>Action</td>\n",
       "      <td>Everyone</td>\n",
       "      <td>2020-08-27</td>\n",
       "    </tr>\n",
       "    <tr>\n",
       "      <th>...</th>\n",
       "      <td>...</td>\n",
       "      <td>...</td>\n",
       "      <td>...</td>\n",
       "      <td>...</td>\n",
       "      <td>...</td>\n",
       "      <td>...</td>\n",
       "      <td>...</td>\n",
       "      <td>...</td>\n",
       "      <td>...</td>\n",
       "      <td>...</td>\n",
       "      <td>...</td>\n",
       "      <td>...</td>\n",
       "      <td>...</td>\n",
       "    </tr>\n",
       "    <tr>\n",
       "      <th>5128</th>\n",
       "      <td>Word Crack (Ad free)</td>\n",
       "      <td>50000</td>\n",
       "      <td>4.225993</td>\n",
       "      <td>16368.0</td>\n",
       "      <td>7664.0</td>\n",
       "      <td>[1335, 472, 1040, 3829, 9692]</td>\n",
       "      <td>2.99</td>\n",
       "      <td>False</td>\n",
       "      <td>True</td>\n",
       "      <td>56M</td>\n",
       "      <td>Word</td>\n",
       "      <td>Everyone</td>\n",
       "      <td>2011-10-19</td>\n",
       "    </tr>\n",
       "    <tr>\n",
       "      <th>5129</th>\n",
       "      <td>The Game Gal's Word Generator</td>\n",
       "      <td>1000</td>\n",
       "      <td>4.666666</td>\n",
       "      <td>12.0</td>\n",
       "      <td>6.0</td>\n",
       "      <td>[0, 1, 0, 1, 10]</td>\n",
       "      <td>1.99</td>\n",
       "      <td>False</td>\n",
       "      <td>False</td>\n",
       "      <td>9.4M</td>\n",
       "      <td>Word</td>\n",
       "      <td>Everyone</td>\n",
       "      <td>2017-12-25</td>\n",
       "    </tr>\n",
       "    <tr>\n",
       "      <th>5130</th>\n",
       "      <td>Dropwords 2</td>\n",
       "      <td>1000</td>\n",
       "      <td>4.452381</td>\n",
       "      <td>42.0</td>\n",
       "      <td>17.0</td>\n",
       "      <td>[1, 2, 2, 9, 28]</td>\n",
       "      <td>0.99</td>\n",
       "      <td>False</td>\n",
       "      <td>False</td>\n",
       "      <td>16M</td>\n",
       "      <td>Word</td>\n",
       "      <td>Everyone</td>\n",
       "      <td>2014-07-22</td>\n",
       "    </tr>\n",
       "    <tr>\n",
       "      <th>5131</th>\n",
       "      <td>CrossCraze PRO</td>\n",
       "      <td>10000</td>\n",
       "      <td>4.676190</td>\n",
       "      <td>1061.0</td>\n",
       "      <td>627.0</td>\n",
       "      <td>[10, 30, 50, 111, 860]</td>\n",
       "      <td>5.49</td>\n",
       "      <td>False</td>\n",
       "      <td>False</td>\n",
       "      <td>21M</td>\n",
       "      <td>Word</td>\n",
       "      <td>Everyone</td>\n",
       "      <td>2013-03-22</td>\n",
       "    </tr>\n",
       "    <tr>\n",
       "      <th>5132</th>\n",
       "      <td>Word Breaker Full</td>\n",
       "      <td>10000</td>\n",
       "      <td>4.160000</td>\n",
       "      <td>1109.0</td>\n",
       "      <td>588.0</td>\n",
       "      <td>[66, 33, 166, 233, 611]</td>\n",
       "      <td>2.99</td>\n",
       "      <td>False</td>\n",
       "      <td>False</td>\n",
       "      <td>14M</td>\n",
       "      <td>Word</td>\n",
       "      <td>Everyone</td>\n",
       "      <td>2011-02-24</td>\n",
       "    </tr>\n",
       "  </tbody>\n",
       "</table>\n",
       "<p>5041 rows × 13 columns</p>\n",
       "</div>"
      ],
      "text/plain": [
       "                              title  minInstalls     score     ratings  \\\n",
       "0                          Among Us    100000000  4.474048   2132693.0   \n",
       "1                    Scribble Rider     10000000  3.884314    219513.0   \n",
       "2             Call of Duty®: Mobile    100000000  4.478313  10757089.0   \n",
       "3                        Hitmasters     50000000  4.090488    280248.0   \n",
       "4                      Draw Defence       500000  3.910000      1080.0   \n",
       "...                             ...          ...       ...         ...   \n",
       "5128           Word Crack (Ad free)        50000  4.225993     16368.0   \n",
       "5129  The Game Gal's Word Generator         1000  4.666666        12.0   \n",
       "5130                    Dropwords 2         1000  4.452381        42.0   \n",
       "5131                 CrossCraze PRO        10000  4.676190      1061.0   \n",
       "5132              Word Breaker Full        10000  4.160000      1109.0   \n",
       "\n",
       "        reviews                                   histogram  price   free  \\\n",
       "0     1101564.0     [154333, 39857, 89011, 206765, 1642727]   0.00   True   \n",
       "1       91620.0        [39359, 11409, 15784, 21673, 131288]   0.00   True   \n",
       "2     4953322.0  [783831, 203300, 401111, 1064381, 8304466]   0.00   True   \n",
       "3       98967.0        [39272, 10530, 17919, 30372, 182155]   0.00   True   \n",
       "4         425.0                      [227, 21, 54, 97, 681]   0.00   True   \n",
       "...         ...                                         ...    ...    ...   \n",
       "5128     7664.0               [1335, 472, 1040, 3829, 9692]   2.99  False   \n",
       "5129        6.0                            [0, 1, 0, 1, 10]   1.99  False   \n",
       "5130       17.0                            [1, 2, 2, 9, 28]   0.99  False   \n",
       "5131      627.0                      [10, 30, 50, 111, 860]   5.49  False   \n",
       "5132      588.0                     [66, 33, 166, 233, 611]   2.99  False   \n",
       "\n",
       "      offersIAP  size   genre contentRating releasedate  \n",
       "0          True   70M  Action  Everyone 10+  2018-06-15  \n",
       "1          True  123M  Action      Everyone  2020-07-23  \n",
       "2          True   94M  Action    Mature 17+  2019-09-30  \n",
       "3          True   85M  Action          Teen  2020-03-19  \n",
       "4         False   76M  Action      Everyone  2020-08-27  \n",
       "...         ...   ...     ...           ...         ...  \n",
       "5128       True   56M    Word      Everyone  2011-10-19  \n",
       "5129      False  9.4M    Word      Everyone  2017-12-25  \n",
       "5130      False   16M    Word      Everyone  2014-07-22  \n",
       "5131      False   21M    Word      Everyone  2013-03-22  \n",
       "5132      False   14M    Word      Everyone  2011-02-24  \n",
       "\n",
       "[5041 rows x 13 columns]"
      ]
     },
     "execution_count": 21,
     "metadata": {},
     "output_type": "execute_result"
    }
   ],
   "source": [
    "df['releasedate'] = df['released'].apply(pd.to_datetime)\n",
    "df.drop(columns=['released'], inplace=True)\n",
    "df"
   ]
  },
  {
   "cell_type": "markdown",
   "metadata": {},
   "source": [
    "=================================================================================================================="
   ]
  },
  {
   "cell_type": "markdown",
   "metadata": {},
   "source": [
    "# Feature Engineering"
   ]
  },
  {
   "cell_type": "markdown",
   "metadata": {},
   "source": [
    "=================================================================================================================="
   ]
  },
  {
   "cell_type": "markdown",
   "metadata": {},
   "source": [
    "# NLP"
   ]
  },
  {
   "cell_type": "code",
   "execution_count": 22,
   "metadata": {},
   "outputs": [],
   "source": [
    "import bz2\n",
    "\n",
    "def decompress_pickle(file):\n",
    "    data = bz2.BZ2File(file, 'rb')\n",
    "    data = pickle.load(data)\n",
    "    return data"
   ]
  },
  {
   "cell_type": "code",
   "execution_count": 23,
   "metadata": {},
   "outputs": [
    {
     "data": {
      "text/plain": [
       "1051174"
      ]
     },
     "execution_count": 23,
     "metadata": {},
     "output_type": "execute_result"
    }
   ],
   "source": [
    "bigreviewlist = decompress_pickle('compressedbiglistreview.pbz2')\n",
    "len(bigreviewlist)"
   ]
  },
  {
   "cell_type": "code",
   "execution_count": 24,
   "metadata": {},
   "outputs": [
    {
     "data": {
      "text/html": [
       "<div>\n",
       "<style scoped>\n",
       "    .dataframe tbody tr th:only-of-type {\n",
       "        vertical-align: middle;\n",
       "    }\n",
       "\n",
       "    .dataframe tbody tr th {\n",
       "        vertical-align: top;\n",
       "    }\n",
       "\n",
       "    .dataframe thead th {\n",
       "        text-align: right;\n",
       "    }\n",
       "</style>\n",
       "<table border=\"1\" class=\"dataframe\">\n",
       "  <thead>\n",
       "    <tr style=\"text-align: right;\">\n",
       "      <th></th>\n",
       "      <th>content</th>\n",
       "      <th>score</th>\n",
       "    </tr>\n",
       "  </thead>\n",
       "  <tbody>\n",
       "    <tr>\n",
       "      <th>0</th>\n",
       "      <td>It is very fun. But the only problem is that y...</td>\n",
       "      <td>4</td>\n",
       "    </tr>\n",
       "    <tr>\n",
       "      <th>1</th>\n",
       "      <td>Great game! First, the bad. There are plenty o...</td>\n",
       "      <td>4</td>\n",
       "    </tr>\n",
       "    <tr>\n",
       "      <th>2</th>\n",
       "      <td>Simple enough game. Gameplay works really well...</td>\n",
       "      <td>5</td>\n",
       "    </tr>\n",
       "    <tr>\n",
       "      <th>3</th>\n",
       "      <td>Very good game but could be better. Ex: there ...</td>\n",
       "      <td>4</td>\n",
       "    </tr>\n",
       "    <tr>\n",
       "      <th>4</th>\n",
       "      <td>This game is great. I do have a few nitpicks t...</td>\n",
       "      <td>4</td>\n",
       "    </tr>\n",
       "    <tr>\n",
       "      <th>...</th>\n",
       "      <td>...</td>\n",
       "      <td>...</td>\n",
       "    </tr>\n",
       "    <tr>\n",
       "      <th>1051169</th>\n",
       "      <td>Excellent app.</td>\n",
       "      <td>5</td>\n",
       "    </tr>\n",
       "    <tr>\n",
       "      <th>1051170</th>\n",
       "      <td>Still doesn't find the highest scoring words 9...</td>\n",
       "      <td>2</td>\n",
       "    </tr>\n",
       "    <tr>\n",
       "      <th>1051171</th>\n",
       "      <td>Which is the best dictionary for English's uk ...</td>\n",
       "      <td>5</td>\n",
       "    </tr>\n",
       "    <tr>\n",
       "      <th>1051172</th>\n",
       "      <td>Spelling has always been my forte, but this ga...</td>\n",
       "      <td>5</td>\n",
       "    </tr>\n",
       "    <tr>\n",
       "      <th>1051173</th>\n",
       "      <td>One of my favorites. Keeps me young in thought.</td>\n",
       "      <td>5</td>\n",
       "    </tr>\n",
       "  </tbody>\n",
       "</table>\n",
       "<p>1051174 rows × 2 columns</p>\n",
       "</div>"
      ],
      "text/plain": [
       "                                                   content  score\n",
       "0        It is very fun. But the only problem is that y...      4\n",
       "1        Great game! First, the bad. There are plenty o...      4\n",
       "2        Simple enough game. Gameplay works really well...      5\n",
       "3        Very good game but could be better. Ex: there ...      4\n",
       "4        This game is great. I do have a few nitpicks t...      4\n",
       "...                                                    ...    ...\n",
       "1051169                                     Excellent app.      5\n",
       "1051170  Still doesn't find the highest scoring words 9...      2\n",
       "1051171  Which is the best dictionary for English's uk ...      5\n",
       "1051172  Spelling has always been my forte, but this ga...      5\n",
       "1051173    One of my favorites. Keeps me young in thought.      5\n",
       "\n",
       "[1051174 rows x 2 columns]"
      ]
     },
     "execution_count": 24,
     "metadata": {},
     "output_type": "execute_result"
    }
   ],
   "source": [
    "dfreview = pd.DataFrame(bigreviewlist)\n",
    "dfreview"
   ]
  },
  {
   "cell_type": "code",
   "execution_count": 25,
   "metadata": {},
   "outputs": [
    {
     "data": {
      "text/plain": [
       "content    223\n",
       "score        0\n",
       "dtype: int64"
      ]
     },
     "execution_count": 25,
     "metadata": {},
     "output_type": "execute_result"
    }
   ],
   "source": [
    "dfreview.isna().sum()"
   ]
  },
  {
   "cell_type": "code",
   "execution_count": 26,
   "metadata": {
    "scrolled": true
   },
   "outputs": [
    {
     "data": {
      "text/html": [
       "<div>\n",
       "<style scoped>\n",
       "    .dataframe tbody tr th:only-of-type {\n",
       "        vertical-align: middle;\n",
       "    }\n",
       "\n",
       "    .dataframe tbody tr th {\n",
       "        vertical-align: top;\n",
       "    }\n",
       "\n",
       "    .dataframe thead th {\n",
       "        text-align: right;\n",
       "    }\n",
       "</style>\n",
       "<table border=\"1\" class=\"dataframe\">\n",
       "  <thead>\n",
       "    <tr style=\"text-align: right;\">\n",
       "      <th></th>\n",
       "      <th>content</th>\n",
       "      <th>score</th>\n",
       "    </tr>\n",
       "  </thead>\n",
       "  <tbody>\n",
       "    <tr>\n",
       "      <th>0</th>\n",
       "      <td>It is very fun. But the only problem is that y...</td>\n",
       "      <td>4</td>\n",
       "    </tr>\n",
       "    <tr>\n",
       "      <th>1</th>\n",
       "      <td>Great game! First, the bad. There are plenty o...</td>\n",
       "      <td>4</td>\n",
       "    </tr>\n",
       "    <tr>\n",
       "      <th>2</th>\n",
       "      <td>Simple enough game. Gameplay works really well...</td>\n",
       "      <td>5</td>\n",
       "    </tr>\n",
       "    <tr>\n",
       "      <th>3</th>\n",
       "      <td>Very good game but could be better. Ex: there ...</td>\n",
       "      <td>4</td>\n",
       "    </tr>\n",
       "    <tr>\n",
       "      <th>4</th>\n",
       "      <td>This game is great. I do have a few nitpicks t...</td>\n",
       "      <td>4</td>\n",
       "    </tr>\n",
       "    <tr>\n",
       "      <th>...</th>\n",
       "      <td>...</td>\n",
       "      <td>...</td>\n",
       "    </tr>\n",
       "    <tr>\n",
       "      <th>1051169</th>\n",
       "      <td>Excellent app.</td>\n",
       "      <td>5</td>\n",
       "    </tr>\n",
       "    <tr>\n",
       "      <th>1051170</th>\n",
       "      <td>Still doesn't find the highest scoring words 9...</td>\n",
       "      <td>2</td>\n",
       "    </tr>\n",
       "    <tr>\n",
       "      <th>1051171</th>\n",
       "      <td>Which is the best dictionary for English's uk ...</td>\n",
       "      <td>5</td>\n",
       "    </tr>\n",
       "    <tr>\n",
       "      <th>1051172</th>\n",
       "      <td>Spelling has always been my forte, but this ga...</td>\n",
       "      <td>5</td>\n",
       "    </tr>\n",
       "    <tr>\n",
       "      <th>1051173</th>\n",
       "      <td>One of my favorites. Keeps me young in thought.</td>\n",
       "      <td>5</td>\n",
       "    </tr>\n",
       "  </tbody>\n",
       "</table>\n",
       "<p>1050951 rows × 2 columns</p>\n",
       "</div>"
      ],
      "text/plain": [
       "                                                   content  score\n",
       "0        It is very fun. But the only problem is that y...      4\n",
       "1        Great game! First, the bad. There are plenty o...      4\n",
       "2        Simple enough game. Gameplay works really well...      5\n",
       "3        Very good game but could be better. Ex: there ...      4\n",
       "4        This game is great. I do have a few nitpicks t...      4\n",
       "...                                                    ...    ...\n",
       "1051169                                     Excellent app.      5\n",
       "1051170  Still doesn't find the highest scoring words 9...      2\n",
       "1051171  Which is the best dictionary for English's uk ...      5\n",
       "1051172  Spelling has always been my forte, but this ga...      5\n",
       "1051173    One of my favorites. Keeps me young in thought.      5\n",
       "\n",
       "[1050951 rows x 2 columns]"
      ]
     },
     "execution_count": 26,
     "metadata": {},
     "output_type": "execute_result"
    }
   ],
   "source": [
    "dfreview.dropna(inplace=True)\n",
    "dfreview"
   ]
  },
  {
   "cell_type": "code",
   "execution_count": 27,
   "metadata": {},
   "outputs": [
    {
     "data": {
      "text/plain": [
       "5    519518\n",
       "1    189568\n",
       "4    160845\n",
       "3    105838\n",
       "2     75163\n",
       "0        19\n",
       "Name: score, dtype: int64"
      ]
     },
     "execution_count": 27,
     "metadata": {},
     "output_type": "execute_result"
    }
   ],
   "source": [
    "dfreview['score'].value_counts()"
   ]
  },
  {
   "cell_type": "code",
   "execution_count": 28,
   "metadata": {},
   "outputs": [],
   "source": [
    "dfreview = dfreview[dfreview['score'] != 0]"
   ]
  },
  {
   "cell_type": "code",
   "execution_count": 29,
   "metadata": {
    "scrolled": true
   },
   "outputs": [],
   "source": [
    "count1 = len(dfreview[dfreview['score'] == 1])\n",
    "count2 = len(dfreview[dfreview['score'] == 2])\n",
    "count3 = len(dfreview[dfreview['score'] == 3])\n",
    "count4 = len(dfreview[dfreview['score'] == 4])\n",
    "count5 = len(dfreview[dfreview['score'] == 5])\n",
    "\n",
    "total = count1 + count2 + count3 + count4 + count5"
   ]
  },
  {
   "cell_type": "code",
   "execution_count": 30,
   "metadata": {},
   "outputs": [
    {
     "data": {
      "image/png": "[encoded data removed]",
      "text/plain": [
       "<Figure size 720x720 with 1 Axes>"
      ]
     },
     "metadata": {
      "needs_background": "light"
     },
     "output_type": "display_data"
    }
   ],
   "source": [
    "plt.figure(figsize=(10,10))\n",
    "\n",
    "xaxis = ['1', '2', '3', '4', '5']\n",
    "yaxis = [count1, count2, count3, count4, count5]\n",
    "ax = sns.barplot(xaxis, yaxis)\n",
    "\n",
    "plt.title('% Rating for Top Free and Paid Mobile Games')\n",
    "plt.ylabel('Count', fontsize = 20)\n",
    "plt.xlabel('Rating', fontsize = 20)\n",
    "\n",
    "\n",
    "for p in ax.patches:\n",
    "             ax.annotate(\"%.2f\" % (p.get_height()*100/total)+'%', (p.get_x() + p.get_width() / 2., p.get_height()),\n",
    "                 ha='center', va='center', fontsize=11, color='black', xytext=(0, 20),\n",
    "                 textcoords='offset points')"
   ]
  },
  {
   "cell_type": "code",
   "execution_count": 31,
   "metadata": {},
   "outputs": [],
   "source": [
    "# Separating reviews into their scores.\n",
    "\n",
    "rating1 = dfreview.loc[dfreview['score'] == 1]\n",
    "rating2 = dfreview.loc[dfreview['score'] == 2]\n",
    "rating3 = dfreview.loc[dfreview['score'] == 3]\n",
    "rating4 = dfreview.loc[dfreview['score'] == 4]\n",
    "rating5 = dfreview.loc[dfreview['score'] == 5]"
   ]
  },
  {
   "cell_type": "code",
   "execution_count": 32,
   "metadata": {
    "scrolled": false
   },
   "outputs": [
    {
     "data": {
      "text/html": [
       "<div>\n",
       "<style scoped>\n",
       "    .dataframe tbody tr th:only-of-type {\n",
       "        vertical-align: middle;\n",
       "    }\n",
       "\n",
       "    .dataframe tbody tr th {\n",
       "        vertical-align: top;\n",
       "    }\n",
       "\n",
       "    .dataframe thead th {\n",
       "        text-align: right;\n",
       "    }\n",
       "</style>\n",
       "<table border=\"1\" class=\"dataframe\">\n",
       "  <thead>\n",
       "    <tr style=\"text-align: right;\">\n",
       "      <th></th>\n",
       "      <th>content</th>\n",
       "      <th>score</th>\n",
       "    </tr>\n",
       "  </thead>\n",
       "  <tbody>\n",
       "    <tr>\n",
       "      <th>30</th>\n",
       "      <td>it was fun at first. but when the outside comm...</td>\n",
       "      <td>1</td>\n",
       "    </tr>\n",
       "    <tr>\n",
       "      <th>51</th>\n",
       "      <td>It's an amazing game but after one whole day o...</td>\n",
       "      <td>1</td>\n",
       "    </tr>\n",
       "  </tbody>\n",
       "</table>\n",
       "</div>"
      ],
      "text/plain": [
       "                                              content  score\n",
       "30  it was fun at first. but when the outside comm...      1\n",
       "51  It's an amazing game but after one whole day o...      1"
      ]
     },
     "execution_count": 32,
     "metadata": {},
     "output_type": "execute_result"
    }
   ],
   "source": [
    "rating1.head(2)"
   ]
  },
  {
   "cell_type": "code",
   "execution_count": 33,
   "metadata": {},
   "outputs": [
    {
     "data": {
      "text/html": [
       "<div>\n",
       "<style scoped>\n",
       "    .dataframe tbody tr th:only-of-type {\n",
       "        vertical-align: middle;\n",
       "    }\n",
       "\n",
       "    .dataframe tbody tr th {\n",
       "        vertical-align: top;\n",
       "    }\n",
       "\n",
       "    .dataframe thead th {\n",
       "        text-align: right;\n",
       "    }\n",
       "</style>\n",
       "<table border=\"1\" class=\"dataframe\">\n",
       "  <thead>\n",
       "    <tr style=\"text-align: right;\">\n",
       "      <th></th>\n",
       "      <th>content</th>\n",
       "      <th>score</th>\n",
       "    </tr>\n",
       "  </thead>\n",
       "  <tbody>\n",
       "    <tr>\n",
       "      <th>31</th>\n",
       "      <td>So the game on itself is amazing, however, it ...</td>\n",
       "      <td>2</td>\n",
       "    </tr>\n",
       "    <tr>\n",
       "      <th>37</th>\n",
       "      <td>I really enjoy the game but it has some proble...</td>\n",
       "      <td>2</td>\n",
       "    </tr>\n",
       "  </tbody>\n",
       "</table>\n",
       "</div>"
      ],
      "text/plain": [
       "                                              content  score\n",
       "31  So the game on itself is amazing, however, it ...      2\n",
       "37  I really enjoy the game but it has some proble...      2"
      ]
     },
     "execution_count": 33,
     "metadata": {},
     "output_type": "execute_result"
    }
   ],
   "source": [
    "rating2.head(2)"
   ]
  },
  {
   "cell_type": "code",
   "execution_count": 34,
   "metadata": {},
   "outputs": [
    {
     "data": {
      "text/html": [
       "<div>\n",
       "<style scoped>\n",
       "    .dataframe tbody tr th:only-of-type {\n",
       "        vertical-align: middle;\n",
       "    }\n",
       "\n",
       "    .dataframe tbody tr th {\n",
       "        vertical-align: top;\n",
       "    }\n",
       "\n",
       "    .dataframe thead th {\n",
       "        text-align: right;\n",
       "    }\n",
       "</style>\n",
       "<table border=\"1\" class=\"dataframe\">\n",
       "  <thead>\n",
       "    <tr style=\"text-align: right;\">\n",
       "      <th></th>\n",
       "      <th>content</th>\n",
       "      <th>score</th>\n",
       "    </tr>\n",
       "  </thead>\n",
       "  <tbody>\n",
       "    <tr>\n",
       "      <th>19</th>\n",
       "      <td>It's an amazing game, I love it. But recently ...</td>\n",
       "      <td>3</td>\n",
       "    </tr>\n",
       "    <tr>\n",
       "      <th>21</th>\n",
       "      <td>The game is absolutely wonderful, on pc. Playi...</td>\n",
       "      <td>3</td>\n",
       "    </tr>\n",
       "  </tbody>\n",
       "</table>\n",
       "</div>"
      ],
      "text/plain": [
       "                                              content  score\n",
       "19  It's an amazing game, I love it. But recently ...      3\n",
       "21  The game is absolutely wonderful, on pc. Playi...      3"
      ]
     },
     "execution_count": 34,
     "metadata": {},
     "output_type": "execute_result"
    }
   ],
   "source": [
    "rating3.head(2)"
   ]
  },
  {
   "cell_type": "code",
   "execution_count": 35,
   "metadata": {},
   "outputs": [
    {
     "data": {
      "text/html": [
       "<div>\n",
       "<style scoped>\n",
       "    .dataframe tbody tr th:only-of-type {\n",
       "        vertical-align: middle;\n",
       "    }\n",
       "\n",
       "    .dataframe tbody tr th {\n",
       "        vertical-align: top;\n",
       "    }\n",
       "\n",
       "    .dataframe thead th {\n",
       "        text-align: right;\n",
       "    }\n",
       "</style>\n",
       "<table border=\"1\" class=\"dataframe\">\n",
       "  <thead>\n",
       "    <tr style=\"text-align: right;\">\n",
       "      <th></th>\n",
       "      <th>content</th>\n",
       "      <th>score</th>\n",
       "    </tr>\n",
       "  </thead>\n",
       "  <tbody>\n",
       "    <tr>\n",
       "      <th>0</th>\n",
       "      <td>It is very fun. But the only problem is that y...</td>\n",
       "      <td>4</td>\n",
       "    </tr>\n",
       "    <tr>\n",
       "      <th>1</th>\n",
       "      <td>Great game! First, the bad. There are plenty o...</td>\n",
       "      <td>4</td>\n",
       "    </tr>\n",
       "  </tbody>\n",
       "</table>\n",
       "</div>"
      ],
      "text/plain": [
       "                                             content  score\n",
       "0  It is very fun. But the only problem is that y...      4\n",
       "1  Great game! First, the bad. There are plenty o...      4"
      ]
     },
     "execution_count": 35,
     "metadata": {},
     "output_type": "execute_result"
    }
   ],
   "source": [
    "rating4.head(2)"
   ]
  },
  {
   "cell_type": "code",
   "execution_count": 36,
   "metadata": {},
   "outputs": [
    {
     "data": {
      "text/html": [
       "<div>\n",
       "<style scoped>\n",
       "    .dataframe tbody tr th:only-of-type {\n",
       "        vertical-align: middle;\n",
       "    }\n",
       "\n",
       "    .dataframe tbody tr th {\n",
       "        vertical-align: top;\n",
       "    }\n",
       "\n",
       "    .dataframe thead th {\n",
       "        text-align: right;\n",
       "    }\n",
       "</style>\n",
       "<table border=\"1\" class=\"dataframe\">\n",
       "  <thead>\n",
       "    <tr style=\"text-align: right;\">\n",
       "      <th></th>\n",
       "      <th>content</th>\n",
       "      <th>score</th>\n",
       "    </tr>\n",
       "  </thead>\n",
       "  <tbody>\n",
       "    <tr>\n",
       "      <th>2</th>\n",
       "      <td>Simple enough game. Gameplay works really well...</td>\n",
       "      <td>5</td>\n",
       "    </tr>\n",
       "    <tr>\n",
       "      <th>5</th>\n",
       "      <td>A wonderful game to test how strong your bond ...</td>\n",
       "      <td>5</td>\n",
       "    </tr>\n",
       "  </tbody>\n",
       "</table>\n",
       "</div>"
      ],
      "text/plain": [
       "                                             content  score\n",
       "2  Simple enough game. Gameplay works really well...      5\n",
       "5  A wonderful game to test how strong your bond ...      5"
      ]
     },
     "execution_count": 36,
     "metadata": {},
     "output_type": "execute_result"
    }
   ],
   "source": [
    "rating5.head(2)"
   ]
  },
  {
   "cell_type": "markdown",
   "metadata": {},
   "source": [
    "### Tokenizing"
   ]
  },
  {
   "cell_type": "code",
   "execution_count": 37,
   "metadata": {},
   "outputs": [],
   "source": [
    "# Remove common words\n",
    "stopwords_list = stopwords.words('english') + list(string.punctuation)\n",
    "# Remove more punctuation\n",
    "stopwords_list += [\"''\", '\"\"', '...', '``']\n",
    "# Remove random numerals\n",
    "stopwords_list += ['0', '1', '2', '3', '4', '5', '6', '7', '8', '9']\n",
    "# Remove contractions\n",
    "stopwords_list += [\"'d\", \"'ve\", \"ca\", \"n't\",  \"'t\", \"'re\", \"'ll\", \"'s\"]"
   ]
  },
  {
   "cell_type": "code",
   "execution_count": 38,
   "metadata": {},
   "outputs": [],
   "source": [
    "def process_reviews(reviews):\n",
    "    tokens = nltk.word_tokenize(reviews)\n",
    "    stopwords_removed = [token.lower() for token in tokens if token.lower() not in stopwords_list]\n",
    "    return stopwords_removed    "
   ]
  },
  {
   "cell_type": "code",
   "execution_count": null,
   "metadata": {
    "scrolled": false
   },
   "outputs": [],
   "source": [
    "rating1['wordlist'] = rating1['content'].apply(lambda x: process_reviews(x))\n",
    "rating2['wordlist'] = rating2['content'].apply(lambda x: process_reviews(x))\n",
    "rating3['wordlist'] = rating3['content'].apply(lambda x: process_reviews(x))\n",
    "rating4['wordlist'] = rating4['content'].apply(lambda x: process_reviews(x))\n",
    "rating5['wordlist'] = rating5['content'].apply(lambda x: process_reviews(x))"
   ]
  },
  {
   "cell_type": "markdown",
   "metadata": {},
   "source": [
    "### Lemmatizer"
   ]
  },
  {
   "cell_type": "code",
   "execution_count": 39,
   "metadata": {},
   "outputs": [],
   "source": [
    "lemmatizer = nltk.stem.WordNetLemmatizer()\n",
    "\n",
    "def lemmatize_text(text):\n",
    "    return [lemmatizer.lemmatize(w) for w in text]"
   ]
  },
  {
   "cell_type": "code",
   "execution_count": null,
   "metadata": {
    "scrolled": true
   },
   "outputs": [],
   "source": [
    "rating1['wordlistlem'] = rating1['wordlist'].apply(lemmatize_text)\n",
    "rating2['wordlistlem'] = rating2['wordlist'].apply(lemmatize_text)\n",
    "rating3['wordlistlem'] = rating3['wordlist'].apply(lemmatize_text)\n",
    "rating4['wordlistlem'] = rating4['wordlist'].apply(lemmatize_text)\n",
    "rating5['wordlistlem'] = rating5['wordlist'].apply(lemmatize_text)"
   ]
  },
  {
   "cell_type": "markdown",
   "metadata": {},
   "source": [
    "### Saving Dataframes"
   ]
  },
  {
   "cell_type": "code",
   "execution_count": 41,
   "metadata": {},
   "outputs": [],
   "source": [
    "# Saving tokens into a sub-folder in for tidiness.\n",
    "\n",
    "from pathlib import Path\n",
    "\n",
    "root = Path('.')\n",
    "\n",
    "my_path1 = root / \"tokens\" / \"processedreviewrating1.pbz2\"\n",
    "my_path2 = root / \"tokens\" / \"processedreviewrating2.pbz2\"\n",
    "my_path3 = root / \"tokens\" / \"processedreviewrating3.pbz2\"\n",
    "my_path4 = root / \"tokens\" / \"processedreviewrating4.pbz2\"\n",
    "my_path5 = root / \"tokens\" / \"processedreviewrating5.pbz2\"\n",
    "\n",
    "import bz2\n",
    "\n",
    "def compressed_pickle(path, data):\n",
    "    with bz2.BZ2File(path, 'w') as f:\n",
    "        pickle.dump(data, f)"
   ]
  },
  {
   "cell_type": "code",
   "execution_count": null,
   "metadata": {},
   "outputs": [],
   "source": [
    "compressed_pickle(my_path1, rating1)\n",
    "compressed_pickle(my_path2, rating2)\n",
    "compressed_pickle(my_path3, rating3)\n",
    "compressed_pickle(my_path4, rating4)\n",
    "compressed_pickle(my_path5, rating5)"
   ]
  },
  {
   "cell_type": "code",
   "execution_count": 42,
   "metadata": {},
   "outputs": [],
   "source": [
    "# Retrieve our pickled dataframes\n",
    "\n",
    "rating1 = decompress_pickle(my_path1)\n",
    "rating2 = decompress_pickle(my_path2)\n",
    "rating3 = decompress_pickle(my_path3)\n",
    "rating4 = decompress_pickle(my_path4)\n",
    "rating5 = decompress_pickle(my_path5)"
   ]
  },
  {
   "cell_type": "markdown",
   "metadata": {},
   "source": [
    "## Word Frequency in all reviews"
   ]
  },
  {
   "cell_type": "code",
   "execution_count": 47,
   "metadata": {},
   "outputs": [
    {
     "data": {
      "text/plain": [
       "30     [fun, first, outside, communication, involve, ...\n",
       "51     [amazing, game, one, whole, day, playing, get,...\n",
       "76     [could, even, play, game, android, tablet, way...\n",
       "110    [really, excited, got, game, allow, play, 30, ...\n",
       "161    [sorry, editing, giving, star, first, fun, int...\n",
       "Name: wordlistlem, dtype: object"
      ]
     },
     "execution_count": 47,
     "metadata": {},
     "output_type": "execute_result"
    }
   ],
   "source": [
    "rating1['wordlistlem'].head()"
   ]
  },
  {
   "cell_type": "code",
   "execution_count": 52,
   "metadata": {},
   "outputs": [
    {
     "name": "stdout",
     "output_type": "stream",
     "text": [
      "0:00:01.094181\n",
      "------------\n",
      "3524081\n",
      "1616722\n",
      "2134597\n",
      "2865797\n",
      "6993444\n"
     ]
    }
   ],
   "source": [
    "starttime = datetime.now()\n",
    "\n",
    "processedreviewrating1 = [item for elem in rating1['wordlistlem'] for item in elem]\n",
    "processedreviewrating2 = [item for elem in rating2['wordlistlem'] for item in elem]\n",
    "processedreviewrating3 = [item for elem in rating3['wordlistlem'] for item in elem]\n",
    "processedreviewrating4 = [item for elem in rating4['wordlistlem'] for item in elem]\n",
    "processedreviewrating5 = [item for elem in rating5['wordlistlem'] for item in elem]\n",
    "\n",
    "print(datetime.now() - starttime)\n",
    "print('------------')\n",
    "print(len(processedreviewrating1))\n",
    "print(len(processedreviewrating2))\n",
    "print(len(processedreviewrating3))\n",
    "print(len(processedreviewrating4))\n",
    "print(len(processedreviewrating5))"
   ]
  },
  {
   "cell_type": "code",
   "execution_count": 53,
   "metadata": {
    "scrolled": true
   },
   "outputs": [
    {
     "data": {
      "text/plain": [
       "17134641"
      ]
     },
     "execution_count": 53,
     "metadata": {},
     "output_type": "execute_result"
    }
   ],
   "source": [
    "# 17.1 million words total.\n",
    "\n",
    "totalprocessedreviews = processedreviewrating1 + processedreviewrating2 + processedreviewrating3 + processedreviewrating4 + processedreviewrating5\n",
    "len(totalprocessedreviews)"
   ]
  },
  {
   "cell_type": "code",
   "execution_count": 55,
   "metadata": {
    "scrolled": true
   },
   "outputs": [
    {
     "data": {
      "text/plain": [
       "[('game', 1118128),\n",
       " ('like', 236542),\n",
       " ('play', 218367),\n",
       " ('good', 199171),\n",
       " ('fun', 190208),\n",
       " ('love', 189112),\n",
       " ('get', 181515),\n",
       " ('ad', 175912),\n",
       " ('time', 154781),\n",
       " ('great', 147934),\n",
       " ('really', 137883),\n",
       " ('one', 121060),\n",
       " ('app', 109876),\n",
       " ('would', 108088),\n",
       " ('make', 106926),\n",
       " ('level', 104690),\n",
       " ('playing', 88243),\n",
       " ('much', 83478),\n",
       " ('star', 78392),\n",
       " ('even', 75842)]"
      ]
     },
     "execution_count": 55,
     "metadata": {},
     "output_type": "execute_result"
    }
   ],
   "source": [
    "review_freqdist = FreqDist(totalprocessedreviews)\n",
    "review_freqdist.most_common(20)"
   ]
  },
  {
   "cell_type": "code",
   "execution_count": 56,
   "metadata": {},
   "outputs": [
    {
     "data": {
      "image/png": "[encoded data removed]",
      "text/plain": [
       "<Figure size 1296x1008 with 1 Axes>"
      ]
     },
     "metadata": {
      "needs_background": "light"
     },
     "output_type": "display_data"
    }
   ],
   "source": [
    "mostcommonwords20 = review_freqdist.most_common(20)\n",
    "\n",
    "yaxis20 = [val[1] for val in mostcommonwords20]\n",
    "\n",
    "xaxis20 = [val[0] for val in mostcommonwords20]\n",
    "\n",
    "plt.figure(figsize=(18, 14))\n",
    "ax = sns.barplot(xaxis20, yaxis20)\n",
    "plt.title('Top 20 Most Common Words in Mobile Game Reviews', fontsize = 25)\n",
    "plt.ylabel('Frequency of word', fontsize = 20)\n",
    "\n",
    "\n",
    "for p in ax.patches:\n",
    "             ax.annotate(\"%.2f\" % (p.get_height()*100/sum(yaxis20))+'%', (p.get_x() + p.get_width() / 2., p.get_height()),\n",
    "                 ha='center', va='center', fontsize=11, color='black', xytext=(0, 20),\n",
    "                 textcoords='offset points')"
   ]
  },
  {
   "cell_type": "markdown",
   "metadata": {},
   "source": [
    "## Word Frequency in 1 Rating Reviews"
   ]
  },
  {
   "cell_type": "code",
   "execution_count": 57,
   "metadata": {},
   "outputs": [],
   "source": [
    "uselesswords = ['game', 'play', 'really', 'get', 'would']\n",
    "processedreviewrating1[:] = [x for x in processedreviewrating1 if x not in uselesswords]"
   ]
  },
  {
   "cell_type": "code",
   "execution_count": 58,
   "metadata": {
    "scrolled": true
   },
   "outputs": [
    {
     "data": {
      "text/plain": [
       "[('ad', 68577),\n",
       " ('time', 41179),\n",
       " ('like', 29859),\n",
       " ('app', 29345),\n",
       " ('even', 28764),\n",
       " ('money', 27180),\n",
       " ('level', 25397),\n",
       " ('one', 22188),\n",
       " ('every', 20640),\n",
       " ('many', 19683),\n",
       " ('make', 18524),\n",
       " ('good', 17170),\n",
       " ('playing', 16954),\n",
       " ('star', 16708),\n",
       " ('fix', 15122),\n",
       " ('give', 14901),\n",
       " ('want', 14646),\n",
       " ('fun', 14375),\n",
       " ('update', 14266),\n",
       " ('way', 14068)]"
      ]
     },
     "execution_count": 58,
     "metadata": {},
     "output_type": "execute_result"
    }
   ],
   "source": [
    "review1_freqdist = FreqDist(processedreviewrating1)\n",
    "review1_freqdist.most_common(20)"
   ]
  },
  {
   "cell_type": "code",
   "execution_count": 59,
   "metadata": {},
   "outputs": [
    {
     "data": {
      "image/png": "[encoded data removed]",
      "text/plain": [
       "<Figure size 1296x1008 with 1 Axes>"
      ]
     },
     "metadata": {
      "needs_background": "light"
     },
     "output_type": "display_data"
    }
   ],
   "source": [
    "mostcommonwords201 = review1_freqdist.most_common(20)\n",
    "\n",
    "yaxis201 = [val[1] for val in mostcommonwords201]\n",
    "\n",
    "xaxis201 = [val[0] for val in mostcommonwords201]\n",
    "\n",
    "plt.figure(figsize=(18, 14))\n",
    "ax = sns.barplot(xaxis201, yaxis201)\n",
    "plt.title('Top 20 Most Common Words in Mobile Game Reviews for 1 Rating', fontsize = 25)\n",
    "plt.ylabel('Frequency of word', fontsize = 20)\n",
    "\n",
    "\n",
    "for p in ax.patches:\n",
    "             ax.annotate(\"%.2f\" % (p.get_height()*100/sum(yaxis201))+'%', (p.get_x() + p.get_width() / 2., p.get_height()),\n",
    "                 ha='center', va='center', fontsize=11, color='black', xytext=(0, 20),\n",
    "                 textcoords='offset points')"
   ]
  },
  {
   "cell_type": "markdown",
   "metadata": {},
   "source": [
    "## Word Frequency in 2 Rating Reviews"
   ]
  },
  {
   "cell_type": "code",
   "execution_count": 60,
   "metadata": {},
   "outputs": [],
   "source": [
    "processedreviewrating2[:] = [x for x in processedreviewrating2 if x not in uselesswords]"
   ]
  },
  {
   "cell_type": "code",
   "execution_count": 61,
   "metadata": {
    "scrolled": true
   },
   "outputs": [
    {
     "data": {
      "text/plain": [
       "[('ad', 26976),\n",
       " ('like', 16735),\n",
       " ('time', 16499),\n",
       " ('level', 13962),\n",
       " ('good', 12227),\n",
       " ('fun', 12122),\n",
       " ('one', 9665),\n",
       " ('even', 9573),\n",
       " ('make', 9503),\n",
       " ('many', 9275),\n",
       " ('app', 9078),\n",
       " ('money', 8723),\n",
       " ('every', 8548),\n",
       " ('playing', 8132),\n",
       " ('way', 7695),\n",
       " ('star', 7491),\n",
       " ('fix', 7242),\n",
       " ('need', 7073),\n",
       " ('much', 6759),\n",
       " (\"'m\", 6753)]"
      ]
     },
     "execution_count": 61,
     "metadata": {},
     "output_type": "execute_result"
    }
   ],
   "source": [
    "review2_freqdist = FreqDist(processedreviewrating2)\n",
    "review2_freqdist.most_common(20)"
   ]
  },
  {
   "cell_type": "code",
   "execution_count": 62,
   "metadata": {},
   "outputs": [
    {
     "data": {
      "image/png": "[encoded data removed]",
      "text/plain": [
       "<Figure size 1296x1008 with 1 Axes>"
      ]
     },
     "metadata": {
      "needs_background": "light"
     },
     "output_type": "display_data"
    }
   ],
   "source": [
    "mostcommonwords202 = review2_freqdist.most_common(20)\n",
    "\n",
    "yaxis202 = [val[1] for val in mostcommonwords202]\n",
    "\n",
    "xaxis202 = [val[0] for val in mostcommonwords202]\n",
    "\n",
    "plt.figure(figsize=(18, 14))\n",
    "ax = sns.barplot(xaxis202, yaxis202)\n",
    "plt.title('Top 20 Most Common Words in Mobile Game Reviews for 2 Rating', fontsize = 25)\n",
    "plt.ylabel('Frequency of word', fontsize = 20)\n",
    "\n",
    "\n",
    "for p in ax.patches:\n",
    "             ax.annotate(\"%.2f\" % (p.get_height()*100/sum(yaxis202))+'%', (p.get_x() + p.get_width() / 2., p.get_height()),\n",
    "                 ha='center', va='center', fontsize=11, color='black', xytext=(0, 20),\n",
    "                 textcoords='offset points')"
   ]
  },
  {
   "cell_type": "markdown",
   "metadata": {},
   "source": [
    "## Word Frequency in 3 Rating Reviews"
   ]
  },
  {
   "cell_type": "code",
   "execution_count": 63,
   "metadata": {},
   "outputs": [],
   "source": [
    "processedreviewrating3[:] = [x for x in processedreviewrating3 if x not in uselesswords]"
   ]
  },
  {
   "cell_type": "code",
   "execution_count": 64,
   "metadata": {
    "scrolled": true
   },
   "outputs": [
    {
     "data": {
      "text/plain": [
       "[('like', 27859),\n",
       " ('ad', 24494),\n",
       " ('good', 24227),\n",
       " ('time', 19788),\n",
       " ('fun', 18632),\n",
       " ('level', 16317),\n",
       " ('make', 13762),\n",
       " ('one', 13303),\n",
       " ('star', 13013),\n",
       " ('please', 11724),\n",
       " ('need', 11635),\n",
       " ('great', 11559),\n",
       " ('love', 10879),\n",
       " ('also', 10648),\n",
       " ('app', 10457),\n",
       " ('many', 10402),\n",
       " ('playing', 10187),\n",
       " ('fix', 10146),\n",
       " ('even', 9306),\n",
       " ('way', 9178)]"
      ]
     },
     "execution_count": 64,
     "metadata": {},
     "output_type": "execute_result"
    }
   ],
   "source": [
    "review3_freqdist = FreqDist(processedreviewrating3)\n",
    "review3_freqdist.most_common(20)"
   ]
  },
  {
   "cell_type": "code",
   "execution_count": 65,
   "metadata": {},
   "outputs": [
    {
     "data": {
      "image/png": "[encoded data removed]",
      "text/plain": [
       "<Figure size 1296x1008 with 1 Axes>"
      ]
     },
     "metadata": {
      "needs_background": "light"
     },
     "output_type": "display_data"
    }
   ],
   "source": [
    "mostcommonwords203 = review3_freqdist.most_common(20)\n",
    "\n",
    "yaxis203 = [val[1] for val in mostcommonwords203]\n",
    "\n",
    "xaxis203 = [val[0] for val in mostcommonwords203]\n",
    "\n",
    "plt.figure(figsize=(18, 14))\n",
    "ax = sns.barplot(xaxis203, yaxis203)\n",
    "plt.title('Top 20 Most Common Words in Mobile Game Reviews for 3 Rating', fontsize = 25)\n",
    "plt.ylabel('Frequency of word', fontsize = 20)\n",
    "\n",
    "\n",
    "for p in ax.patches:\n",
    "             ax.annotate(\"%.2f\" % (p.get_height()*100/sum(yaxis203))+'%', (p.get_x() + p.get_width() / 2., p.get_height()),\n",
    "                 ha='center', va='center', fontsize=11, color='black', xytext=(0, 20),\n",
    "                 textcoords='offset points')"
   ]
  },
  {
   "cell_type": "markdown",
   "metadata": {},
   "source": [
    "## Word Frequency in 4 Rating Reviews"
   ]
  },
  {
   "cell_type": "code",
   "execution_count": 66,
   "metadata": {},
   "outputs": [],
   "source": [
    "processedreviewrating4[:] = [x for x in processedreviewrating4 if x not in uselesswords]"
   ]
  },
  {
   "cell_type": "code",
   "execution_count": 67,
   "metadata": {
    "scrolled": true
   },
   "outputs": [
    {
     "data": {
      "text/plain": [
       "[('like', 46285),\n",
       " ('good', 43952),\n",
       " ('fun', 34382),\n",
       " ('great', 28873),\n",
       " ('love', 27113),\n",
       " ('time', 24166),\n",
       " ('ad', 22937),\n",
       " ('one', 20763),\n",
       " ('star', 20413),\n",
       " ('make', 19452),\n",
       " ('level', 17339),\n",
       " ('thing', 15638),\n",
       " ('please', 15498),\n",
       " ('add', 15016),\n",
       " ('also', 14509),\n",
       " ('app', 14351),\n",
       " ('need', 14334),\n",
       " ('could', 13119),\n",
       " ('nice', 12741),\n",
       " ('playing', 12668)]"
      ]
     },
     "execution_count": 67,
     "metadata": {},
     "output_type": "execute_result"
    }
   ],
   "source": [
    "review4_freqdist = FreqDist(processedreviewrating4)\n",
    "review4_freqdist.most_common(20)"
   ]
  },
  {
   "cell_type": "code",
   "execution_count": 68,
   "metadata": {},
   "outputs": [
    {
     "data": {
      "image/png": "[encoded data removed]",
      "text/plain": [
       "<Figure size 1296x1008 with 1 Axes>"
      ]
     },
     "metadata": {
      "needs_background": "light"
     },
     "output_type": "display_data"
    }
   ],
   "source": [
    "mostcommonwords204 = review4_freqdist.most_common(20)\n",
    "\n",
    "yaxis204 = [val[1] for val in mostcommonwords204]\n",
    "\n",
    "xaxis204 = [val[0] for val in mostcommonwords204]\n",
    "\n",
    "plt.figure(figsize=(18, 14))\n",
    "ax = sns.barplot(xaxis204, yaxis204)\n",
    "plt.title('Top 20 Most Common Words in Mobile Game Reviews for 4 Rating', fontsize = 25)\n",
    "plt.ylabel('Frequency of word', fontsize = 20)\n",
    "\n",
    "\n",
    "for p in ax.patches:\n",
    "             ax.annotate(\"%.2f\" % (p.get_height()*100/sum(yaxis204))+'%', (p.get_x() + p.get_width() / 2., p.get_height()),\n",
    "                 ha='center', va='center', fontsize=11, color='black', xytext=(0, 20),\n",
    "                 textcoords='offset points')"
   ]
  },
  {
   "cell_type": "markdown",
   "metadata": {},
   "source": [
    "## Word Frequency in 5 Rating Reviews"
   ]
  },
  {
   "cell_type": "code",
   "execution_count": 69,
   "metadata": {},
   "outputs": [],
   "source": [
    "processedreviewrating5[:] = [x for x in processedreviewrating5 if x not in uselesswords]"
   ]
  },
  {
   "cell_type": "code",
   "execution_count": 70,
   "metadata": {
    "scrolled": true
   },
   "outputs": [
    {
     "data": {
      "text/plain": [
       "[('love', 139127),\n",
       " ('like', 115804),\n",
       " ('fun', 110697),\n",
       " ('good', 101595),\n",
       " ('great', 94325),\n",
       " ('one', 55141),\n",
       " ('best', 53840),\n",
       " ('time', 53149),\n",
       " ('app', 46645),\n",
       " ('make', 45685),\n",
       " ('much', 43572),\n",
       " ('playing', 40302),\n",
       " ('amazing', 39914),\n",
       " ('graphic', 36070),\n",
       " ('nice', 35264),\n",
       " ('ad', 32928),\n",
       " ('level', 31675),\n",
       " ('also', 31188),\n",
       " ('awesome', 31083),\n",
       " ('lot', 30139)]"
      ]
     },
     "execution_count": 70,
     "metadata": {},
     "output_type": "execute_result"
    }
   ],
   "source": [
    "review5_freqdist = FreqDist(processedreviewrating5)\n",
    "review5_freqdist.most_common(20)"
   ]
  },
  {
   "cell_type": "code",
   "execution_count": 71,
   "metadata": {},
   "outputs": [
    {
     "data": {
      "image/png": "[encoded data removed]",
      "text/plain": [
       "<Figure size 1296x1008 with 1 Axes>"
      ]
     },
     "metadata": {
      "needs_background": "light"
     },
     "output_type": "display_data"
    }
   ],
   "source": [
    "mostcommonwords205 = review5_freqdist.most_common(20)\n",
    "\n",
    "yaxis205 = [val[1] for val in mostcommonwords205]\n",
    "\n",
    "xaxis205 = [val[0] for val in mostcommonwords205]\n",
    "\n",
    "plt.figure(figsize=(18, 14))\n",
    "ax = sns.barplot(xaxis205, yaxis205)\n",
    "plt.title('Top 20 Most Common Words in Mobile Game Reviews for 5 Rating', fontsize = 25)\n",
    "plt.ylabel('Frequency of word', fontsize = 20)\n",
    "\n",
    "\n",
    "for p in ax.patches:\n",
    "             ax.annotate(\"%.2f\" % (p.get_height()*100/sum(yaxis205))+'%', (p.get_x() + p.get_width() / 2., p.get_height()),\n",
    "                 ha='center', va='center', fontsize=11, color='black', xytext=(0, 20),\n",
    "                 textcoords='offset points')"
   ]
  },
  {
   "cell_type": "markdown",
   "metadata": {},
   "source": [
    "# Bi-grams/Tri-grams"
   ]
  },
  {
   "cell_type": "code",
   "execution_count": 73,
   "metadata": {},
   "outputs": [],
   "source": [
    "# One without removing any common words to see common n-grams.\n",
    "\n",
    "def n_gramall(df_col, n=None):\n",
    "    # Build the vectorizer, specify inputted n-gram, remove stop words\n",
    "    vect = CountVectorizer(ngram_range = (n,n), stop_words = gramstopwords_list, min_df = 10)\n",
    "    # fit/transform vectorizer on specified column\n",
    "    vect_fit = vect.fit_transform(df_col.values.astype('U'))\n",
    "    # get all words and store in a list\n",
    "    word_list = vect.get_feature_names()\n",
    "    # get a count of all the words\n",
    "    count_list = vect_fit.toarray().sum(axis=0)\n",
    "    #create a dictionary of word to count pairings\n",
    "    count_dict = dict(zip(word_list, count_list))\n",
    "    # sort the dictionary to show highest counted words on top\n",
    "    sort_vocab = sorted(count_dict.items(), key=lambda x: x[1], reverse=True)\n",
    "    return sort_vocab\n",
    "\n",
    "\n",
    "# One with removing common words to see if any more notable n-grams show up.\n",
    "\n",
    "def n_gram(df_col, n=None):\n",
    "\n",
    "    vect = CountVectorizer(ngram_range = (n,n), stop_words = stopwords_list, min_df = 10)\n",
    "\n",
    "    vect_fit = vect.fit_transform(df_col.values.astype('U'))\n",
    "\n",
    "    word_list = vect.get_feature_names()\n",
    "\n",
    "    count_list = vect_fit.toarray().sum(axis=0)\n",
    "\n",
    "    count_dict = dict(zip(word_list, count_list))\n",
    "\n",
    "    sort_vocab = sorted(count_dict.items(), key=lambda x: x[1], reverse=True)\n",
    "    return sort_vocab"
   ]
  },
  {
   "cell_type": "code",
   "execution_count": 74,
   "metadata": {},
   "outputs": [],
   "source": [
    "gramstopwords_list = stopwords.words('english') + list(string.punctuation)\n",
    "gramstopwords_list += [\"''\", '\"\"', '...', '``']\n",
    "\n",
    "stopwords_list += uselesswords"
   ]
  },
  {
   "cell_type": "code",
   "execution_count": 75,
   "metadata": {},
   "outputs": [
    {
     "data": {
      "text/plain": [
       "0          It is very fun. But the only problem is that y...\n",
       "1          Great game! First, the bad. There are plenty o...\n",
       "2          Simple enough game. Gameplay works really well...\n",
       "3          Very good game but could be better. Ex: there ...\n",
       "4          This game is great. I do have a few nitpicks t...\n",
       "                                 ...                        \n",
       "1051169                                       Excellent app.\n",
       "1051170    Still doesn't find the highest scoring words 9...\n",
       "1051171    Which is the best dictionary for English's uk ...\n",
       "1051172    Spelling has always been my forte, but this ga...\n",
       "1051173      One of my favorites. Keeps me young in thought.\n",
       "Name: content, Length: 1050932, dtype: object"
      ]
     },
     "execution_count": 75,
     "metadata": {},
     "output_type": "execute_result"
    }
   ],
   "source": [
    "dftotalreview = dfreview['content']\n",
    "dftotalreview"
   ]
  },
  {
   "cell_type": "code",
   "execution_count": 76,
   "metadata": {},
   "outputs": [
    {
     "data": {
      "text/plain": [
       "[('love game', 3149),\n",
       " ('good game', 2506),\n",
       " ('great game', 2276),\n",
       " ('like game', 1519),\n",
       " ('fun game', 1372),\n",
       " ('play game', 1235),\n",
       " ('game play', 1095),\n",
       " ('many ads', 1072),\n",
       " ('game good', 1014),\n",
       " ('please fix', 904),\n",
       " ('game fun', 892),\n",
       " ('game really', 861),\n",
       " ('game ever', 849),\n",
       " ('playing game', 840),\n",
       " ('game like', 822),\n",
       " ('best game', 812),\n",
       " ('nice game', 800),\n",
       " ('really like', 669),\n",
       " ('really fun', 666),\n",
       " ('game much', 652)]"
      ]
     },
     "execution_count": 76,
     "metadata": {},
     "output_type": "execute_result"
    }
   ],
   "source": [
    "bigramall = n_gramall(dftotalreview.sample(50000), n=2)\n",
    "bigramall[:20]"
   ]
  },
  {
   "cell_type": "code",
   "execution_count": 77,
   "metadata": {},
   "outputs": [
    {
     "data": {
      "text/plain": [
       "[('best game ever', 349),\n",
       " ('really like game', 294),\n",
       " ('love game much', 262),\n",
       " ('game ever played', 244),\n",
       " ('way many ads', 219),\n",
       " ('keep good work', 191),\n",
       " ('really good game', 181),\n",
       " ('game really fun', 143),\n",
       " ('really fun game', 140),\n",
       " ('really love game', 137),\n",
       " ('like game much', 133),\n",
       " ('one best games', 110),\n",
       " ('worst game ever', 108),\n",
       " ('really enjoy game', 105),\n",
       " ('game many ads', 99),\n",
       " ('game really good', 98),\n",
       " ('fun game play', 97),\n",
       " ('absolutely love game', 94),\n",
       " ('game much fun', 91),\n",
       " ('pretty good game', 87)]"
      ]
     },
     "execution_count": 77,
     "metadata": {},
     "output_type": "execute_result"
    }
   ],
   "source": [
    "trigramall = n_gramall(dftotalreview.sample(50000), n=3)\n",
    "trigramall[:20]"
   ]
  },
  {
   "cell_type": "code",
   "execution_count": 78,
   "metadata": {
    "scrolled": true
   },
   "outputs": [
    {
     "data": {
      "text/plain": [
       "[('many ads', 1074),\n",
       " ('please fix', 918),\n",
       " ('every time', 614),\n",
       " ('give stars', 483),\n",
       " ('one best', 428),\n",
       " ('love much', 411),\n",
       " ('waste time', 401),\n",
       " ('best ever', 399),\n",
       " ('much fun', 380),\n",
       " ('like much', 368),\n",
       " ('ever played', 367),\n",
       " ('please add', 343),\n",
       " ('pretty good', 339),\n",
       " ('please make', 331),\n",
       " ('way many', 330),\n",
       " ('one thing', 315),\n",
       " ('love app', 298),\n",
       " ('long time', 297),\n",
       " ('even though', 290),\n",
       " ('good graphics', 283)]"
      ]
     },
     "execution_count": 78,
     "metadata": {},
     "output_type": "execute_result"
    }
   ],
   "source": [
    "bigram = n_gram(dftotalreview.sample(50000), n=2)\n",
    "bigram[:20]"
   ]
  },
  {
   "cell_type": "code",
   "execution_count": 79,
   "metadata": {},
   "outputs": [
    {
     "data": {
      "image/png": "[encoded data removed]",
      "text/plain": [
       "<Figure size 1296x1008 with 1 Axes>"
      ]
     },
     "metadata": {
      "needs_background": "light"
     },
     "output_type": "display_data"
    }
   ],
   "source": [
    "mostcommonwords20bigram = bigram[:20]\n",
    "\n",
    "yaxis20bigram = [val[1] for val in mostcommonwords20bigram]\n",
    "\n",
    "xaxis20biram = [val[0] for val in mostcommonwords20bigram]\n",
    "\n",
    "plt.figure(figsize=(18, 14))\n",
    "ax = sns.barplot(xaxis20biram, yaxis20bigram)\n",
    "plt.title('Top 20 Most Bigrams in Mobile Game Reviews Overall', fontsize = 25)\n",
    "plt.ylabel('Frequency of word', fontsize = 20)\n",
    "plt.xticks(rotation=45)\n",
    "\n",
    "\n",
    "for p in ax.patches:\n",
    "             ax.annotate(\"%.2f\" % (p.get_height()*100/sum(yaxis20bigram))+'%', (p.get_x() + p.get_width() / 2., p.get_height()),\n",
    "                 ha='center', va='center', fontsize=11, color='black', xytext=(0, 20),\n",
    "                 textcoords='offset points')"
   ]
  },
  {
   "cell_type": "code",
   "execution_count": 80,
   "metadata": {
    "scrolled": true
   },
   "outputs": [
    {
     "data": {
      "text/plain": [
       "[('keep good work', 227),\n",
       " ('way many ads', 219),\n",
       " ('best ever played', 89),\n",
       " ('one best games', 89),\n",
       " ('please please please', 79),\n",
       " ('way pass time', 75),\n",
       " ('ads ads ads', 71),\n",
       " ('give five stars', 68),\n",
       " ('games ever played', 64),\n",
       " ('every single time', 61),\n",
       " ('great time killer', 60),\n",
       " ('every time try', 54),\n",
       " ('worth every penny', 54),\n",
       " ('got new phone', 51),\n",
       " ('keep great work', 49),\n",
       " ('please fix issue', 49),\n",
       " ('best games ever', 48),\n",
       " ('please fix problem', 48),\n",
       " ('30 second ad', 47),\n",
       " ('spend real money', 47)]"
      ]
     },
     "execution_count": 80,
     "metadata": {},
     "output_type": "execute_result"
    }
   ],
   "source": [
    "trigram = n_gram(dftotalreview.sample(50000), n=3)\n",
    "trigram[:20]"
   ]
  },
  {
   "cell_type": "code",
   "execution_count": 81,
   "metadata": {},
   "outputs": [
    {
     "data": {
      "image/png": "[encoded data removed]",
      "text/plain": [
       "<Figure size 1296x1008 with 1 Axes>"
      ]
     },
     "metadata": {
      "needs_background": "light"
     },
     "output_type": "display_data"
    }
   ],
   "source": [
    "mostcommonwords20trigram = trigram[:20]\n",
    "\n",
    "yaxis20trigram = [val[1] for val in mostcommonwords20trigram]\n",
    "\n",
    "xaxis20triram = [val[0] for val in mostcommonwords20trigram]\n",
    "\n",
    "plt.figure(figsize=(18, 14))\n",
    "ax = sns.barplot(xaxis20triram, yaxis20trigram)\n",
    "plt.title('Top 20 Most Trigrams in Mobile Game Reviews Overall', fontsize = 25)\n",
    "plt.ylabel('Frequency of word', fontsize = 20)\n",
    "plt.xticks(rotation=45)\n",
    "\n",
    "\n",
    "for p in ax.patches:\n",
    "             ax.annotate(\"%.2f\" % (p.get_height()*100/sum(yaxis20trigram))+'%', (p.get_x() + p.get_width() / 2., p.get_height()),\n",
    "                 ha='center', va='center', fontsize=11, color='black', xytext=(0, 20),\n",
    "                 textcoords='offset points')"
   ]
  },
  {
   "cell_type": "markdown",
   "metadata": {},
   "source": [
    "# Bigrams/Trigrams for Ratings"
   ]
  },
  {
   "cell_type": "markdown",
   "metadata": {},
   "source": [
    "### Rating 1"
   ]
  },
  {
   "cell_type": "code",
   "execution_count": 82,
   "metadata": {},
   "outputs": [
    {
     "data": {
      "text/plain": [
       "[('many ads', 2373),\n",
       " ('waste time', 1766),\n",
       " ('please fix', 1321),\n",
       " ('every time', 1257),\n",
       " ('way many', 783),\n",
       " ('one star', 686),\n",
       " ('ads every', 665),\n",
       " ('ads ads', 647),\n",
       " ('watch ad', 619),\n",
       " ('spend money', 613),\n",
       " ('worst ever', 605),\n",
       " ('ad every', 507),\n",
       " ('pay win', 506),\n",
       " ('every single', 492),\n",
       " ('watch ads', 489),\n",
       " ('every level', 481),\n",
       " ('real money', 474),\n",
       " ('waste money', 470),\n",
       " ('money back', 443),\n",
       " ('give stars', 414)]"
      ]
     },
     "execution_count": 82,
     "metadata": {},
     "output_type": "execute_result"
    }
   ],
   "source": [
    "bigram1 = n_gram(rating1['content'].sample(50000), n=2)\n",
    "bigram1[:20]"
   ]
  },
  {
   "cell_type": "code",
   "execution_count": 83,
   "metadata": {
    "scrolled": true
   },
   "outputs": [
    {
     "data": {
      "text/plain": [
       "[('way many ads', 547),\n",
       " ('ads ads ads', 231),\n",
       " ('want money back', 203),\n",
       " ('30 second ad', 151),\n",
       " ('dont waste time', 148),\n",
       " ('give one star', 137),\n",
       " ('ads every level', 131),\n",
       " ('time watching ads', 130),\n",
       " ('every time try', 129),\n",
       " ('waste time money', 125),\n",
       " ('worst ever played', 119),\n",
       " ('every single time', 118),\n",
       " ('ad every level', 105),\n",
       " ('every single level', 99),\n",
       " ('could give stars', 96),\n",
       " ('spend time watching', 96),\n",
       " ('please fix problem', 93),\n",
       " ('spend real money', 91),\n",
       " ('worst app ever', 90),\n",
       " ('many ads every', 86)]"
      ]
     },
     "execution_count": 83,
     "metadata": {},
     "output_type": "execute_result"
    }
   ],
   "source": [
    "trigram1 = n_gram(rating1['content'].sample(50000), n=3)\n",
    "trigram1[:20]"
   ]
  },
  {
   "cell_type": "code",
   "execution_count": 84,
   "metadata": {},
   "outputs": [
    {
     "data": {
      "image/png": "[encoded data removed]",
      "text/plain": [
       "<Figure size 1296x1008 with 1 Axes>"
      ]
     },
     "metadata": {
      "needs_background": "light"
     },
     "output_type": "display_data"
    }
   ],
   "source": [
    "mostcommonwords205 = review5_freqdist.most_common(20)\n",
    "\n",
    "yaxis205 = [val[1] for val in mostcommonwords205]\n",
    "\n",
    "xaxis205 = [val[0] for val in mostcommonwords205]\n",
    "\n",
    "plt.figure(figsize=(18, 14))\n",
    "ax = sns.barplot(xaxis205, yaxis205)\n",
    "plt.title('Top 20 Most Common Words in Mobile Game Reviews for 5 Rating', fontsize = 25)\n",
    "plt.ylabel('Frequency of word', fontsize = 20)\n",
    "\n",
    "\n",
    "for p in ax.patches:\n",
    "             ax.annotate(\"%.2f\" % (p.get_height()*100/sum(yaxis205))+'%', (p.get_x() + p.get_width() / 2., p.get_height()),\n",
    "                 ha='center', va='center', fontsize=11, color='black', xytext=(0, 20),\n",
    "                 textcoords='offset points')"
   ]
  },
  {
   "cell_type": "markdown",
   "metadata": {},
   "source": [
    "## Rating 2"
   ]
  },
  {
   "cell_type": "code",
   "execution_count": 85,
   "metadata": {},
   "outputs": [
    {
     "data": {
      "text/plain": [
       "[('many ads', 2534),\n",
       " ('please fix', 1810),\n",
       " ('every time', 1353),\n",
       " ('way many', 995),\n",
       " ('watch ad', 693),\n",
       " ('give stars', 631),\n",
       " ('ads every', 606),\n",
       " ('spend money', 572),\n",
       " ('pay win', 552),\n",
       " ('every level', 543),\n",
       " ('ad every', 496),\n",
       " ('watch ads', 491),\n",
       " ('real money', 488),\n",
       " ('even though', 482),\n",
       " ('every single', 481),\n",
       " ('waste time', 447),\n",
       " ('watching ads', 425),\n",
       " ('ads ads', 402),\n",
       " ('two stars', 364),\n",
       " ('many times', 345)]"
      ]
     },
     "execution_count": 85,
     "metadata": {},
     "output_type": "execute_result"
    }
   ],
   "source": [
    "bigram2 = n_gram(rating2['content'].sample(50000), n=2)\n",
    "bigram2[:20]"
   ]
  },
  {
   "cell_type": "code",
   "execution_count": 86,
   "metadata": {},
   "outputs": [
    {
     "data": {
      "text/plain": [
       "[('way many ads', 681),\n",
       " ('every single time', 122),\n",
       " ('30 second ad', 118),\n",
       " ('time watching ads', 118),\n",
       " ('ads ads ads', 117),\n",
       " ('ads every level', 111),\n",
       " ('every time try', 109),\n",
       " ('please fix problem', 104),\n",
       " ('spend real money', 104),\n",
       " ('ad every level', 97),\n",
       " ('every single level', 91),\n",
       " ('30 second ads', 88),\n",
       " ('since last update', 86),\n",
       " ('fun way many', 84),\n",
       " ('ad every single', 82),\n",
       " ('please please please', 82),\n",
       " ('please fix issue', 79),\n",
       " ('fun many ads', 77),\n",
       " ('many ads every', 75),\n",
       " ('way many adds', 74)]"
      ]
     },
     "execution_count": 86,
     "metadata": {},
     "output_type": "execute_result"
    }
   ],
   "source": [
    "trigram2 = n_gram(rating2['content'].sample(50000), n=3)\n",
    "trigram2[:20]"
   ]
  },
  {
   "cell_type": "markdown",
   "metadata": {},
   "source": [
    "## Rating 3"
   ]
  },
  {
   "cell_type": "code",
   "execution_count": 87,
   "metadata": {},
   "outputs": [
    {
     "data": {
      "text/plain": [
       "[('please fix', 2074),\n",
       " ('many ads', 1772),\n",
       " ('give stars', 984),\n",
       " ('every time', 902),\n",
       " ('way many', 577),\n",
       " ('pretty good', 554),\n",
       " ('even though', 435),\n",
       " ('please add', 400),\n",
       " ('please make', 395),\n",
       " ('three stars', 395),\n",
       " ('watch ad', 390),\n",
       " ('spend money', 387),\n",
       " ('pay win', 368),\n",
       " ('real money', 366),\n",
       " ('feel like', 364),\n",
       " ('long time', 359),\n",
       " ('watch ads', 317),\n",
       " ('go back', 314),\n",
       " ('ads every', 313),\n",
       " ('give star', 308)]"
      ]
     },
     "execution_count": 87,
     "metadata": {},
     "output_type": "execute_result"
    }
   ],
   "source": [
    "bigram3 = n_gram(rating3['content'].sample(50000), n=2)\n",
    "bigram3[:20]"
   ]
  },
  {
   "cell_type": "code",
   "execution_count": 88,
   "metadata": {},
   "outputs": [
    {
     "data": {
      "text/plain": [
       "[('way many ads', 369),\n",
       " ('please fix problem', 111),\n",
       " ('give five stars', 93),\n",
       " ('good many ads', 88),\n",
       " ('every single time', 86),\n",
       " ('takes long time', 85),\n",
       " ('give three stars', 84),\n",
       " ('please fix issue', 83),\n",
       " ('every time try', 81),\n",
       " ('fun many ads', 79),\n",
       " ('gave three stars', 75),\n",
       " ('spend real money', 75),\n",
       " ('please fix bug', 69),\n",
       " ('ads ads ads', 63),\n",
       " ('way many adds', 63),\n",
       " ('many ads every', 61),\n",
       " ('fun way many', 60),\n",
       " ('since last update', 60),\n",
       " ('without spending money', 55),\n",
       " ('got new phone', 54)]"
      ]
     },
     "execution_count": 88,
     "metadata": {},
     "output_type": "execute_result"
    }
   ],
   "source": [
    "trigram3 = n_gram(rating3['content'].sample(50000), n=3)\n",
    "trigram3[:20]"
   ]
  },
  {
   "cell_type": "markdown",
   "metadata": {},
   "source": [
    "# Rating 4"
   ]
  },
  {
   "cell_type": "code",
   "execution_count": 89,
   "metadata": {},
   "outputs": [
    {
     "data": {
      "text/plain": [
       "[('please fix', 1241),\n",
       " ('many ads', 1045),\n",
       " ('give stars', 923),\n",
       " ('pretty good', 810),\n",
       " ('please add', 605),\n",
       " ('one thing', 569),\n",
       " ('every time', 563),\n",
       " ('please make', 479),\n",
       " ('wish could', 467),\n",
       " ('four stars', 397),\n",
       " ('one problem', 391),\n",
       " ('gave stars', 378),\n",
       " ('good app', 367),\n",
       " ('pretty fun', 366),\n",
       " ('little bit', 365),\n",
       " ('five stars', 362),\n",
       " ('feel like', 357),\n",
       " ('overall good', 354),\n",
       " ('even though', 341),\n",
       " ('give star', 337)]"
      ]
     },
     "execution_count": 89,
     "metadata": {},
     "output_type": "execute_result"
    }
   ],
   "source": [
    "bigram4 = n_gram(rating4['content'].sample(50000), n=2)\n",
    "bigram4[:20]"
   ]
  },
  {
   "cell_type": "code",
   "execution_count": 90,
   "metadata": {},
   "outputs": [
    {
     "data": {
      "text/plain": [
       "[('keep good work', 178),\n",
       " ('give five stars', 149),\n",
       " ('please please please', 119),\n",
       " ('way many ads', 106),\n",
       " ('gave four stars', 101),\n",
       " ('great time killer', 96),\n",
       " ('way pass time', 92),\n",
       " ('reason gave stars', 82),\n",
       " ('please fix problem', 79),\n",
       " ('reason give stars', 73),\n",
       " ('give five star', 72),\n",
       " ('give four stars', 71),\n",
       " ('one best games', 70),\n",
       " ('please fix bug', 68),\n",
       " ('takes long time', 68),\n",
       " ('fun many ads', 67),\n",
       " ('good many ads', 61),\n",
       " ('every time try', 54),\n",
       " ('one thing like', 53),\n",
       " ('good time killer', 51)]"
      ]
     },
     "execution_count": 90,
     "metadata": {},
     "output_type": "execute_result"
    }
   ],
   "source": [
    "trigram4 = n_gram(rating4['content'].sample(50000), n=3)\n",
    "trigram4[:20]"
   ]
  },
  {
   "cell_type": "markdown",
   "metadata": {},
   "source": [
    "## Rating 5"
   ]
  },
  {
   "cell_type": "code",
   "execution_count": 91,
   "metadata": {},
   "outputs": [
    {
     "data": {
      "text/plain": [
       "[('one best', 791),\n",
       " ('best ever', 696),\n",
       " ('love much', 657),\n",
       " ('much fun', 600),\n",
       " ('ever played', 593),\n",
       " ('like much', 482),\n",
       " ('love app', 404),\n",
       " ('games like', 386),\n",
       " ('good work', 385),\n",
       " ('highly recommend', 369),\n",
       " ('great graphics', 360),\n",
       " ('good graphics', 358),\n",
       " ('please make', 350),\n",
       " ('keep good', 336),\n",
       " ('love love', 336),\n",
       " ('lots fun', 333),\n",
       " ('great fun', 319),\n",
       " ('please add', 318),\n",
       " ('super fun', 316),\n",
       " ('well done', 302)]"
      ]
     },
     "execution_count": 91,
     "metadata": {},
     "output_type": "execute_result"
    }
   ],
   "source": [
    "bigram5 = n_gram(rating5['content'].sample(50000), n=2)\n",
    "bigram5[:20]"
   ]
  },
  {
   "cell_type": "code",
   "execution_count": 92,
   "metadata": {
    "scrolled": true
   },
   "outputs": [
    {
     "data": {
      "text/plain": [
       "[('keep good work', 313),\n",
       " ('one best games', 161),\n",
       " ('best ever played', 148),\n",
       " ('love love love', 130),\n",
       " ('way pass time', 113),\n",
       " ('great time killer', 103),\n",
       " ('games ever played', 99),\n",
       " ('please please please', 84),\n",
       " ('keep great work', 81),\n",
       " ('best games ever', 76),\n",
       " ('worth every penny', 67),\n",
       " ('make games like', 60),\n",
       " ('love much fun', 56),\n",
       " ('one favorite games', 55),\n",
       " ('fun fun fun', 52),\n",
       " ('give five stars', 52),\n",
       " ('great way pass', 48),\n",
       " ('well worth money', 48),\n",
       " ('love app much', 42),\n",
       " ('played long time', 42)]"
      ]
     },
     "execution_count": 92,
     "metadata": {},
     "output_type": "execute_result"
    }
   ],
   "source": [
    "trigram5 = n_gram(rating5['content'].sample(50000), n=3)\n",
    "trigram5[:20]"
   ]
  },
  {
   "cell_type": "markdown",
   "metadata": {},
   "source": [
    "# Modeling"
   ]
  },
  {
   "cell_type": "markdown",
   "metadata": {},
   "source": [
    "### Downsampling"
   ]
  },
  {
   "cell_type": "code",
   "execution_count": 124,
   "metadata": {
    "scrolled": true
   },
   "outputs": [
    {
     "name": "stdout",
     "output_type": "stream",
     "text": [
      "0:00:00.924963\n",
      "------------\n",
      "75163\n",
      "75163\n",
      "75163\n",
      "75163\n"
     ]
    }
   ],
   "source": [
    "# Downsample due to unbalanced dataset\n",
    "\n",
    "starttime = datetime.now()\n",
    "\n",
    "\n",
    "rating1downsample = resample(rating1,\n",
    "                            replace=False,\n",
    "                            n_samples=len(rating2),\n",
    "                            random_state=72)\n",
    "rating3downsample = resample(rating3,\n",
    "                            replace=False,\n",
    "                            n_samples=len(rating2),\n",
    "                            random_state=72)\n",
    "rating4downsample = resample(rating4,\n",
    "                            replace=False,\n",
    "                            n_samples=len(rating2),\n",
    "                            random_state=72)\n",
    "rating5downsample = resample(rating5,\n",
    "                            replace=False,\n",
    "                            n_samples=len(rating2),\n",
    "                            random_state=72)\n",
    "\n",
    "print(datetime.now() - starttime)\n",
    "print('------------')\n",
    "print(len(rating1downsample))\n",
    "print(len(rating3downsample))\n",
    "print(len(rating4downsample))\n",
    "print(len(rating5downsample))"
   ]
  },
  {
   "cell_type": "code",
   "execution_count": 126,
   "metadata": {},
   "outputs": [
    {
     "name": "stdout",
     "output_type": "stream",
     "text": [
      "0:00:00.151366\n",
      "------------\n",
      "375815\n"
     ]
    }
   ],
   "source": [
    "starttime = datetime.now()\n",
    "\n",
    "dfreviewdown = pd.concat([rating1downsample, rating2, rating3downsample, rating4downsample, rating5downsample])\n",
    "\n",
    "print(datetime.now() - starttime)\n",
    "print('------------')\n",
    "print(len(dfreviewdown))"
   ]
  },
  {
   "cell_type": "code",
   "execution_count": 127,
   "metadata": {},
   "outputs": [
    {
     "data": {
      "text/html": [
       "<div>\n",
       "<style scoped>\n",
       "    .dataframe tbody tr th:only-of-type {\n",
       "        vertical-align: middle;\n",
       "    }\n",
       "\n",
       "    .dataframe tbody tr th {\n",
       "        vertical-align: top;\n",
       "    }\n",
       "\n",
       "    .dataframe thead th {\n",
       "        text-align: right;\n",
       "    }\n",
       "</style>\n",
       "<table border=\"1\" class=\"dataframe\">\n",
       "  <thead>\n",
       "    <tr style=\"text-align: right;\">\n",
       "      <th></th>\n",
       "      <th>content</th>\n",
       "      <th>score</th>\n",
       "      <th>wordlist</th>\n",
       "      <th>wordlistlem</th>\n",
       "    </tr>\n",
       "  </thead>\n",
       "  <tbody>\n",
       "    <tr>\n",
       "      <th>620120</th>\n",
       "      <td>I'm now giving it a 1 star because my game won...</td>\n",
       "      <td>1</td>\n",
       "      <td>['m, giving, star, game, wont, even, load, wor...</td>\n",
       "      <td>['m, giving, star, game, wont, even, load, wor...</td>\n",
       "    </tr>\n",
       "    <tr>\n",
       "      <th>93144</th>\n",
       "      <td>It's bad to begin with. I saw that the actual ...</td>\n",
       "      <td>1</td>\n",
       "      <td>[bad, begin, saw, actual, force, awakens, game...</td>\n",
       "      <td>[bad, begin, saw, actual, force, awakens, game...</td>\n",
       "    </tr>\n",
       "    <tr>\n",
       "      <th>590136</th>\n",
       "      <td>It's crashing every time i open it, i haven't ...</td>\n",
       "      <td>1</td>\n",
       "      <td>[crashing, every, time, open, even, play, trie...</td>\n",
       "      <td>[crashing, every, time, open, even, play, trie...</td>\n",
       "    </tr>\n",
       "    <tr>\n",
       "      <th>412069</th>\n",
       "      <td>I used and paid for the subscription for whole...</td>\n",
       "      <td>1</td>\n",
       "      <td>[used, paid, subscription, whole, 10, min, ui,...</td>\n",
       "      <td>[used, paid, subscription, whole, 10, min, ui,...</td>\n",
       "    </tr>\n",
       "    <tr>\n",
       "      <th>98146</th>\n",
       "      <td>Fun, but doesn't work anymore. Will not load t...</td>\n",
       "      <td>1</td>\n",
       "      <td>[fun, work, anymore, load, game, gets, stuck, ...</td>\n",
       "      <td>[fun, work, anymore, load, game, get, stuck, 8...</td>\n",
       "    </tr>\n",
       "    <tr>\n",
       "      <th>...</th>\n",
       "      <td>...</td>\n",
       "      <td>...</td>\n",
       "      <td>...</td>\n",
       "      <td>...</td>\n",
       "    </tr>\n",
       "    <tr>\n",
       "      <th>966879</th>\n",
       "      <td>Great game app. Lots of incentives to keep pla...</td>\n",
       "      <td>5</td>\n",
       "      <td>[great, game, app, lots, incentives, keep, pla...</td>\n",
       "      <td>[great, game, app, lot, incentive, keep, playi...</td>\n",
       "    </tr>\n",
       "    <tr>\n",
       "      <th>368435</th>\n",
       "      <td>It's a good app umm I don't have any robux yet...</td>\n",
       "      <td>5</td>\n",
       "      <td>[good, app, umm, robux, yet, time, test, revie...</td>\n",
       "      <td>[good, app, umm, robux, yet, time, test, revie...</td>\n",
       "    </tr>\n",
       "    <tr>\n",
       "      <th>570339</th>\n",
       "      <td>Operates well &amp; is quick and easy to learn.</td>\n",
       "      <td>5</td>\n",
       "      <td>[operates, well, quick, easy, learn]</td>\n",
       "      <td>[operates, well, quick, easy, learn]</td>\n",
       "    </tr>\n",
       "    <tr>\n",
       "      <th>66744</th>\n",
       "      <td>Great game just kinda you know getting hard bu...</td>\n",
       "      <td>5</td>\n",
       "      <td>[great, game, kinda, know, getting, hard, cool...</td>\n",
       "      <td>[great, game, kinda, know, getting, hard, cool...</td>\n",
       "    </tr>\n",
       "    <tr>\n",
       "      <th>365689</th>\n",
       "      <td>Good graphics, good payouts, and plenty of dif...</td>\n",
       "      <td>5</td>\n",
       "      <td>[good, graphics, good, payouts, plenty, differ...</td>\n",
       "      <td>[good, graphic, good, payouts, plenty, differe...</td>\n",
       "    </tr>\n",
       "  </tbody>\n",
       "</table>\n",
       "<p>375815 rows × 4 columns</p>\n",
       "</div>"
      ],
      "text/plain": [
       "                                                  content  score  \\\n",
       "620120  I'm now giving it a 1 star because my game won...      1   \n",
       "93144   It's bad to begin with. I saw that the actual ...      1   \n",
       "590136  It's crashing every time i open it, i haven't ...      1   \n",
       "412069  I used and paid for the subscription for whole...      1   \n",
       "98146   Fun, but doesn't work anymore. Will not load t...      1   \n",
       "...                                                   ...    ...   \n",
       "966879  Great game app. Lots of incentives to keep pla...      5   \n",
       "368435  It's a good app umm I don't have any robux yet...      5   \n",
       "570339        Operates well & is quick and easy to learn.      5   \n",
       "66744   Great game just kinda you know getting hard bu...      5   \n",
       "365689  Good graphics, good payouts, and plenty of dif...      5   \n",
       "\n",
       "                                                 wordlist  \\\n",
       "620120  ['m, giving, star, game, wont, even, load, wor...   \n",
       "93144   [bad, begin, saw, actual, force, awakens, game...   \n",
       "590136  [crashing, every, time, open, even, play, trie...   \n",
       "412069  [used, paid, subscription, whole, 10, min, ui,...   \n",
       "98146   [fun, work, anymore, load, game, gets, stuck, ...   \n",
       "...                                                   ...   \n",
       "966879  [great, game, app, lots, incentives, keep, pla...   \n",
       "368435  [good, app, umm, robux, yet, time, test, revie...   \n",
       "570339               [operates, well, quick, easy, learn]   \n",
       "66744   [great, game, kinda, know, getting, hard, cool...   \n",
       "365689  [good, graphics, good, payouts, plenty, differ...   \n",
       "\n",
       "                                              wordlistlem  \n",
       "620120  ['m, giving, star, game, wont, even, load, wor...  \n",
       "93144   [bad, begin, saw, actual, force, awakens, game...  \n",
       "590136  [crashing, every, time, open, even, play, trie...  \n",
       "412069  [used, paid, subscription, whole, 10, min, ui,...  \n",
       "98146   [fun, work, anymore, load, game, get, stuck, 8...  \n",
       "...                                                   ...  \n",
       "966879  [great, game, app, lot, incentive, keep, playi...  \n",
       "368435  [good, app, umm, robux, yet, time, test, revie...  \n",
       "570339               [operates, well, quick, easy, learn]  \n",
       "66744   [great, game, kinda, know, getting, hard, cool...  \n",
       "365689  [good, graphic, good, payouts, plenty, differe...  \n",
       "\n",
       "[375815 rows x 4 columns]"
      ]
     },
     "execution_count": 127,
     "metadata": {},
     "output_type": "execute_result"
    }
   ],
   "source": [
    "dfreviewdown"
   ]
  },
  {
   "cell_type": "markdown",
   "metadata": {},
   "source": [
    "### Dummy Classifier (Baseline Model)"
   ]
  },
  {
   "cell_type": "code",
   "execution_count": 128,
   "metadata": {
    "scrolled": true
   },
   "outputs": [
    {
     "name": "stdout",
     "output_type": "stream",
     "text": [
      "0:02:41.461189\n",
      "------------\n",
      "620120    ['m, giving, star, wont, even, load, worked, m...\n",
      "93144     [bad, begin, saw, actual, force, awakens, andr...\n",
      "590136    [crashing, every, time, open, even, tried, rei...\n",
      "412069    [used, paid, subscription, whole, 10, min, ui,...\n",
      "98146     [fun, work, anymore, load, get, stuck, 8/27, p...\n",
      "                                ...                        \n",
      "966879    [great, app, lot, incentive, keep, playing, ho...\n",
      "368435    [good, app, umm, robux, yet, time, test, revie...\n",
      "570339                 [operates, well, quick, easy, learn]\n",
      "66744     [great, kinda, know, getting, hard, cool, beau...\n",
      "365689    [good, graphic, good, payouts, plenty, differe...\n",
      "Name: wordlistlem, Length: 375815, dtype: object\n"
     ]
    }
   ],
   "source": [
    "starttime = datetime.now()\n",
    "\n",
    "dfreviewdown['wordlist'] = dfreviewdown['content'].apply(lambda x: process_reviews(x))\n",
    "dfreviewdown['wordlistlem'] = dfreviewdown['wordlist'].apply(lemmatize_text)\n",
    "\n",
    "print(datetime.now() - starttime)\n",
    "print('------------')\n",
    "print(dfreviewdown['wordlistlem'])"
   ]
  },
  {
   "cell_type": "code",
   "execution_count": 129,
   "metadata": {
    "scrolled": false
   },
   "outputs": [
    {
     "data": {
      "text/plain": [
       "620120    'm giving star wont even load worked minute up...\n",
       "93144     bad begin saw actual force awakens android tur...\n",
       "590136    crashing every time open even tried reinstall ...\n",
       "412069    used paid subscription whole 10 min ui intuiti...\n",
       "98146     fun work anymore load get stuck 8/27 progress ...\n",
       "                                ...                        \n",
       "966879    great app lot incentive keep playing hope pepa...\n",
       "368435    good app umm robux yet time test review people...\n",
       "570339                       operates well quick easy learn\n",
       "66744          great kinda know getting hard cool beautiful\n",
       "365689    good graphic good payouts plenty different typ...\n",
       "Name: strings, Length: 375815, dtype: object"
      ]
     },
     "execution_count": 129,
     "metadata": {},
     "output_type": "execute_result"
    }
   ],
   "source": [
    "dfreviewdown['strings'] = [' '.join(i) for i in dfreviewdown['wordlistlem']]\n",
    "dfreviewdown['strings']"
   ]
  },
  {
   "cell_type": "markdown",
   "metadata": {},
   "source": [
    "### TF-IDF"
   ]
  },
  {
   "cell_type": "code",
   "execution_count": 131,
   "metadata": {},
   "outputs": [],
   "source": [
    "x = dfreviewdown['strings']\n",
    "y = dfreviewdown['score']\n",
    "\n",
    "X_train, X_test, y_train, y_test = train_test_split(x, y, random_state = 44)"
   ]
  },
  {
   "cell_type": "code",
   "execution_count": 132,
   "metadata": {},
   "outputs": [],
   "source": [
    "vec = TfidfVectorizer()\n",
    "\n",
    "tfidf_X_train = vec.fit_transform(X_train)\n",
    "tfidf_X_test = vec.transform(X_test)"
   ]
  },
  {
   "cell_type": "markdown",
   "metadata": {},
   "source": [
    "### Dummy Classifier (Baseline Model)"
   ]
  },
  {
   "cell_type": "code",
   "execution_count": 133,
   "metadata": {},
   "outputs": [
    {
     "name": "stderr",
     "output_type": "stream",
     "text": [
      "/opt/anaconda3/lib/python3.7/site-packages/sklearn/dummy.py:132: FutureWarning: The default value of strategy will change from stratified to prior in 0.24.\n",
      "  \"stratified to prior in 0.24.\", FutureWarning)\n"
     ]
    }
   ],
   "source": [
    "from sklearn.dummy import DummyClassifier\n",
    "\n",
    "dclf = DummyClassifier()\n",
    "dclf.fit(tfidf_X_train, y_train)\n",
    "y_preds_dummy = dclf.predict(tfidf_X_test)"
   ]
  },
  {
   "cell_type": "code",
   "execution_count": 134,
   "metadata": {
    "scrolled": true
   },
   "outputs": [
    {
     "name": "stdout",
     "output_type": "stream",
     "text": [
      "Test Accuracy Score: 0.20032143389318177\n",
      "Test Precision Score: 0.20032454423178261\n",
      "Test Recall Score: 0.20032143389318177\n",
      "Test F1 Score: 0.20032261549784103\n"
     ]
    }
   ],
   "source": [
    "#Evaluation Metrics for Dummy Classifier\n",
    "\n",
    "print(\"Test Accuracy Score:\", metrics.accuracy_score(y_test, y_preds_dummy))\n",
    "print(\"Test Precision Score:\", metrics.precision_score(y_test, y_preds_dummy, average = \"weighted\"))\n",
    "print(\"Test Recall Score:\", metrics.recall_score(y_test, y_preds_dummy, average = \"weighted\"))\n",
    "print(\"Test F1 Score:\", metrics.f1_score(y_test, y_preds_dummy, average = \"weighted\"))"
   ]
  },
  {
   "cell_type": "markdown",
   "metadata": {},
   "source": [
    "### Naive Bayes (no engineered features)"
   ]
  },
  {
   "cell_type": "code",
   "execution_count": 135,
   "metadata": {
    "scrolled": true
   },
   "outputs": [
    {
     "name": "stdout",
     "output_type": "stream",
     "text": [
      "Test Accuracy Score: 0.45169976797156053\n",
      "Test Precision Score: 0.4501633773021118\n",
      "Test Recall Score: 0.45169976797156053\n",
      "Test F1 Score: 0.4499051595960758\n"
     ]
    }
   ],
   "source": [
    "NB = MultinomialNB(fit_prior = False)\n",
    "\n",
    "NB.fit(tfidf_X_train,y_train)\n",
    "\n",
    "y_pred_nb_test = NB.predict(tfidf_X_test)\n",
    "\n",
    "print(\"Test Accuracy Score:\", metrics.accuracy_score(y_test, y_pred_nb_test))\n",
    "print(\"Test Precision Score:\", metrics.precision_score(y_test, y_pred_nb_test, average = \"weighted\"))\n",
    "print(\"Test Recall Score:\", metrics.recall_score(y_test, y_pred_nb_test, average = \"weighted\"))\n",
    "print(\"Test F1 Score:\", metrics.f1_score(y_test, y_pred_nb_test, average = \"weighted\"))"
   ]
  },
  {
   "cell_type": "markdown",
   "metadata": {},
   "source": [
    "### Decision Tree"
   ]
  },
  {
   "cell_type": "code",
   "execution_count": null,
   "metadata": {},
   "outputs": [],
   "source": [
    "starttime = datetime.now()\n",
    "\n",
    "dtc = DecisionTreeClassifier(class_weight='balanced', random_state=22)\n",
    "\n",
    "dtc.fit(tfidf_X_train, y_train)\n",
    "\n",
    "y_pred_dtc_test = dtc.predict(tfidf_X_test)\n",
    "\n",
    "print(datetime.now() - starttime)\n",
    "print('------------')\n",
    "print(\"Test Accuracy Score:\", metrics.accuracy_score(y_test, y_pred_dtc_test))\n",
    "print(\"Test Precision Score:\", metrics.precision_score(y_test, y_pred_dtc_test, average = \"weighted\"))\n",
    "print(\"Test Recall Score:\", metrics.recall_score(y_test, y_pred_dtc_test, average = \"weighted\"))\n",
    "print(\"Test F1 Score:\", metrics.f1_score(y_test, y_pred_dtc_test, average = \"weighted\"))"
   ]
  },
  {
   "cell_type": "markdown",
   "metadata": {},
   "source": [
    "### Random Forest"
   ]
  },
  {
   "cell_type": "code",
   "execution_count": null,
   "metadata": {},
   "outputs": [],
   "source": [
    "rfc = RandomForestClassifier(n_estimators = 100, criterion='entropy', random_state = 11, n_jobs=-1)\n",
    "\n",
    "rfc.fit(tfidf_X_train, y_train)\n",
    "\n",
    "y_pred_rfc_test = rfc.predict(tfidf_X_test)\n",
    "\n",
    "print(\"Test Accuracy Score:\", metrics.accuracy_score(y_test, y_pred_rfc_test))\n",
    "print(\"Test Precision Score:\", metrics.precision_score(y_test, y_pred_rfc_test, average = \"weighted\"))\n",
    "print(\"Test Recall Score:\", metrics.recall_score(y_test, y_pred_rfc_test, average = \"weighted\"))\n",
    "print(\"Test F1 Score:\", metrics.f1_score(y_test, y_pred_rfc_test, average = \"weighted\"))"
   ]
  },
  {
   "cell_type": "code",
   "execution_count": null,
   "metadata": {},
   "outputs": [],
   "source": []
  }
 ],
 "metadata": {
  "kernelspec": {
   "display_name": "Python 3",
   "language": "python",
   "name": "python3"
  },
  "language_info": {
   "codemirror_mode": {
    "name": "ipython",
    "version": 3
   },
   "file_extension": ".py",
   "mimetype": "text/x-python",
   "name": "python",
   "nbconvert_exporter": "python",
   "pygments_lexer": "ipython3",
   "version": "3.7.6"
  }
 },
 "nbformat": 4,
 "nbformat_minor": 4
}

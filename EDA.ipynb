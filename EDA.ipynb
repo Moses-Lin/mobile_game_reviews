{
 "cells": [
  {
   "cell_type": "markdown",
   "metadata": {},
   "source": [
    "# Importing necessary things"
   ]
  },
  {
   "cell_type": "code",
   "execution_count": 1,
   "metadata": {},
   "outputs": [],
   "source": [
    "import pandas as pd\n",
    "import numpy as np\n",
    "import sklearn\n",
    "\n",
    "import sklearn.metrics as metrics\n",
    "from sklearn.utils import resample\n",
    "from sklearn.preprocessing import MinMaxScaler\n",
    "from sklearn.model_selection import train_test_split\n",
    "from sklearn.preprocessing import LabelEncoder\n",
    "from sklearn.naive_bayes import MultinomialNB\n",
    "from sklearn.ensemble import RandomForestClassifier\n",
    "from sklearn.tree import DecisionTreeClassifier\n",
    "from sklearn.metrics import accuracy_score, confusion_matrix, f1_score, recall_score, precision_score\n",
    "from sklearn.feature_extraction.text import TfidfVectorizer, CountVectorizer\n",
    "from sklearn.svm import SVC\n",
    "\n",
    "import nltk\n",
    "from nltk.corpus import stopwords\n",
    "from nltk import word_tokenize, RegexpTokenizer, TweetTokenizer\n",
    "from nltk.stem import WordNetLemmatizer\n",
    "from nltk.stem import PorterStemmer\n",
    "from nltk.probability import FreqDist\n",
    "\n",
    "import matplotlib.pyplot as plt\n",
    "import seaborn as sns\n",
    "from matplotlib import cm\n",
    "\n",
    "import re\n",
    "from datetime import datetime\n",
    "\n",
    "import pickle"
   ]
  },
  {
   "cell_type": "markdown",
   "metadata": {},
   "source": [
    "=================================================================================================================="
   ]
  },
  {
   "cell_type": "markdown",
   "metadata": {},
   "source": [
    "# Unpickling our data and taking a look"
   ]
  },
  {
   "cell_type": "code",
   "execution_count": 2,
   "metadata": {
    "scrolled": true
   },
   "outputs": [
    {
     "data": {
      "text/html": [
       "<div>\n",
       "<style scoped>\n",
       "    .dataframe tbody tr th:only-of-type {\n",
       "        vertical-align: middle;\n",
       "    }\n",
       "\n",
       "    .dataframe tbody tr th {\n",
       "        vertical-align: top;\n",
       "    }\n",
       "\n",
       "    .dataframe thead th {\n",
       "        text-align: right;\n",
       "    }\n",
       "</style>\n",
       "<table border=\"1\" class=\"dataframe\">\n",
       "  <thead>\n",
       "    <tr style=\"text-align: right;\">\n",
       "      <th></th>\n",
       "      <th>title</th>\n",
       "      <th>installs</th>\n",
       "      <th>minInstalls</th>\n",
       "      <th>score</th>\n",
       "      <th>ratings</th>\n",
       "      <th>reviews</th>\n",
       "      <th>histogram</th>\n",
       "      <th>price</th>\n",
       "      <th>free</th>\n",
       "      <th>offersIAP</th>\n",
       "      <th>size</th>\n",
       "      <th>genre</th>\n",
       "      <th>genreId</th>\n",
       "      <th>released</th>\n",
       "      <th>contentRating</th>\n",
       "      <th>appId</th>\n",
       "    </tr>\n",
       "  </thead>\n",
       "  <tbody>\n",
       "    <tr>\n",
       "      <th>0</th>\n",
       "      <td>Among Us</td>\n",
       "      <td>100,000,000+</td>\n",
       "      <td>100000000</td>\n",
       "      <td>4.456063</td>\n",
       "      <td>2668720.0</td>\n",
       "      <td>1362398.0</td>\n",
       "      <td>[208157, 50032, 107074, 254737, 2048720]</td>\n",
       "      <td>0.00</td>\n",
       "      <td>True</td>\n",
       "      <td>True</td>\n",
       "      <td>70M</td>\n",
       "      <td>Action</td>\n",
       "      <td>GAME_ACTION</td>\n",
       "      <td>Jun 15, 2018</td>\n",
       "      <td>Everyone 10+</td>\n",
       "      <td>com.innersloth.spacemafia</td>\n",
       "    </tr>\n",
       "    <tr>\n",
       "      <th>1</th>\n",
       "      <td>Scribble Rider</td>\n",
       "      <td>50,000,000+</td>\n",
       "      <td>50000000</td>\n",
       "      <td>3.762067</td>\n",
       "      <td>233833.0</td>\n",
       "      <td>97101.0</td>\n",
       "      <td>[47154, 12830, 18851, 24661, 130337]</td>\n",
       "      <td>0.00</td>\n",
       "      <td>True</td>\n",
       "      <td>True</td>\n",
       "      <td>127M</td>\n",
       "      <td>Action</td>\n",
       "      <td>GAME_ACTION</td>\n",
       "      <td>Jul 23, 2020</td>\n",
       "      <td>Everyone</td>\n",
       "      <td>com.tapped.drawrider</td>\n",
       "    </tr>\n",
       "    <tr>\n",
       "      <th>2</th>\n",
       "      <td>Call of Duty®: Mobile</td>\n",
       "      <td>100,000,000+</td>\n",
       "      <td>100000000</td>\n",
       "      <td>4.468448</td>\n",
       "      <td>10830558.0</td>\n",
       "      <td>4982589.0</td>\n",
       "      <td>[808396, 208675, 410554, 1076290, 8326643]</td>\n",
       "      <td>0.00</td>\n",
       "      <td>True</td>\n",
       "      <td>True</td>\n",
       "      <td>94M</td>\n",
       "      <td>Action</td>\n",
       "      <td>GAME_ACTION</td>\n",
       "      <td>Sep 30, 2019</td>\n",
       "      <td>Mature 17+</td>\n",
       "      <td>com.activision.callofduty.shooter</td>\n",
       "    </tr>\n",
       "    <tr>\n",
       "      <th>3</th>\n",
       "      <td>slither.io</td>\n",
       "      <td>100,000,000+</td>\n",
       "      <td>100000000</td>\n",
       "      <td>4.060273</td>\n",
       "      <td>6289940.0</td>\n",
       "      <td>2612866.0</td>\n",
       "      <td>[842869, 250387, 498673, 790843, 3907168]</td>\n",
       "      <td>0.00</td>\n",
       "      <td>True</td>\n",
       "      <td>True</td>\n",
       "      <td>Varies with device</td>\n",
       "      <td>Action</td>\n",
       "      <td>GAME_ACTION</td>\n",
       "      <td>Mar 25, 2016</td>\n",
       "      <td>Everyone</td>\n",
       "      <td>air.com.hypah.io.slither</td>\n",
       "    </tr>\n",
       "    <tr>\n",
       "      <th>4</th>\n",
       "      <td>Hitmasters</td>\n",
       "      <td>50,000,000+</td>\n",
       "      <td>50000000</td>\n",
       "      <td>4.099427</td>\n",
       "      <td>285765.0</td>\n",
       "      <td>100795.0</td>\n",
       "      <td>[40013, 10334, 17576, 31144, 186698]</td>\n",
       "      <td>0.00</td>\n",
       "      <td>True</td>\n",
       "      <td>True</td>\n",
       "      <td>85M</td>\n",
       "      <td>Action</td>\n",
       "      <td>GAME_ACTION</td>\n",
       "      <td>Mar 19, 2020</td>\n",
       "      <td>Teen</td>\n",
       "      <td>com.playgendary.hitmasters</td>\n",
       "    </tr>\n",
       "    <tr>\n",
       "      <th>...</th>\n",
       "      <td>...</td>\n",
       "      <td>...</td>\n",
       "      <td>...</td>\n",
       "      <td>...</td>\n",
       "      <td>...</td>\n",
       "      <td>...</td>\n",
       "      <td>...</td>\n",
       "      <td>...</td>\n",
       "      <td>...</td>\n",
       "      <td>...</td>\n",
       "      <td>...</td>\n",
       "      <td>...</td>\n",
       "      <td>...</td>\n",
       "      <td>...</td>\n",
       "      <td>...</td>\n",
       "      <td>...</td>\n",
       "    </tr>\n",
       "    <tr>\n",
       "      <th>5117</th>\n",
       "      <td>Cryptic Crossword</td>\n",
       "      <td>10,000+</td>\n",
       "      <td>10000</td>\n",
       "      <td>4.711340</td>\n",
       "      <td>2068.0</td>\n",
       "      <td>862.0</td>\n",
       "      <td>[21, 10, 42, 394, 1601]</td>\n",
       "      <td>3.99</td>\n",
       "      <td>False</td>\n",
       "      <td>False</td>\n",
       "      <td>Varies with device</td>\n",
       "      <td>Word</td>\n",
       "      <td>GAME_WORD</td>\n",
       "      <td>Nov 3, 2010</td>\n",
       "      <td>Everyone</td>\n",
       "      <td>com.teazel.crossword.cryptic.full</td>\n",
       "    </tr>\n",
       "    <tr>\n",
       "      <th>5118</th>\n",
       "      <td>Acrostics Crossword Puzzles</td>\n",
       "      <td>10,000+</td>\n",
       "      <td>10000</td>\n",
       "      <td>4.350000</td>\n",
       "      <td>372.0</td>\n",
       "      <td>180.0</td>\n",
       "      <td>[18, 11, 33, 67, 243]</td>\n",
       "      <td>3.99</td>\n",
       "      <td>False</td>\n",
       "      <td>True</td>\n",
       "      <td>15M</td>\n",
       "      <td>Word</td>\n",
       "      <td>GAME_WORD</td>\n",
       "      <td>Mar 18, 2013</td>\n",
       "      <td>Everyone</td>\n",
       "      <td>agamz.acrostics</td>\n",
       "    </tr>\n",
       "    <tr>\n",
       "      <th>5119</th>\n",
       "      <td>Jumbline 2</td>\n",
       "      <td>10,000+</td>\n",
       "      <td>10000</td>\n",
       "      <td>4.588785</td>\n",
       "      <td>1289.0</td>\n",
       "      <td>628.0</td>\n",
       "      <td>[36, 0, 84, 217, 952]</td>\n",
       "      <td>2.99</td>\n",
       "      <td>False</td>\n",
       "      <td>False</td>\n",
       "      <td>35M</td>\n",
       "      <td>Word</td>\n",
       "      <td>GAME_WORD</td>\n",
       "      <td>Nov 1, 2011</td>\n",
       "      <td>Everyone</td>\n",
       "      <td>com.brainium.jumbline2</td>\n",
       "    </tr>\n",
       "    <tr>\n",
       "      <th>5120</th>\n",
       "      <td>Word Breaker Full</td>\n",
       "      <td>10,000+</td>\n",
       "      <td>10000</td>\n",
       "      <td>4.180000</td>\n",
       "      <td>1109.0</td>\n",
       "      <td>587.0</td>\n",
       "      <td>[55, 33, 166, 255, 600]</td>\n",
       "      <td>2.99</td>\n",
       "      <td>False</td>\n",
       "      <td>False</td>\n",
       "      <td>14M</td>\n",
       "      <td>Word</td>\n",
       "      <td>GAME_WORD</td>\n",
       "      <td>Feb 24, 2011</td>\n",
       "      <td>Everyone</td>\n",
       "      <td>com.firecrackersw.wordbreakerfull</td>\n",
       "    </tr>\n",
       "    <tr>\n",
       "      <th>5121</th>\n",
       "      <td>Pictionary Word Generator - Pro</td>\n",
       "      <td>500+</td>\n",
       "      <td>500</td>\n",
       "      <td>0.000000</td>\n",
       "      <td>NaN</td>\n",
       "      <td>0.0</td>\n",
       "      <td>[0, 0, 0, 0, 0]</td>\n",
       "      <td>2.49</td>\n",
       "      <td>False</td>\n",
       "      <td>False</td>\n",
       "      <td>7.0M</td>\n",
       "      <td>Word</td>\n",
       "      <td>GAME_WORD</td>\n",
       "      <td>Jun 30, 2019</td>\n",
       "      <td>Everyone</td>\n",
       "      <td>com.verywisetech.pictionarypro</td>\n",
       "    </tr>\n",
       "  </tbody>\n",
       "</table>\n",
       "<p>5122 rows × 16 columns</p>\n",
       "</div>"
      ],
      "text/plain": [
       "                                title      installs  minInstalls     score  \\\n",
       "0                            Among Us  100,000,000+    100000000  4.456063   \n",
       "1                      Scribble Rider   50,000,000+     50000000  3.762067   \n",
       "2               Call of Duty®: Mobile  100,000,000+    100000000  4.468448   \n",
       "3                          slither.io  100,000,000+    100000000  4.060273   \n",
       "4                          Hitmasters   50,000,000+     50000000  4.099427   \n",
       "...                               ...           ...          ...       ...   \n",
       "5117                Cryptic Crossword       10,000+        10000  4.711340   \n",
       "5118      Acrostics Crossword Puzzles       10,000+        10000  4.350000   \n",
       "5119                       Jumbline 2       10,000+        10000  4.588785   \n",
       "5120                Word Breaker Full       10,000+        10000  4.180000   \n",
       "5121  Pictionary Word Generator - Pro          500+          500  0.000000   \n",
       "\n",
       "         ratings    reviews                                   histogram  \\\n",
       "0      2668720.0  1362398.0    [208157, 50032, 107074, 254737, 2048720]   \n",
       "1       233833.0    97101.0        [47154, 12830, 18851, 24661, 130337]   \n",
       "2     10830558.0  4982589.0  [808396, 208675, 410554, 1076290, 8326643]   \n",
       "3      6289940.0  2612866.0   [842869, 250387, 498673, 790843, 3907168]   \n",
       "4       285765.0   100795.0        [40013, 10334, 17576, 31144, 186698]   \n",
       "...          ...        ...                                         ...   \n",
       "5117      2068.0      862.0                     [21, 10, 42, 394, 1601]   \n",
       "5118       372.0      180.0                       [18, 11, 33, 67, 243]   \n",
       "5119      1289.0      628.0                       [36, 0, 84, 217, 952]   \n",
       "5120      1109.0      587.0                     [55, 33, 166, 255, 600]   \n",
       "5121         NaN        0.0                             [0, 0, 0, 0, 0]   \n",
       "\n",
       "      price   free  offersIAP                size   genre      genreId  \\\n",
       "0      0.00   True       True                 70M  Action  GAME_ACTION   \n",
       "1      0.00   True       True                127M  Action  GAME_ACTION   \n",
       "2      0.00   True       True                 94M  Action  GAME_ACTION   \n",
       "3      0.00   True       True  Varies with device  Action  GAME_ACTION   \n",
       "4      0.00   True       True                 85M  Action  GAME_ACTION   \n",
       "...     ...    ...        ...                 ...     ...          ...   \n",
       "5117   3.99  False      False  Varies with device    Word    GAME_WORD   \n",
       "5118   3.99  False       True                 15M    Word    GAME_WORD   \n",
       "5119   2.99  False      False                 35M    Word    GAME_WORD   \n",
       "5120   2.99  False      False                 14M    Word    GAME_WORD   \n",
       "5121   2.49  False      False                7.0M    Word    GAME_WORD   \n",
       "\n",
       "          released contentRating                              appId  \n",
       "0     Jun 15, 2018  Everyone 10+          com.innersloth.spacemafia  \n",
       "1     Jul 23, 2020      Everyone               com.tapped.drawrider  \n",
       "2     Sep 30, 2019    Mature 17+  com.activision.callofduty.shooter  \n",
       "3     Mar 25, 2016      Everyone           air.com.hypah.io.slither  \n",
       "4     Mar 19, 2020          Teen         com.playgendary.hitmasters  \n",
       "...            ...           ...                                ...  \n",
       "5117   Nov 3, 2010      Everyone  com.teazel.crossword.cryptic.full  \n",
       "5118  Mar 18, 2013      Everyone                    agamz.acrostics  \n",
       "5119   Nov 1, 2011      Everyone             com.brainium.jumbline2  \n",
       "5120  Feb 24, 2011      Everyone  com.firecrackersw.wordbreakerfull  \n",
       "5121  Jun 30, 2019      Everyone     com.verywisetech.pictionarypro  \n",
       "\n",
       "[5122 rows x 16 columns]"
      ]
     },
     "execution_count": 2,
     "metadata": {},
     "output_type": "execute_result"
    }
   ],
   "source": [
    "df = pd.read_pickle('reviewfeatures.pkl')\n",
    "df"
   ]
  },
  {
   "cell_type": "code",
   "execution_count": 3,
   "metadata": {
    "scrolled": true
   },
   "outputs": [
    {
     "data": {
      "text/plain": [
       "Index(['title', 'installs', 'minInstalls', 'score', 'ratings', 'reviews',\n",
       "       'histogram', 'price', 'free', 'offersIAP', 'size', 'genre', 'genreId',\n",
       "       'released', 'contentRating', 'appId'],\n",
       "      dtype='object')"
      ]
     },
     "execution_count": 3,
     "metadata": {},
     "output_type": "execute_result"
    }
   ],
   "source": [
    "df.columns"
   ]
  },
  {
   "cell_type": "code",
   "execution_count": 4,
   "metadata": {
    "scrolled": true
   },
   "outputs": [
    {
     "data": {
      "text/plain": [
       "title             object\n",
       "installs          object\n",
       "minInstalls        int64\n",
       "score            float64\n",
       "ratings          float64\n",
       "reviews          float64\n",
       "histogram         object\n",
       "price            float64\n",
       "free                bool\n",
       "offersIAP           bool\n",
       "size              object\n",
       "genre             object\n",
       "genreId           object\n",
       "released          object\n",
       "contentRating     object\n",
       "appId             object\n",
       "dtype: object"
      ]
     },
     "execution_count": 4,
     "metadata": {},
     "output_type": "execute_result"
    }
   ],
   "source": [
    "df.dtypes"
   ]
  },
  {
   "cell_type": "code",
   "execution_count": 5,
   "metadata": {},
   "outputs": [
    {
     "data": {
      "text/plain": [
       "title             0\n",
       "installs          0\n",
       "minInstalls       0\n",
       "score             6\n",
       "ratings          76\n",
       "reviews           6\n",
       "histogram         0\n",
       "price             0\n",
       "free              0\n",
       "offersIAP         0\n",
       "size              0\n",
       "genre             0\n",
       "genreId           0\n",
       "released         16\n",
       "contentRating     0\n",
       "appId             0\n",
       "dtype: int64"
      ]
     },
     "execution_count": 5,
     "metadata": {},
     "output_type": "execute_result"
    }
   ],
   "source": [
    "# Will drop games with no ratings\n",
    "\n",
    "df.isna().sum()"
   ]
  },
  {
   "cell_type": "code",
   "execution_count": 6,
   "metadata": {},
   "outputs": [],
   "source": [
    "# 91 rows were removed.\n",
    "\n",
    "df.dropna(inplace=True)"
   ]
  },
  {
   "cell_type": "code",
   "execution_count": 7,
   "metadata": {},
   "outputs": [
    {
     "data": {
      "text/plain": [
       "1,000,000+        894\n",
       "10,000,000+       829\n",
       "100,000+          663\n",
       "10,000+           643\n",
       "5,000,000+        440\n",
       "50,000+           301\n",
       "500,000+          299\n",
       "1,000+            278\n",
       "5,000+            210\n",
       "50,000,000+       198\n",
       "100,000,000+      133\n",
       "100+               64\n",
       "500+               61\n",
       "500,000,000+        9\n",
       "50+                 9\n",
       "10+                 3\n",
       "1,000,000,000+      2\n",
       "Name: installs, dtype: int64"
      ]
     },
     "execution_count": 7,
     "metadata": {},
     "output_type": "execute_result"
    }
   ],
   "source": [
    "# Can probably drop this column as it's the same as minInstalls but in an object format.\n",
    "\n",
    "df['installs'].value_counts()"
   ]
  },
  {
   "cell_type": "code",
   "execution_count": 8,
   "metadata": {
    "scrolled": true
   },
   "outputs": [
    {
     "data": {
      "text/plain": [
       "1000000       894\n",
       "10000000      829\n",
       "100000        663\n",
       "10000         643\n",
       "5000000       440\n",
       "50000         301\n",
       "500000        299\n",
       "1000          278\n",
       "5000          210\n",
       "50000000      198\n",
       "100000000     133\n",
       "100            64\n",
       "500            61\n",
       "50              9\n",
       "500000000       9\n",
       "10              3\n",
       "1000000000      2\n",
       "Name: minInstalls, dtype: int64"
      ]
     },
     "execution_count": 8,
     "metadata": {},
     "output_type": "execute_result"
    }
   ],
   "source": [
    "# Possibly reduce this columns to fewer categories.\n",
    "\n",
    "df['minInstalls'].value_counts()"
   ]
  },
  {
   "cell_type": "code",
   "execution_count": 9,
   "metadata": {},
   "outputs": [
    {
     "data": {
      "text/plain": [
       "count    5036.000000\n",
       "mean        4.216481\n",
       "std         0.412596\n",
       "min         1.000000\n",
       "25%         4.027189\n",
       "50%         4.277893\n",
       "75%         4.497392\n",
       "max         5.000000\n",
       "Name: score, dtype: float64"
      ]
     },
     "execution_count": 9,
     "metadata": {},
     "output_type": "execute_result"
    }
   ],
   "source": [
    "# We are only looking at the apps listed in the Top Free and Top Paid categories, so it makes sense the mean is high.\n",
    "\n",
    "df['score'].describe()"
   ]
  },
  {
   "cell_type": "code",
   "execution_count": 10,
   "metadata": {},
   "outputs": [
    {
     "data": {
      "text/plain": [
       "count    5.036000e+03\n",
       "mean     2.777024e+05\n",
       "std      1.791172e+06\n",
       "min      5.000000e+00\n",
       "25%      1.154500e+03\n",
       "50%      1.029500e+04\n",
       "75%      7.836150e+04\n",
       "max      6.507942e+07\n",
       "Name: ratings, dtype: float64"
      ]
     },
     "execution_count": 10,
     "metadata": {},
     "output_type": "execute_result"
    }
   ],
   "source": [
    "df['ratings'].describe()"
   ]
  },
  {
   "cell_type": "code",
   "execution_count": 11,
   "metadata": {
    "scrolled": true
   },
   "outputs": [
    {
     "data": {
      "text/plain": [
       "count    5.036000e+03\n",
       "mean     1.092222e+05\n",
       "std      8.309096e+05\n",
       "min      1.000000e+00\n",
       "25%      4.780000e+02\n",
       "50%      4.046000e+03\n",
       "75%      3.098350e+04\n",
       "max      3.942706e+07\n",
       "Name: reviews, dtype: float64"
      ]
     },
     "execution_count": 11,
     "metadata": {},
     "output_type": "execute_result"
    }
   ],
   "source": [
    "df['reviews'].describe()"
   ]
  },
  {
   "cell_type": "code",
   "execution_count": 12,
   "metadata": {
    "scrolled": true
   },
   "outputs": [
    {
     "data": {
      "text/plain": [
       "0.00     3329\n",
       "2.99      323\n",
       "0.99      293\n",
       "4.99      248\n",
       "1.99      240\n",
       "3.99      156\n",
       "6.99       54\n",
       "9.99       45\n",
       "2.49       42\n",
       "5.99       42\n",
       "3.49       42\n",
       "1.49       38\n",
       "5.49       35\n",
       "7.99       27\n",
       "4.49       19\n",
       "8.99       12\n",
       "14.99      11\n",
       "15.99       8\n",
       "1.00        6\n",
       "19.99       6\n",
       "7.49        5\n",
       "1.96        4\n",
       "13.99       4\n",
       "6.49        4\n",
       "11.99       4\n",
       "17.99       3\n",
       "24.99       3\n",
       "12.99       2\n",
       "5.00        2\n",
       "2.69        2\n",
       "29.99       2\n",
       "32.99       1\n",
       "3.75        1\n",
       "1.39        1\n",
       "2.00        1\n",
       "1.50        1\n",
       "2.77        1\n",
       "1.02        1\n",
       "22.99       1\n",
       "1.94        1\n",
       "4.89        1\n",
       "9.49        1\n",
       "1.05        1\n",
       "1.59        1\n",
       "20.99       1\n",
       "5.60        1\n",
       "4.40        1\n",
       "1.20        1\n",
       "3.63        1\n",
       "2.19        1\n",
       "4.29        1\n",
       "1.90        1\n",
       "8.49        1\n",
       "1.95        1\n",
       "3.89        1\n",
       "18.99       1\n",
       "Name: price, dtype: int64"
      ]
     },
     "execution_count": 12,
     "metadata": {},
     "output_type": "execute_result"
    }
   ],
   "source": [
    "# Will reduce this columns to fewer categories.\n",
    "\n",
    "df['price'].value_counts()"
   ]
  },
  {
   "cell_type": "code",
   "execution_count": 13,
   "metadata": {
    "scrolled": true
   },
   "outputs": [
    {
     "data": {
      "text/plain": [
       "True     3329\n",
       "False    1707\n",
       "Name: free, dtype: int64"
      ]
     },
     "execution_count": 13,
     "metadata": {},
     "output_type": "execute_result"
    }
   ],
   "source": [
    "# A decent number of these games are free games\n",
    "\n",
    "df['free'].value_counts()"
   ]
  },
  {
   "cell_type": "code",
   "execution_count": 14,
   "metadata": {},
   "outputs": [
    {
     "data": {
      "text/plain": [
       "True     3120\n",
       "False    1916\n",
       "Name: offersIAP, dtype: int64"
      ]
     },
     "execution_count": 14,
     "metadata": {},
     "output_type": "execute_result"
    }
   ],
   "source": [
    "# Numbers are similar to whether games are free to play or not.\n",
    "# Differences at a glance suggests a fair number of free games with no IAPs and paid games that still have IAPs\n",
    "\n",
    "df['offersIAP'].value_counts()"
   ]
  },
  {
   "cell_type": "code",
   "execution_count": 15,
   "metadata": {},
   "outputs": [
    {
     "data": {
      "text/plain": [
       "Varies with device    630\n",
       "37M                    62\n",
       "49M                    60\n",
       "28M                    58\n",
       "47M                    57\n",
       "                     ... \n",
       "956k                    1\n",
       "174M                    1\n",
       "2.5M                    1\n",
       "9.8M                    1\n",
       "353M                    1\n",
       "Name: size, Length: 279, dtype: int64"
      ]
     },
     "execution_count": 15,
     "metadata": {},
     "output_type": "execute_result"
    }
   ],
   "source": [
    "df['size'].value_counts()"
   ]
  },
  {
   "cell_type": "code",
   "execution_count": 16,
   "metadata": {
    "scrolled": true
   },
   "outputs": [
    {
     "data": {
      "text/plain": [
       "Adventure       395\n",
       "Role Playing    394\n",
       "Simulation      394\n",
       "Strategy        357\n",
       "Puzzle          351\n",
       "Educational     339\n",
       "Action          333\n",
       "Board           304\n",
       "Arcade          299\n",
       "Casual          289\n",
       "Card            247\n",
       "Sports          245\n",
       "Racing          240\n",
       "Word            217\n",
       "Music           216\n",
       "Casino          209\n",
       "Trivia          207\n",
       "Name: genre, dtype: int64"
      ]
     },
     "execution_count": 16,
     "metadata": {},
     "output_type": "execute_result"
    }
   ],
   "source": [
    "# Fair spread of games in each category.\n",
    "\n",
    "df['genre'].value_counts()"
   ]
  },
  {
   "cell_type": "code",
   "execution_count": 17,
   "metadata": {
    "scrolled": true
   },
   "outputs": [
    {
     "data": {
      "text/plain": [
       "GAME_ADVENTURE       395\n",
       "GAME_ROLE_PLAYING    394\n",
       "GAME_SIMULATION      394\n",
       "GAME_STRATEGY        357\n",
       "GAME_PUZZLE          351\n",
       "GAME_EDUCATIONAL     339\n",
       "GAME_ACTION          333\n",
       "GAME_BOARD           304\n",
       "GAME_ARCADE          299\n",
       "GAME_CASUAL          289\n",
       "GAME_CARD            247\n",
       "GAME_SPORTS          245\n",
       "GAME_RACING          240\n",
       "GAME_WORD            217\n",
       "GAME_MUSIC           216\n",
       "GAME_CASINO          209\n",
       "GAME_TRIVIA          207\n",
       "Name: genreId, dtype: int64"
      ]
     },
     "execution_count": 17,
     "metadata": {},
     "output_type": "execute_result"
    }
   ],
   "source": [
    "# Can remove this column as it's the same thing as genre.\n",
    "\n",
    "df['genreId'].value_counts()"
   ]
  },
  {
   "cell_type": "code",
   "execution_count": 18,
   "metadata": {},
   "outputs": [
    {
     "data": {
      "text/plain": [
       "Jul 28, 2020    14\n",
       "Jul 23, 2020    13\n",
       "Apr 24, 2020    13\n",
       "Aug 19, 2020    12\n",
       "Aug 26, 2020    12\n",
       "                ..\n",
       "Jan 6, 2019      1\n",
       "Jun 17, 2013     1\n",
       "Nov 7, 2012      1\n",
       "Oct 20, 2015     1\n",
       "Nov 30, 2012     1\n",
       "Name: released, Length: 2146, dtype: int64"
      ]
     },
     "execution_count": 18,
     "metadata": {},
     "output_type": "execute_result"
    }
   ],
   "source": [
    "# Need to change this to a useable column.\n",
    "\n",
    "df['released'].value_counts()"
   ]
  },
  {
   "cell_type": "code",
   "execution_count": 19,
   "metadata": {
    "scrolled": true
   },
   "outputs": [
    {
     "data": {
      "text/plain": [
       "Everyone           3017\n",
       "Teen               1293\n",
       "Everyone 10+        562\n",
       "Mature 17+          158\n",
       "Adults only 18+       6\n",
       "Name: contentRating, dtype: int64"
      ]
     },
     "execution_count": 19,
     "metadata": {},
     "output_type": "execute_result"
    }
   ],
   "source": [
    "# Most top apps are either for Everyone or Teen. Makes sense to appeal to wider audiences.\n",
    "\n",
    "df['contentRating'].value_counts()"
   ]
  },
  {
   "cell_type": "markdown",
   "metadata": {},
   "source": [
    "=================================================================================================================="
   ]
  },
  {
   "cell_type": "markdown",
   "metadata": {},
   "source": [
    "# Cleaning"
   ]
  },
  {
   "cell_type": "code",
   "execution_count": 20,
   "metadata": {
    "scrolled": true
   },
   "outputs": [
    {
     "data": {
      "text/html": [
       "<div>\n",
       "<style scoped>\n",
       "    .dataframe tbody tr th:only-of-type {\n",
       "        vertical-align: middle;\n",
       "    }\n",
       "\n",
       "    .dataframe tbody tr th {\n",
       "        vertical-align: top;\n",
       "    }\n",
       "\n",
       "    .dataframe thead th {\n",
       "        text-align: right;\n",
       "    }\n",
       "</style>\n",
       "<table border=\"1\" class=\"dataframe\">\n",
       "  <thead>\n",
       "    <tr style=\"text-align: right;\">\n",
       "      <th></th>\n",
       "      <th>title</th>\n",
       "      <th>minInstalls</th>\n",
       "      <th>score</th>\n",
       "      <th>ratings</th>\n",
       "      <th>reviews</th>\n",
       "      <th>histogram</th>\n",
       "      <th>price</th>\n",
       "      <th>free</th>\n",
       "      <th>offersIAP</th>\n",
       "      <th>size</th>\n",
       "      <th>genre</th>\n",
       "      <th>released</th>\n",
       "      <th>contentRating</th>\n",
       "      <th>appId</th>\n",
       "    </tr>\n",
       "  </thead>\n",
       "  <tbody>\n",
       "    <tr>\n",
       "      <th>0</th>\n",
       "      <td>Among Us</td>\n",
       "      <td>100000000</td>\n",
       "      <td>4.456063</td>\n",
       "      <td>2668720.0</td>\n",
       "      <td>1362398.0</td>\n",
       "      <td>[208157, 50032, 107074, 254737, 2048720]</td>\n",
       "      <td>0.00</td>\n",
       "      <td>True</td>\n",
       "      <td>True</td>\n",
       "      <td>70M</td>\n",
       "      <td>Action</td>\n",
       "      <td>Jun 15, 2018</td>\n",
       "      <td>Everyone 10+</td>\n",
       "      <td>com.innersloth.spacemafia</td>\n",
       "    </tr>\n",
       "    <tr>\n",
       "      <th>1</th>\n",
       "      <td>Scribble Rider</td>\n",
       "      <td>50000000</td>\n",
       "      <td>3.762067</td>\n",
       "      <td>233833.0</td>\n",
       "      <td>97101.0</td>\n",
       "      <td>[47154, 12830, 18851, 24661, 130337]</td>\n",
       "      <td>0.00</td>\n",
       "      <td>True</td>\n",
       "      <td>True</td>\n",
       "      <td>127M</td>\n",
       "      <td>Action</td>\n",
       "      <td>Jul 23, 2020</td>\n",
       "      <td>Everyone</td>\n",
       "      <td>com.tapped.drawrider</td>\n",
       "    </tr>\n",
       "    <tr>\n",
       "      <th>2</th>\n",
       "      <td>Call of Duty®: Mobile</td>\n",
       "      <td>100000000</td>\n",
       "      <td>4.468448</td>\n",
       "      <td>10830558.0</td>\n",
       "      <td>4982589.0</td>\n",
       "      <td>[808396, 208675, 410554, 1076290, 8326643]</td>\n",
       "      <td>0.00</td>\n",
       "      <td>True</td>\n",
       "      <td>True</td>\n",
       "      <td>94M</td>\n",
       "      <td>Action</td>\n",
       "      <td>Sep 30, 2019</td>\n",
       "      <td>Mature 17+</td>\n",
       "      <td>com.activision.callofduty.shooter</td>\n",
       "    </tr>\n",
       "    <tr>\n",
       "      <th>3</th>\n",
       "      <td>slither.io</td>\n",
       "      <td>100000000</td>\n",
       "      <td>4.060273</td>\n",
       "      <td>6289940.0</td>\n",
       "      <td>2612866.0</td>\n",
       "      <td>[842869, 250387, 498673, 790843, 3907168]</td>\n",
       "      <td>0.00</td>\n",
       "      <td>True</td>\n",
       "      <td>True</td>\n",
       "      <td>Varies with device</td>\n",
       "      <td>Action</td>\n",
       "      <td>Mar 25, 2016</td>\n",
       "      <td>Everyone</td>\n",
       "      <td>air.com.hypah.io.slither</td>\n",
       "    </tr>\n",
       "    <tr>\n",
       "      <th>4</th>\n",
       "      <td>Hitmasters</td>\n",
       "      <td>50000000</td>\n",
       "      <td>4.099427</td>\n",
       "      <td>285765.0</td>\n",
       "      <td>100795.0</td>\n",
       "      <td>[40013, 10334, 17576, 31144, 186698]</td>\n",
       "      <td>0.00</td>\n",
       "      <td>True</td>\n",
       "      <td>True</td>\n",
       "      <td>85M</td>\n",
       "      <td>Action</td>\n",
       "      <td>Mar 19, 2020</td>\n",
       "      <td>Teen</td>\n",
       "      <td>com.playgendary.hitmasters</td>\n",
       "    </tr>\n",
       "    <tr>\n",
       "      <th>...</th>\n",
       "      <td>...</td>\n",
       "      <td>...</td>\n",
       "      <td>...</td>\n",
       "      <td>...</td>\n",
       "      <td>...</td>\n",
       "      <td>...</td>\n",
       "      <td>...</td>\n",
       "      <td>...</td>\n",
       "      <td>...</td>\n",
       "      <td>...</td>\n",
       "      <td>...</td>\n",
       "      <td>...</td>\n",
       "      <td>...</td>\n",
       "      <td>...</td>\n",
       "    </tr>\n",
       "    <tr>\n",
       "      <th>5116</th>\n",
       "      <td>Word Search Daily PRO (900+ Levels)</td>\n",
       "      <td>1000</td>\n",
       "      <td>4.425532</td>\n",
       "      <td>47.0</td>\n",
       "      <td>19.0</td>\n",
       "      <td>[2, 0, 4, 11, 30]</td>\n",
       "      <td>1.99</td>\n",
       "      <td>False</td>\n",
       "      <td>False</td>\n",
       "      <td>9.9M</td>\n",
       "      <td>Word</td>\n",
       "      <td>Aug 13, 2018</td>\n",
       "      <td>Everyone</td>\n",
       "      <td>air.com.littlebigplay.games.wordsearchdailypro</td>\n",
       "    </tr>\n",
       "    <tr>\n",
       "      <th>5117</th>\n",
       "      <td>Cryptic Crossword</td>\n",
       "      <td>10000</td>\n",
       "      <td>4.711340</td>\n",
       "      <td>2068.0</td>\n",
       "      <td>862.0</td>\n",
       "      <td>[21, 10, 42, 394, 1601]</td>\n",
       "      <td>3.99</td>\n",
       "      <td>False</td>\n",
       "      <td>False</td>\n",
       "      <td>Varies with device</td>\n",
       "      <td>Word</td>\n",
       "      <td>Nov 3, 2010</td>\n",
       "      <td>Everyone</td>\n",
       "      <td>com.teazel.crossword.cryptic.full</td>\n",
       "    </tr>\n",
       "    <tr>\n",
       "      <th>5118</th>\n",
       "      <td>Acrostics Crossword Puzzles</td>\n",
       "      <td>10000</td>\n",
       "      <td>4.350000</td>\n",
       "      <td>372.0</td>\n",
       "      <td>180.0</td>\n",
       "      <td>[18, 11, 33, 67, 243]</td>\n",
       "      <td>3.99</td>\n",
       "      <td>False</td>\n",
       "      <td>True</td>\n",
       "      <td>15M</td>\n",
       "      <td>Word</td>\n",
       "      <td>Mar 18, 2013</td>\n",
       "      <td>Everyone</td>\n",
       "      <td>agamz.acrostics</td>\n",
       "    </tr>\n",
       "    <tr>\n",
       "      <th>5119</th>\n",
       "      <td>Jumbline 2</td>\n",
       "      <td>10000</td>\n",
       "      <td>4.588785</td>\n",
       "      <td>1289.0</td>\n",
       "      <td>628.0</td>\n",
       "      <td>[36, 0, 84, 217, 952]</td>\n",
       "      <td>2.99</td>\n",
       "      <td>False</td>\n",
       "      <td>False</td>\n",
       "      <td>35M</td>\n",
       "      <td>Word</td>\n",
       "      <td>Nov 1, 2011</td>\n",
       "      <td>Everyone</td>\n",
       "      <td>com.brainium.jumbline2</td>\n",
       "    </tr>\n",
       "    <tr>\n",
       "      <th>5120</th>\n",
       "      <td>Word Breaker Full</td>\n",
       "      <td>10000</td>\n",
       "      <td>4.180000</td>\n",
       "      <td>1109.0</td>\n",
       "      <td>587.0</td>\n",
       "      <td>[55, 33, 166, 255, 600]</td>\n",
       "      <td>2.99</td>\n",
       "      <td>False</td>\n",
       "      <td>False</td>\n",
       "      <td>14M</td>\n",
       "      <td>Word</td>\n",
       "      <td>Feb 24, 2011</td>\n",
       "      <td>Everyone</td>\n",
       "      <td>com.firecrackersw.wordbreakerfull</td>\n",
       "    </tr>\n",
       "  </tbody>\n",
       "</table>\n",
       "<p>5036 rows × 14 columns</p>\n",
       "</div>"
      ],
      "text/plain": [
       "                                    title  minInstalls     score     ratings  \\\n",
       "0                                Among Us    100000000  4.456063   2668720.0   \n",
       "1                          Scribble Rider     50000000  3.762067    233833.0   \n",
       "2                   Call of Duty®: Mobile    100000000  4.468448  10830558.0   \n",
       "3                              slither.io    100000000  4.060273   6289940.0   \n",
       "4                              Hitmasters     50000000  4.099427    285765.0   \n",
       "...                                   ...          ...       ...         ...   \n",
       "5116  Word Search Daily PRO (900+ Levels)         1000  4.425532        47.0   \n",
       "5117                    Cryptic Crossword        10000  4.711340      2068.0   \n",
       "5118          Acrostics Crossword Puzzles        10000  4.350000       372.0   \n",
       "5119                           Jumbline 2        10000  4.588785      1289.0   \n",
       "5120                    Word Breaker Full        10000  4.180000      1109.0   \n",
       "\n",
       "        reviews                                   histogram  price   free  \\\n",
       "0     1362398.0    [208157, 50032, 107074, 254737, 2048720]   0.00   True   \n",
       "1       97101.0        [47154, 12830, 18851, 24661, 130337]   0.00   True   \n",
       "2     4982589.0  [808396, 208675, 410554, 1076290, 8326643]   0.00   True   \n",
       "3     2612866.0   [842869, 250387, 498673, 790843, 3907168]   0.00   True   \n",
       "4      100795.0        [40013, 10334, 17576, 31144, 186698]   0.00   True   \n",
       "...         ...                                         ...    ...    ...   \n",
       "5116       19.0                           [2, 0, 4, 11, 30]   1.99  False   \n",
       "5117      862.0                     [21, 10, 42, 394, 1601]   3.99  False   \n",
       "5118      180.0                       [18, 11, 33, 67, 243]   3.99  False   \n",
       "5119      628.0                       [36, 0, 84, 217, 952]   2.99  False   \n",
       "5120      587.0                     [55, 33, 166, 255, 600]   2.99  False   \n",
       "\n",
       "      offersIAP                size   genre      released contentRating  \\\n",
       "0          True                 70M  Action  Jun 15, 2018  Everyone 10+   \n",
       "1          True                127M  Action  Jul 23, 2020      Everyone   \n",
       "2          True                 94M  Action  Sep 30, 2019    Mature 17+   \n",
       "3          True  Varies with device  Action  Mar 25, 2016      Everyone   \n",
       "4          True                 85M  Action  Mar 19, 2020          Teen   \n",
       "...         ...                 ...     ...           ...           ...   \n",
       "5116      False                9.9M    Word  Aug 13, 2018      Everyone   \n",
       "5117      False  Varies with device    Word   Nov 3, 2010      Everyone   \n",
       "5118       True                 15M    Word  Mar 18, 2013      Everyone   \n",
       "5119      False                 35M    Word   Nov 1, 2011      Everyone   \n",
       "5120      False                 14M    Word  Feb 24, 2011      Everyone   \n",
       "\n",
       "                                               appId  \n",
       "0                          com.innersloth.spacemafia  \n",
       "1                               com.tapped.drawrider  \n",
       "2                  com.activision.callofduty.shooter  \n",
       "3                           air.com.hypah.io.slither  \n",
       "4                         com.playgendary.hitmasters  \n",
       "...                                              ...  \n",
       "5116  air.com.littlebigplay.games.wordsearchdailypro  \n",
       "5117               com.teazel.crossword.cryptic.full  \n",
       "5118                                 agamz.acrostics  \n",
       "5119                          com.brainium.jumbline2  \n",
       "5120               com.firecrackersw.wordbreakerfull  \n",
       "\n",
       "[5036 rows x 14 columns]"
      ]
     },
     "execution_count": 20,
     "metadata": {},
     "output_type": "execute_result"
    }
   ],
   "source": [
    "df.drop(columns=['installs', 'genreId'], inplace=True)\n",
    "df"
   ]
  },
  {
   "cell_type": "code",
   "execution_count": 21,
   "metadata": {
    "scrolled": true
   },
   "outputs": [
    {
     "data": {
      "text/html": [
       "<div>\n",
       "<style scoped>\n",
       "    .dataframe tbody tr th:only-of-type {\n",
       "        vertical-align: middle;\n",
       "    }\n",
       "\n",
       "    .dataframe tbody tr th {\n",
       "        vertical-align: top;\n",
       "    }\n",
       "\n",
       "    .dataframe thead th {\n",
       "        text-align: right;\n",
       "    }\n",
       "</style>\n",
       "<table border=\"1\" class=\"dataframe\">\n",
       "  <thead>\n",
       "    <tr style=\"text-align: right;\">\n",
       "      <th></th>\n",
       "      <th>title</th>\n",
       "      <th>minInstalls</th>\n",
       "      <th>score</th>\n",
       "      <th>ratings</th>\n",
       "      <th>reviews</th>\n",
       "      <th>histogram</th>\n",
       "      <th>price</th>\n",
       "      <th>free</th>\n",
       "      <th>offersIAP</th>\n",
       "      <th>size</th>\n",
       "      <th>genre</th>\n",
       "      <th>contentRating</th>\n",
       "      <th>appId</th>\n",
       "      <th>releasedate</th>\n",
       "    </tr>\n",
       "  </thead>\n",
       "  <tbody>\n",
       "    <tr>\n",
       "      <th>0</th>\n",
       "      <td>Among Us</td>\n",
       "      <td>100000000</td>\n",
       "      <td>4.456063</td>\n",
       "      <td>2668720.0</td>\n",
       "      <td>1362398.0</td>\n",
       "      <td>[208157, 50032, 107074, 254737, 2048720]</td>\n",
       "      <td>0.00</td>\n",
       "      <td>True</td>\n",
       "      <td>True</td>\n",
       "      <td>70M</td>\n",
       "      <td>Action</td>\n",
       "      <td>Everyone 10+</td>\n",
       "      <td>com.innersloth.spacemafia</td>\n",
       "      <td>2018-06-15</td>\n",
       "    </tr>\n",
       "    <tr>\n",
       "      <th>1</th>\n",
       "      <td>Scribble Rider</td>\n",
       "      <td>50000000</td>\n",
       "      <td>3.762067</td>\n",
       "      <td>233833.0</td>\n",
       "      <td>97101.0</td>\n",
       "      <td>[47154, 12830, 18851, 24661, 130337]</td>\n",
       "      <td>0.00</td>\n",
       "      <td>True</td>\n",
       "      <td>True</td>\n",
       "      <td>127M</td>\n",
       "      <td>Action</td>\n",
       "      <td>Everyone</td>\n",
       "      <td>com.tapped.drawrider</td>\n",
       "      <td>2020-07-23</td>\n",
       "    </tr>\n",
       "    <tr>\n",
       "      <th>2</th>\n",
       "      <td>Call of Duty®: Mobile</td>\n",
       "      <td>100000000</td>\n",
       "      <td>4.468448</td>\n",
       "      <td>10830558.0</td>\n",
       "      <td>4982589.0</td>\n",
       "      <td>[808396, 208675, 410554, 1076290, 8326643]</td>\n",
       "      <td>0.00</td>\n",
       "      <td>True</td>\n",
       "      <td>True</td>\n",
       "      <td>94M</td>\n",
       "      <td>Action</td>\n",
       "      <td>Mature 17+</td>\n",
       "      <td>com.activision.callofduty.shooter</td>\n",
       "      <td>2019-09-30</td>\n",
       "    </tr>\n",
       "    <tr>\n",
       "      <th>3</th>\n",
       "      <td>slither.io</td>\n",
       "      <td>100000000</td>\n",
       "      <td>4.060273</td>\n",
       "      <td>6289940.0</td>\n",
       "      <td>2612866.0</td>\n",
       "      <td>[842869, 250387, 498673, 790843, 3907168]</td>\n",
       "      <td>0.00</td>\n",
       "      <td>True</td>\n",
       "      <td>True</td>\n",
       "      <td>Varies with device</td>\n",
       "      <td>Action</td>\n",
       "      <td>Everyone</td>\n",
       "      <td>air.com.hypah.io.slither</td>\n",
       "      <td>2016-03-25</td>\n",
       "    </tr>\n",
       "    <tr>\n",
       "      <th>4</th>\n",
       "      <td>Hitmasters</td>\n",
       "      <td>50000000</td>\n",
       "      <td>4.099427</td>\n",
       "      <td>285765.0</td>\n",
       "      <td>100795.0</td>\n",
       "      <td>[40013, 10334, 17576, 31144, 186698]</td>\n",
       "      <td>0.00</td>\n",
       "      <td>True</td>\n",
       "      <td>True</td>\n",
       "      <td>85M</td>\n",
       "      <td>Action</td>\n",
       "      <td>Teen</td>\n",
       "      <td>com.playgendary.hitmasters</td>\n",
       "      <td>2020-03-19</td>\n",
       "    </tr>\n",
       "    <tr>\n",
       "      <th>...</th>\n",
       "      <td>...</td>\n",
       "      <td>...</td>\n",
       "      <td>...</td>\n",
       "      <td>...</td>\n",
       "      <td>...</td>\n",
       "      <td>...</td>\n",
       "      <td>...</td>\n",
       "      <td>...</td>\n",
       "      <td>...</td>\n",
       "      <td>...</td>\n",
       "      <td>...</td>\n",
       "      <td>...</td>\n",
       "      <td>...</td>\n",
       "      <td>...</td>\n",
       "    </tr>\n",
       "    <tr>\n",
       "      <th>5116</th>\n",
       "      <td>Word Search Daily PRO (900+ Levels)</td>\n",
       "      <td>1000</td>\n",
       "      <td>4.425532</td>\n",
       "      <td>47.0</td>\n",
       "      <td>19.0</td>\n",
       "      <td>[2, 0, 4, 11, 30]</td>\n",
       "      <td>1.99</td>\n",
       "      <td>False</td>\n",
       "      <td>False</td>\n",
       "      <td>9.9M</td>\n",
       "      <td>Word</td>\n",
       "      <td>Everyone</td>\n",
       "      <td>air.com.littlebigplay.games.wordsearchdailypro</td>\n",
       "      <td>2018-08-13</td>\n",
       "    </tr>\n",
       "    <tr>\n",
       "      <th>5117</th>\n",
       "      <td>Cryptic Crossword</td>\n",
       "      <td>10000</td>\n",
       "      <td>4.711340</td>\n",
       "      <td>2068.0</td>\n",
       "      <td>862.0</td>\n",
       "      <td>[21, 10, 42, 394, 1601]</td>\n",
       "      <td>3.99</td>\n",
       "      <td>False</td>\n",
       "      <td>False</td>\n",
       "      <td>Varies with device</td>\n",
       "      <td>Word</td>\n",
       "      <td>Everyone</td>\n",
       "      <td>com.teazel.crossword.cryptic.full</td>\n",
       "      <td>2010-11-03</td>\n",
       "    </tr>\n",
       "    <tr>\n",
       "      <th>5118</th>\n",
       "      <td>Acrostics Crossword Puzzles</td>\n",
       "      <td>10000</td>\n",
       "      <td>4.350000</td>\n",
       "      <td>372.0</td>\n",
       "      <td>180.0</td>\n",
       "      <td>[18, 11, 33, 67, 243]</td>\n",
       "      <td>3.99</td>\n",
       "      <td>False</td>\n",
       "      <td>True</td>\n",
       "      <td>15M</td>\n",
       "      <td>Word</td>\n",
       "      <td>Everyone</td>\n",
       "      <td>agamz.acrostics</td>\n",
       "      <td>2013-03-18</td>\n",
       "    </tr>\n",
       "    <tr>\n",
       "      <th>5119</th>\n",
       "      <td>Jumbline 2</td>\n",
       "      <td>10000</td>\n",
       "      <td>4.588785</td>\n",
       "      <td>1289.0</td>\n",
       "      <td>628.0</td>\n",
       "      <td>[36, 0, 84, 217, 952]</td>\n",
       "      <td>2.99</td>\n",
       "      <td>False</td>\n",
       "      <td>False</td>\n",
       "      <td>35M</td>\n",
       "      <td>Word</td>\n",
       "      <td>Everyone</td>\n",
       "      <td>com.brainium.jumbline2</td>\n",
       "      <td>2011-11-01</td>\n",
       "    </tr>\n",
       "    <tr>\n",
       "      <th>5120</th>\n",
       "      <td>Word Breaker Full</td>\n",
       "      <td>10000</td>\n",
       "      <td>4.180000</td>\n",
       "      <td>1109.0</td>\n",
       "      <td>587.0</td>\n",
       "      <td>[55, 33, 166, 255, 600]</td>\n",
       "      <td>2.99</td>\n",
       "      <td>False</td>\n",
       "      <td>False</td>\n",
       "      <td>14M</td>\n",
       "      <td>Word</td>\n",
       "      <td>Everyone</td>\n",
       "      <td>com.firecrackersw.wordbreakerfull</td>\n",
       "      <td>2011-02-24</td>\n",
       "    </tr>\n",
       "  </tbody>\n",
       "</table>\n",
       "<p>5036 rows × 14 columns</p>\n",
       "</div>"
      ],
      "text/plain": [
       "                                    title  minInstalls     score     ratings  \\\n",
       "0                                Among Us    100000000  4.456063   2668720.0   \n",
       "1                          Scribble Rider     50000000  3.762067    233833.0   \n",
       "2                   Call of Duty®: Mobile    100000000  4.468448  10830558.0   \n",
       "3                              slither.io    100000000  4.060273   6289940.0   \n",
       "4                              Hitmasters     50000000  4.099427    285765.0   \n",
       "...                                   ...          ...       ...         ...   \n",
       "5116  Word Search Daily PRO (900+ Levels)         1000  4.425532        47.0   \n",
       "5117                    Cryptic Crossword        10000  4.711340      2068.0   \n",
       "5118          Acrostics Crossword Puzzles        10000  4.350000       372.0   \n",
       "5119                           Jumbline 2        10000  4.588785      1289.0   \n",
       "5120                    Word Breaker Full        10000  4.180000      1109.0   \n",
       "\n",
       "        reviews                                   histogram  price   free  \\\n",
       "0     1362398.0    [208157, 50032, 107074, 254737, 2048720]   0.00   True   \n",
       "1       97101.0        [47154, 12830, 18851, 24661, 130337]   0.00   True   \n",
       "2     4982589.0  [808396, 208675, 410554, 1076290, 8326643]   0.00   True   \n",
       "3     2612866.0   [842869, 250387, 498673, 790843, 3907168]   0.00   True   \n",
       "4      100795.0        [40013, 10334, 17576, 31144, 186698]   0.00   True   \n",
       "...         ...                                         ...    ...    ...   \n",
       "5116       19.0                           [2, 0, 4, 11, 30]   1.99  False   \n",
       "5117      862.0                     [21, 10, 42, 394, 1601]   3.99  False   \n",
       "5118      180.0                       [18, 11, 33, 67, 243]   3.99  False   \n",
       "5119      628.0                       [36, 0, 84, 217, 952]   2.99  False   \n",
       "5120      587.0                     [55, 33, 166, 255, 600]   2.99  False   \n",
       "\n",
       "      offersIAP                size   genre contentRating  \\\n",
       "0          True                 70M  Action  Everyone 10+   \n",
       "1          True                127M  Action      Everyone   \n",
       "2          True                 94M  Action    Mature 17+   \n",
       "3          True  Varies with device  Action      Everyone   \n",
       "4          True                 85M  Action          Teen   \n",
       "...         ...                 ...     ...           ...   \n",
       "5116      False                9.9M    Word      Everyone   \n",
       "5117      False  Varies with device    Word      Everyone   \n",
       "5118       True                 15M    Word      Everyone   \n",
       "5119      False                 35M    Word      Everyone   \n",
       "5120      False                 14M    Word      Everyone   \n",
       "\n",
       "                                               appId releasedate  \n",
       "0                          com.innersloth.spacemafia  2018-06-15  \n",
       "1                               com.tapped.drawrider  2020-07-23  \n",
       "2                  com.activision.callofduty.shooter  2019-09-30  \n",
       "3                           air.com.hypah.io.slither  2016-03-25  \n",
       "4                         com.playgendary.hitmasters  2020-03-19  \n",
       "...                                              ...         ...  \n",
       "5116  air.com.littlebigplay.games.wordsearchdailypro  2018-08-13  \n",
       "5117               com.teazel.crossword.cryptic.full  2010-11-03  \n",
       "5118                                 agamz.acrostics  2013-03-18  \n",
       "5119                          com.brainium.jumbline2  2011-11-01  \n",
       "5120               com.firecrackersw.wordbreakerfull  2011-02-24  \n",
       "\n",
       "[5036 rows x 14 columns]"
      ]
     },
     "execution_count": 21,
     "metadata": {},
     "output_type": "execute_result"
    }
   ],
   "source": [
    "df['releasedate'] = df['released'].apply(pd.to_datetime)\n",
    "df.drop(columns=['released'], inplace=True)\n",
    "df"
   ]
  },
  {
   "cell_type": "code",
   "execution_count": 22,
   "metadata": {
    "scrolled": true
   },
   "outputs": [
    {
     "data": {
      "text/html": [
       "<div>\n",
       "<style scoped>\n",
       "    .dataframe tbody tr th:only-of-type {\n",
       "        vertical-align: middle;\n",
       "    }\n",
       "\n",
       "    .dataframe tbody tr th {\n",
       "        vertical-align: top;\n",
       "    }\n",
       "\n",
       "    .dataframe thead th {\n",
       "        text-align: right;\n",
       "    }\n",
       "</style>\n",
       "<table border=\"1\" class=\"dataframe\">\n",
       "  <thead>\n",
       "    <tr style=\"text-align: right;\">\n",
       "      <th></th>\n",
       "      <th>ratings</th>\n",
       "      <th>reviews</th>\n",
       "      <th>free</th>\n",
       "      <th>offersIAP</th>\n",
       "      <th>genre</th>\n",
       "      <th>contentRating</th>\n",
       "      <th>appId</th>\n",
       "      <th>releasedate</th>\n",
       "    </tr>\n",
       "  </thead>\n",
       "  <tbody>\n",
       "    <tr>\n",
       "      <th>0</th>\n",
       "      <td>2668720.0</td>\n",
       "      <td>1362398.0</td>\n",
       "      <td>True</td>\n",
       "      <td>True</td>\n",
       "      <td>Action</td>\n",
       "      <td>Everyone 10+</td>\n",
       "      <td>com.innersloth.spacemafia</td>\n",
       "      <td>2018-06-15</td>\n",
       "    </tr>\n",
       "    <tr>\n",
       "      <th>1</th>\n",
       "      <td>233833.0</td>\n",
       "      <td>97101.0</td>\n",
       "      <td>True</td>\n",
       "      <td>True</td>\n",
       "      <td>Action</td>\n",
       "      <td>Everyone</td>\n",
       "      <td>com.tapped.drawrider</td>\n",
       "      <td>2020-07-23</td>\n",
       "    </tr>\n",
       "    <tr>\n",
       "      <th>2</th>\n",
       "      <td>10830558.0</td>\n",
       "      <td>4982589.0</td>\n",
       "      <td>True</td>\n",
       "      <td>True</td>\n",
       "      <td>Action</td>\n",
       "      <td>Mature 17+</td>\n",
       "      <td>com.activision.callofduty.shooter</td>\n",
       "      <td>2019-09-30</td>\n",
       "    </tr>\n",
       "    <tr>\n",
       "      <th>3</th>\n",
       "      <td>6289940.0</td>\n",
       "      <td>2612866.0</td>\n",
       "      <td>True</td>\n",
       "      <td>True</td>\n",
       "      <td>Action</td>\n",
       "      <td>Everyone</td>\n",
       "      <td>air.com.hypah.io.slither</td>\n",
       "      <td>2016-03-25</td>\n",
       "    </tr>\n",
       "    <tr>\n",
       "      <th>4</th>\n",
       "      <td>285765.0</td>\n",
       "      <td>100795.0</td>\n",
       "      <td>True</td>\n",
       "      <td>True</td>\n",
       "      <td>Action</td>\n",
       "      <td>Teen</td>\n",
       "      <td>com.playgendary.hitmasters</td>\n",
       "      <td>2020-03-19</td>\n",
       "    </tr>\n",
       "    <tr>\n",
       "      <th>...</th>\n",
       "      <td>...</td>\n",
       "      <td>...</td>\n",
       "      <td>...</td>\n",
       "      <td>...</td>\n",
       "      <td>...</td>\n",
       "      <td>...</td>\n",
       "      <td>...</td>\n",
       "      <td>...</td>\n",
       "    </tr>\n",
       "    <tr>\n",
       "      <th>5116</th>\n",
       "      <td>47.0</td>\n",
       "      <td>19.0</td>\n",
       "      <td>False</td>\n",
       "      <td>False</td>\n",
       "      <td>Word</td>\n",
       "      <td>Everyone</td>\n",
       "      <td>air.com.littlebigplay.games.wordsearchdailypro</td>\n",
       "      <td>2018-08-13</td>\n",
       "    </tr>\n",
       "    <tr>\n",
       "      <th>5117</th>\n",
       "      <td>2068.0</td>\n",
       "      <td>862.0</td>\n",
       "      <td>False</td>\n",
       "      <td>False</td>\n",
       "      <td>Word</td>\n",
       "      <td>Everyone</td>\n",
       "      <td>com.teazel.crossword.cryptic.full</td>\n",
       "      <td>2010-11-03</td>\n",
       "    </tr>\n",
       "    <tr>\n",
       "      <th>5118</th>\n",
       "      <td>372.0</td>\n",
       "      <td>180.0</td>\n",
       "      <td>False</td>\n",
       "      <td>True</td>\n",
       "      <td>Word</td>\n",
       "      <td>Everyone</td>\n",
       "      <td>agamz.acrostics</td>\n",
       "      <td>2013-03-18</td>\n",
       "    </tr>\n",
       "    <tr>\n",
       "      <th>5119</th>\n",
       "      <td>1289.0</td>\n",
       "      <td>628.0</td>\n",
       "      <td>False</td>\n",
       "      <td>False</td>\n",
       "      <td>Word</td>\n",
       "      <td>Everyone</td>\n",
       "      <td>com.brainium.jumbline2</td>\n",
       "      <td>2011-11-01</td>\n",
       "    </tr>\n",
       "    <tr>\n",
       "      <th>5120</th>\n",
       "      <td>1109.0</td>\n",
       "      <td>587.0</td>\n",
       "      <td>False</td>\n",
       "      <td>False</td>\n",
       "      <td>Word</td>\n",
       "      <td>Everyone</td>\n",
       "      <td>com.firecrackersw.wordbreakerfull</td>\n",
       "      <td>2011-02-24</td>\n",
       "    </tr>\n",
       "  </tbody>\n",
       "</table>\n",
       "<p>5036 rows × 8 columns</p>\n",
       "</div>"
      ],
      "text/plain": [
       "         ratings    reviews   free  offersIAP   genre contentRating  \\\n",
       "0      2668720.0  1362398.0   True       True  Action  Everyone 10+   \n",
       "1       233833.0    97101.0   True       True  Action      Everyone   \n",
       "2     10830558.0  4982589.0   True       True  Action    Mature 17+   \n",
       "3      6289940.0  2612866.0   True       True  Action      Everyone   \n",
       "4       285765.0   100795.0   True       True  Action          Teen   \n",
       "...          ...        ...    ...        ...     ...           ...   \n",
       "5116        47.0       19.0  False      False    Word      Everyone   \n",
       "5117      2068.0      862.0  False      False    Word      Everyone   \n",
       "5118       372.0      180.0  False       True    Word      Everyone   \n",
       "5119      1289.0      628.0  False      False    Word      Everyone   \n",
       "5120      1109.0      587.0  False      False    Word      Everyone   \n",
       "\n",
       "                                               appId releasedate  \n",
       "0                          com.innersloth.spacemafia  2018-06-15  \n",
       "1                               com.tapped.drawrider  2020-07-23  \n",
       "2                  com.activision.callofduty.shooter  2019-09-30  \n",
       "3                           air.com.hypah.io.slither  2016-03-25  \n",
       "4                         com.playgendary.hitmasters  2020-03-19  \n",
       "...                                              ...         ...  \n",
       "5116  air.com.littlebigplay.games.wordsearchdailypro  2018-08-13  \n",
       "5117               com.teazel.crossword.cryptic.full  2010-11-03  \n",
       "5118                                 agamz.acrostics  2013-03-18  \n",
       "5119                          com.brainium.jumbline2  2011-11-01  \n",
       "5120               com.firecrackersw.wordbreakerfull  2011-02-24  \n",
       "\n",
       "[5036 rows x 8 columns]"
      ]
     },
     "execution_count": 22,
     "metadata": {},
     "output_type": "execute_result"
    }
   ],
   "source": [
    "# minInstalls a little difficult to work with due to very distant categories\n",
    "# Title is not useful as a feature\n",
    "# Score is what we're trying to predict so we will remove it\n",
    "# Histogram is difficult to work with in this context\n",
    "# Size is difficult to work with, as there are a lot of varying sizes, and changes with updates quite frequently.\n",
    "# Price is a little difficult to work with as there are sales/promotions sometimes\n",
    "\n",
    "df.drop(columns=['title', 'score', 'histogram', 'size', 'price', 'minInstalls'], inplace=True)\n",
    "df"
   ]
  },
  {
   "cell_type": "markdown",
   "metadata": {},
   "source": [
    "=================================================================================================================="
   ]
  },
  {
   "cell_type": "markdown",
   "metadata": {},
   "source": [
    "# EDA"
   ]
  },
  {
   "cell_type": "code",
   "execution_count": 24,
   "metadata": {},
   "outputs": [],
   "source": [
    "import bz2\n",
    "\n",
    "def decompress_pickle(file):\n",
    "    data = bz2.BZ2File(file, 'rb')\n",
    "    data = pickle.load(data)\n",
    "    return data"
   ]
  },
  {
   "cell_type": "code",
   "execution_count": 25,
   "metadata": {},
   "outputs": [
    {
     "data": {
      "text/plain": [
       "1041127"
      ]
     },
     "execution_count": 25,
     "metadata": {},
     "output_type": "execute_result"
    }
   ],
   "source": [
    "bigreviewlist = decompress_pickle('compressedbiglistreview.pbz2')\n",
    "len(bigreviewlist)"
   ]
  },
  {
   "cell_type": "code",
   "execution_count": 26,
   "metadata": {},
   "outputs": [
    {
     "data": {
      "text/html": [
       "<div>\n",
       "<style scoped>\n",
       "    .dataframe tbody tr th:only-of-type {\n",
       "        vertical-align: middle;\n",
       "    }\n",
       "\n",
       "    .dataframe tbody tr th {\n",
       "        vertical-align: top;\n",
       "    }\n",
       "\n",
       "    .dataframe thead th {\n",
       "        text-align: right;\n",
       "    }\n",
       "</style>\n",
       "<table border=\"1\" class=\"dataframe\">\n",
       "  <thead>\n",
       "    <tr style=\"text-align: right;\">\n",
       "      <th></th>\n",
       "      <th>content</th>\n",
       "      <th>score</th>\n",
       "      <th>appId</th>\n",
       "    </tr>\n",
       "  </thead>\n",
       "  <tbody>\n",
       "    <tr>\n",
       "      <th>0</th>\n",
       "      <td>Great game! First, the bad. There are plenty o...</td>\n",
       "      <td>4</td>\n",
       "      <td>com.innersloth.spacemafia</td>\n",
       "    </tr>\n",
       "    <tr>\n",
       "      <th>1</th>\n",
       "      <td>It's a really amazing start for a game but the...</td>\n",
       "      <td>4</td>\n",
       "      <td>com.innersloth.spacemafia</td>\n",
       "    </tr>\n",
       "    <tr>\n",
       "      <th>2</th>\n",
       "      <td>A wonderful game to test how strong your bond ...</td>\n",
       "      <td>5</td>\n",
       "      <td>com.innersloth.spacemafia</td>\n",
       "    </tr>\n",
       "    <tr>\n",
       "      <th>3</th>\n",
       "      <td>It's an extremely fun game, it's only setback ...</td>\n",
       "      <td>4</td>\n",
       "      <td>com.innersloth.spacemafia</td>\n",
       "    </tr>\n",
       "    <tr>\n",
       "      <th>4</th>\n",
       "      <td>It's a really fun game, especially if you're t...</td>\n",
       "      <td>5</td>\n",
       "      <td>com.innersloth.spacemafia</td>\n",
       "    </tr>\n",
       "    <tr>\n",
       "      <th>...</th>\n",
       "      <td>...</td>\n",
       "      <td>...</td>\n",
       "      <td>...</td>\n",
       "    </tr>\n",
       "    <tr>\n",
       "      <th>1041122</th>\n",
       "      <td>Love this app.   Very helpful !</td>\n",
       "      <td>5</td>\n",
       "      <td>com.firecrackersw.wordbreakerfull</td>\n",
       "    </tr>\n",
       "    <tr>\n",
       "      <th>1041123</th>\n",
       "      <td>Excellent app.</td>\n",
       "      <td>5</td>\n",
       "      <td>com.firecrackersw.wordbreakerfull</td>\n",
       "    </tr>\n",
       "    <tr>\n",
       "      <th>1041124</th>\n",
       "      <td>Still doesn't find the highest scoring words 9...</td>\n",
       "      <td>2</td>\n",
       "      <td>com.firecrackersw.wordbreakerfull</td>\n",
       "    </tr>\n",
       "    <tr>\n",
       "      <th>1041125</th>\n",
       "      <td>Which is the best dictionary for English's uk ...</td>\n",
       "      <td>5</td>\n",
       "      <td>com.firecrackersw.wordbreakerfull</td>\n",
       "    </tr>\n",
       "    <tr>\n",
       "      <th>1041126</th>\n",
       "      <td>Fun game, but for a paid app it'd be better wi...</td>\n",
       "      <td>4</td>\n",
       "      <td>com.verywisetech.pictionarypro</td>\n",
       "    </tr>\n",
       "  </tbody>\n",
       "</table>\n",
       "<p>1041127 rows × 3 columns</p>\n",
       "</div>"
      ],
      "text/plain": [
       "                                                   content  score  \\\n",
       "0        Great game! First, the bad. There are plenty o...      4   \n",
       "1        It's a really amazing start for a game but the...      4   \n",
       "2        A wonderful game to test how strong your bond ...      5   \n",
       "3        It's an extremely fun game, it's only setback ...      4   \n",
       "4        It's a really fun game, especially if you're t...      5   \n",
       "...                                                    ...    ...   \n",
       "1041122                    Love this app.   Very helpful !      5   \n",
       "1041123                                     Excellent app.      5   \n",
       "1041124  Still doesn't find the highest scoring words 9...      2   \n",
       "1041125  Which is the best dictionary for English's uk ...      5   \n",
       "1041126  Fun game, but for a paid app it'd be better wi...      4   \n",
       "\n",
       "                                     appId  \n",
       "0                com.innersloth.spacemafia  \n",
       "1                com.innersloth.spacemafia  \n",
       "2                com.innersloth.spacemafia  \n",
       "3                com.innersloth.spacemafia  \n",
       "4                com.innersloth.spacemafia  \n",
       "...                                    ...  \n",
       "1041122  com.firecrackersw.wordbreakerfull  \n",
       "1041123  com.firecrackersw.wordbreakerfull  \n",
       "1041124  com.firecrackersw.wordbreakerfull  \n",
       "1041125  com.firecrackersw.wordbreakerfull  \n",
       "1041126     com.verywisetech.pictionarypro  \n",
       "\n",
       "[1041127 rows x 3 columns]"
      ]
     },
     "execution_count": 26,
     "metadata": {},
     "output_type": "execute_result"
    }
   ],
   "source": [
    "dfreview = pd.DataFrame(bigreviewlist)\n",
    "dfreview"
   ]
  },
  {
   "cell_type": "code",
   "execution_count": 27,
   "metadata": {},
   "outputs": [
    {
     "data": {
      "text/plain": [
       "content    209\n",
       "score        0\n",
       "appId        0\n",
       "dtype: int64"
      ]
     },
     "execution_count": 27,
     "metadata": {},
     "output_type": "execute_result"
    }
   ],
   "source": [
    "dfreview.isna().sum()"
   ]
  },
  {
   "cell_type": "code",
   "execution_count": 28,
   "metadata": {
    "scrolled": true
   },
   "outputs": [
    {
     "data": {
      "text/html": [
       "<div>\n",
       "<style scoped>\n",
       "    .dataframe tbody tr th:only-of-type {\n",
       "        vertical-align: middle;\n",
       "    }\n",
       "\n",
       "    .dataframe tbody tr th {\n",
       "        vertical-align: top;\n",
       "    }\n",
       "\n",
       "    .dataframe thead th {\n",
       "        text-align: right;\n",
       "    }\n",
       "</style>\n",
       "<table border=\"1\" class=\"dataframe\">\n",
       "  <thead>\n",
       "    <tr style=\"text-align: right;\">\n",
       "      <th></th>\n",
       "      <th>content</th>\n",
       "      <th>score</th>\n",
       "      <th>appId</th>\n",
       "    </tr>\n",
       "  </thead>\n",
       "  <tbody>\n",
       "    <tr>\n",
       "      <th>0</th>\n",
       "      <td>Great game! First, the bad. There are plenty o...</td>\n",
       "      <td>4</td>\n",
       "      <td>com.innersloth.spacemafia</td>\n",
       "    </tr>\n",
       "    <tr>\n",
       "      <th>1</th>\n",
       "      <td>It's a really amazing start for a game but the...</td>\n",
       "      <td>4</td>\n",
       "      <td>com.innersloth.spacemafia</td>\n",
       "    </tr>\n",
       "    <tr>\n",
       "      <th>2</th>\n",
       "      <td>A wonderful game to test how strong your bond ...</td>\n",
       "      <td>5</td>\n",
       "      <td>com.innersloth.spacemafia</td>\n",
       "    </tr>\n",
       "    <tr>\n",
       "      <th>3</th>\n",
       "      <td>It's an extremely fun game, it's only setback ...</td>\n",
       "      <td>4</td>\n",
       "      <td>com.innersloth.spacemafia</td>\n",
       "    </tr>\n",
       "    <tr>\n",
       "      <th>4</th>\n",
       "      <td>It's a really fun game, especially if you're t...</td>\n",
       "      <td>5</td>\n",
       "      <td>com.innersloth.spacemafia</td>\n",
       "    </tr>\n",
       "    <tr>\n",
       "      <th>...</th>\n",
       "      <td>...</td>\n",
       "      <td>...</td>\n",
       "      <td>...</td>\n",
       "    </tr>\n",
       "    <tr>\n",
       "      <th>1041122</th>\n",
       "      <td>Love this app.   Very helpful !</td>\n",
       "      <td>5</td>\n",
       "      <td>com.firecrackersw.wordbreakerfull</td>\n",
       "    </tr>\n",
       "    <tr>\n",
       "      <th>1041123</th>\n",
       "      <td>Excellent app.</td>\n",
       "      <td>5</td>\n",
       "      <td>com.firecrackersw.wordbreakerfull</td>\n",
       "    </tr>\n",
       "    <tr>\n",
       "      <th>1041124</th>\n",
       "      <td>Still doesn't find the highest scoring words 9...</td>\n",
       "      <td>2</td>\n",
       "      <td>com.firecrackersw.wordbreakerfull</td>\n",
       "    </tr>\n",
       "    <tr>\n",
       "      <th>1041125</th>\n",
       "      <td>Which is the best dictionary for English's uk ...</td>\n",
       "      <td>5</td>\n",
       "      <td>com.firecrackersw.wordbreakerfull</td>\n",
       "    </tr>\n",
       "    <tr>\n",
       "      <th>1041126</th>\n",
       "      <td>Fun game, but for a paid app it'd be better wi...</td>\n",
       "      <td>4</td>\n",
       "      <td>com.verywisetech.pictionarypro</td>\n",
       "    </tr>\n",
       "  </tbody>\n",
       "</table>\n",
       "<p>1040918 rows × 3 columns</p>\n",
       "</div>"
      ],
      "text/plain": [
       "                                                   content  score  \\\n",
       "0        Great game! First, the bad. There are plenty o...      4   \n",
       "1        It's a really amazing start for a game but the...      4   \n",
       "2        A wonderful game to test how strong your bond ...      5   \n",
       "3        It's an extremely fun game, it's only setback ...      4   \n",
       "4        It's a really fun game, especially if you're t...      5   \n",
       "...                                                    ...    ...   \n",
       "1041122                    Love this app.   Very helpful !      5   \n",
       "1041123                                     Excellent app.      5   \n",
       "1041124  Still doesn't find the highest scoring words 9...      2   \n",
       "1041125  Which is the best dictionary for English's uk ...      5   \n",
       "1041126  Fun game, but for a paid app it'd be better wi...      4   \n",
       "\n",
       "                                     appId  \n",
       "0                com.innersloth.spacemafia  \n",
       "1                com.innersloth.spacemafia  \n",
       "2                com.innersloth.spacemafia  \n",
       "3                com.innersloth.spacemafia  \n",
       "4                com.innersloth.spacemafia  \n",
       "...                                    ...  \n",
       "1041122  com.firecrackersw.wordbreakerfull  \n",
       "1041123  com.firecrackersw.wordbreakerfull  \n",
       "1041124  com.firecrackersw.wordbreakerfull  \n",
       "1041125  com.firecrackersw.wordbreakerfull  \n",
       "1041126     com.verywisetech.pictionarypro  \n",
       "\n",
       "[1040918 rows x 3 columns]"
      ]
     },
     "execution_count": 28,
     "metadata": {},
     "output_type": "execute_result"
    }
   ],
   "source": [
    "dfreview.dropna(inplace=True)\n",
    "dfreview"
   ]
  },
  {
   "cell_type": "code",
   "execution_count": 29,
   "metadata": {},
   "outputs": [
    {
     "data": {
      "text/plain": [
       "5    514234\n",
       "1    188103\n",
       "4    159399\n",
       "3    104857\n",
       "2     74308\n",
       "0        17\n",
       "Name: score, dtype: int64"
      ]
     },
     "execution_count": 29,
     "metadata": {},
     "output_type": "execute_result"
    }
   ],
   "source": [
    "dfreview['score'].value_counts()"
   ]
  },
  {
   "cell_type": "code",
   "execution_count": 30,
   "metadata": {},
   "outputs": [],
   "source": [
    "dfreview = dfreview[dfreview['score'] != 0]"
   ]
  },
  {
   "cell_type": "code",
   "execution_count": 31,
   "metadata": {
    "scrolled": true
   },
   "outputs": [],
   "source": [
    "count1 = len(dfreview[dfreview['score'] == 1])\n",
    "count2 = len(dfreview[dfreview['score'] == 2])\n",
    "count3 = len(dfreview[dfreview['score'] == 3])\n",
    "count4 = len(dfreview[dfreview['score'] == 4])\n",
    "count5 = len(dfreview[dfreview['score'] == 5])\n",
    "\n",
    "total = count1 + count2 + count3 + count4 + count5"
   ]
  },
  {
   "cell_type": "code",
   "execution_count": 87,
   "metadata": {},
   "outputs": [
    {
     "data": {
      "image/png": "[encoded data removed]",
      "text/plain": [
       "<Figure size 720x720 with 1 Axes>"
      ]
     },
     "metadata": {
      "needs_background": "light"
     },
     "output_type": "display_data"
    }
   ],
   "source": [
    "plt.figure(figsize=(10,10))\n",
    "\n",
    "xaxis = ['1', '2', '3', '4', '5']\n",
    "yaxis = [count1, count2, count3, count4, count5]\n",
    "ax = sns.barplot(xaxis, yaxis)\n",
    "\n",
    "plt.title('% Rating for Top Free and Paid Mobile Games')\n",
    "plt.ylabel('Count', fontsize = 20)\n",
    "plt.xlabel('Rating', fontsize = 20)\n",
    "\n",
    "\n",
    "for p in ax.patches:\n",
    "             ax.annotate(\"%.2f\" % (p.get_height()*100/total)+'%', (p.get_x() + p.get_width() / 2., p.get_height()),\n",
    "                 ha='center', va='center', fontsize=15, color='black', xytext=(0, 20),\n",
    "                 textcoords='offset points')"
   ]
  },
  {
   "cell_type": "code",
   "execution_count": 33,
   "metadata": {},
   "outputs": [],
   "source": [
    "# Separating reviews into their scores.\n",
    "\n",
    "rating1 = dfreview.loc[dfreview['score'] == 1]\n",
    "rating2 = dfreview.loc[dfreview['score'] == 2]\n",
    "rating3 = dfreview.loc[dfreview['score'] == 3]\n",
    "rating4 = dfreview.loc[dfreview['score'] == 4]\n",
    "rating5 = dfreview.loc[dfreview['score'] == 5]"
   ]
  },
  {
   "cell_type": "code",
   "execution_count": 34,
   "metadata": {
    "scrolled": false
   },
   "outputs": [
    {
     "data": {
      "text/html": [
       "<div>\n",
       "<style scoped>\n",
       "    .dataframe tbody tr th:only-of-type {\n",
       "        vertical-align: middle;\n",
       "    }\n",
       "\n",
       "    .dataframe tbody tr th {\n",
       "        vertical-align: top;\n",
       "    }\n",
       "\n",
       "    .dataframe thead th {\n",
       "        text-align: right;\n",
       "    }\n",
       "</style>\n",
       "<table border=\"1\" class=\"dataframe\">\n",
       "  <thead>\n",
       "    <tr style=\"text-align: right;\">\n",
       "      <th></th>\n",
       "      <th>content</th>\n",
       "      <th>score</th>\n",
       "      <th>appId</th>\n",
       "    </tr>\n",
       "  </thead>\n",
       "  <tbody>\n",
       "    <tr>\n",
       "      <th>81</th>\n",
       "      <td>This is a rubbish game that would not let me j...</td>\n",
       "      <td>1</td>\n",
       "      <td>com.innersloth.spacemafia</td>\n",
       "    </tr>\n",
       "    <tr>\n",
       "      <th>146</th>\n",
       "      <td>Would be a good game but its filled with group...</td>\n",
       "      <td>1</td>\n",
       "      <td>com.innersloth.spacemafia</td>\n",
       "    </tr>\n",
       "  </tbody>\n",
       "</table>\n",
       "</div>"
      ],
      "text/plain": [
       "                                               content  score  \\\n",
       "81   This is a rubbish game that would not let me j...      1   \n",
       "146  Would be a good game but its filled with group...      1   \n",
       "\n",
       "                         appId  \n",
       "81   com.innersloth.spacemafia  \n",
       "146  com.innersloth.spacemafia  "
      ]
     },
     "execution_count": 34,
     "metadata": {},
     "output_type": "execute_result"
    }
   ],
   "source": [
    "rating1.head(2)"
   ]
  },
  {
   "cell_type": "code",
   "execution_count": 35,
   "metadata": {},
   "outputs": [
    {
     "data": {
      "text/html": [
       "<div>\n",
       "<style scoped>\n",
       "    .dataframe tbody tr th:only-of-type {\n",
       "        vertical-align: middle;\n",
       "    }\n",
       "\n",
       "    .dataframe tbody tr th {\n",
       "        vertical-align: top;\n",
       "    }\n",
       "\n",
       "    .dataframe thead th {\n",
       "        text-align: right;\n",
       "    }\n",
       "</style>\n",
       "<table border=\"1\" class=\"dataframe\">\n",
       "  <thead>\n",
       "    <tr style=\"text-align: right;\">\n",
       "      <th></th>\n",
       "      <th>content</th>\n",
       "      <th>score</th>\n",
       "      <th>appId</th>\n",
       "    </tr>\n",
       "  </thead>\n",
       "  <tbody>\n",
       "    <tr>\n",
       "      <th>35</th>\n",
       "      <td>I really enjoy the game but it has some proble...</td>\n",
       "      <td>2</td>\n",
       "      <td>com.innersloth.spacemafia</td>\n",
       "    </tr>\n",
       "    <tr>\n",
       "      <th>40</th>\n",
       "      <td>SO. MANY. BUGS. The game is great, enjoyable a...</td>\n",
       "      <td>2</td>\n",
       "      <td>com.innersloth.spacemafia</td>\n",
       "    </tr>\n",
       "  </tbody>\n",
       "</table>\n",
       "</div>"
      ],
      "text/plain": [
       "                                              content  score  \\\n",
       "35  I really enjoy the game but it has some proble...      2   \n",
       "40  SO. MANY. BUGS. The game is great, enjoyable a...      2   \n",
       "\n",
       "                        appId  \n",
       "35  com.innersloth.spacemafia  \n",
       "40  com.innersloth.spacemafia  "
      ]
     },
     "execution_count": 35,
     "metadata": {},
     "output_type": "execute_result"
    }
   ],
   "source": [
    "rating2.head(2)"
   ]
  },
  {
   "cell_type": "code",
   "execution_count": 36,
   "metadata": {},
   "outputs": [
    {
     "data": {
      "text/html": [
       "<div>\n",
       "<style scoped>\n",
       "    .dataframe tbody tr th:only-of-type {\n",
       "        vertical-align: middle;\n",
       "    }\n",
       "\n",
       "    .dataframe tbody tr th {\n",
       "        vertical-align: top;\n",
       "    }\n",
       "\n",
       "    .dataframe thead th {\n",
       "        text-align: right;\n",
       "    }\n",
       "</style>\n",
       "<table border=\"1\" class=\"dataframe\">\n",
       "  <thead>\n",
       "    <tr style=\"text-align: right;\">\n",
       "      <th></th>\n",
       "      <th>content</th>\n",
       "      <th>score</th>\n",
       "      <th>appId</th>\n",
       "    </tr>\n",
       "  </thead>\n",
       "  <tbody>\n",
       "    <tr>\n",
       "      <th>15</th>\n",
       "      <td>After playing this game for a while. I see a f...</td>\n",
       "      <td>3</td>\n",
       "      <td>com.innersloth.spacemafia</td>\n",
       "    </tr>\n",
       "    <tr>\n",
       "      <th>19</th>\n",
       "      <td>The game is absolutely wonderful, on pc. Playi...</td>\n",
       "      <td>3</td>\n",
       "      <td>com.innersloth.spacemafia</td>\n",
       "    </tr>\n",
       "  </tbody>\n",
       "</table>\n",
       "</div>"
      ],
      "text/plain": [
       "                                              content  score  \\\n",
       "15  After playing this game for a while. I see a f...      3   \n",
       "19  The game is absolutely wonderful, on pc. Playi...      3   \n",
       "\n",
       "                        appId  \n",
       "15  com.innersloth.spacemafia  \n",
       "19  com.innersloth.spacemafia  "
      ]
     },
     "execution_count": 36,
     "metadata": {},
     "output_type": "execute_result"
    }
   ],
   "source": [
    "rating3.head(2)"
   ]
  },
  {
   "cell_type": "code",
   "execution_count": 37,
   "metadata": {},
   "outputs": [
    {
     "data": {
      "text/html": [
       "<div>\n",
       "<style scoped>\n",
       "    .dataframe tbody tr th:only-of-type {\n",
       "        vertical-align: middle;\n",
       "    }\n",
       "\n",
       "    .dataframe tbody tr th {\n",
       "        vertical-align: top;\n",
       "    }\n",
       "\n",
       "    .dataframe thead th {\n",
       "        text-align: right;\n",
       "    }\n",
       "</style>\n",
       "<table border=\"1\" class=\"dataframe\">\n",
       "  <thead>\n",
       "    <tr style=\"text-align: right;\">\n",
       "      <th></th>\n",
       "      <th>content</th>\n",
       "      <th>score</th>\n",
       "      <th>appId</th>\n",
       "    </tr>\n",
       "  </thead>\n",
       "  <tbody>\n",
       "    <tr>\n",
       "      <th>0</th>\n",
       "      <td>Great game! First, the bad. There are plenty o...</td>\n",
       "      <td>4</td>\n",
       "      <td>com.innersloth.spacemafia</td>\n",
       "    </tr>\n",
       "    <tr>\n",
       "      <th>1</th>\n",
       "      <td>It's a really amazing start for a game but the...</td>\n",
       "      <td>4</td>\n",
       "      <td>com.innersloth.spacemafia</td>\n",
       "    </tr>\n",
       "  </tbody>\n",
       "</table>\n",
       "</div>"
      ],
      "text/plain": [
       "                                             content  score  \\\n",
       "0  Great game! First, the bad. There are plenty o...      4   \n",
       "1  It's a really amazing start for a game but the...      4   \n",
       "\n",
       "                       appId  \n",
       "0  com.innersloth.spacemafia  \n",
       "1  com.innersloth.spacemafia  "
      ]
     },
     "execution_count": 37,
     "metadata": {},
     "output_type": "execute_result"
    }
   ],
   "source": [
    "rating4.head(2)"
   ]
  },
  {
   "cell_type": "code",
   "execution_count": 38,
   "metadata": {},
   "outputs": [
    {
     "data": {
      "text/html": [
       "<div>\n",
       "<style scoped>\n",
       "    .dataframe tbody tr th:only-of-type {\n",
       "        vertical-align: middle;\n",
       "    }\n",
       "\n",
       "    .dataframe tbody tr th {\n",
       "        vertical-align: top;\n",
       "    }\n",
       "\n",
       "    .dataframe thead th {\n",
       "        text-align: right;\n",
       "    }\n",
       "</style>\n",
       "<table border=\"1\" class=\"dataframe\">\n",
       "  <thead>\n",
       "    <tr style=\"text-align: right;\">\n",
       "      <th></th>\n",
       "      <th>content</th>\n",
       "      <th>score</th>\n",
       "      <th>appId</th>\n",
       "    </tr>\n",
       "  </thead>\n",
       "  <tbody>\n",
       "    <tr>\n",
       "      <th>2</th>\n",
       "      <td>A wonderful game to test how strong your bond ...</td>\n",
       "      <td>5</td>\n",
       "      <td>com.innersloth.spacemafia</td>\n",
       "    </tr>\n",
       "    <tr>\n",
       "      <th>4</th>\n",
       "      <td>It's a really fun game, especially if you're t...</td>\n",
       "      <td>5</td>\n",
       "      <td>com.innersloth.spacemafia</td>\n",
       "    </tr>\n",
       "  </tbody>\n",
       "</table>\n",
       "</div>"
      ],
      "text/plain": [
       "                                             content  score  \\\n",
       "2  A wonderful game to test how strong your bond ...      5   \n",
       "4  It's a really fun game, especially if you're t...      5   \n",
       "\n",
       "                       appId  \n",
       "2  com.innersloth.spacemafia  \n",
       "4  com.innersloth.spacemafia  "
      ]
     },
     "execution_count": 38,
     "metadata": {},
     "output_type": "execute_result"
    }
   ],
   "source": [
    "rating5.head(2)"
   ]
  },
  {
   "cell_type": "markdown",
   "metadata": {},
   "source": [
    "### Tokenizing"
   ]
  },
  {
   "cell_type": "code",
   "execution_count": 39,
   "metadata": {},
   "outputs": [],
   "source": [
    "# Remove common words\n",
    "stopwords_list = stopwords.words('english') + list(string.punctuation)\n",
    "# Remove more punctuation\n",
    "stopwords_list += [\"''\", '\"\"', '...', '``']\n",
    "# Remove random numerals\n",
    "stopwords_list += ['0', '1', '2', '3', '4', '5', '6', '7', '8', '9']\n",
    "# Remove contractions\n",
    "stopwords_list += [\"'d\", \"'ve\", \"ca\", \"n't\",  \"'t\", \"'re\", \"'ll\", \"'s\"]"
   ]
  },
  {
   "cell_type": "code",
   "execution_count": 40,
   "metadata": {},
   "outputs": [],
   "source": [
    "def process_reviews(reviews):\n",
    "    tokens = nltk.word_tokenize(reviews)\n",
    "    stopwords_removed = [token.lower() for token in tokens if token.lower() not in stopwords_list]\n",
    "    return stopwords_removed    "
   ]
  },
  {
   "cell_type": "code",
   "execution_count": 41,
   "metadata": {
    "scrolled": false
   },
   "outputs": [
    {
     "name": "stderr",
     "output_type": "stream",
     "text": [
      "/opt/anaconda3/lib/python3.7/site-packages/ipykernel_launcher.py:3: SettingWithCopyWarning: \n",
      "A value is trying to be set on a copy of a slice from a DataFrame.\n",
      "Try using .loc[row_indexer,col_indexer] = value instead\n",
      "\n",
      "See the caveats in the documentation: https://pandas.pydata.org/pandas-docs/stable/user_guide/indexing.html#returning-a-view-versus-a-copy\n",
      "  This is separate from the ipykernel package so we can avoid doing imports until\n",
      "/opt/anaconda3/lib/python3.7/site-packages/ipykernel_launcher.py:4: SettingWithCopyWarning: \n",
      "A value is trying to be set on a copy of a slice from a DataFrame.\n",
      "Try using .loc[row_indexer,col_indexer] = value instead\n",
      "\n",
      "See the caveats in the documentation: https://pandas.pydata.org/pandas-docs/stable/user_guide/indexing.html#returning-a-view-versus-a-copy\n",
      "  after removing the cwd from sys.path.\n",
      "/opt/anaconda3/lib/python3.7/site-packages/ipykernel_launcher.py:5: SettingWithCopyWarning: \n",
      "A value is trying to be set on a copy of a slice from a DataFrame.\n",
      "Try using .loc[row_indexer,col_indexer] = value instead\n",
      "\n",
      "See the caveats in the documentation: https://pandas.pydata.org/pandas-docs/stable/user_guide/indexing.html#returning-a-view-versus-a-copy\n",
      "  \"\"\"\n",
      "/opt/anaconda3/lib/python3.7/site-packages/ipykernel_launcher.py:6: SettingWithCopyWarning: \n",
      "A value is trying to be set on a copy of a slice from a DataFrame.\n",
      "Try using .loc[row_indexer,col_indexer] = value instead\n",
      "\n",
      "See the caveats in the documentation: https://pandas.pydata.org/pandas-docs/stable/user_guide/indexing.html#returning-a-view-versus-a-copy\n",
      "  \n"
     ]
    },
    {
     "name": "stdout",
     "output_type": "stream",
     "text": [
      "0:07:24.972278\n"
     ]
    },
    {
     "name": "stderr",
     "output_type": "stream",
     "text": [
      "/opt/anaconda3/lib/python3.7/site-packages/ipykernel_launcher.py:7: SettingWithCopyWarning: \n",
      "A value is trying to be set on a copy of a slice from a DataFrame.\n",
      "Try using .loc[row_indexer,col_indexer] = value instead\n",
      "\n",
      "See the caveats in the documentation: https://pandas.pydata.org/pandas-docs/stable/user_guide/indexing.html#returning-a-view-versus-a-copy\n",
      "  import sys\n"
     ]
    }
   ],
   "source": [
    "# \n",
    "\n",
    "starttime = datetime.now()\n",
    "\n",
    "rating1['wordlist'] = rating1['content'].apply(lambda x: process_reviews(x))\n",
    "rating2['wordlist'] = rating2['content'].apply(lambda x: process_reviews(x))\n",
    "rating3['wordlist'] = rating3['content'].apply(lambda x: process_reviews(x))\n",
    "rating4['wordlist'] = rating4['content'].apply(lambda x: process_reviews(x))\n",
    "rating5['wordlist'] = rating5['content'].apply(lambda x: process_reviews(x))\n",
    "\n",
    "print(datetime.now() - starttime)"
   ]
  },
  {
   "cell_type": "markdown",
   "metadata": {},
   "source": [
    "### Lemmatizer"
   ]
  },
  {
   "cell_type": "code",
   "execution_count": 42,
   "metadata": {},
   "outputs": [],
   "source": [
    "lemmatizer = nltk.stem.WordNetLemmatizer()\n",
    "\n",
    "def lemmatize_text(text):\n",
    "    return [lemmatizer.lemmatize(w) for w in text]"
   ]
  },
  {
   "cell_type": "code",
   "execution_count": 43,
   "metadata": {
    "scrolled": true
   },
   "outputs": [
    {
     "name": "stderr",
     "output_type": "stream",
     "text": [
      "/opt/anaconda3/lib/python3.7/site-packages/ipykernel_launcher.py:3: SettingWithCopyWarning: \n",
      "A value is trying to be set on a copy of a slice from a DataFrame.\n",
      "Try using .loc[row_indexer,col_indexer] = value instead\n",
      "\n",
      "See the caveats in the documentation: https://pandas.pydata.org/pandas-docs/stable/user_guide/indexing.html#returning-a-view-versus-a-copy\n",
      "  This is separate from the ipykernel package so we can avoid doing imports until\n",
      "/opt/anaconda3/lib/python3.7/site-packages/ipykernel_launcher.py:4: SettingWithCopyWarning: \n",
      "A value is trying to be set on a copy of a slice from a DataFrame.\n",
      "Try using .loc[row_indexer,col_indexer] = value instead\n",
      "\n",
      "See the caveats in the documentation: https://pandas.pydata.org/pandas-docs/stable/user_guide/indexing.html#returning-a-view-versus-a-copy\n",
      "  after removing the cwd from sys.path.\n",
      "/opt/anaconda3/lib/python3.7/site-packages/ipykernel_launcher.py:5: SettingWithCopyWarning: \n",
      "A value is trying to be set on a copy of a slice from a DataFrame.\n",
      "Try using .loc[row_indexer,col_indexer] = value instead\n",
      "\n",
      "See the caveats in the documentation: https://pandas.pydata.org/pandas-docs/stable/user_guide/indexing.html#returning-a-view-versus-a-copy\n",
      "  \"\"\"\n",
      "/opt/anaconda3/lib/python3.7/site-packages/ipykernel_launcher.py:6: SettingWithCopyWarning: \n",
      "A value is trying to be set on a copy of a slice from a DataFrame.\n",
      "Try using .loc[row_indexer,col_indexer] = value instead\n",
      "\n",
      "See the caveats in the documentation: https://pandas.pydata.org/pandas-docs/stable/user_guide/indexing.html#returning-a-view-versus-a-copy\n",
      "  \n"
     ]
    },
    {
     "name": "stdout",
     "output_type": "stream",
     "text": [
      "0:01:59.319822\n"
     ]
    },
    {
     "name": "stderr",
     "output_type": "stream",
     "text": [
      "/opt/anaconda3/lib/python3.7/site-packages/ipykernel_launcher.py:7: SettingWithCopyWarning: \n",
      "A value is trying to be set on a copy of a slice from a DataFrame.\n",
      "Try using .loc[row_indexer,col_indexer] = value instead\n",
      "\n",
      "See the caveats in the documentation: https://pandas.pydata.org/pandas-docs/stable/user_guide/indexing.html#returning-a-view-versus-a-copy\n",
      "  import sys\n"
     ]
    }
   ],
   "source": [
    "starttime = datetime.now()\n",
    "\n",
    "rating1['wordlistlem'] = rating1['wordlist'].apply(lemmatize_text)\n",
    "rating2['wordlistlem'] = rating2['wordlist'].apply(lemmatize_text)\n",
    "rating3['wordlistlem'] = rating3['wordlist'].apply(lemmatize_text)\n",
    "rating4['wordlistlem'] = rating4['wordlist'].apply(lemmatize_text)\n",
    "rating5['wordlistlem'] = rating5['wordlist'].apply(lemmatize_text)\n",
    "\n",
    "print(datetime.now() - starttime)"
   ]
  },
  {
   "cell_type": "markdown",
   "metadata": {},
   "source": [
    "### Saving Dataframes"
   ]
  },
  {
   "cell_type": "code",
   "execution_count": 44,
   "metadata": {},
   "outputs": [],
   "source": [
    "# Saving tokens into a sub-folder in for tidiness.\n",
    "\n",
    "from pathlib import Path\n",
    "\n",
    "root = Path('.')\n",
    "\n",
    "my_path1 = root / \"tokens\" / \"processedreviewrating1.pbz2\"\n",
    "my_path2 = root / \"tokens\" / \"processedreviewrating2.pbz2\"\n",
    "my_path3 = root / \"tokens\" / \"processedreviewrating3.pbz2\"\n",
    "my_path4 = root / \"tokens\" / \"processedreviewrating4.pbz2\"\n",
    "my_path5 = root / \"tokens\" / \"processedreviewrating5.pbz2\"\n",
    "\n",
    "import bz2\n",
    "\n",
    "def compressed_pickle(path, data):\n",
    "    with bz2.BZ2File(path, 'w') as f:\n",
    "        pickle.dump(data, f)"
   ]
  },
  {
   "cell_type": "code",
   "execution_count": 45,
   "metadata": {},
   "outputs": [],
   "source": [
    "compressed_pickle(my_path1, rating1)\n",
    "compressed_pickle(my_path2, rating2)\n",
    "compressed_pickle(my_path3, rating3)\n",
    "compressed_pickle(my_path4, rating4)\n",
    "compressed_pickle(my_path5, rating5)"
   ]
  },
  {
   "cell_type": "code",
   "execution_count": 46,
   "metadata": {},
   "outputs": [],
   "source": [
    "# Retrieve our pickled dataframes\n",
    "\n",
    "rating1 = decompress_pickle(my_path1)\n",
    "rating2 = decompress_pickle(my_path2)\n",
    "rating3 = decompress_pickle(my_path3)\n",
    "rating4 = decompress_pickle(my_path4)\n",
    "rating5 = decompress_pickle(my_path5)"
   ]
  },
  {
   "cell_type": "markdown",
   "metadata": {},
   "source": [
    "## Word Frequency in all reviews"
   ]
  },
  {
   "cell_type": "code",
   "execution_count": 47,
   "metadata": {},
   "outputs": [
    {
     "data": {
      "text/plain": [
       "81     [rubbish, game, would, let, join, host, game, ...\n",
       "146    [would, good, game, filled, group, people, pri...\n",
       "197    [want, play, game, friend, recommended, suppos...\n",
       "215    [good, game, found, modders, mod, menu, game, ...\n",
       "253    [stupid.., stupid.., stupid, ad, ad, seriously...\n",
       "Name: wordlistlem, dtype: object"
      ]
     },
     "execution_count": 47,
     "metadata": {},
     "output_type": "execute_result"
    }
   ],
   "source": [
    "rating1['wordlistlem'].head()"
   ]
  },
  {
   "cell_type": "code",
   "execution_count": 48,
   "metadata": {},
   "outputs": [
    {
     "name": "stdout",
     "output_type": "stream",
     "text": [
      "0:00:01.046164\n",
      "------------\n",
      "3501669\n",
      "1598683\n",
      "2119339\n",
      "2842957\n",
      "6932989\n"
     ]
    }
   ],
   "source": [
    "starttime = datetime.now()\n",
    "\n",
    "processedreviewrating1 = [item for elem in rating1['wordlistlem'] for item in elem]\n",
    "processedreviewrating2 = [item for elem in rating2['wordlistlem'] for item in elem]\n",
    "processedreviewrating3 = [item for elem in rating3['wordlistlem'] for item in elem]\n",
    "processedreviewrating4 = [item for elem in rating4['wordlistlem'] for item in elem]\n",
    "processedreviewrating5 = [item for elem in rating5['wordlistlem'] for item in elem]\n",
    "\n",
    "print(datetime.now() - starttime)\n",
    "print('------------')\n",
    "print(len(processedreviewrating1))\n",
    "print(len(processedreviewrating2))\n",
    "print(len(processedreviewrating3))\n",
    "print(len(processedreviewrating4))\n",
    "print(len(processedreviewrating5))"
   ]
  },
  {
   "cell_type": "code",
   "execution_count": 49,
   "metadata": {
    "scrolled": true
   },
   "outputs": [
    {
     "data": {
      "text/plain": [
       "16995637"
      ]
     },
     "execution_count": 49,
     "metadata": {},
     "output_type": "execute_result"
    }
   ],
   "source": [
    "# 17.1 million words total.\n",
    "\n",
    "totalprocessedreviews = processedreviewrating1 + processedreviewrating2 + processedreviewrating3 + processedreviewrating4 + processedreviewrating5\n",
    "len(totalprocessedreviews)"
   ]
  },
  {
   "cell_type": "code",
   "execution_count": 50,
   "metadata": {
    "scrolled": true
   },
   "outputs": [
    {
     "data": {
      "text/plain": [
       "[('game', 1105600),\n",
       " ('like', 233824),\n",
       " ('play', 216554),\n",
       " ('good', 196449),\n",
       " ('fun', 187192),\n",
       " ('love', 186848),\n",
       " ('get', 179136),\n",
       " ('ad', 171374),\n",
       " ('time', 153533),\n",
       " ('great', 146498),\n",
       " ('really', 136139),\n",
       " ('one', 119789),\n",
       " ('app', 109534),\n",
       " ('would', 107370),\n",
       " ('make', 106168),\n",
       " ('level', 102526),\n",
       " ('playing', 87480),\n",
       " ('much', 82311),\n",
       " ('star', 77927),\n",
       " ('even', 75129)]"
      ]
     },
     "execution_count": 50,
     "metadata": {},
     "output_type": "execute_result"
    }
   ],
   "source": [
    "review_freqdist = FreqDist(totalprocessedreviews)\n",
    "review_freqdist.most_common(20)"
   ]
  },
  {
   "cell_type": "code",
   "execution_count": 91,
   "metadata": {},
   "outputs": [
    {
     "data": {
      "image/png": "[encoded data removed]",
      "text/plain": [
       "<Figure size 1296x1008 with 1 Axes>"
      ]
     },
     "metadata": {
      "needs_background": "light"
     },
     "output_type": "display_data"
    }
   ],
   "source": [
    "mostcommonwords20 = review_freqdist.most_common(20)\n",
    "\n",
    "yaxis20 = [val[1] for val in mostcommonwords20]\n",
    "\n",
    "xaxis20 = [val[0] for val in mostcommonwords20]\n",
    "\n",
    "plt.figure(figsize=(18, 14))\n",
    "ax = sns.barplot(xaxis20, yaxis20)\n",
    "plt.title('Top 20 Most Common Words in Mobile Game Reviews', fontsize = 25)\n",
    "plt.ylabel('Frequency of word', fontsize = 20)\n",
    "plt.xticks(rotation=45, fontsize = 15)\n",
    "\n",
    "for p in ax.patches:\n",
    "             ax.annotate(\"%.2f\" % (p.get_height()*100/sum(yaxis20))+'%', (p.get_x() + p.get_width() / 2., p.get_height()),\n",
    "                 ha='center', va='center', fontsize=13, color='black', xytext=(0, 20),\n",
    "                 textcoords='offset points')"
   ]
  },
  {
   "cell_type": "markdown",
   "metadata": {},
   "source": [
    "## Word Frequency in 1 Rating Reviews"
   ]
  },
  {
   "cell_type": "code",
   "execution_count": 52,
   "metadata": {},
   "outputs": [],
   "source": [
    "uselesswords = ['game', 'play', 'really', 'get', 'would']\n",
    "processedreviewrating1[:] = [x for x in processedreviewrating1 if x not in uselesswords]"
   ]
  },
  {
   "cell_type": "code",
   "execution_count": 53,
   "metadata": {
    "scrolled": true
   },
   "outputs": [
    {
     "data": {
      "text/plain": [
       "[('ad', 66607),\n",
       " ('time', 40962),\n",
       " ('like', 29535),\n",
       " ('app', 29447),\n",
       " ('even', 28418),\n",
       " ('money', 27062),\n",
       " ('level', 25021),\n",
       " ('one', 21893),\n",
       " ('every', 20310),\n",
       " ('many', 19186),\n",
       " ('make', 18418),\n",
       " ('good', 16983),\n",
       " ('playing', 16938),\n",
       " ('star', 16589),\n",
       " ('fix', 15009),\n",
       " ('give', 14771),\n",
       " ('want', 14501),\n",
       " ('update', 14366),\n",
       " ('fun', 14201),\n",
       " ('way', 13833)]"
      ]
     },
     "execution_count": 53,
     "metadata": {},
     "output_type": "execute_result"
    }
   ],
   "source": [
    "review1_freqdist = FreqDist(processedreviewrating1)\n",
    "review1_freqdist.most_common(20)"
   ]
  },
  {
   "cell_type": "code",
   "execution_count": 92,
   "metadata": {},
   "outputs": [
    {
     "data": {
      "image/png": "[encoded data removed]",
      "text/plain": [
       "<Figure size 1296x1008 with 1 Axes>"
      ]
     },
     "metadata": {
      "needs_background": "light"
     },
     "output_type": "display_data"
    }
   ],
   "source": [
    "mostcommonwords201 = review1_freqdist.most_common(20)\n",
    "\n",
    "yaxis201 = [val[1] for val in mostcommonwords201]\n",
    "\n",
    "xaxis201 = [val[0] for val in mostcommonwords201]\n",
    "\n",
    "plt.figure(figsize=(18, 14))\n",
    "ax = sns.barplot(xaxis201, yaxis201)\n",
    "plt.title('Top 20 Most Common Words in Mobile Game Reviews for 1 Rating', fontsize = 25)\n",
    "plt.ylabel('Frequency of word', fontsize = 20)\n",
    "plt.xticks(rotation=45, fontsize = 15)\n",
    "\n",
    "\n",
    "for p in ax.patches:\n",
    "             ax.annotate(\"%.2f\" % (p.get_height()*100/sum(yaxis201))+'%', (p.get_x() + p.get_width() / 2., p.get_height()),\n",
    "                 ha='center', va='center', fontsize=13, color='black', xytext=(0, 20),\n",
    "                 textcoords='offset points')"
   ]
  },
  {
   "cell_type": "markdown",
   "metadata": {},
   "source": [
    "## Word Frequency in 2 Rating Reviews"
   ]
  },
  {
   "cell_type": "code",
   "execution_count": 55,
   "metadata": {},
   "outputs": [],
   "source": [
    "processedreviewrating2[:] = [x for x in processedreviewrating2 if x not in uselesswords]"
   ]
  },
  {
   "cell_type": "code",
   "execution_count": 56,
   "metadata": {
    "scrolled": true
   },
   "outputs": [
    {
     "data": {
      "text/plain": [
       "[('ad', 26280),\n",
       " ('like', 16571),\n",
       " ('time', 16333),\n",
       " ('level', 13654),\n",
       " ('good', 12079),\n",
       " ('fun', 11941),\n",
       " ('one', 9533),\n",
       " ('even', 9406),\n",
       " ('make', 9396),\n",
       " ('many', 9107),\n",
       " ('app', 9057),\n",
       " ('money', 8658),\n",
       " ('every', 8467),\n",
       " ('playing', 8007),\n",
       " ('way', 7576),\n",
       " ('star', 7367),\n",
       " ('fix', 7173),\n",
       " ('need', 6977),\n",
       " (\"'m\", 6684),\n",
       " ('much', 6677)]"
      ]
     },
     "execution_count": 56,
     "metadata": {},
     "output_type": "execute_result"
    }
   ],
   "source": [
    "review2_freqdist = FreqDist(processedreviewrating2)\n",
    "review2_freqdist.most_common(20)"
   ]
  },
  {
   "cell_type": "code",
   "execution_count": 93,
   "metadata": {},
   "outputs": [
    {
     "data": {
      "image/png": "[encoded data removed]",
      "text/plain": [
       "<Figure size 1296x1008 with 1 Axes>"
      ]
     },
     "metadata": {
      "needs_background": "light"
     },
     "output_type": "display_data"
    }
   ],
   "source": [
    "mostcommonwords202 = review2_freqdist.most_common(20)\n",
    "\n",
    "yaxis202 = [val[1] for val in mostcommonwords202]\n",
    "\n",
    "xaxis202 = [val[0] for val in mostcommonwords202]\n",
    "\n",
    "plt.figure(figsize=(18, 14))\n",
    "ax = sns.barplot(xaxis202, yaxis202)\n",
    "plt.title('Top 20 Most Common Words in Mobile Game Reviews for 2 Rating', fontsize = 25)\n",
    "plt.ylabel('Frequency of word', fontsize = 20)\n",
    "plt.xticks(rotation=45, fontsize = 15)\n",
    "\n",
    "\n",
    "for p in ax.patches:\n",
    "             ax.annotate(\"%.2f\" % (p.get_height()*100/sum(yaxis202))+'%', (p.get_x() + p.get_width() / 2., p.get_height()),\n",
    "                 ha='center', va='center', fontsize=13, color='black', xytext=(0, 20),\n",
    "                 textcoords='offset points')"
   ]
  },
  {
   "cell_type": "markdown",
   "metadata": {},
   "source": [
    "## Word Frequency in 3 Rating Reviews"
   ]
  },
  {
   "cell_type": "code",
   "execution_count": 58,
   "metadata": {},
   "outputs": [],
   "source": [
    "processedreviewrating3[:] = [x for x in processedreviewrating3 if x not in uselesswords]"
   ]
  },
  {
   "cell_type": "code",
   "execution_count": 59,
   "metadata": {
    "scrolled": true
   },
   "outputs": [
    {
     "data": {
      "text/plain": [
       "[('like', 27532),\n",
       " ('ad', 23964),\n",
       " ('good', 23893),\n",
       " ('time', 19691),\n",
       " ('fun', 18367),\n",
       " ('level', 16060),\n",
       " ('make', 13616),\n",
       " ('one', 13194),\n",
       " ('star', 12906),\n",
       " ('please', 11625),\n",
       " ('need', 11553),\n",
       " ('great', 11451),\n",
       " ('love', 10803),\n",
       " ('also', 10547),\n",
       " ('app', 10466),\n",
       " ('many', 10210),\n",
       " ('playing', 10126),\n",
       " ('fix', 10098),\n",
       " ('even', 9194),\n",
       " ('way', 9126)]"
      ]
     },
     "execution_count": 59,
     "metadata": {},
     "output_type": "execute_result"
    }
   ],
   "source": [
    "review3_freqdist = FreqDist(processedreviewrating3)\n",
    "review3_freqdist.most_common(20)"
   ]
  },
  {
   "cell_type": "code",
   "execution_count": 94,
   "metadata": {},
   "outputs": [
    {
     "data": {
      "image/png": "[encoded data removed]",
      "text/plain": [
       "<Figure size 1296x1008 with 1 Axes>"
      ]
     },
     "metadata": {
      "needs_background": "light"
     },
     "output_type": "display_data"
    }
   ],
   "source": [
    "mostcommonwords203 = review3_freqdist.most_common(20)\n",
    "\n",
    "yaxis203 = [val[1] for val in mostcommonwords203]\n",
    "\n",
    "xaxis203 = [val[0] for val in mostcommonwords203]\n",
    "\n",
    "plt.figure(figsize=(18, 14))\n",
    "ax = sns.barplot(xaxis203, yaxis203)\n",
    "plt.title('Top 20 Most Common Words in Mobile Game Reviews for 3 Rating', fontsize = 25)\n",
    "plt.ylabel('Frequency of word', fontsize = 20)\n",
    "plt.xticks(rotation=45, fontsize = 15)\n",
    "\n",
    "\n",
    "for p in ax.patches:\n",
    "             ax.annotate(\"%.2f\" % (p.get_height()*100/sum(yaxis203))+'%', (p.get_x() + p.get_width() / 2., p.get_height()),\n",
    "                 ha='center', va='center', fontsize=13, color='black', xytext=(0, 20),\n",
    "                 textcoords='offset points')"
   ]
  },
  {
   "cell_type": "markdown",
   "metadata": {},
   "source": [
    "## Word Frequency in 4 Rating Reviews"
   ]
  },
  {
   "cell_type": "code",
   "execution_count": 61,
   "metadata": {},
   "outputs": [],
   "source": [
    "processedreviewrating4[:] = [x for x in processedreviewrating4 if x not in uselesswords]"
   ]
  },
  {
   "cell_type": "code",
   "execution_count": 62,
   "metadata": {
    "scrolled": true
   },
   "outputs": [
    {
     "data": {
      "text/plain": [
       "[('like', 45708),\n",
       " ('good', 43265),\n",
       " ('fun', 33869),\n",
       " ('great', 28634),\n",
       " ('love', 26818),\n",
       " ('time', 23976),\n",
       " ('ad', 22364),\n",
       " ('one', 20692),\n",
       " ('star', 20251),\n",
       " ('make', 19335),\n",
       " ('level', 16893),\n",
       " ('thing', 15472),\n",
       " ('please', 15377),\n",
       " ('add', 14884),\n",
       " ('also', 14313),\n",
       " ('app', 14206),\n",
       " ('need', 14161),\n",
       " ('could', 13114),\n",
       " ('nice', 12585),\n",
       " ('playing', 12525)]"
      ]
     },
     "execution_count": 62,
     "metadata": {},
     "output_type": "execute_result"
    }
   ],
   "source": [
    "review4_freqdist = FreqDist(processedreviewrating4)\n",
    "review4_freqdist.most_common(20)"
   ]
  },
  {
   "cell_type": "code",
   "execution_count": 95,
   "metadata": {},
   "outputs": [
    {
     "data": {
      "image/png": "[encoded data removed]",
      "text/plain": [
       "<Figure size 1296x1008 with 1 Axes>"
      ]
     },
     "metadata": {
      "needs_background": "light"
     },
     "output_type": "display_data"
    }
   ],
   "source": [
    "mostcommonwords204 = review4_freqdist.most_common(20)\n",
    "\n",
    "yaxis204 = [val[1] for val in mostcommonwords204]\n",
    "\n",
    "xaxis204 = [val[0] for val in mostcommonwords204]\n",
    "\n",
    "plt.figure(figsize=(18, 14))\n",
    "ax = sns.barplot(xaxis204, yaxis204)\n",
    "plt.title('Top 20 Most Common Words in Mobile Game Reviews for 4 Rating', fontsize = 25)\n",
    "plt.ylabel('Frequency of word', fontsize = 20)\n",
    "plt.xticks(rotation=45, fontsize = 15)\n",
    "\n",
    "\n",
    "for p in ax.patches:\n",
    "             ax.annotate(\"%.2f\" % (p.get_height()*100/sum(yaxis204))+'%', (p.get_x() + p.get_width() / 2., p.get_height()),\n",
    "                 ha='center', va='center', fontsize=13, color='black', xytext=(0, 20),\n",
    "                 textcoords='offset points')"
   ]
  },
  {
   "cell_type": "markdown",
   "metadata": {},
   "source": [
    "## Word Frequency in 5 Rating Reviews"
   ]
  },
  {
   "cell_type": "code",
   "execution_count": 64,
   "metadata": {},
   "outputs": [],
   "source": [
    "processedreviewrating5[:] = [x for x in processedreviewrating5 if x not in uselesswords]"
   ]
  },
  {
   "cell_type": "code",
   "execution_count": 65,
   "metadata": {
    "scrolled": true
   },
   "outputs": [
    {
     "data": {
      "text/plain": [
       "[('love', 137354),\n",
       " ('like', 114478),\n",
       " ('fun', 108814),\n",
       " ('good', 100229),\n",
       " ('great', 93286),\n",
       " ('one', 54477),\n",
       " ('best', 53465),\n",
       " ('time', 52571),\n",
       " ('app', 46358),\n",
       " ('make', 45403),\n",
       " ('much', 42850),\n",
       " ('playing', 39884),\n",
       " ('amazing', 39548),\n",
       " ('graphic', 35613),\n",
       " ('nice', 34818),\n",
       " ('ad', 32159),\n",
       " ('level', 30898),\n",
       " ('also', 30858),\n",
       " ('awesome', 30803),\n",
       " ('lot', 29761)]"
      ]
     },
     "execution_count": 65,
     "metadata": {},
     "output_type": "execute_result"
    }
   ],
   "source": [
    "review5_freqdist = FreqDist(processedreviewrating5)\n",
    "review5_freqdist.most_common(20)"
   ]
  },
  {
   "cell_type": "code",
   "execution_count": 96,
   "metadata": {},
   "outputs": [
    {
     "data": {
      "image/png": "[encoded data removed]",
      "text/plain": [
       "<Figure size 1296x1008 with 1 Axes>"
      ]
     },
     "metadata": {
      "needs_background": "light"
     },
     "output_type": "display_data"
    }
   ],
   "source": [
    "mostcommonwords205 = review5_freqdist.most_common(20)\n",
    "\n",
    "yaxis205 = [val[1] for val in mostcommonwords205]\n",
    "\n",
    "xaxis205 = [val[0] for val in mostcommonwords205]\n",
    "\n",
    "plt.figure(figsize=(18, 14))\n",
    "ax = sns.barplot(xaxis205, yaxis205)\n",
    "plt.title('Top 20 Most Common Words in Mobile Game Reviews for 5 Rating', fontsize = 25)\n",
    "plt.ylabel('Frequency of word', fontsize = 20)\n",
    "plt.xticks(rotation=45, fontsize = 15)\n",
    "\n",
    "\n",
    "for p in ax.patches:\n",
    "             ax.annotate(\"%.2f\" % (p.get_height()*100/sum(yaxis205))+'%', (p.get_x() + p.get_width() / 2., p.get_height()),\n",
    "                 ha='center', va='center', fontsize=13, color='black', xytext=(0, 20),\n",
    "                 textcoords='offset points')"
   ]
  },
  {
   "cell_type": "markdown",
   "metadata": {},
   "source": [
    "# Bi-grams/Tri-grams"
   ]
  },
  {
   "cell_type": "code",
   "execution_count": 67,
   "metadata": {},
   "outputs": [],
   "source": [
    "# One without removing any common words to see common n-grams.\n",
    "\n",
    "def n_gramall(df_col, n=None):\n",
    "    # Build the vectorizer, specify inputted n-gram, remove stop words\n",
    "    vect = CountVectorizer(ngram_range = (n,n), stop_words = gramstopwords_list, min_df = 10)\n",
    "    # fit/transform vectorizer on specified column\n",
    "    vect_fit = vect.fit_transform(df_col.values.astype('U'))\n",
    "    # get all words and store in a list\n",
    "    word_list = vect.get_feature_names()\n",
    "    # get a count of all the words\n",
    "    count_list = vect_fit.toarray().sum(axis=0)\n",
    "    #create a dictionary of word to count pairings\n",
    "    count_dict = dict(zip(word_list, count_list))\n",
    "    # sort the dictionary to show highest counted words on top\n",
    "    sort_vocab = sorted(count_dict.items(), key=lambda x: x[1], reverse=True)\n",
    "    return sort_vocab\n",
    "\n",
    "\n",
    "# One with removing common words to see if any more notable n-grams show up.\n",
    "\n",
    "def n_gram(df_col, n=None):\n",
    "\n",
    "    vect = CountVectorizer(ngram_range = (n,n), stop_words = stopwords_list, min_df = 10)\n",
    "\n",
    "    vect_fit = vect.fit_transform(df_col.values.astype('U'))\n",
    "\n",
    "    word_list = vect.get_feature_names()\n",
    "\n",
    "    count_list = vect_fit.toarray().sum(axis=0)\n",
    "\n",
    "    count_dict = dict(zip(word_list, count_list))\n",
    "\n",
    "    sort_vocab = sorted(count_dict.items(), key=lambda x: x[1], reverse=True)\n",
    "    return sort_vocab"
   ]
  },
  {
   "cell_type": "code",
   "execution_count": 68,
   "metadata": {},
   "outputs": [],
   "source": [
    "gramstopwords_list = stopwords.words('english') + list(string.punctuation)\n",
    "gramstopwords_list += [\"''\", '\"\"', '...', '``']\n",
    "\n",
    "stopwords_list += uselesswords"
   ]
  },
  {
   "cell_type": "code",
   "execution_count": 69,
   "metadata": {},
   "outputs": [
    {
     "data": {
      "text/plain": [
       "0          Great game! First, the bad. There are plenty o...\n",
       "1          It's a really amazing start for a game but the...\n",
       "2          A wonderful game to test how strong your bond ...\n",
       "3          It's an extremely fun game, it's only setback ...\n",
       "4          It's a really fun game, especially if you're t...\n",
       "                                 ...                        \n",
       "1041122                      Love this app.   Very helpful !\n",
       "1041123                                       Excellent app.\n",
       "1041124    Still doesn't find the highest scoring words 9...\n",
       "1041125    Which is the best dictionary for English's uk ...\n",
       "1041126    Fun game, but for a paid app it'd be better wi...\n",
       "Name: content, Length: 1040901, dtype: object"
      ]
     },
     "execution_count": 69,
     "metadata": {},
     "output_type": "execute_result"
    }
   ],
   "source": [
    "dftotalreview = dfreview['content']\n",
    "dftotalreview"
   ]
  },
  {
   "cell_type": "code",
   "execution_count": 70,
   "metadata": {},
   "outputs": [
    {
     "data": {
      "text/plain": [
       "[('love game', 3161),\n",
       " ('good game', 2395),\n",
       " ('great game', 2276),\n",
       " ('like game', 1479),\n",
       " ('fun game', 1281),\n",
       " ('play game', 1232),\n",
       " ('game play', 1141),\n",
       " ('many ads', 1078),\n",
       " ('game good', 966),\n",
       " ('playing game', 878),\n",
       " ('please fix', 877),\n",
       " ('game fun', 863),\n",
       " ('game ever', 847),\n",
       " ('best game', 808),\n",
       " ('game really', 803),\n",
       " ('game like', 782),\n",
       " ('nice game', 763),\n",
       " ('game much', 716),\n",
       " ('game great', 680),\n",
       " ('really like', 670)]"
      ]
     },
     "execution_count": 70,
     "metadata": {},
     "output_type": "execute_result"
    }
   ],
   "source": [
    "bigramall = n_gramall(dftotalreview.sample(50000), n=2)\n",
    "bigramall[:20]"
   ]
  },
  {
   "cell_type": "code",
   "execution_count": 71,
   "metadata": {},
   "outputs": [
    {
     "data": {
      "text/plain": [
       "[('best game ever', 329),\n",
       " ('really like game', 276),\n",
       " ('game ever played', 248),\n",
       " ('love game much', 220),\n",
       " ('keep good work', 208),\n",
       " ('really good game', 202),\n",
       " ('way many ads', 182),\n",
       " ('really fun game', 157),\n",
       " ('like game much', 149),\n",
       " ('game really fun', 143),\n",
       " ('really love game', 130),\n",
       " ('game many ads', 112),\n",
       " ('game really good', 107),\n",
       " ('worst game ever', 107),\n",
       " ('really enjoy game', 101),\n",
       " ('one best games', 99),\n",
       " ('fun game play', 97),\n",
       " ('ads ads ads', 94),\n",
       " ('would give stars', 92),\n",
       " ('absolutely love game', 89)]"
      ]
     },
     "execution_count": 71,
     "metadata": {},
     "output_type": "execute_result"
    }
   ],
   "source": [
    "trigramall = n_gramall(dftotalreview.sample(50000), n=3)\n",
    "trigramall[:20]"
   ]
  },
  {
   "cell_type": "code",
   "execution_count": 72,
   "metadata": {
    "scrolled": true
   },
   "outputs": [
    {
     "data": {
      "text/plain": [
       "[('many ads', 1076),\n",
       " ('please fix', 912),\n",
       " ('every time', 612),\n",
       " ('give stars', 471),\n",
       " ('one best', 426),\n",
       " ('waste time', 421),\n",
       " ('love much', 420),\n",
       " ('best ever', 375),\n",
       " ('ever played', 371),\n",
       " ('please make', 349),\n",
       " ('like much', 336),\n",
       " ('please add', 319),\n",
       " ('much fun', 316),\n",
       " ('way many', 302),\n",
       " ('love app', 294),\n",
       " ('pretty good', 291),\n",
       " ('spend money', 289),\n",
       " ('games like', 288),\n",
       " ('long time', 288),\n",
       " ('one thing', 287)]"
      ]
     },
     "execution_count": 72,
     "metadata": {},
     "output_type": "execute_result"
    }
   ],
   "source": [
    "bigram = n_gram(dftotalreview.sample(50000), n=2)\n",
    "bigram[:20]"
   ]
  },
  {
   "cell_type": "code",
   "execution_count": 97,
   "metadata": {},
   "outputs": [
    {
     "data": {
      "image/png": "[encoded data removed]",
      "text/plain": [
       "<Figure size 1296x1008 with 1 Axes>"
      ]
     },
     "metadata": {
      "needs_background": "light"
     },
     "output_type": "display_data"
    }
   ],
   "source": [
    "mostcommonwords20bigram = bigram[:20]\n",
    "\n",
    "yaxis20bigram = [val[1] for val in mostcommonwords20bigram]\n",
    "\n",
    "xaxis20biram = [val[0] for val in mostcommonwords20bigram]\n",
    "\n",
    "plt.figure(figsize=(18, 14))\n",
    "ax = sns.barplot(xaxis20biram, yaxis20bigram)\n",
    "plt.title('Top 20 Most Bigrams in Mobile Game Reviews Overall', fontsize = 25)\n",
    "plt.ylabel('Frequency of word', fontsize = 20)\n",
    "plt.xticks(rotation=45, fontsize = 15)\n",
    "\n",
    "\n",
    "for p in ax.patches:\n",
    "             ax.annotate(\"%.2f\" % (p.get_height()*100/sum(yaxis20bigram))+'%', (p.get_x() + p.get_width() / 2., p.get_height()),\n",
    "                 ha='center', va='center', fontsize=13, color='black', xytext=(0, 20),\n",
    "                 textcoords='offset points')"
   ]
  },
  {
   "cell_type": "code",
   "execution_count": 74,
   "metadata": {
    "scrolled": true
   },
   "outputs": [
    {
     "data": {
      "text/plain": [
       "[('way many ads', 208),\n",
       " ('keep good work', 188),\n",
       " ('please please please', 144),\n",
       " ('best ever played', 92),\n",
       " ('one best games', 90),\n",
       " ('way pass time', 88),\n",
       " ('ads ads ads', 61),\n",
       " ('give five stars', 59),\n",
       " ('games ever played', 58),\n",
       " ('great time killer', 56),\n",
       " ('every time try', 53),\n",
       " ('please fix problem', 53),\n",
       " ('takes long time', 50),\n",
       " ('every single time', 49),\n",
       " ('love love love', 49),\n",
       " ('worth every penny', 49),\n",
       " ('want money back', 45),\n",
       " ('since last update', 43),\n",
       " ('30 second ad', 41),\n",
       " ('best games ever', 41)]"
      ]
     },
     "execution_count": 74,
     "metadata": {},
     "output_type": "execute_result"
    }
   ],
   "source": [
    "trigram = n_gram(dftotalreview.sample(50000), n=3)\n",
    "trigram[:20]"
   ]
  },
  {
   "cell_type": "code",
   "execution_count": 100,
   "metadata": {},
   "outputs": [
    {
     "data": {
      "image/png": "[encoded data removed]",
      "text/plain": [
       "<Figure size 1296x1008 with 1 Axes>"
      ]
     },
     "metadata": {
      "needs_background": "light"
     },
     "output_type": "display_data"
    }
   ],
   "source": [
    "mostcommonwords20trigram = trigram[:20]\n",
    "\n",
    "yaxis20trigram = [val[1] for val in mostcommonwords20trigram]\n",
    "\n",
    "xaxis20triram = [val[0] for val in mostcommonwords20trigram]\n",
    "\n",
    "plt.figure(figsize=(18, 14))\n",
    "ax = sns.barplot(xaxis20triram, yaxis20trigram)\n",
    "plt.title('Top 20 Most Trigrams in Mobile Game Reviews Overall', fontsize = 25)\n",
    "plt.ylabel('Frequency of word', fontsize = 20)\n",
    "plt.xticks(rotation=45, fontsize = 15)\n",
    "\n",
    "for p in ax.patches:\n",
    "             ax.annotate(\"%.2f\" % (p.get_height()*100/sum(yaxis20trigram))+'%', (p.get_x() + p.get_width() / 2., p.get_height()),\n",
    "                 ha='center', va='center', fontsize=13, color='black', xytext=(0, 20),\n",
    "                 textcoords='offset points')"
   ]
  },
  {
   "cell_type": "markdown",
   "metadata": {},
   "source": [
    "# Bigrams/Trigrams for Ratings"
   ]
  },
  {
   "cell_type": "markdown",
   "metadata": {},
   "source": [
    "### Rating 1"
   ]
  },
  {
   "cell_type": "code",
   "execution_count": 76,
   "metadata": {},
   "outputs": [
    {
     "data": {
      "text/plain": [
       "[('many ads', 2223),\n",
       " ('waste time', 1722),\n",
       " ('every time', 1326),\n",
       " ('please fix', 1284),\n",
       " ('way many', 719),\n",
       " ('one star', 671),\n",
       " ('ads every', 646),\n",
       " ('spend money', 599),\n",
       " ('worst ever', 584),\n",
       " ('watch ad', 571),\n",
       " ('ads ads', 528),\n",
       " ('pay win', 490),\n",
       " ('ad every', 477),\n",
       " ('every single', 471),\n",
       " ('watch ads', 462),\n",
       " ('waste money', 457),\n",
       " ('every level', 453),\n",
       " ('give stars', 446),\n",
       " ('real money', 425),\n",
       " ('money back', 422)]"
      ]
     },
     "execution_count": 76,
     "metadata": {},
     "output_type": "execute_result"
    }
   ],
   "source": [
    "bigram1 = n_gram(rating1['content'].sample(50000), n=2)\n",
    "bigram1[:20]"
   ]
  },
  {
   "cell_type": "code",
   "execution_count": 77,
   "metadata": {
    "scrolled": true
   },
   "outputs": [
    {
     "data": {
      "text/plain": [
       "[('way many ads', 515),\n",
       " ('ads ads ads', 224),\n",
       " ('want money back', 186),\n",
       " ('30 second ad', 153),\n",
       " ('dont waste time', 151),\n",
       " ('worst ever played', 145),\n",
       " ('waste time money', 142),\n",
       " ('time watching ads', 137),\n",
       " ('ads every level', 124),\n",
       " ('every time try', 122),\n",
       " ('give one star', 116),\n",
       " ('ad every level', 108),\n",
       " ('every single time', 106),\n",
       " ('could give stars', 105),\n",
       " ('give zero stars', 105),\n",
       " ('spend time watching', 99),\n",
       " ('wish could give', 96),\n",
       " ('watching ads playing', 95),\n",
       " ('30 second ads', 89),\n",
       " ('many ads every', 82)]"
      ]
     },
     "execution_count": 77,
     "metadata": {},
     "output_type": "execute_result"
    }
   ],
   "source": [
    "trigram1 = n_gram(rating1['content'].sample(50000), n=3)\n",
    "trigram1[:20]"
   ]
  },
  {
   "cell_type": "code",
   "execution_count": 101,
   "metadata": {},
   "outputs": [
    {
     "data": {
      "image/png": "[encoded data removed]",
      "text/plain": [
       "<Figure size 1296x1008 with 1 Axes>"
      ]
     },
     "metadata": {
      "needs_background": "light"
     },
     "output_type": "display_data"
    }
   ],
   "source": [
    "mostcommonwords205 = review5_freqdist.most_common(20)\n",
    "\n",
    "yaxis205 = [val[1] for val in mostcommonwords205]\n",
    "\n",
    "xaxis205 = [val[0] for val in mostcommonwords205]\n",
    "\n",
    "plt.figure(figsize=(18, 14))\n",
    "ax = sns.barplot(xaxis205, yaxis205)\n",
    "plt.title('Top 20 Most Common Words in Mobile Game Reviews for 5 Rating', fontsize = 25)\n",
    "plt.ylabel('Frequency of word', fontsize = 20)\n",
    "plt.xticks(rotation=45, fontsize = 15)\n",
    "\n",
    "\n",
    "for p in ax.patches:\n",
    "             ax.annotate(\"%.2f\" % (p.get_height()*100/sum(yaxis205))+'%', (p.get_x() + p.get_width() / 2., p.get_height()),\n",
    "                 ha='center', va='center', fontsize=13, color='black', xytext=(0, 20),\n",
    "                 textcoords='offset points')"
   ]
  },
  {
   "cell_type": "markdown",
   "metadata": {},
   "source": [
    "## Rating 2"
   ]
  },
  {
   "cell_type": "code",
   "execution_count": 79,
   "metadata": {},
   "outputs": [
    {
     "data": {
      "text/plain": [
       "[('many ads', 2571),\n",
       " ('please fix', 1813),\n",
       " ('every time', 1330),\n",
       " ('way many', 1014),\n",
       " ('watch ad', 694),\n",
       " ('ads every', 620),\n",
       " ('give stars', 615),\n",
       " ('spend money', 569),\n",
       " ('pay win', 519),\n",
       " ('watch ads', 508),\n",
       " ('real money', 505),\n",
       " ('every level', 502),\n",
       " ('ad every', 491),\n",
       " ('even though', 491),\n",
       " ('every single', 474),\n",
       " ('waste time', 470),\n",
       " ('watching ads', 408),\n",
       " ('ads ads', 376),\n",
       " ('two stars', 374),\n",
       " ('new update', 369)]"
      ]
     },
     "execution_count": 79,
     "metadata": {},
     "output_type": "execute_result"
    }
   ],
   "source": [
    "bigram2 = n_gram(rating2['content'].sample(50000), n=2)\n",
    "bigram2[:20]"
   ]
  },
  {
   "cell_type": "code",
   "execution_count": 80,
   "metadata": {},
   "outputs": [
    {
     "data": {
      "text/plain": [
       "[('way many ads', 700),\n",
       " ('every single time', 126),\n",
       " ('time watching ads', 123),\n",
       " ('30 second ad', 116),\n",
       " ('every time try', 107),\n",
       " ('ads ads ads', 106),\n",
       " ('ads every level', 105),\n",
       " ('please fix problem', 102),\n",
       " ('ad every level', 94),\n",
       " ('30 second ads', 89),\n",
       " ('spend real money', 86),\n",
       " ('fun way many', 84),\n",
       " ('since last update', 81),\n",
       " ('every single level', 77),\n",
       " ('without spending money', 76),\n",
       " ('fun many ads', 75),\n",
       " ('spend time watching', 73),\n",
       " ('ads every single', 72),\n",
       " ('many ads every', 72),\n",
       " ('please fix issue', 71)]"
      ]
     },
     "execution_count": 80,
     "metadata": {},
     "output_type": "execute_result"
    }
   ],
   "source": [
    "trigram2 = n_gram(rating2['content'].sample(50000), n=3)\n",
    "trigram2[:20]"
   ]
  },
  {
   "cell_type": "markdown",
   "metadata": {},
   "source": [
    "## Rating 3"
   ]
  },
  {
   "cell_type": "code",
   "execution_count": 81,
   "metadata": {},
   "outputs": [
    {
     "data": {
      "text/plain": [
       "[('please fix', 2011),\n",
       " ('many ads', 1726),\n",
       " ('every time', 1002),\n",
       " ('give stars', 939),\n",
       " ('way many', 613),\n",
       " ('pretty good', 538),\n",
       " ('please make', 411),\n",
       " ('even though', 402),\n",
       " ('watch ad', 397),\n",
       " ('please add', 393),\n",
       " ('long time', 389),\n",
       " ('three stars', 387),\n",
       " ('feel like', 373),\n",
       " ('spend money', 370),\n",
       " ('real money', 363),\n",
       " ('pay win', 359),\n",
       " ('ads every', 340),\n",
       " ('go back', 320),\n",
       " ('one thing', 320),\n",
       " ('new update', 315)]"
      ]
     },
     "execution_count": 81,
     "metadata": {},
     "output_type": "execute_result"
    }
   ],
   "source": [
    "bigram3 = n_gram(rating3['content'].sample(50000), n=2)\n",
    "bigram3[:20]"
   ]
  },
  {
   "cell_type": "code",
   "execution_count": 82,
   "metadata": {},
   "outputs": [
    {
     "data": {
      "text/plain": [
       "[('way many ads', 341),\n",
       " ('please fix problem', 122),\n",
       " ('takes long time', 102),\n",
       " ('good many ads', 101),\n",
       " ('give five stars', 94),\n",
       " ('every time try', 93),\n",
       " ('every single time', 92),\n",
       " ('gave three stars', 83),\n",
       " ('since last update', 83),\n",
       " ('fun many ads', 82),\n",
       " ('please fix bug', 77),\n",
       " ('give three stars', 73),\n",
       " ('please fix issue', 64),\n",
       " ('got new phone', 59),\n",
       " ('many ads every', 57),\n",
       " ('fun way many', 54),\n",
       " ('way many adds', 54),\n",
       " ('ad free version', 53),\n",
       " ('spend real money', 51),\n",
       " ('many ads like', 50)]"
      ]
     },
     "execution_count": 82,
     "metadata": {},
     "output_type": "execute_result"
    }
   ],
   "source": [
    "trigram3 = n_gram(rating3['content'].sample(50000), n=3)\n",
    "trigram3[:20]"
   ]
  },
  {
   "cell_type": "markdown",
   "metadata": {},
   "source": [
    "# Rating 4"
   ]
  },
  {
   "cell_type": "code",
   "execution_count": 83,
   "metadata": {},
   "outputs": [
    {
     "data": {
      "text/plain": [
       "[('please fix', 1268),\n",
       " ('many ads', 1063),\n",
       " ('give stars', 922),\n",
       " ('pretty good', 868),\n",
       " ('one thing', 601),\n",
       " ('please add', 593),\n",
       " ('every time', 556),\n",
       " ('please make', 471),\n",
       " ('wish could', 429),\n",
       " ('gave stars', 425),\n",
       " ('one problem', 397),\n",
       " ('four stars', 396),\n",
       " ('give star', 388),\n",
       " ('pretty fun', 385),\n",
       " ('overall good', 373),\n",
       " ('feel like', 365),\n",
       " ('good graphics', 362),\n",
       " ('little bit', 360),\n",
       " ('long time', 345),\n",
       " ('great app', 330)]"
      ]
     },
     "execution_count": 83,
     "metadata": {},
     "output_type": "execute_result"
    }
   ],
   "source": [
    "bigram4 = n_gram(rating4['content'].sample(50000), n=2)\n",
    "bigram4[:20]"
   ]
  },
  {
   "cell_type": "code",
   "execution_count": 84,
   "metadata": {},
   "outputs": [
    {
     "data": {
      "text/plain": [
       "[('keep good work', 196),\n",
       " ('give five stars', 131),\n",
       " ('way many ads', 131),\n",
       " ('gave four stars', 128),\n",
       " ('way pass time', 103),\n",
       " ('reason gave stars', 87),\n",
       " ('please fix problem', 85),\n",
       " ('takes long time', 84),\n",
       " ('great time killer', 79),\n",
       " ('give four stars', 77),\n",
       " ('please please please', 75),\n",
       " ('good many ads', 74),\n",
       " ('reason give stars', 73),\n",
       " ('good time killer', 71),\n",
       " ('please fix bug', 65),\n",
       " ('give five star', 63),\n",
       " ('one best games', 63),\n",
       " ('one thing like', 61),\n",
       " ('please fix issue', 57),\n",
       " ('fun many ads', 55)]"
      ]
     },
     "execution_count": 84,
     "metadata": {},
     "output_type": "execute_result"
    }
   ],
   "source": [
    "trigram4 = n_gram(rating4['content'].sample(50000), n=3)\n",
    "trigram4[:20]"
   ]
  },
  {
   "cell_type": "markdown",
   "metadata": {},
   "source": [
    "## Rating 5"
   ]
  },
  {
   "cell_type": "code",
   "execution_count": 85,
   "metadata": {},
   "outputs": [
    {
     "data": {
      "text/plain": [
       "[('one best', 782),\n",
       " ('best ever', 720),\n",
       " ('love much', 634),\n",
       " ('ever played', 584),\n",
       " ('like much', 547),\n",
       " ('much fun', 511),\n",
       " ('love app', 424),\n",
       " ('good work', 413),\n",
       " ('games like', 404),\n",
       " ('please make', 375),\n",
       " ('please add', 366),\n",
       " ('keep good', 364),\n",
       " ('highly recommend', 355),\n",
       " ('love love', 349),\n",
       " ('great graphics', 348),\n",
       " ('good graphics', 338),\n",
       " ('great app', 330),\n",
       " ('super fun', 321),\n",
       " ('well done', 315),\n",
       " ('lots fun', 311)]"
      ]
     },
     "execution_count": 85,
     "metadata": {},
     "output_type": "execute_result"
    }
   ],
   "source": [
    "bigram5 = n_gram(rating5['content'].sample(50000), n=2)\n",
    "bigram5[:20]"
   ]
  },
  {
   "cell_type": "code",
   "execution_count": 86,
   "metadata": {
    "scrolled": true
   },
   "outputs": [
    {
     "data": {
      "text/plain": [
       "[('keep good work', 324),\n",
       " ('best ever played', 191),\n",
       " ('one best games', 147),\n",
       " ('please please please', 120),\n",
       " ('way pass time', 106),\n",
       " ('love love love', 104),\n",
       " ('games ever played', 96),\n",
       " ('great time killer', 96),\n",
       " ('keep great work', 81),\n",
       " ('worth every penny', 79),\n",
       " ('best games ever', 65),\n",
       " ('one favorite games', 61),\n",
       " ('fun fun fun', 59),\n",
       " ('make games like', 59),\n",
       " ('well worth money', 57),\n",
       " ('give five stars', 56),\n",
       " ('great way pass', 55),\n",
       " ('love much fun', 55),\n",
       " ('mega ramp car', 42),\n",
       " ('great pass time', 41)]"
      ]
     },
     "execution_count": 86,
     "metadata": {},
     "output_type": "execute_result"
    }
   ],
   "source": [
    "trigram5 = n_gram(rating5['content'].sample(50000), n=3)\n",
    "trigram5[:20]"
   ]
  }
 ],
 "metadata": {
  "kernelspec": {
   "display_name": "Python 3",
   "language": "python",
   "name": "python3"
  },
  "language_info": {
   "codemirror_mode": {
    "name": "ipython",
    "version": 3
   },
   "file_extension": ".py",
   "mimetype": "text/x-python",
   "name": "python",
   "nbconvert_exporter": "python",
   "pygments_lexer": "ipython3",
   "version": "3.7.6"
  }
 },
 "nbformat": 4,
 "nbformat_minor": 4
}

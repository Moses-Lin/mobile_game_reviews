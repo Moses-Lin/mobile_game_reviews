{
 "cells": [
  {
   "cell_type": "markdown",
   "metadata": {},
   "source": [
    "# Importing necessary things"
   ]
  },
  {
   "cell_type": "code",
   "execution_count": 1,
   "metadata": {},
   "outputs": [],
   "source": [
    "import pandas as pd\n",
    "import numpy as np\n",
    "import sklearn\n",
    "from sklearn.model_selection import train_test_split\n",
    "from sklearn.preprocessing import LabelEncoder\n",
    "from sklearn.naive_bayes import MultinomialNB\n",
    "from sklearn.ensemble import RandomForestClassifier\n",
    "from sklearn.metrics import accuracy_score, confusion_matrix, f1_score, recall_score, precision_score\n",
    "\n",
    "from sklearn.feature_extraction.text import TfidfVectorizer, CountVectorizer\n",
    "\n",
    "import string\n",
    "import nltk\n",
    "from nltk.corpus import stopwords\n",
    "from nltk import word_tokenize, RegexpTokenizer, TweetTokenizer\n",
    "from nltk.stem import WordNetLemmatizer\n",
    "from nltk.stem import PorterStemmer\n",
    "from nltk.probability import FreqDist\n",
    "\n",
    "import matplotlib.pyplot as plt\n",
    "import seaborn as sns\n",
    "from matplotlib import cm\n",
    "from imblearn.over_sampling import ADASYN\n",
    "\n",
    "import re\n",
    "from datetime import datetime\n",
    "\n",
    "import pickle"
   ]
  },
  {
   "cell_type": "markdown",
   "metadata": {},
   "source": [
    "=================================================================================================================="
   ]
  },
  {
   "cell_type": "markdown",
   "metadata": {},
   "source": [
    "# Unpickling our data and taking a look"
   ]
  },
  {
   "cell_type": "code",
   "execution_count": 2,
   "metadata": {
    "scrolled": true
   },
   "outputs": [
    {
     "data": {
      "text/html": [
       "<div>\n",
       "<style scoped>\n",
       "    .dataframe tbody tr th:only-of-type {\n",
       "        vertical-align: middle;\n",
       "    }\n",
       "\n",
       "    .dataframe tbody tr th {\n",
       "        vertical-align: top;\n",
       "    }\n",
       "\n",
       "    .dataframe thead th {\n",
       "        text-align: right;\n",
       "    }\n",
       "</style>\n",
       "<table border=\"1\" class=\"dataframe\">\n",
       "  <thead>\n",
       "    <tr style=\"text-align: right;\">\n",
       "      <th></th>\n",
       "      <th>title</th>\n",
       "      <th>installs</th>\n",
       "      <th>minInstalls</th>\n",
       "      <th>score</th>\n",
       "      <th>ratings</th>\n",
       "      <th>reviews</th>\n",
       "      <th>histogram</th>\n",
       "      <th>price</th>\n",
       "      <th>free</th>\n",
       "      <th>offersIAP</th>\n",
       "      <th>size</th>\n",
       "      <th>genre</th>\n",
       "      <th>genreId</th>\n",
       "      <th>released</th>\n",
       "      <th>contentRating</th>\n",
       "    </tr>\n",
       "  </thead>\n",
       "  <tbody>\n",
       "    <tr>\n",
       "      <th>0</th>\n",
       "      <td>Among Us</td>\n",
       "      <td>100,000,000+</td>\n",
       "      <td>100000000</td>\n",
       "      <td>4.474048</td>\n",
       "      <td>2132693.0</td>\n",
       "      <td>1101564.0</td>\n",
       "      <td>[154333, 39857, 89011, 206765, 1642727]</td>\n",
       "      <td>0.00</td>\n",
       "      <td>True</td>\n",
       "      <td>True</td>\n",
       "      <td>70M</td>\n",
       "      <td>Action</td>\n",
       "      <td>GAME_ACTION</td>\n",
       "      <td>Jun 15, 2018</td>\n",
       "      <td>Everyone 10+</td>\n",
       "    </tr>\n",
       "    <tr>\n",
       "      <th>1</th>\n",
       "      <td>Scribble Rider</td>\n",
       "      <td>10,000,000+</td>\n",
       "      <td>10000000</td>\n",
       "      <td>3.884314</td>\n",
       "      <td>219513.0</td>\n",
       "      <td>91620.0</td>\n",
       "      <td>[39359, 11409, 15784, 21673, 131288]</td>\n",
       "      <td>0.00</td>\n",
       "      <td>True</td>\n",
       "      <td>True</td>\n",
       "      <td>123M</td>\n",
       "      <td>Action</td>\n",
       "      <td>GAME_ACTION</td>\n",
       "      <td>Jul 23, 2020</td>\n",
       "      <td>Everyone</td>\n",
       "    </tr>\n",
       "    <tr>\n",
       "      <th>2</th>\n",
       "      <td>Call of Duty®: Mobile</td>\n",
       "      <td>100,000,000+</td>\n",
       "      <td>100000000</td>\n",
       "      <td>4.478313</td>\n",
       "      <td>10757089.0</td>\n",
       "      <td>4953322.0</td>\n",
       "      <td>[783831, 203300, 401111, 1064381, 8304466]</td>\n",
       "      <td>0.00</td>\n",
       "      <td>True</td>\n",
       "      <td>True</td>\n",
       "      <td>94M</td>\n",
       "      <td>Action</td>\n",
       "      <td>GAME_ACTION</td>\n",
       "      <td>Sep 30, 2019</td>\n",
       "      <td>Mature 17+</td>\n",
       "    </tr>\n",
       "    <tr>\n",
       "      <th>3</th>\n",
       "      <td>Hitmasters</td>\n",
       "      <td>50,000,000+</td>\n",
       "      <td>50000000</td>\n",
       "      <td>4.090488</td>\n",
       "      <td>280248.0</td>\n",
       "      <td>98967.0</td>\n",
       "      <td>[39272, 10530, 17919, 30372, 182155]</td>\n",
       "      <td>0.00</td>\n",
       "      <td>True</td>\n",
       "      <td>True</td>\n",
       "      <td>85M</td>\n",
       "      <td>Action</td>\n",
       "      <td>GAME_ACTION</td>\n",
       "      <td>Mar 19, 2020</td>\n",
       "      <td>Teen</td>\n",
       "    </tr>\n",
       "    <tr>\n",
       "      <th>4</th>\n",
       "      <td>Draw Defence</td>\n",
       "      <td>500,000+</td>\n",
       "      <td>500000</td>\n",
       "      <td>3.910000</td>\n",
       "      <td>1080.0</td>\n",
       "      <td>425.0</td>\n",
       "      <td>[227, 21, 54, 97, 681]</td>\n",
       "      <td>0.00</td>\n",
       "      <td>True</td>\n",
       "      <td>False</td>\n",
       "      <td>76M</td>\n",
       "      <td>Action</td>\n",
       "      <td>GAME_ACTION</td>\n",
       "      <td>Aug 27, 2020</td>\n",
       "      <td>Everyone</td>\n",
       "    </tr>\n",
       "    <tr>\n",
       "      <th>...</th>\n",
       "      <td>...</td>\n",
       "      <td>...</td>\n",
       "      <td>...</td>\n",
       "      <td>...</td>\n",
       "      <td>...</td>\n",
       "      <td>...</td>\n",
       "      <td>...</td>\n",
       "      <td>...</td>\n",
       "      <td>...</td>\n",
       "      <td>...</td>\n",
       "      <td>...</td>\n",
       "      <td>...</td>\n",
       "      <td>...</td>\n",
       "      <td>...</td>\n",
       "      <td>...</td>\n",
       "    </tr>\n",
       "    <tr>\n",
       "      <th>5130</th>\n",
       "      <td>Dropwords 2</td>\n",
       "      <td>1,000+</td>\n",
       "      <td>1000</td>\n",
       "      <td>4.452381</td>\n",
       "      <td>42.0</td>\n",
       "      <td>17.0</td>\n",
       "      <td>[1, 2, 2, 9, 28]</td>\n",
       "      <td>0.99</td>\n",
       "      <td>False</td>\n",
       "      <td>False</td>\n",
       "      <td>16M</td>\n",
       "      <td>Word</td>\n",
       "      <td>GAME_WORD</td>\n",
       "      <td>Jul 22, 2014</td>\n",
       "      <td>Everyone</td>\n",
       "    </tr>\n",
       "    <tr>\n",
       "      <th>5131</th>\n",
       "      <td>CrossCraze PRO</td>\n",
       "      <td>10,000+</td>\n",
       "      <td>10000</td>\n",
       "      <td>4.676190</td>\n",
       "      <td>1061.0</td>\n",
       "      <td>627.0</td>\n",
       "      <td>[10, 30, 50, 111, 860]</td>\n",
       "      <td>5.49</td>\n",
       "      <td>False</td>\n",
       "      <td>False</td>\n",
       "      <td>21M</td>\n",
       "      <td>Word</td>\n",
       "      <td>GAME_WORD</td>\n",
       "      <td>Mar 22, 2013</td>\n",
       "      <td>Everyone</td>\n",
       "    </tr>\n",
       "    <tr>\n",
       "      <th>5132</th>\n",
       "      <td>Word Breaker Full</td>\n",
       "      <td>10,000+</td>\n",
       "      <td>10000</td>\n",
       "      <td>4.160000</td>\n",
       "      <td>1109.0</td>\n",
       "      <td>588.0</td>\n",
       "      <td>[66, 33, 166, 233, 611]</td>\n",
       "      <td>2.99</td>\n",
       "      <td>False</td>\n",
       "      <td>False</td>\n",
       "      <td>14M</td>\n",
       "      <td>Word</td>\n",
       "      <td>GAME_WORD</td>\n",
       "      <td>Feb 24, 2011</td>\n",
       "      <td>Everyone</td>\n",
       "    </tr>\n",
       "    <tr>\n",
       "      <th>5133</th>\n",
       "      <td>Spelling Challenge PRO</td>\n",
       "      <td>100+</td>\n",
       "      <td>100</td>\n",
       "      <td>0.000000</td>\n",
       "      <td>NaN</td>\n",
       "      <td>0.0</td>\n",
       "      <td>[0, 0, 0, 0, 0]</td>\n",
       "      <td>1.99</td>\n",
       "      <td>False</td>\n",
       "      <td>False</td>\n",
       "      <td>Varies with device</td>\n",
       "      <td>Word</td>\n",
       "      <td>GAME_WORD</td>\n",
       "      <td>Jun 18, 2019</td>\n",
       "      <td>Everyone</td>\n",
       "    </tr>\n",
       "    <tr>\n",
       "      <th>5134</th>\n",
       "      <td>Word Plus</td>\n",
       "      <td>1+</td>\n",
       "      <td>1</td>\n",
       "      <td>0.000000</td>\n",
       "      <td>NaN</td>\n",
       "      <td>0.0</td>\n",
       "      <td>[0, 0, 0, 0, 0]</td>\n",
       "      <td>1.99</td>\n",
       "      <td>False</td>\n",
       "      <td>False</td>\n",
       "      <td>5.2M</td>\n",
       "      <td>Word</td>\n",
       "      <td>GAME_WORD</td>\n",
       "      <td>Jun 23, 2020</td>\n",
       "      <td>Everyone</td>\n",
       "    </tr>\n",
       "  </tbody>\n",
       "</table>\n",
       "<p>5135 rows × 15 columns</p>\n",
       "</div>"
      ],
      "text/plain": [
       "                       title      installs  minInstalls     score     ratings  \\\n",
       "0                   Among Us  100,000,000+    100000000  4.474048   2132693.0   \n",
       "1             Scribble Rider   10,000,000+     10000000  3.884314    219513.0   \n",
       "2      Call of Duty®: Mobile  100,000,000+    100000000  4.478313  10757089.0   \n",
       "3                 Hitmasters   50,000,000+     50000000  4.090488    280248.0   \n",
       "4               Draw Defence      500,000+       500000  3.910000      1080.0   \n",
       "...                      ...           ...          ...       ...         ...   \n",
       "5130             Dropwords 2        1,000+         1000  4.452381        42.0   \n",
       "5131          CrossCraze PRO       10,000+        10000  4.676190      1061.0   \n",
       "5132       Word Breaker Full       10,000+        10000  4.160000      1109.0   \n",
       "5133  Spelling Challenge PRO          100+          100  0.000000         NaN   \n",
       "5134               Word Plus            1+            1  0.000000         NaN   \n",
       "\n",
       "        reviews                                   histogram  price   free  \\\n",
       "0     1101564.0     [154333, 39857, 89011, 206765, 1642727]   0.00   True   \n",
       "1       91620.0        [39359, 11409, 15784, 21673, 131288]   0.00   True   \n",
       "2     4953322.0  [783831, 203300, 401111, 1064381, 8304466]   0.00   True   \n",
       "3       98967.0        [39272, 10530, 17919, 30372, 182155]   0.00   True   \n",
       "4         425.0                      [227, 21, 54, 97, 681]   0.00   True   \n",
       "...         ...                                         ...    ...    ...   \n",
       "5130       17.0                            [1, 2, 2, 9, 28]   0.99  False   \n",
       "5131      627.0                      [10, 30, 50, 111, 860]   5.49  False   \n",
       "5132      588.0                     [66, 33, 166, 233, 611]   2.99  False   \n",
       "5133        0.0                             [0, 0, 0, 0, 0]   1.99  False   \n",
       "5134        0.0                             [0, 0, 0, 0, 0]   1.99  False   \n",
       "\n",
       "      offersIAP                size   genre      genreId      released  \\\n",
       "0          True                 70M  Action  GAME_ACTION  Jun 15, 2018   \n",
       "1          True                123M  Action  GAME_ACTION  Jul 23, 2020   \n",
       "2          True                 94M  Action  GAME_ACTION  Sep 30, 2019   \n",
       "3          True                 85M  Action  GAME_ACTION  Mar 19, 2020   \n",
       "4         False                 76M  Action  GAME_ACTION  Aug 27, 2020   \n",
       "...         ...                 ...     ...          ...           ...   \n",
       "5130      False                 16M    Word    GAME_WORD  Jul 22, 2014   \n",
       "5131      False                 21M    Word    GAME_WORD  Mar 22, 2013   \n",
       "5132      False                 14M    Word    GAME_WORD  Feb 24, 2011   \n",
       "5133      False  Varies with device    Word    GAME_WORD  Jun 18, 2019   \n",
       "5134      False                5.2M    Word    GAME_WORD  Jun 23, 2020   \n",
       "\n",
       "     contentRating  \n",
       "0     Everyone 10+  \n",
       "1         Everyone  \n",
       "2       Mature 17+  \n",
       "3             Teen  \n",
       "4         Everyone  \n",
       "...            ...  \n",
       "5130      Everyone  \n",
       "5131      Everyone  \n",
       "5132      Everyone  \n",
       "5133      Everyone  \n",
       "5134      Everyone  \n",
       "\n",
       "[5135 rows x 15 columns]"
      ]
     },
     "execution_count": 2,
     "metadata": {},
     "output_type": "execute_result"
    }
   ],
   "source": [
    "df = pd.read_pickle('reviewfeatures.pkl')\n",
    "df"
   ]
  },
  {
   "cell_type": "code",
   "execution_count": 3,
   "metadata": {
    "scrolled": true
   },
   "outputs": [
    {
     "data": {
      "text/plain": [
       "Index(['title', 'installs', 'minInstalls', 'score', 'ratings', 'reviews',\n",
       "       'histogram', 'price', 'free', 'offersIAP', 'size', 'genre', 'genreId',\n",
       "       'released', 'contentRating'],\n",
       "      dtype='object')"
      ]
     },
     "execution_count": 3,
     "metadata": {},
     "output_type": "execute_result"
    }
   ],
   "source": [
    "df.columns"
   ]
  },
  {
   "cell_type": "code",
   "execution_count": 4,
   "metadata": {
    "scrolled": true
   },
   "outputs": [
    {
     "data": {
      "text/plain": [
       "title             object\n",
       "installs          object\n",
       "minInstalls        int64\n",
       "score            float64\n",
       "ratings          float64\n",
       "reviews          float64\n",
       "histogram         object\n",
       "price            float64\n",
       "free                bool\n",
       "offersIAP           bool\n",
       "size              object\n",
       "genre             object\n",
       "genreId           object\n",
       "released          object\n",
       "contentRating     object\n",
       "dtype: object"
      ]
     },
     "execution_count": 4,
     "metadata": {},
     "output_type": "execute_result"
    }
   ],
   "source": [
    "df.dtypes"
   ]
  },
  {
   "cell_type": "code",
   "execution_count": 5,
   "metadata": {},
   "outputs": [
    {
     "data": {
      "text/plain": [
       "title             0\n",
       "installs          0\n",
       "minInstalls       0\n",
       "score             5\n",
       "ratings          85\n",
       "reviews           5\n",
       "histogram         0\n",
       "price             0\n",
       "free              0\n",
       "offersIAP         0\n",
       "size              0\n",
       "genre             0\n",
       "genreId           0\n",
       "released         14\n",
       "contentRating     0\n",
       "dtype: int64"
      ]
     },
     "execution_count": 5,
     "metadata": {},
     "output_type": "execute_result"
    }
   ],
   "source": [
    "# Will drop games with no ratings\n",
    "\n",
    "df.isna().sum()"
   ]
  },
  {
   "cell_type": "code",
   "execution_count": 6,
   "metadata": {},
   "outputs": [],
   "source": [
    "# 91 rows were removed.\n",
    "\n",
    "df.dropna(inplace=True)"
   ]
  },
  {
   "cell_type": "code",
   "execution_count": 7,
   "metadata": {},
   "outputs": [
    {
     "data": {
      "text/plain": [
       "1,000,000+        895\n",
       "10,000,000+       858\n",
       "100,000+          664\n",
       "10,000+           664\n",
       "5,000,000+        424\n",
       "500,000+          301\n",
       "50,000+           283\n",
       "1,000+            280\n",
       "5,000+            216\n",
       "50,000,000+       197\n",
       "100,000,000+      132\n",
       "100+               55\n",
       "500+               51\n",
       "500,000,000+        9\n",
       "50+                 6\n",
       "10+                 4\n",
       "1,000,000,000+      2\n",
       "Name: installs, dtype: int64"
      ]
     },
     "execution_count": 7,
     "metadata": {},
     "output_type": "execute_result"
    }
   ],
   "source": [
    "# Can probably drop this column as it's the same as minInstalls but in an object format.\n",
    "\n",
    "df['installs'].value_counts()"
   ]
  },
  {
   "cell_type": "code",
   "execution_count": 8,
   "metadata": {
    "scrolled": true
   },
   "outputs": [
    {
     "data": {
      "text/plain": [
       "1000000       895\n",
       "10000000      858\n",
       "10000         664\n",
       "100000        664\n",
       "5000000       424\n",
       "500000        301\n",
       "50000         283\n",
       "1000          280\n",
       "5000          216\n",
       "50000000      197\n",
       "100000000     132\n",
       "100            55\n",
       "500            51\n",
       "500000000       9\n",
       "50              6\n",
       "10              4\n",
       "1000000000      2\n",
       "Name: minInstalls, dtype: int64"
      ]
     },
     "execution_count": 8,
     "metadata": {},
     "output_type": "execute_result"
    }
   ],
   "source": [
    "# Possibly reduce this columns to fewer categories.\n",
    "\n",
    "df['minInstalls'].value_counts()"
   ]
  },
  {
   "cell_type": "code",
   "execution_count": 9,
   "metadata": {},
   "outputs": [
    {
     "data": {
      "text/plain": [
       "count    5041.000000\n",
       "mean        4.211683\n",
       "std         0.418547\n",
       "min         1.160000\n",
       "25%         4.020566\n",
       "50%         4.274995\n",
       "75%         4.495050\n",
       "max         5.000000\n",
       "Name: score, dtype: float64"
      ]
     },
     "execution_count": 9,
     "metadata": {},
     "output_type": "execute_result"
    }
   ],
   "source": [
    "# We are only looking at the apps listed in the Top Free and Top Paid categories, so it makes sense the mean is high.\n",
    "\n",
    "df['score'].describe()"
   ]
  },
  {
   "cell_type": "code",
   "execution_count": 10,
   "metadata": {},
   "outputs": [
    {
     "data": {
      "text/plain": [
       "count    5.041000e+03\n",
       "mean     2.758921e+05\n",
       "std      1.772676e+06\n",
       "min      5.000000e+00\n",
       "25%      1.150000e+03\n",
       "50%      1.015100e+04\n",
       "75%      7.912600e+04\n",
       "max      6.302431e+07\n",
       "Name: ratings, dtype: float64"
      ]
     },
     "execution_count": 10,
     "metadata": {},
     "output_type": "execute_result"
    }
   ],
   "source": [
    "df['ratings'].describe()"
   ]
  },
  {
   "cell_type": "code",
   "execution_count": 11,
   "metadata": {
    "scrolled": true
   },
   "outputs": [
    {
     "data": {
      "text/plain": [
       "count    5.041000e+03\n",
       "mean     1.084286e+05\n",
       "std      8.181436e+05\n",
       "min      1.000000e+00\n",
       "25%      4.720000e+02\n",
       "50%      4.026000e+03\n",
       "75%      3.150300e+04\n",
       "max      3.826257e+07\n",
       "Name: reviews, dtype: float64"
      ]
     },
     "execution_count": 11,
     "metadata": {},
     "output_type": "execute_result"
    }
   ],
   "source": [
    "df['reviews'].describe()"
   ]
  },
  {
   "cell_type": "code",
   "execution_count": 12,
   "metadata": {
    "scrolled": true
   },
   "outputs": [
    {
     "data": {
      "text/plain": [
       "0.00     3346\n",
       "2.99      325\n",
       "0.99      272\n",
       "4.99      252\n",
       "1.99      239\n",
       "3.99      165\n",
       "6.99       57\n",
       "9.99       45\n",
       "3.49       41\n",
       "1.49       41\n",
       "5.99       37\n",
       "5.49       35\n",
       "2.49       32\n",
       "7.99       28\n",
       "4.49       19\n",
       "8.99       14\n",
       "14.99      11\n",
       "19.99       7\n",
       "6.49        7\n",
       "15.99       7\n",
       "1.00        6\n",
       "13.99       5\n",
       "24.99       4\n",
       "1.96        4\n",
       "7.49        4\n",
       "11.99       4\n",
       "17.99       3\n",
       "12.99       3\n",
       "2.00        2\n",
       "5.00        2\n",
       "29.99       2\n",
       "1.79        2\n",
       "3.75        1\n",
       "3.63        1\n",
       "1.50        1\n",
       "4.29        1\n",
       "20.99       1\n",
       "1.02        1\n",
       "2.69        1\n",
       "3.89        1\n",
       "32.99       1\n",
       "1.95        1\n",
       "5.60        1\n",
       "4.40        1\n",
       "1.20        1\n",
       "2.29        1\n",
       "2.19        1\n",
       "1.39        1\n",
       "18.99       1\n",
       "8.49        1\n",
       "1.19        1\n",
       "1.90        1\n",
       "Name: price, dtype: int64"
      ]
     },
     "execution_count": 12,
     "metadata": {},
     "output_type": "execute_result"
    }
   ],
   "source": [
    "# Will reduce this columns to fewer categories.\n",
    "\n",
    "df['price'].value_counts()"
   ]
  },
  {
   "cell_type": "code",
   "execution_count": 13,
   "metadata": {
    "scrolled": true
   },
   "outputs": [
    {
     "data": {
      "text/plain": [
       "True     3346\n",
       "False    1695\n",
       "Name: free, dtype: int64"
      ]
     },
     "execution_count": 13,
     "metadata": {},
     "output_type": "execute_result"
    }
   ],
   "source": [
    "# A decent number of these games are free games\n",
    "\n",
    "df['free'].value_counts()"
   ]
  },
  {
   "cell_type": "code",
   "execution_count": 14,
   "metadata": {},
   "outputs": [
    {
     "data": {
      "text/plain": [
       "True     3139\n",
       "False    1902\n",
       "Name: offersIAP, dtype: int64"
      ]
     },
     "execution_count": 14,
     "metadata": {},
     "output_type": "execute_result"
    }
   ],
   "source": [
    "# Numbers are similar to whether games are free to play or not.\n",
    "# Differences at a glance suggests a fair number of free games with no IAPs and paid games that still have IAPs\n",
    "\n",
    "df['offersIAP'].value_counts()"
   ]
  },
  {
   "cell_type": "code",
   "execution_count": 15,
   "metadata": {},
   "outputs": [
    {
     "data": {
      "text/plain": [
       "Varies with device    631\n",
       "49M                    68\n",
       "37M                    66\n",
       "25M                    63\n",
       "28M                    61\n",
       "                     ... \n",
       "473M                    1\n",
       "8.4M                    1\n",
       "500M                    1\n",
       "166M                    1\n",
       "198M                    1\n",
       "Name: size, Length: 269, dtype: int64"
      ]
     },
     "execution_count": 15,
     "metadata": {},
     "output_type": "execute_result"
    }
   ],
   "source": [
    "df['size'].value_counts()"
   ]
  },
  {
   "cell_type": "code",
   "execution_count": 16,
   "metadata": {
    "scrolled": true
   },
   "outputs": [
    {
     "data": {
      "text/plain": [
       "Adventure       394\n",
       "Role Playing    392\n",
       "Simulation      389\n",
       "Strategy        359\n",
       "Puzzle          358\n",
       "Educational     334\n",
       "Action          333\n",
       "Arcade          329\n",
       "Board           292\n",
       "Casual          292\n",
       "Card            248\n",
       "Sports          246\n",
       "Racing          241\n",
       "Word            217\n",
       "Music           208\n",
       "Casino          205\n",
       "Trivia          204\n",
       "Name: genre, dtype: int64"
      ]
     },
     "execution_count": 16,
     "metadata": {},
     "output_type": "execute_result"
    }
   ],
   "source": [
    "# Fair spread of games in each category.\n",
    "\n",
    "df['genre'].value_counts()"
   ]
  },
  {
   "cell_type": "code",
   "execution_count": 17,
   "metadata": {
    "scrolled": true
   },
   "outputs": [
    {
     "data": {
      "text/plain": [
       "GAME_ADVENTURE       394\n",
       "GAME_ROLE_PLAYING    392\n",
       "GAME_SIMULATION      389\n",
       "GAME_STRATEGY        359\n",
       "GAME_PUZZLE          358\n",
       "GAME_EDUCATIONAL     334\n",
       "GAME_ACTION          333\n",
       "GAME_ARCADE          329\n",
       "GAME_CASUAL          292\n",
       "GAME_BOARD           292\n",
       "GAME_CARD            248\n",
       "GAME_SPORTS          246\n",
       "GAME_RACING          241\n",
       "GAME_WORD            217\n",
       "GAME_MUSIC           208\n",
       "GAME_CASINO          205\n",
       "GAME_TRIVIA          204\n",
       "Name: genreId, dtype: int64"
      ]
     },
     "execution_count": 17,
     "metadata": {},
     "output_type": "execute_result"
    }
   ],
   "source": [
    "# Can remove this column as it's the same thing as genre.\n",
    "\n",
    "df['genreId'].value_counts()"
   ]
  },
  {
   "cell_type": "code",
   "execution_count": 18,
   "metadata": {},
   "outputs": [
    {
     "data": {
      "text/plain": [
       "Jul 23, 2020    15\n",
       "Apr 24, 2020    14\n",
       "Jul 28, 2020    13\n",
       "Aug 19, 2020    13\n",
       "Aug 26, 2020    12\n",
       "                ..\n",
       "Mar 8, 2019      1\n",
       "Jan 22, 2014     1\n",
       "Feb 20, 2013     1\n",
       "Feb 5, 2013      1\n",
       "Aug 31, 2015     1\n",
       "Name: released, Length: 2106, dtype: int64"
      ]
     },
     "execution_count": 18,
     "metadata": {},
     "output_type": "execute_result"
    }
   ],
   "source": [
    "# Need to change this to a useable column.\n",
    "\n",
    "df['released'].value_counts()"
   ]
  },
  {
   "cell_type": "code",
   "execution_count": 19,
   "metadata": {
    "scrolled": true
   },
   "outputs": [
    {
     "data": {
      "text/plain": [
       "Everyone           3034\n",
       "Teen               1279\n",
       "Everyone 10+        561\n",
       "Mature 17+          161\n",
       "Adults only 18+       6\n",
       "Name: contentRating, dtype: int64"
      ]
     },
     "execution_count": 19,
     "metadata": {},
     "output_type": "execute_result"
    }
   ],
   "source": [
    "# Most top apps are either for Everyone or Teen. Makes sense to appeal to wider audiences.\n",
    "\n",
    "df['contentRating'].value_counts()"
   ]
  },
  {
   "cell_type": "markdown",
   "metadata": {},
   "source": [
    "=================================================================================================================="
   ]
  },
  {
   "cell_type": "markdown",
   "metadata": {},
   "source": [
    "# Cleaning"
   ]
  },
  {
   "cell_type": "code",
   "execution_count": 20,
   "metadata": {
    "scrolled": true
   },
   "outputs": [
    {
     "data": {
      "text/html": [
       "<div>\n",
       "<style scoped>\n",
       "    .dataframe tbody tr th:only-of-type {\n",
       "        vertical-align: middle;\n",
       "    }\n",
       "\n",
       "    .dataframe tbody tr th {\n",
       "        vertical-align: top;\n",
       "    }\n",
       "\n",
       "    .dataframe thead th {\n",
       "        text-align: right;\n",
       "    }\n",
       "</style>\n",
       "<table border=\"1\" class=\"dataframe\">\n",
       "  <thead>\n",
       "    <tr style=\"text-align: right;\">\n",
       "      <th></th>\n",
       "      <th>title</th>\n",
       "      <th>minInstalls</th>\n",
       "      <th>score</th>\n",
       "      <th>ratings</th>\n",
       "      <th>reviews</th>\n",
       "      <th>histogram</th>\n",
       "      <th>price</th>\n",
       "      <th>free</th>\n",
       "      <th>offersIAP</th>\n",
       "      <th>size</th>\n",
       "      <th>genre</th>\n",
       "      <th>released</th>\n",
       "      <th>contentRating</th>\n",
       "    </tr>\n",
       "  </thead>\n",
       "  <tbody>\n",
       "    <tr>\n",
       "      <th>0</th>\n",
       "      <td>Among Us</td>\n",
       "      <td>100000000</td>\n",
       "      <td>4.474048</td>\n",
       "      <td>2132693.0</td>\n",
       "      <td>1101564.0</td>\n",
       "      <td>[154333, 39857, 89011, 206765, 1642727]</td>\n",
       "      <td>0.00</td>\n",
       "      <td>True</td>\n",
       "      <td>True</td>\n",
       "      <td>70M</td>\n",
       "      <td>Action</td>\n",
       "      <td>Jun 15, 2018</td>\n",
       "      <td>Everyone 10+</td>\n",
       "    </tr>\n",
       "    <tr>\n",
       "      <th>1</th>\n",
       "      <td>Scribble Rider</td>\n",
       "      <td>10000000</td>\n",
       "      <td>3.884314</td>\n",
       "      <td>219513.0</td>\n",
       "      <td>91620.0</td>\n",
       "      <td>[39359, 11409, 15784, 21673, 131288]</td>\n",
       "      <td>0.00</td>\n",
       "      <td>True</td>\n",
       "      <td>True</td>\n",
       "      <td>123M</td>\n",
       "      <td>Action</td>\n",
       "      <td>Jul 23, 2020</td>\n",
       "      <td>Everyone</td>\n",
       "    </tr>\n",
       "    <tr>\n",
       "      <th>2</th>\n",
       "      <td>Call of Duty®: Mobile</td>\n",
       "      <td>100000000</td>\n",
       "      <td>4.478313</td>\n",
       "      <td>10757089.0</td>\n",
       "      <td>4953322.0</td>\n",
       "      <td>[783831, 203300, 401111, 1064381, 8304466]</td>\n",
       "      <td>0.00</td>\n",
       "      <td>True</td>\n",
       "      <td>True</td>\n",
       "      <td>94M</td>\n",
       "      <td>Action</td>\n",
       "      <td>Sep 30, 2019</td>\n",
       "      <td>Mature 17+</td>\n",
       "    </tr>\n",
       "    <tr>\n",
       "      <th>3</th>\n",
       "      <td>Hitmasters</td>\n",
       "      <td>50000000</td>\n",
       "      <td>4.090488</td>\n",
       "      <td>280248.0</td>\n",
       "      <td>98967.0</td>\n",
       "      <td>[39272, 10530, 17919, 30372, 182155]</td>\n",
       "      <td>0.00</td>\n",
       "      <td>True</td>\n",
       "      <td>True</td>\n",
       "      <td>85M</td>\n",
       "      <td>Action</td>\n",
       "      <td>Mar 19, 2020</td>\n",
       "      <td>Teen</td>\n",
       "    </tr>\n",
       "    <tr>\n",
       "      <th>4</th>\n",
       "      <td>Draw Defence</td>\n",
       "      <td>500000</td>\n",
       "      <td>3.910000</td>\n",
       "      <td>1080.0</td>\n",
       "      <td>425.0</td>\n",
       "      <td>[227, 21, 54, 97, 681]</td>\n",
       "      <td>0.00</td>\n",
       "      <td>True</td>\n",
       "      <td>False</td>\n",
       "      <td>76M</td>\n",
       "      <td>Action</td>\n",
       "      <td>Aug 27, 2020</td>\n",
       "      <td>Everyone</td>\n",
       "    </tr>\n",
       "    <tr>\n",
       "      <th>...</th>\n",
       "      <td>...</td>\n",
       "      <td>...</td>\n",
       "      <td>...</td>\n",
       "      <td>...</td>\n",
       "      <td>...</td>\n",
       "      <td>...</td>\n",
       "      <td>...</td>\n",
       "      <td>...</td>\n",
       "      <td>...</td>\n",
       "      <td>...</td>\n",
       "      <td>...</td>\n",
       "      <td>...</td>\n",
       "      <td>...</td>\n",
       "    </tr>\n",
       "    <tr>\n",
       "      <th>5128</th>\n",
       "      <td>Word Crack (Ad free)</td>\n",
       "      <td>50000</td>\n",
       "      <td>4.225993</td>\n",
       "      <td>16368.0</td>\n",
       "      <td>7664.0</td>\n",
       "      <td>[1335, 472, 1040, 3829, 9692]</td>\n",
       "      <td>2.99</td>\n",
       "      <td>False</td>\n",
       "      <td>True</td>\n",
       "      <td>56M</td>\n",
       "      <td>Word</td>\n",
       "      <td>Oct 19, 2011</td>\n",
       "      <td>Everyone</td>\n",
       "    </tr>\n",
       "    <tr>\n",
       "      <th>5129</th>\n",
       "      <td>The Game Gal's Word Generator</td>\n",
       "      <td>1000</td>\n",
       "      <td>4.666666</td>\n",
       "      <td>12.0</td>\n",
       "      <td>6.0</td>\n",
       "      <td>[0, 1, 0, 1, 10]</td>\n",
       "      <td>1.99</td>\n",
       "      <td>False</td>\n",
       "      <td>False</td>\n",
       "      <td>9.4M</td>\n",
       "      <td>Word</td>\n",
       "      <td>Dec 25, 2017</td>\n",
       "      <td>Everyone</td>\n",
       "    </tr>\n",
       "    <tr>\n",
       "      <th>5130</th>\n",
       "      <td>Dropwords 2</td>\n",
       "      <td>1000</td>\n",
       "      <td>4.452381</td>\n",
       "      <td>42.0</td>\n",
       "      <td>17.0</td>\n",
       "      <td>[1, 2, 2, 9, 28]</td>\n",
       "      <td>0.99</td>\n",
       "      <td>False</td>\n",
       "      <td>False</td>\n",
       "      <td>16M</td>\n",
       "      <td>Word</td>\n",
       "      <td>Jul 22, 2014</td>\n",
       "      <td>Everyone</td>\n",
       "    </tr>\n",
       "    <tr>\n",
       "      <th>5131</th>\n",
       "      <td>CrossCraze PRO</td>\n",
       "      <td>10000</td>\n",
       "      <td>4.676190</td>\n",
       "      <td>1061.0</td>\n",
       "      <td>627.0</td>\n",
       "      <td>[10, 30, 50, 111, 860]</td>\n",
       "      <td>5.49</td>\n",
       "      <td>False</td>\n",
       "      <td>False</td>\n",
       "      <td>21M</td>\n",
       "      <td>Word</td>\n",
       "      <td>Mar 22, 2013</td>\n",
       "      <td>Everyone</td>\n",
       "    </tr>\n",
       "    <tr>\n",
       "      <th>5132</th>\n",
       "      <td>Word Breaker Full</td>\n",
       "      <td>10000</td>\n",
       "      <td>4.160000</td>\n",
       "      <td>1109.0</td>\n",
       "      <td>588.0</td>\n",
       "      <td>[66, 33, 166, 233, 611]</td>\n",
       "      <td>2.99</td>\n",
       "      <td>False</td>\n",
       "      <td>False</td>\n",
       "      <td>14M</td>\n",
       "      <td>Word</td>\n",
       "      <td>Feb 24, 2011</td>\n",
       "      <td>Everyone</td>\n",
       "    </tr>\n",
       "  </tbody>\n",
       "</table>\n",
       "<p>5041 rows × 13 columns</p>\n",
       "</div>"
      ],
      "text/plain": [
       "                              title  minInstalls     score     ratings  \\\n",
       "0                          Among Us    100000000  4.474048   2132693.0   \n",
       "1                    Scribble Rider     10000000  3.884314    219513.0   \n",
       "2             Call of Duty®: Mobile    100000000  4.478313  10757089.0   \n",
       "3                        Hitmasters     50000000  4.090488    280248.0   \n",
       "4                      Draw Defence       500000  3.910000      1080.0   \n",
       "...                             ...          ...       ...         ...   \n",
       "5128           Word Crack (Ad free)        50000  4.225993     16368.0   \n",
       "5129  The Game Gal's Word Generator         1000  4.666666        12.0   \n",
       "5130                    Dropwords 2         1000  4.452381        42.0   \n",
       "5131                 CrossCraze PRO        10000  4.676190      1061.0   \n",
       "5132              Word Breaker Full        10000  4.160000      1109.0   \n",
       "\n",
       "        reviews                                   histogram  price   free  \\\n",
       "0     1101564.0     [154333, 39857, 89011, 206765, 1642727]   0.00   True   \n",
       "1       91620.0        [39359, 11409, 15784, 21673, 131288]   0.00   True   \n",
       "2     4953322.0  [783831, 203300, 401111, 1064381, 8304466]   0.00   True   \n",
       "3       98967.0        [39272, 10530, 17919, 30372, 182155]   0.00   True   \n",
       "4         425.0                      [227, 21, 54, 97, 681]   0.00   True   \n",
       "...         ...                                         ...    ...    ...   \n",
       "5128     7664.0               [1335, 472, 1040, 3829, 9692]   2.99  False   \n",
       "5129        6.0                            [0, 1, 0, 1, 10]   1.99  False   \n",
       "5130       17.0                            [1, 2, 2, 9, 28]   0.99  False   \n",
       "5131      627.0                      [10, 30, 50, 111, 860]   5.49  False   \n",
       "5132      588.0                     [66, 33, 166, 233, 611]   2.99  False   \n",
       "\n",
       "      offersIAP  size   genre      released contentRating  \n",
       "0          True   70M  Action  Jun 15, 2018  Everyone 10+  \n",
       "1          True  123M  Action  Jul 23, 2020      Everyone  \n",
       "2          True   94M  Action  Sep 30, 2019    Mature 17+  \n",
       "3          True   85M  Action  Mar 19, 2020          Teen  \n",
       "4         False   76M  Action  Aug 27, 2020      Everyone  \n",
       "...         ...   ...     ...           ...           ...  \n",
       "5128       True   56M    Word  Oct 19, 2011      Everyone  \n",
       "5129      False  9.4M    Word  Dec 25, 2017      Everyone  \n",
       "5130      False   16M    Word  Jul 22, 2014      Everyone  \n",
       "5131      False   21M    Word  Mar 22, 2013      Everyone  \n",
       "5132      False   14M    Word  Feb 24, 2011      Everyone  \n",
       "\n",
       "[5041 rows x 13 columns]"
      ]
     },
     "execution_count": 20,
     "metadata": {},
     "output_type": "execute_result"
    }
   ],
   "source": [
    "df.drop(columns=['installs', 'genreId'], inplace=True)\n",
    "df"
   ]
  },
  {
   "cell_type": "code",
   "execution_count": 21,
   "metadata": {},
   "outputs": [
    {
     "data": {
      "text/html": [
       "<div>\n",
       "<style scoped>\n",
       "    .dataframe tbody tr th:only-of-type {\n",
       "        vertical-align: middle;\n",
       "    }\n",
       "\n",
       "    .dataframe tbody tr th {\n",
       "        vertical-align: top;\n",
       "    }\n",
       "\n",
       "    .dataframe thead th {\n",
       "        text-align: right;\n",
       "    }\n",
       "</style>\n",
       "<table border=\"1\" class=\"dataframe\">\n",
       "  <thead>\n",
       "    <tr style=\"text-align: right;\">\n",
       "      <th></th>\n",
       "      <th>title</th>\n",
       "      <th>minInstalls</th>\n",
       "      <th>score</th>\n",
       "      <th>ratings</th>\n",
       "      <th>reviews</th>\n",
       "      <th>histogram</th>\n",
       "      <th>price</th>\n",
       "      <th>free</th>\n",
       "      <th>offersIAP</th>\n",
       "      <th>size</th>\n",
       "      <th>genre</th>\n",
       "      <th>contentRating</th>\n",
       "      <th>releasedate</th>\n",
       "    </tr>\n",
       "  </thead>\n",
       "  <tbody>\n",
       "    <tr>\n",
       "      <th>0</th>\n",
       "      <td>Among Us</td>\n",
       "      <td>100000000</td>\n",
       "      <td>4.474048</td>\n",
       "      <td>2132693.0</td>\n",
       "      <td>1101564.0</td>\n",
       "      <td>[154333, 39857, 89011, 206765, 1642727]</td>\n",
       "      <td>0.00</td>\n",
       "      <td>True</td>\n",
       "      <td>True</td>\n",
       "      <td>70M</td>\n",
       "      <td>Action</td>\n",
       "      <td>Everyone 10+</td>\n",
       "      <td>2018-06-15</td>\n",
       "    </tr>\n",
       "    <tr>\n",
       "      <th>1</th>\n",
       "      <td>Scribble Rider</td>\n",
       "      <td>10000000</td>\n",
       "      <td>3.884314</td>\n",
       "      <td>219513.0</td>\n",
       "      <td>91620.0</td>\n",
       "      <td>[39359, 11409, 15784, 21673, 131288]</td>\n",
       "      <td>0.00</td>\n",
       "      <td>True</td>\n",
       "      <td>True</td>\n",
       "      <td>123M</td>\n",
       "      <td>Action</td>\n",
       "      <td>Everyone</td>\n",
       "      <td>2020-07-23</td>\n",
       "    </tr>\n",
       "    <tr>\n",
       "      <th>2</th>\n",
       "      <td>Call of Duty®: Mobile</td>\n",
       "      <td>100000000</td>\n",
       "      <td>4.478313</td>\n",
       "      <td>10757089.0</td>\n",
       "      <td>4953322.0</td>\n",
       "      <td>[783831, 203300, 401111, 1064381, 8304466]</td>\n",
       "      <td>0.00</td>\n",
       "      <td>True</td>\n",
       "      <td>True</td>\n",
       "      <td>94M</td>\n",
       "      <td>Action</td>\n",
       "      <td>Mature 17+</td>\n",
       "      <td>2019-09-30</td>\n",
       "    </tr>\n",
       "    <tr>\n",
       "      <th>3</th>\n",
       "      <td>Hitmasters</td>\n",
       "      <td>50000000</td>\n",
       "      <td>4.090488</td>\n",
       "      <td>280248.0</td>\n",
       "      <td>98967.0</td>\n",
       "      <td>[39272, 10530, 17919, 30372, 182155]</td>\n",
       "      <td>0.00</td>\n",
       "      <td>True</td>\n",
       "      <td>True</td>\n",
       "      <td>85M</td>\n",
       "      <td>Action</td>\n",
       "      <td>Teen</td>\n",
       "      <td>2020-03-19</td>\n",
       "    </tr>\n",
       "    <tr>\n",
       "      <th>4</th>\n",
       "      <td>Draw Defence</td>\n",
       "      <td>500000</td>\n",
       "      <td>3.910000</td>\n",
       "      <td>1080.0</td>\n",
       "      <td>425.0</td>\n",
       "      <td>[227, 21, 54, 97, 681]</td>\n",
       "      <td>0.00</td>\n",
       "      <td>True</td>\n",
       "      <td>False</td>\n",
       "      <td>76M</td>\n",
       "      <td>Action</td>\n",
       "      <td>Everyone</td>\n",
       "      <td>2020-08-27</td>\n",
       "    </tr>\n",
       "    <tr>\n",
       "      <th>...</th>\n",
       "      <td>...</td>\n",
       "      <td>...</td>\n",
       "      <td>...</td>\n",
       "      <td>...</td>\n",
       "      <td>...</td>\n",
       "      <td>...</td>\n",
       "      <td>...</td>\n",
       "      <td>...</td>\n",
       "      <td>...</td>\n",
       "      <td>...</td>\n",
       "      <td>...</td>\n",
       "      <td>...</td>\n",
       "      <td>...</td>\n",
       "    </tr>\n",
       "    <tr>\n",
       "      <th>5128</th>\n",
       "      <td>Word Crack (Ad free)</td>\n",
       "      <td>50000</td>\n",
       "      <td>4.225993</td>\n",
       "      <td>16368.0</td>\n",
       "      <td>7664.0</td>\n",
       "      <td>[1335, 472, 1040, 3829, 9692]</td>\n",
       "      <td>2.99</td>\n",
       "      <td>False</td>\n",
       "      <td>True</td>\n",
       "      <td>56M</td>\n",
       "      <td>Word</td>\n",
       "      <td>Everyone</td>\n",
       "      <td>2011-10-19</td>\n",
       "    </tr>\n",
       "    <tr>\n",
       "      <th>5129</th>\n",
       "      <td>The Game Gal's Word Generator</td>\n",
       "      <td>1000</td>\n",
       "      <td>4.666666</td>\n",
       "      <td>12.0</td>\n",
       "      <td>6.0</td>\n",
       "      <td>[0, 1, 0, 1, 10]</td>\n",
       "      <td>1.99</td>\n",
       "      <td>False</td>\n",
       "      <td>False</td>\n",
       "      <td>9.4M</td>\n",
       "      <td>Word</td>\n",
       "      <td>Everyone</td>\n",
       "      <td>2017-12-25</td>\n",
       "    </tr>\n",
       "    <tr>\n",
       "      <th>5130</th>\n",
       "      <td>Dropwords 2</td>\n",
       "      <td>1000</td>\n",
       "      <td>4.452381</td>\n",
       "      <td>42.0</td>\n",
       "      <td>17.0</td>\n",
       "      <td>[1, 2, 2, 9, 28]</td>\n",
       "      <td>0.99</td>\n",
       "      <td>False</td>\n",
       "      <td>False</td>\n",
       "      <td>16M</td>\n",
       "      <td>Word</td>\n",
       "      <td>Everyone</td>\n",
       "      <td>2014-07-22</td>\n",
       "    </tr>\n",
       "    <tr>\n",
       "      <th>5131</th>\n",
       "      <td>CrossCraze PRO</td>\n",
       "      <td>10000</td>\n",
       "      <td>4.676190</td>\n",
       "      <td>1061.0</td>\n",
       "      <td>627.0</td>\n",
       "      <td>[10, 30, 50, 111, 860]</td>\n",
       "      <td>5.49</td>\n",
       "      <td>False</td>\n",
       "      <td>False</td>\n",
       "      <td>21M</td>\n",
       "      <td>Word</td>\n",
       "      <td>Everyone</td>\n",
       "      <td>2013-03-22</td>\n",
       "    </tr>\n",
       "    <tr>\n",
       "      <th>5132</th>\n",
       "      <td>Word Breaker Full</td>\n",
       "      <td>10000</td>\n",
       "      <td>4.160000</td>\n",
       "      <td>1109.0</td>\n",
       "      <td>588.0</td>\n",
       "      <td>[66, 33, 166, 233, 611]</td>\n",
       "      <td>2.99</td>\n",
       "      <td>False</td>\n",
       "      <td>False</td>\n",
       "      <td>14M</td>\n",
       "      <td>Word</td>\n",
       "      <td>Everyone</td>\n",
       "      <td>2011-02-24</td>\n",
       "    </tr>\n",
       "  </tbody>\n",
       "</table>\n",
       "<p>5041 rows × 13 columns</p>\n",
       "</div>"
      ],
      "text/plain": [
       "                              title  minInstalls     score     ratings  \\\n",
       "0                          Among Us    100000000  4.474048   2132693.0   \n",
       "1                    Scribble Rider     10000000  3.884314    219513.0   \n",
       "2             Call of Duty®: Mobile    100000000  4.478313  10757089.0   \n",
       "3                        Hitmasters     50000000  4.090488    280248.0   \n",
       "4                      Draw Defence       500000  3.910000      1080.0   \n",
       "...                             ...          ...       ...         ...   \n",
       "5128           Word Crack (Ad free)        50000  4.225993     16368.0   \n",
       "5129  The Game Gal's Word Generator         1000  4.666666        12.0   \n",
       "5130                    Dropwords 2         1000  4.452381        42.0   \n",
       "5131                 CrossCraze PRO        10000  4.676190      1061.0   \n",
       "5132              Word Breaker Full        10000  4.160000      1109.0   \n",
       "\n",
       "        reviews                                   histogram  price   free  \\\n",
       "0     1101564.0     [154333, 39857, 89011, 206765, 1642727]   0.00   True   \n",
       "1       91620.0        [39359, 11409, 15784, 21673, 131288]   0.00   True   \n",
       "2     4953322.0  [783831, 203300, 401111, 1064381, 8304466]   0.00   True   \n",
       "3       98967.0        [39272, 10530, 17919, 30372, 182155]   0.00   True   \n",
       "4         425.0                      [227, 21, 54, 97, 681]   0.00   True   \n",
       "...         ...                                         ...    ...    ...   \n",
       "5128     7664.0               [1335, 472, 1040, 3829, 9692]   2.99  False   \n",
       "5129        6.0                            [0, 1, 0, 1, 10]   1.99  False   \n",
       "5130       17.0                            [1, 2, 2, 9, 28]   0.99  False   \n",
       "5131      627.0                      [10, 30, 50, 111, 860]   5.49  False   \n",
       "5132      588.0                     [66, 33, 166, 233, 611]   2.99  False   \n",
       "\n",
       "      offersIAP  size   genre contentRating releasedate  \n",
       "0          True   70M  Action  Everyone 10+  2018-06-15  \n",
       "1          True  123M  Action      Everyone  2020-07-23  \n",
       "2          True   94M  Action    Mature 17+  2019-09-30  \n",
       "3          True   85M  Action          Teen  2020-03-19  \n",
       "4         False   76M  Action      Everyone  2020-08-27  \n",
       "...         ...   ...     ...           ...         ...  \n",
       "5128       True   56M    Word      Everyone  2011-10-19  \n",
       "5129      False  9.4M    Word      Everyone  2017-12-25  \n",
       "5130      False   16M    Word      Everyone  2014-07-22  \n",
       "5131      False   21M    Word      Everyone  2013-03-22  \n",
       "5132      False   14M    Word      Everyone  2011-02-24  \n",
       "\n",
       "[5041 rows x 13 columns]"
      ]
     },
     "execution_count": 21,
     "metadata": {},
     "output_type": "execute_result"
    }
   ],
   "source": [
    "df['releasedate'] = df['released'].apply(pd.to_datetime)\n",
    "df.drop(columns=['released'], inplace=True)\n",
    "df"
   ]
  },
  {
   "cell_type": "markdown",
   "metadata": {},
   "source": [
    "=================================================================================================================="
   ]
  },
  {
   "cell_type": "markdown",
   "metadata": {},
   "source": [
    "# Feature Engineering"
   ]
  },
  {
   "cell_type": "markdown",
   "metadata": {},
   "source": [
    "=================================================================================================================="
   ]
  },
  {
   "cell_type": "markdown",
   "metadata": {},
   "source": [
    "# NLP"
   ]
  },
  {
   "cell_type": "code",
   "execution_count": 22,
   "metadata": {},
   "outputs": [],
   "source": [
    "import bz2\n",
    "\n",
    "def decompress_pickle(file):\n",
    "    data = bz2.BZ2File(file, 'rb')\n",
    "    data = pickle.load(data)\n",
    "    return data"
   ]
  },
  {
   "cell_type": "code",
   "execution_count": 23,
   "metadata": {},
   "outputs": [
    {
     "data": {
      "text/plain": [
       "1911805"
      ]
     },
     "execution_count": 23,
     "metadata": {},
     "output_type": "execute_result"
    }
   ],
   "source": [
    "bigreviewlist = decompress_pickle('compressedbiglistreview.pbz2')\n",
    "len(bigreviewlist)"
   ]
  },
  {
   "cell_type": "code",
   "execution_count": 24,
   "metadata": {},
   "outputs": [
    {
     "data": {
      "text/html": [
       "<div>\n",
       "<style scoped>\n",
       "    .dataframe tbody tr th:only-of-type {\n",
       "        vertical-align: middle;\n",
       "    }\n",
       "\n",
       "    .dataframe tbody tr th {\n",
       "        vertical-align: top;\n",
       "    }\n",
       "\n",
       "    .dataframe thead th {\n",
       "        text-align: right;\n",
       "    }\n",
       "</style>\n",
       "<table border=\"1\" class=\"dataframe\">\n",
       "  <thead>\n",
       "    <tr style=\"text-align: right;\">\n",
       "      <th></th>\n",
       "      <th>content</th>\n",
       "      <th>score</th>\n",
       "    </tr>\n",
       "  </thead>\n",
       "  <tbody>\n",
       "    <tr>\n",
       "      <th>0</th>\n",
       "      <td>It is an amazing and unique game, really liked...</td>\n",
       "      <td>4</td>\n",
       "    </tr>\n",
       "    <tr>\n",
       "      <th>1</th>\n",
       "      <td>I really like this game! I would love to see f...</td>\n",
       "      <td>4</td>\n",
       "    </tr>\n",
       "    <tr>\n",
       "      <th>2</th>\n",
       "      <td>I love the mystery and intrigue that Among Us ...</td>\n",
       "      <td>5</td>\n",
       "    </tr>\n",
       "    <tr>\n",
       "      <th>3</th>\n",
       "      <td>This game is great, but the more I play, the w...</td>\n",
       "      <td>3</td>\n",
       "    </tr>\n",
       "    <tr>\n",
       "      <th>4</th>\n",
       "      <td>The game is pretty decent, and i enjoy it most...</td>\n",
       "      <td>4</td>\n",
       "    </tr>\n",
       "    <tr>\n",
       "      <th>...</th>\n",
       "      <td>...</td>\n",
       "      <td>...</td>\n",
       "    </tr>\n",
       "    <tr>\n",
       "      <th>1911800</th>\n",
       "      <td>awesome</td>\n",
       "      <td>5</td>\n",
       "    </tr>\n",
       "    <tr>\n",
       "      <th>1911801</th>\n",
       "      <td>Pretty nice...</td>\n",
       "      <td>4</td>\n",
       "    </tr>\n",
       "    <tr>\n",
       "      <th>1911802</th>\n",
       "      <td>This app looks great. It's easy to use but wha...</td>\n",
       "      <td>1</td>\n",
       "    </tr>\n",
       "    <tr>\n",
       "      <th>1911803</th>\n",
       "      <td>Spelling has always been my forte, but this ga...</td>\n",
       "      <td>5</td>\n",
       "    </tr>\n",
       "    <tr>\n",
       "      <th>1911804</th>\n",
       "      <td>One of my favorites. Keeps me young in thought.</td>\n",
       "      <td>5</td>\n",
       "    </tr>\n",
       "  </tbody>\n",
       "</table>\n",
       "<p>1911805 rows × 2 columns</p>\n",
       "</div>"
      ],
      "text/plain": [
       "                                                   content  score\n",
       "0        It is an amazing and unique game, really liked...      4\n",
       "1        I really like this game! I would love to see f...      4\n",
       "2        I love the mystery and intrigue that Among Us ...      5\n",
       "3        This game is great, but the more I play, the w...      3\n",
       "4        The game is pretty decent, and i enjoy it most...      4\n",
       "...                                                    ...    ...\n",
       "1911800                                            awesome      5\n",
       "1911801                                     Pretty nice...      4\n",
       "1911802  This app looks great. It's easy to use but wha...      1\n",
       "1911803  Spelling has always been my forte, but this ga...      5\n",
       "1911804    One of my favorites. Keeps me young in thought.      5\n",
       "\n",
       "[1911805 rows x 2 columns]"
      ]
     },
     "execution_count": 24,
     "metadata": {},
     "output_type": "execute_result"
    }
   ],
   "source": [
    "dfreview = pd.DataFrame(bigreviewlist)\n",
    "dfreview"
   ]
  },
  {
   "cell_type": "code",
   "execution_count": 25,
   "metadata": {},
   "outputs": [
    {
     "data": {
      "text/plain": [
       "content    463\n",
       "score        0\n",
       "dtype: int64"
      ]
     },
     "execution_count": 25,
     "metadata": {},
     "output_type": "execute_result"
    }
   ],
   "source": [
    "dfreview.isna().sum()"
   ]
  },
  {
   "cell_type": "code",
   "execution_count": 26,
   "metadata": {
    "scrolled": true
   },
   "outputs": [
    {
     "data": {
      "text/html": [
       "<div>\n",
       "<style scoped>\n",
       "    .dataframe tbody tr th:only-of-type {\n",
       "        vertical-align: middle;\n",
       "    }\n",
       "\n",
       "    .dataframe tbody tr th {\n",
       "        vertical-align: top;\n",
       "    }\n",
       "\n",
       "    .dataframe thead th {\n",
       "        text-align: right;\n",
       "    }\n",
       "</style>\n",
       "<table border=\"1\" class=\"dataframe\">\n",
       "  <thead>\n",
       "    <tr style=\"text-align: right;\">\n",
       "      <th></th>\n",
       "      <th>content</th>\n",
       "      <th>score</th>\n",
       "    </tr>\n",
       "  </thead>\n",
       "  <tbody>\n",
       "    <tr>\n",
       "      <th>0</th>\n",
       "      <td>It is an amazing and unique game, really liked...</td>\n",
       "      <td>4</td>\n",
       "    </tr>\n",
       "    <tr>\n",
       "      <th>1</th>\n",
       "      <td>I really like this game! I would love to see f...</td>\n",
       "      <td>4</td>\n",
       "    </tr>\n",
       "    <tr>\n",
       "      <th>2</th>\n",
       "      <td>I love the mystery and intrigue that Among Us ...</td>\n",
       "      <td>5</td>\n",
       "    </tr>\n",
       "    <tr>\n",
       "      <th>3</th>\n",
       "      <td>This game is great, but the more I play, the w...</td>\n",
       "      <td>3</td>\n",
       "    </tr>\n",
       "    <tr>\n",
       "      <th>4</th>\n",
       "      <td>The game is pretty decent, and i enjoy it most...</td>\n",
       "      <td>4</td>\n",
       "    </tr>\n",
       "    <tr>\n",
       "      <th>...</th>\n",
       "      <td>...</td>\n",
       "      <td>...</td>\n",
       "    </tr>\n",
       "    <tr>\n",
       "      <th>1911800</th>\n",
       "      <td>awesome</td>\n",
       "      <td>5</td>\n",
       "    </tr>\n",
       "    <tr>\n",
       "      <th>1911801</th>\n",
       "      <td>Pretty nice...</td>\n",
       "      <td>4</td>\n",
       "    </tr>\n",
       "    <tr>\n",
       "      <th>1911802</th>\n",
       "      <td>This app looks great. It's easy to use but wha...</td>\n",
       "      <td>1</td>\n",
       "    </tr>\n",
       "    <tr>\n",
       "      <th>1911803</th>\n",
       "      <td>Spelling has always been my forte, but this ga...</td>\n",
       "      <td>5</td>\n",
       "    </tr>\n",
       "    <tr>\n",
       "      <th>1911804</th>\n",
       "      <td>One of my favorites. Keeps me young in thought.</td>\n",
       "      <td>5</td>\n",
       "    </tr>\n",
       "  </tbody>\n",
       "</table>\n",
       "<p>1911342 rows × 2 columns</p>\n",
       "</div>"
      ],
      "text/plain": [
       "                                                   content  score\n",
       "0        It is an amazing and unique game, really liked...      4\n",
       "1        I really like this game! I would love to see f...      4\n",
       "2        I love the mystery and intrigue that Among Us ...      5\n",
       "3        This game is great, but the more I play, the w...      3\n",
       "4        The game is pretty decent, and i enjoy it most...      4\n",
       "...                                                    ...    ...\n",
       "1911800                                            awesome      5\n",
       "1911801                                     Pretty nice...      4\n",
       "1911802  This app looks great. It's easy to use but wha...      1\n",
       "1911803  Spelling has always been my forte, but this ga...      5\n",
       "1911804    One of my favorites. Keeps me young in thought.      5\n",
       "\n",
       "[1911342 rows x 2 columns]"
      ]
     },
     "execution_count": 26,
     "metadata": {},
     "output_type": "execute_result"
    }
   ],
   "source": [
    "dfreview.dropna(inplace=True)\n",
    "dfreview"
   ]
  },
  {
   "cell_type": "code",
   "execution_count": 27,
   "metadata": {},
   "outputs": [
    {
     "data": {
      "text/plain": [
       "5    983456\n",
       "1    337216\n",
       "4    282761\n",
       "3    180536\n",
       "2    127332\n",
       "0        41\n",
       "Name: score, dtype: int64"
      ]
     },
     "execution_count": 27,
     "metadata": {},
     "output_type": "execute_result"
    }
   ],
   "source": [
    "dfreview['score'].value_counts()"
   ]
  },
  {
   "cell_type": "code",
   "execution_count": 28,
   "metadata": {},
   "outputs": [],
   "source": [
    "dfreview = dfreview[dfreview['score'] != 0]"
   ]
  },
  {
   "cell_type": "code",
   "execution_count": 29,
   "metadata": {
    "scrolled": true
   },
   "outputs": [],
   "source": [
    "count1 = len(dfreview[dfreview['score'] == 1])\n",
    "count2 = len(dfreview[dfreview['score'] == 2])\n",
    "count3 = len(dfreview[dfreview['score'] == 3])\n",
    "count4 = len(dfreview[dfreview['score'] == 4])\n",
    "count5 = len(dfreview[dfreview['score'] == 5])\n",
    "\n",
    "total = count1 + count2 + count3 + count4 + count5"
   ]
  },
  {
   "cell_type": "code",
   "execution_count": 30,
   "metadata": {},
   "outputs": [
    {
     "data": {
      "image/png": "[encoded data removed]",
      "text/plain": [
       "<Figure size 720x720 with 1 Axes>"
      ]
     },
     "metadata": {
      "needs_background": "light"
     },
     "output_type": "display_data"
    }
   ],
   "source": [
    "plt.figure(figsize=(10,10))\n",
    "\n",
    "xaxis = ['1', '2', '3', '4', '5']\n",
    "yaxis = [count1, count2, count3, count4, count5]\n",
    "ax = sns.barplot(xaxis, yaxis)\n",
    "\n",
    "plt.title('% Rating for Top Free and Paid Mobile Games')\n",
    "plt.ylabel('Count', fontsize = 20)\n",
    "plt.xlabel('Rating', fontsize = 20)\n",
    "\n",
    "\n",
    "for p in ax.patches:\n",
    "             ax.annotate(\"%.2f\" % (p.get_height()*100/total)+'%', (p.get_x() + p.get_width() / 2., p.get_height()),\n",
    "                 ha='center', va='center', fontsize=11, color='black', xytext=(0, 20),\n",
    "                 textcoords='offset points')"
   ]
  },
  {
   "cell_type": "code",
   "execution_count": 31,
   "metadata": {},
   "outputs": [],
   "source": [
    "# Separating reviews into their scores.\n",
    "\n",
    "rating1 = dfreview.loc[dfreview['score'] == 1]\n",
    "rating2 = dfreview.loc[dfreview['score'] == 2]\n",
    "rating3 = dfreview.loc[dfreview['score'] == 3]\n",
    "rating4 = dfreview.loc[dfreview['score'] == 4]\n",
    "rating5 = dfreview.loc[dfreview['score'] == 5]"
   ]
  },
  {
   "cell_type": "code",
   "execution_count": 32,
   "metadata": {
    "scrolled": false
   },
   "outputs": [
    {
     "data": {
      "text/html": [
       "<div>\n",
       "<style scoped>\n",
       "    .dataframe tbody tr th:only-of-type {\n",
       "        vertical-align: middle;\n",
       "    }\n",
       "\n",
       "    .dataframe tbody tr th {\n",
       "        vertical-align: top;\n",
       "    }\n",
       "\n",
       "    .dataframe thead th {\n",
       "        text-align: right;\n",
       "    }\n",
       "</style>\n",
       "<table border=\"1\" class=\"dataframe\">\n",
       "  <thead>\n",
       "    <tr style=\"text-align: right;\">\n",
       "      <th></th>\n",
       "      <th>content</th>\n",
       "      <th>score</th>\n",
       "    </tr>\n",
       "  </thead>\n",
       "  <tbody>\n",
       "    <tr>\n",
       "      <th>140</th>\n",
       "      <td>Reliable packet 1 (size=14) was not ack'd afte...</td>\n",
       "      <td>1</td>\n",
       "    </tr>\n",
       "    <tr>\n",
       "      <th>157</th>\n",
       "      <td>I was having great fun playing this game, but ...</td>\n",
       "      <td>1</td>\n",
       "    </tr>\n",
       "  </tbody>\n",
       "</table>\n",
       "</div>"
      ],
      "text/plain": [
       "                                               content  score\n",
       "140  Reliable packet 1 (size=14) was not ack'd afte...      1\n",
       "157  I was having great fun playing this game, but ...      1"
      ]
     },
     "execution_count": 32,
     "metadata": {},
     "output_type": "execute_result"
    }
   ],
   "source": [
    "rating1.head(2)"
   ]
  },
  {
   "cell_type": "code",
   "execution_count": 33,
   "metadata": {},
   "outputs": [
    {
     "data": {
      "text/html": [
       "<div>\n",
       "<style scoped>\n",
       "    .dataframe tbody tr th:only-of-type {\n",
       "        vertical-align: middle;\n",
       "    }\n",
       "\n",
       "    .dataframe tbody tr th {\n",
       "        vertical-align: top;\n",
       "    }\n",
       "\n",
       "    .dataframe thead th {\n",
       "        text-align: right;\n",
       "    }\n",
       "</style>\n",
       "<table border=\"1\" class=\"dataframe\">\n",
       "  <thead>\n",
       "    <tr style=\"text-align: right;\">\n",
       "      <th></th>\n",
       "      <th>content</th>\n",
       "      <th>score</th>\n",
       "    </tr>\n",
       "  </thead>\n",
       "  <tbody>\n",
       "    <tr>\n",
       "      <th>16</th>\n",
       "      <td>Thia should have been fun if bugs will be fixe...</td>\n",
       "      <td>2</td>\n",
       "    </tr>\n",
       "    <tr>\n",
       "      <th>75</th>\n",
       "      <td>This Game is so fun and enjoyable! I would pla...</td>\n",
       "      <td>2</td>\n",
       "    </tr>\n",
       "  </tbody>\n",
       "</table>\n",
       "</div>"
      ],
      "text/plain": [
       "                                              content  score\n",
       "16  Thia should have been fun if bugs will be fixe...      2\n",
       "75  This Game is so fun and enjoyable! I would pla...      2"
      ]
     },
     "execution_count": 33,
     "metadata": {},
     "output_type": "execute_result"
    }
   ],
   "source": [
    "rating2.head(2)"
   ]
  },
  {
   "cell_type": "code",
   "execution_count": 34,
   "metadata": {},
   "outputs": [
    {
     "data": {
      "text/html": [
       "<div>\n",
       "<style scoped>\n",
       "    .dataframe tbody tr th:only-of-type {\n",
       "        vertical-align: middle;\n",
       "    }\n",
       "\n",
       "    .dataframe tbody tr th {\n",
       "        vertical-align: top;\n",
       "    }\n",
       "\n",
       "    .dataframe thead th {\n",
       "        text-align: right;\n",
       "    }\n",
       "</style>\n",
       "<table border=\"1\" class=\"dataframe\">\n",
       "  <thead>\n",
       "    <tr style=\"text-align: right;\">\n",
       "      <th></th>\n",
       "      <th>content</th>\n",
       "      <th>score</th>\n",
       "    </tr>\n",
       "  </thead>\n",
       "  <tbody>\n",
       "    <tr>\n",
       "      <th>3</th>\n",
       "      <td>This game is great, but the more I play, the w...</td>\n",
       "      <td>3</td>\n",
       "    </tr>\n",
       "    <tr>\n",
       "      <th>5</th>\n",
       "      <td>I think the game is really fun, but I do have ...</td>\n",
       "      <td>3</td>\n",
       "    </tr>\n",
       "  </tbody>\n",
       "</table>\n",
       "</div>"
      ],
      "text/plain": [
       "                                             content  score\n",
       "3  This game is great, but the more I play, the w...      3\n",
       "5  I think the game is really fun, but I do have ...      3"
      ]
     },
     "execution_count": 34,
     "metadata": {},
     "output_type": "execute_result"
    }
   ],
   "source": [
    "rating3.head(2)"
   ]
  },
  {
   "cell_type": "code",
   "execution_count": 35,
   "metadata": {},
   "outputs": [
    {
     "data": {
      "text/html": [
       "<div>\n",
       "<style scoped>\n",
       "    .dataframe tbody tr th:only-of-type {\n",
       "        vertical-align: middle;\n",
       "    }\n",
       "\n",
       "    .dataframe tbody tr th {\n",
       "        vertical-align: top;\n",
       "    }\n",
       "\n",
       "    .dataframe thead th {\n",
       "        text-align: right;\n",
       "    }\n",
       "</style>\n",
       "<table border=\"1\" class=\"dataframe\">\n",
       "  <thead>\n",
       "    <tr style=\"text-align: right;\">\n",
       "      <th></th>\n",
       "      <th>content</th>\n",
       "      <th>score</th>\n",
       "    </tr>\n",
       "  </thead>\n",
       "  <tbody>\n",
       "    <tr>\n",
       "      <th>0</th>\n",
       "      <td>It is an amazing and unique game, really liked...</td>\n",
       "      <td>4</td>\n",
       "    </tr>\n",
       "    <tr>\n",
       "      <th>1</th>\n",
       "      <td>I really like this game! I would love to see f...</td>\n",
       "      <td>4</td>\n",
       "    </tr>\n",
       "  </tbody>\n",
       "</table>\n",
       "</div>"
      ],
      "text/plain": [
       "                                             content  score\n",
       "0  It is an amazing and unique game, really liked...      4\n",
       "1  I really like this game! I would love to see f...      4"
      ]
     },
     "execution_count": 35,
     "metadata": {},
     "output_type": "execute_result"
    }
   ],
   "source": [
    "rating4.head(2)"
   ]
  },
  {
   "cell_type": "code",
   "execution_count": 36,
   "metadata": {},
   "outputs": [
    {
     "data": {
      "text/html": [
       "<div>\n",
       "<style scoped>\n",
       "    .dataframe tbody tr th:only-of-type {\n",
       "        vertical-align: middle;\n",
       "    }\n",
       "\n",
       "    .dataframe tbody tr th {\n",
       "        vertical-align: top;\n",
       "    }\n",
       "\n",
       "    .dataframe thead th {\n",
       "        text-align: right;\n",
       "    }\n",
       "</style>\n",
       "<table border=\"1\" class=\"dataframe\">\n",
       "  <thead>\n",
       "    <tr style=\"text-align: right;\">\n",
       "      <th></th>\n",
       "      <th>content</th>\n",
       "      <th>score</th>\n",
       "    </tr>\n",
       "  </thead>\n",
       "  <tbody>\n",
       "    <tr>\n",
       "      <th>2</th>\n",
       "      <td>I love the mystery and intrigue that Among Us ...</td>\n",
       "      <td>5</td>\n",
       "    </tr>\n",
       "    <tr>\n",
       "      <th>7</th>\n",
       "      <td>The game is a great and fun game that I would ...</td>\n",
       "      <td>5</td>\n",
       "    </tr>\n",
       "  </tbody>\n",
       "</table>\n",
       "</div>"
      ],
      "text/plain": [
       "                                             content  score\n",
       "2  I love the mystery and intrigue that Among Us ...      5\n",
       "7  The game is a great and fun game that I would ...      5"
      ]
     },
     "execution_count": 36,
     "metadata": {},
     "output_type": "execute_result"
    }
   ],
   "source": [
    "rating5.head(2)"
   ]
  },
  {
   "cell_type": "markdown",
   "metadata": {},
   "source": [
    "### Tokenizing"
   ]
  },
  {
   "cell_type": "code",
   "execution_count": 37,
   "metadata": {},
   "outputs": [],
   "source": [
    "# Turning dataframe of text into list for tokenizing.\n",
    "\n",
    "rating1text = list(rating1['content'])\n",
    "rating2text = list(rating2['content'])\n",
    "rating3text = list(rating3['content'])\n",
    "rating4text = list(rating4['content'])\n",
    "rating5text = list(rating5['content'])"
   ]
  },
  {
   "cell_type": "code",
   "execution_count": 38,
   "metadata": {},
   "outputs": [],
   "source": [
    "# Remove common words\n",
    "stopwords_list = stopwords.words('english') + list(string.punctuation)\n",
    "# Remove more punctuation\n",
    "stopwords_list += [\"''\", '\"\"', '...', '``']\n",
    "# Remove random numerals\n",
    "stopwords_list += ['0', '1', '2', '3', '4', '5', '6', '7', '8', '9']\n",
    "# Remove contractions\n",
    "stopwords_list += [\"'d\", \"'ve\", \"'nt\",  \"'t\", \"'re\", \"'ll\", \"'s\"]"
   ]
  },
  {
   "cell_type": "code",
   "execution_count": 39,
   "metadata": {},
   "outputs": [],
   "source": [
    "def process_reviews(reviews):\n",
    "    tokens = nltk.word_tokenize(reviews)\n",
    "    stopwords_removed = [token.lower() for token in tokens if token.lower() not in stopwords_list]\n",
    "    return stopwords_removed    "
   ]
  },
  {
   "cell_type": "code",
   "execution_count": 40,
   "metadata": {},
   "outputs": [],
   "source": [
    "# Testing if this function works\n",
    "# It takes about 25 minutes to run 5 ratings.\n",
    "\n",
    "#processedreviewrating1 = [item for sublist in list(map(process_reviews, rating1text)) for item in sublist]\n",
    "#processedreviewrating2 = [item for sublist in list(map(process_reviews, rating2text)) for item in sublist]\n",
    "#processedreviewrating3 = [item for sublist in list(map(process_reviews, rating3text)) for item in sublist]\n",
    "#processedreviewrating4 = [item for sublist in list(map(process_reviews, rating4text)) for item in sublist]\n",
    "#processedreviewrating5 = [item for sublist in list(map(process_reviews, rating5text)) for item in sublist]"
   ]
  },
  {
   "cell_type": "code",
   "execution_count": 41,
   "metadata": {},
   "outputs": [],
   "source": [
    "# Saving tokens into a sub-folder in for tidiness.\n",
    "\n",
    "from pathlib import Path\n",
    "\n",
    "root = Path('.')\n",
    "\n",
    "my_path1 = root / \"tokens\" / \"processedreviewrating1.pbz2\"\n",
    "my_path2 = root / \"tokens\" / \"processedreviewrating2.pbz2\"\n",
    "my_path3 = root / \"tokens\" / \"processedreviewrating3.pbz2\"\n",
    "my_path4 = root / \"tokens\" / \"processedreviewrating4.pbz2\"\n",
    "my_path5 = root / \"tokens\" / \"processedreviewrating5.pbz2\"\n",
    "\n",
    "import bz2\n",
    "\n",
    "def compressed_pickle(path, data):\n",
    "    with bz2.BZ2File(path, 'w') as f:\n",
    "        pickle.dump(data, f)\n",
    "\n",
    "#compressed_pickle(my_path1, processedreviewrating1)\n",
    "#compressed_pickle(my_path2, processedreviewrating2)\n",
    "#compressed_pickle(my_path3, processedreviewrating3)\n",
    "#compressed_pickle(my_path4, processedreviewrating4)\n",
    "#compressed_pickle(my_path5, processedreviewrating5)"
   ]
  },
  {
   "cell_type": "code",
   "execution_count": 42,
   "metadata": {},
   "outputs": [],
   "source": [
    "# Retrieve our pickled lists\n",
    "\n",
    "processedreviewrating1 = decompress_pickle(my_path1)\n",
    "processedreviewrating2 = decompress_pickle(my_path2)\n",
    "processedreviewrating3 = decompress_pickle(my_path3)\n",
    "processedreviewrating4 = decompress_pickle(my_path4)\n",
    "processedreviewrating5 = decompress_pickle(my_path5)"
   ]
  },
  {
   "cell_type": "markdown",
   "metadata": {},
   "source": [
    "## Word Frequency in all reviews"
   ]
  },
  {
   "cell_type": "code",
   "execution_count": 43,
   "metadata": {
    "scrolled": true
   },
   "outputs": [
    {
     "data": {
      "text/plain": [
       "28680268"
      ]
     },
     "execution_count": 43,
     "metadata": {},
     "output_type": "execute_result"
    }
   ],
   "source": [
    "# 28.6 million words total.\n",
    "\n",
    "totalprocessedreviews = processedreviewrating1 + processedreviewrating2 + processedreviewrating3 + processedreviewrating4 + processedreviewrating5\n",
    "len(totalprocessedreviews)"
   ]
  },
  {
   "cell_type": "code",
   "execution_count": 44,
   "metadata": {},
   "outputs": [
    {
     "data": {
      "text/plain": [
       "28263781"
      ]
     },
     "execution_count": 44,
     "metadata": {},
     "output_type": "execute_result"
    }
   ],
   "source": [
    "#### Temporary fix, missed n't\n",
    "\n",
    "totalprocessedreviews[:] = [x for x in totalprocessedreviews if x != \"n't\"]\n",
    "len(totalprocessedreviews)"
   ]
  },
  {
   "cell_type": "code",
   "execution_count": 45,
   "metadata": {
    "scrolled": true
   },
   "outputs": [
    {
     "data": {
      "text/plain": [
       "[('game', 1704926),\n",
       " ('like', 389683),\n",
       " ('play', 356489),\n",
       " ('good', 350033),\n",
       " ('fun', 338078),\n",
       " ('love', 322869),\n",
       " ('get', 266032),\n",
       " ('great', 254036),\n",
       " ('really', 229417),\n",
       " ('ads', 220805),\n",
       " ('time', 213082),\n",
       " ('games', 190889),\n",
       " ('one', 182707),\n",
       " ('app', 180805),\n",
       " ('would', 172314),\n",
       " ('playing', 146379),\n",
       " ('much', 141109),\n",
       " ('make', 134001),\n",
       " ('please', 122823),\n",
       " ('even', 122777)]"
      ]
     },
     "execution_count": 45,
     "metadata": {},
     "output_type": "execute_result"
    }
   ],
   "source": [
    "review_freqdist = FreqDist(totalprocessedreviews)\n",
    "review_freqdist.most_common(20)"
   ]
  },
  {
   "cell_type": "code",
   "execution_count": 46,
   "metadata": {},
   "outputs": [
    {
     "data": {
      "image/png": "[encoded data removed]",
      "text/plain": [
       "<Figure size 1296x1008 with 1 Axes>"
      ]
     },
     "metadata": {
      "needs_background": "light"
     },
     "output_type": "display_data"
    }
   ],
   "source": [
    "mostcommonwords20 = review_freqdist.most_common(20)\n",
    "\n",
    "yaxis20 = [val[1] for val in mostcommonwords20]\n",
    "\n",
    "xaxis20 = [val[0] for val in mostcommonwords20]\n",
    "\n",
    "plt.figure(figsize=(18, 14))\n",
    "ax = sns.barplot(xaxis20, yaxis20)\n",
    "plt.title('Top 20 Most Common Words in Mobile Game Reviews', fontsize = 25)\n",
    "plt.ylabel('Frequency of word', fontsize = 20)\n",
    "\n",
    "\n",
    "for p in ax.patches:\n",
    "             ax.annotate(\"%.2f\" % (p.get_height()*100/sum(yaxis20))+'%', (p.get_x() + p.get_width() / 2., p.get_height()),\n",
    "                 ha='center', va='center', fontsize=11, color='black', xytext=(0, 20),\n",
    "                 textcoords='offset points')"
   ]
  },
  {
   "cell_type": "markdown",
   "metadata": {},
   "source": [
    "## Word Frequency in 1 Rating Reviews"
   ]
  },
  {
   "cell_type": "code",
   "execution_count": 47,
   "metadata": {},
   "outputs": [],
   "source": [
    "uselesswords = [\"n't\", 'ca', 'game', 'games', 'play']\n",
    "processedreviewrating1[:] = [x for x in processedreviewrating1 if x not in uselesswords]"
   ]
  },
  {
   "cell_type": "code",
   "execution_count": 48,
   "metadata": {
    "scrolled": true
   },
   "outputs": [
    {
     "data": {
      "text/plain": [
       "[('ads', 82456),\n",
       " ('get', 69512),\n",
       " ('time', 56071),\n",
       " ('like', 49131),\n",
       " ('app', 48675),\n",
       " ('even', 48127),\n",
       " ('money', 44838),\n",
       " ('every', 34624),\n",
       " ('one', 34366),\n",
       " ('many', 34181),\n",
       " ('ad', 33642),\n",
       " ('would', 32083),\n",
       " ('level', 29449),\n",
       " ('good', 29078),\n",
       " ('playing', 28105),\n",
       " ('fix', 24244),\n",
       " ('fun', 23979),\n",
       " ('make', 23329),\n",
       " ('bad', 22991),\n",
       " ('really', 22872)]"
      ]
     },
     "execution_count": 48,
     "metadata": {},
     "output_type": "execute_result"
    }
   ],
   "source": [
    "review1_freqdist = FreqDist(processedreviewrating1)\n",
    "review1_freqdist.most_common(20)"
   ]
  },
  {
   "cell_type": "code",
   "execution_count": 49,
   "metadata": {},
   "outputs": [
    {
     "data": {
      "image/png": "[encoded data removed]",
      "text/plain": [
       "<Figure size 1296x1008 with 1 Axes>"
      ]
     },
     "metadata": {
      "needs_background": "light"
     },
     "output_type": "display_data"
    }
   ],
   "source": [
    "mostcommonwords201 = review1_freqdist.most_common(20)\n",
    "\n",
    "yaxis201 = [val[1] for val in mostcommonwords201]\n",
    "\n",
    "xaxis201 = [val[0] for val in mostcommonwords201]\n",
    "\n",
    "plt.figure(figsize=(18, 14))\n",
    "ax = sns.barplot(xaxis201, yaxis201)\n",
    "plt.title('Top 20 Most Common Words in Mobile Game Reviews for 1 Rating', fontsize = 25)\n",
    "plt.ylabel('Frequency of word', fontsize = 20)\n",
    "\n",
    "\n",
    "for p in ax.patches:\n",
    "             ax.annotate(\"%.2f\" % (p.get_height()*100/sum(yaxis201))+'%', (p.get_x() + p.get_width() / 2., p.get_height()),\n",
    "                 ha='center', va='center', fontsize=11, color='black', xytext=(0, 20),\n",
    "                 textcoords='offset points')"
   ]
  },
  {
   "cell_type": "markdown",
   "metadata": {},
   "source": [
    "## Word Frequency in 2 Rating Reviews"
   ]
  },
  {
   "cell_type": "code",
   "execution_count": 50,
   "metadata": {},
   "outputs": [],
   "source": [
    "processedreviewrating2[:] = [x for x in processedreviewrating2 if x not in uselesswords]"
   ]
  },
  {
   "cell_type": "code",
   "execution_count": 51,
   "metadata": {
    "scrolled": true
   },
   "outputs": [
    {
     "data": {
      "text/plain": [
       "[('ads', 32959),\n",
       " ('get', 30592),\n",
       " ('like', 26389),\n",
       " ('time', 20684),\n",
       " ('good', 20142),\n",
       " ('fun', 19642),\n",
       " ('would', 15733),\n",
       " ('many', 15668),\n",
       " ('even', 15236),\n",
       " ('really', 15094),\n",
       " ('level', 14837),\n",
       " ('app', 14411),\n",
       " ('one', 14264),\n",
       " ('money', 14030),\n",
       " ('every', 14023),\n",
       " ('playing', 12983),\n",
       " ('ad', 12282),\n",
       " ('way', 11957),\n",
       " ('fix', 11366),\n",
       " ('much', 11123)]"
      ]
     },
     "execution_count": 51,
     "metadata": {},
     "output_type": "execute_result"
    }
   ],
   "source": [
    "review2_freqdist = FreqDist(processedreviewrating2)\n",
    "review2_freqdist.most_common(20)"
   ]
  },
  {
   "cell_type": "code",
   "execution_count": 52,
   "metadata": {},
   "outputs": [
    {
     "data": {
      "image/png": "[encoded data removed]",
      "text/plain": [
       "<Figure size 1296x1008 with 1 Axes>"
      ]
     },
     "metadata": {
      "needs_background": "light"
     },
     "output_type": "display_data"
    }
   ],
   "source": [
    "mostcommonwords202 = review2_freqdist.most_common(20)\n",
    "\n",
    "yaxis202 = [val[1] for val in mostcommonwords202]\n",
    "\n",
    "xaxis202 = [val[0] for val in mostcommonwords202]\n",
    "\n",
    "plt.figure(figsize=(18, 14))\n",
    "ax = sns.barplot(xaxis202, yaxis202)\n",
    "plt.title('Top 20 Most Common Words in Mobile Game Reviews for 2 Rating', fontsize = 25)\n",
    "plt.ylabel('Frequency of word', fontsize = 20)\n",
    "\n",
    "\n",
    "for p in ax.patches:\n",
    "             ax.annotate(\"%.2f\" % (p.get_height()*100/sum(yaxis202))+'%', (p.get_x() + p.get_width() / 2., p.get_height()),\n",
    "                 ha='center', va='center', fontsize=11, color='black', xytext=(0, 20),\n",
    "                 textcoords='offset points')"
   ]
  },
  {
   "cell_type": "markdown",
   "metadata": {},
   "source": [
    "## Word Frequency in 3 Rating Reviews"
   ]
  },
  {
   "cell_type": "code",
   "execution_count": 53,
   "metadata": {},
   "outputs": [],
   "source": [
    "processedreviewrating3[:] = [x for x in processedreviewrating3 if x not in uselesswords]"
   ]
  },
  {
   "cell_type": "code",
   "execution_count": 54,
   "metadata": {
    "scrolled": true
   },
   "outputs": [
    {
     "data": {
      "text/plain": [
       "[('like', 44222),\n",
       " ('good', 40270),\n",
       " ('get', 37452),\n",
       " ('fun', 30777),\n",
       " ('ads', 30462),\n",
       " ('would', 25161),\n",
       " ('time', 25072),\n",
       " ('really', 23862),\n",
       " ('one', 19152),\n",
       " ('please', 18789),\n",
       " ('great', 18535),\n",
       " ('many', 17440),\n",
       " ('love', 17120),\n",
       " ('make', 16664),\n",
       " ('also', 16516),\n",
       " ('app', 16506),\n",
       " ('level', 16251),\n",
       " ('playing', 16014),\n",
       " ('fix', 15996),\n",
       " ('much', 14915)]"
      ]
     },
     "execution_count": 54,
     "metadata": {},
     "output_type": "execute_result"
    }
   ],
   "source": [
    "review3_freqdist = FreqDist(processedreviewrating3)\n",
    "review3_freqdist.most_common(20)"
   ]
  },
  {
   "cell_type": "code",
   "execution_count": 55,
   "metadata": {},
   "outputs": [
    {
     "data": {
      "image/png": "[encoded data removed]",
      "text/plain": [
       "<Figure size 1296x1008 with 1 Axes>"
      ]
     },
     "metadata": {
      "needs_background": "light"
     },
     "output_type": "display_data"
    }
   ],
   "source": [
    "mostcommonwords203 = review3_freqdist.most_common(20)\n",
    "\n",
    "yaxis203 = [val[1] for val in mostcommonwords203]\n",
    "\n",
    "xaxis203 = [val[0] for val in mostcommonwords203]\n",
    "\n",
    "plt.figure(figsize=(18, 14))\n",
    "ax = sns.barplot(xaxis203, yaxis203)\n",
    "plt.title('Top 20 Most Common Words in Mobile Game Reviews for 3 Rating', fontsize = 25)\n",
    "plt.ylabel('Frequency of word', fontsize = 20)\n",
    "\n",
    "\n",
    "for p in ax.patches:\n",
    "             ax.annotate(\"%.2f\" % (p.get_height()*100/sum(yaxis203))+'%', (p.get_x() + p.get_width() / 2., p.get_height()),\n",
    "                 ha='center', va='center', fontsize=11, color='black', xytext=(0, 20),\n",
    "                 textcoords='offset points')"
   ]
  },
  {
   "cell_type": "markdown",
   "metadata": {},
   "source": [
    "## Word Frequency in 4 Rating Reviews"
   ]
  },
  {
   "cell_type": "code",
   "execution_count": 56,
   "metadata": {},
   "outputs": [],
   "source": [
    "processedreviewrating4[:] = [x for x in processedreviewrating4 if x not in uselesswords]"
   ]
  },
  {
   "cell_type": "code",
   "execution_count": 57,
   "metadata": {
    "scrolled": true
   },
   "outputs": [
    {
     "data": {
      "text/plain": [
       "[('good', 74981),\n",
       " ('like', 74267),\n",
       " ('fun', 59841),\n",
       " ('great', 47907),\n",
       " ('love', 43910),\n",
       " ('really', 43549),\n",
       " ('get', 43236),\n",
       " ('would', 41504),\n",
       " ('time', 32062),\n",
       " ('one', 30419),\n",
       " ('ads', 29847),\n",
       " ('please', 25045),\n",
       " ('make', 24957),\n",
       " ('app', 22969),\n",
       " ('also', 22484),\n",
       " ('stars', 21781),\n",
       " ('nice', 21368),\n",
       " ('could', 20961),\n",
       " ('playing', 20454),\n",
       " ('much', 19832)]"
      ]
     },
     "execution_count": 57,
     "metadata": {},
     "output_type": "execute_result"
    }
   ],
   "source": [
    "review4_freqdist = FreqDist(processedreviewrating4)\n",
    "review4_freqdist.most_common(20)"
   ]
  },
  {
   "cell_type": "code",
   "execution_count": 58,
   "metadata": {},
   "outputs": [
    {
     "data": {
      "image/png": "[encoded data removed]",
      "text/plain": [
       "<Figure size 1296x1008 with 1 Axes>"
      ]
     },
     "metadata": {
      "needs_background": "light"
     },
     "output_type": "display_data"
    }
   ],
   "source": [
    "mostcommonwords204 = review4_freqdist.most_common(20)\n",
    "\n",
    "yaxis204 = [val[1] for val in mostcommonwords204]\n",
    "\n",
    "xaxis204 = [val[0] for val in mostcommonwords204]\n",
    "\n",
    "plt.figure(figsize=(18, 14))\n",
    "ax = sns.barplot(xaxis204, yaxis204)\n",
    "plt.title('Top 20 Most Common Words in Mobile Game Reviews for 4 Rating', fontsize = 25)\n",
    "plt.ylabel('Frequency of word', fontsize = 20)\n",
    "\n",
    "\n",
    "for p in ax.patches:\n",
    "             ax.annotate(\"%.2f\" % (p.get_height()*100/sum(yaxis204))+'%', (p.get_x() + p.get_width() / 2., p.get_height()),\n",
    "                 ha='center', va='center', fontsize=11, color='black', xytext=(0, 20),\n",
    "                 textcoords='offset points')"
   ]
  },
  {
   "cell_type": "markdown",
   "metadata": {},
   "source": [
    "## Word Frequency in 5 Rating Reviews"
   ]
  },
  {
   "cell_type": "code",
   "execution_count": 59,
   "metadata": {},
   "outputs": [],
   "source": [
    "processedreviewrating5[:] = [x for x in processedreviewrating5 if x not in uselesswords]"
   ]
  },
  {
   "cell_type": "code",
   "execution_count": 60,
   "metadata": {
    "scrolled": true
   },
   "outputs": [
    {
     "data": {
      "text/plain": [
       "[('love', 242683),\n",
       " ('fun', 203839),\n",
       " ('like', 195674),\n",
       " ('good', 185562),\n",
       " ('great', 166033),\n",
       " ('really', 124040),\n",
       " ('best', 96956),\n",
       " ('get', 85240),\n",
       " ('one', 84506),\n",
       " ('time', 79193),\n",
       " ('app', 78244),\n",
       " ('much', 75309),\n",
       " ('amazing', 71555),\n",
       " ('playing', 68823),\n",
       " ('nice', 65810),\n",
       " ('graphics', 58889),\n",
       " ('make', 57940),\n",
       " ('would', 57833),\n",
       " ('awesome', 57312),\n",
       " ('also', 50185)]"
      ]
     },
     "execution_count": 60,
     "metadata": {},
     "output_type": "execute_result"
    }
   ],
   "source": [
    "review5_freqdist = FreqDist(processedreviewrating5)\n",
    "review5_freqdist.most_common(20)"
   ]
  },
  {
   "cell_type": "code",
   "execution_count": 61,
   "metadata": {},
   "outputs": [
    {
     "data": {
      "image/png": "[encoded data removed]",
      "text/plain": [
       "<Figure size 1296x1008 with 1 Axes>"
      ]
     },
     "metadata": {
      "needs_background": "light"
     },
     "output_type": "display_data"
    }
   ],
   "source": [
    "mostcommonwords205 = review5_freqdist.most_common(20)\n",
    "\n",
    "yaxis205 = [val[1] for val in mostcommonwords205]\n",
    "\n",
    "xaxis205 = [val[0] for val in mostcommonwords205]\n",
    "\n",
    "plt.figure(figsize=(18, 14))\n",
    "ax = sns.barplot(xaxis205, yaxis205)\n",
    "plt.title('Top 20 Most Common Words in Mobile Game Reviews for 5 Rating', fontsize = 25)\n",
    "plt.ylabel('Frequency of word', fontsize = 20)\n",
    "\n",
    "\n",
    "for p in ax.patches:\n",
    "             ax.annotate(\"%.2f\" % (p.get_height()*100/sum(yaxis205))+'%', (p.get_x() + p.get_width() / 2., p.get_height()),\n",
    "                 ha='center', va='center', fontsize=11, color='black', xytext=(0, 20),\n",
    "                 textcoords='offset points')"
   ]
  },
  {
   "cell_type": "markdown",
   "metadata": {},
   "source": [
    "# Bi-grams/Tri-grams"
   ]
  },
  {
   "cell_type": "code",
   "execution_count": 62,
   "metadata": {},
   "outputs": [],
   "source": [
    "# One without removing any common words to see common n-grams.\n",
    "\n",
    "def n_gramall(df_col, n=None):\n",
    "    # Build the vectorizer, specify inputted n-gram, remove stop words\n",
    "    vect = CountVectorizer(ngram_range = (n,n), stop_words = gramstopwords_list, min_df = 10)\n",
    "    # fit/transform vectorizer on specified column\n",
    "    vect_fit = vect.fit_transform(df_col.values.astype('U'))\n",
    "    # get all words and store in a list\n",
    "    word_list = vect.get_feature_names()\n",
    "    # get a count of all the words\n",
    "    count_list = vect_fit.toarray().sum(axis=0)\n",
    "    #create a dictionary of word to count pairings\n",
    "    count_dict = dict(zip(word_list, count_list))\n",
    "    # sort the dictionary to show highest counted words on top\n",
    "    sort_vocab = sorted(count_dict.items(), key=lambda x: x[1], reverse=True)\n",
    "    return sort_vocab\n",
    "\n",
    "\n",
    "# One with removing common words to see if any more notable n-grams show up.\n",
    "\n",
    "def n_gram(df_col, n=None):\n",
    "\n",
    "    vect = CountVectorizer(ngram_range = (n,n), stop_words = stopwords_list, min_df = 10)\n",
    "\n",
    "    vect_fit = vect.fit_transform(df_col.values.astype('U'))\n",
    "\n",
    "    word_list = vect.get_feature_names()\n",
    "\n",
    "    count_list = vect_fit.toarray().sum(axis=0)\n",
    "\n",
    "    count_dict = dict(zip(word_list, count_list))\n",
    "\n",
    "    sort_vocab = sorted(count_dict.items(), key=lambda x: x[1], reverse=True)\n",
    "    return sort_vocab"
   ]
  },
  {
   "cell_type": "code",
   "execution_count": 84,
   "metadata": {},
   "outputs": [],
   "source": [
    "gramstopwords_list = stopwords.words('english') + list(string.punctuation)\n",
    "gramstopwords_list += [\"''\", '\"\"', '...', '``']\n",
    "\n",
    "stopwords_list += uselesswords"
   ]
  },
  {
   "cell_type": "code",
   "execution_count": 80,
   "metadata": {},
   "outputs": [
    {
     "data": {
      "text/plain": [
       "0          It is an amazing and unique game, really liked...\n",
       "1          I really like this game! I would love to see f...\n",
       "2          I love the mystery and intrigue that Among Us ...\n",
       "3          This game is great, but the more I play, the w...\n",
       "4          The game is pretty decent, and i enjoy it most...\n",
       "                                 ...                        \n",
       "1911800                                              awesome\n",
       "1911801                                       Pretty nice...\n",
       "1911802    This app looks great. It's easy to use but wha...\n",
       "1911803    Spelling has always been my forte, but this ga...\n",
       "1911804      One of my favorites. Keeps me young in thought.\n",
       "Name: content, Length: 1911301, dtype: object"
      ]
     },
     "execution_count": 80,
     "metadata": {},
     "output_type": "execute_result"
    }
   ],
   "source": [
    "dftotalreview = dfreview['content']\n",
    "dftotalreview"
   ]
  },
  {
   "cell_type": "code",
   "execution_count": 81,
   "metadata": {},
   "outputs": [
    {
     "data": {
      "text/plain": [
       "[('love game', 2958),\n",
       " ('good game', 2440),\n",
       " ('great game', 2229),\n",
       " ('like game', 1505),\n",
       " ('fun game', 1312),\n",
       " ('play game', 1166),\n",
       " ('game play', 1081),\n",
       " ('many ads', 1034),\n",
       " ('game good', 941),\n",
       " ('game ever', 859),\n",
       " ('game fun', 837),\n",
       " ('nice game', 823),\n",
       " ('best game', 817),\n",
       " ('game like', 809),\n",
       " ('game really', 796),\n",
       " ('playing game', 775),\n",
       " ('please fix', 739),\n",
       " ('game much', 654),\n",
       " ('game great', 624),\n",
       " ('really fun', 621)]"
      ]
     },
     "execution_count": 81,
     "metadata": {},
     "output_type": "execute_result"
    }
   ],
   "source": [
    "bigramall = n_gramall(dftotalreview.sample(50000), n=2)\n",
    "bigramall[:20]"
   ]
  },
  {
   "cell_type": "code",
   "execution_count": 82,
   "metadata": {},
   "outputs": [
    {
     "data": {
      "text/plain": [
       "[('best game ever', 376),\n",
       " ('really like game', 272),\n",
       " ('love game much', 232),\n",
       " ('game ever played', 213),\n",
       " ('really good game', 206),\n",
       " ('way many ads', 206),\n",
       " ('keep good work', 184),\n",
       " ('really love game', 153),\n",
       " ('like game much', 150),\n",
       " ('really fun game', 140),\n",
       " ('game really fun', 134),\n",
       " ('game many ads', 112),\n",
       " ('fun game play', 103),\n",
       " ('worst game ever', 101),\n",
       " ('game fun play', 100),\n",
       " ('absolutely love game', 96),\n",
       " ('really enjoy game', 88),\n",
       " ('game really good', 87),\n",
       " ('one best games', 87),\n",
       " ('game much fun', 84)]"
      ]
     },
     "execution_count": 82,
     "metadata": {},
     "output_type": "execute_result"
    }
   ],
   "source": [
    "trigramall = n_gramall(dftotalreview.sample(50000), n=3)\n",
    "trigramall[:20]"
   ]
  },
  {
   "cell_type": "code",
   "execution_count": 85,
   "metadata": {},
   "outputs": [
    {
     "name": "stderr",
     "output_type": "stream",
     "text": [
      "/opt/anaconda3/lib/python3.7/site-packages/sklearn/feature_extraction/text.py:386: UserWarning: Your stop_words may be inconsistent with your preprocessing. Tokenizing the stop words generated tokens ['nt'] not in stop_words.\n",
      "  'stop_words.' % sorted(inconsistent))\n"
     ]
    },
    {
     "data": {
      "text/plain": [
       "[('many ads', 1038),\n",
       " ('please fix', 845),\n",
       " ('really good', 629),\n",
       " ('really fun', 620),\n",
       " ('really like', 607),\n",
       " ('every time', 540),\n",
       " ('best ever', 441),\n",
       " ('love much', 414),\n",
       " ('give stars', 409),\n",
       " ('one best', 406),\n",
       " ('would like', 396),\n",
       " ('waste time', 388),\n",
       " ('ever played', 346),\n",
       " ('much fun', 331),\n",
       " ('like much', 329),\n",
       " ('way many', 321),\n",
       " ('good graphics', 316),\n",
       " ('love app', 316),\n",
       " ('pretty good', 316),\n",
       " ('please add', 293)]"
      ]
     },
     "execution_count": 85,
     "metadata": {},
     "output_type": "execute_result"
    }
   ],
   "source": [
    "bigram = n_gram(dftotalreview.sample(50000), n=2)\n",
    "bigram[:20]"
   ]
  },
  {
   "cell_type": "code",
   "execution_count": 87,
   "metadata": {},
   "outputs": [
    {
     "data": {
      "text/plain": [
       "[('way many ads', 200),\n",
       " ('keep good work', 175),\n",
       " ('best ever played', 111),\n",
       " ('please please please', 89),\n",
       " ('ads ads ads', 76),\n",
       " ('would give stars', 75),\n",
       " ('way pass time', 74),\n",
       " ('give five stars', 68),\n",
       " ('great time killer', 65),\n",
       " ('would like see', 63),\n",
       " ('please fix problem', 61),\n",
       " ('love love love', 56),\n",
       " ('really really really', 50),\n",
       " ('really enjoy playing', 49),\n",
       " ('every single time', 44),\n",
       " ('one best ever', 44),\n",
       " ('want money back', 44),\n",
       " ('every time try', 43),\n",
       " ('spend real money', 41),\n",
       " ('30 second ad', 40)]"
      ]
     },
     "execution_count": 87,
     "metadata": {},
     "output_type": "execute_result"
    }
   ],
   "source": [
    "trigram = n_gram(dftotalreview.sample(50000), n=3)\n",
    "trigram[:20]"
   ]
  },
  {
   "cell_type": "markdown",
   "metadata": {},
   "source": [
    "# Bigrams/Trigrams for Ratings"
   ]
  },
  {
   "cell_type": "markdown",
   "metadata": {},
   "source": [
    "### Rating 1"
   ]
  },
  {
   "cell_type": "code",
   "execution_count": 88,
   "metadata": {},
   "outputs": [
    {
     "data": {
      "text/plain": [
       "[('many ads', 2404),\n",
       " ('waste time', 1700),\n",
       " ('every time', 1208),\n",
       " ('please fix', 1208),\n",
       " ('way many', 760),\n",
       " ('worst ever', 637),\n",
       " ('one star', 634),\n",
       " ('ads every', 630),\n",
       " ('ads ads', 587),\n",
       " ('spend money', 504),\n",
       " ('ad every', 500),\n",
       " ('watch ad', 496),\n",
       " ('every level', 469),\n",
       " ('pay win', 467),\n",
       " ('every single', 460),\n",
       " ('watch ads', 460),\n",
       " ('even get', 447),\n",
       " ('real money', 444),\n",
       " ('money back', 414),\n",
       " ('waste money', 394)]"
      ]
     },
     "execution_count": 88,
     "metadata": {},
     "output_type": "execute_result"
    }
   ],
   "source": [
    "bigram1 = n_gram(rating1['content'].sample(50000), n=2)\n",
    "bigram1[:20]"
   ]
  },
  {
   "cell_type": "code",
   "execution_count": 89,
   "metadata": {},
   "outputs": [
    {
     "data": {
      "text/plain": [
       "[('way many ads', 559),\n",
       " ('ads ads ads', 225),\n",
       " ('want money back', 163),\n",
       " ('dont waste time', 139),\n",
       " ('time watching ads', 137),\n",
       " ('worst ever played', 135),\n",
       " ('30 second ad', 133),\n",
       " ('every single time', 128),\n",
       " ('every time try', 125),\n",
       " ('give one star', 122),\n",
       " ('waste time money', 122),\n",
       " ('spend time watching', 99),\n",
       " ('ads every level', 94),\n",
       " ('spend real money', 94),\n",
       " ('watching ads playing', 91),\n",
       " ('ad every level', 90),\n",
       " ('give zero stars', 90),\n",
       " ('would give stars', 86),\n",
       " ('30 second ads', 81),\n",
       " ('every single level', 81)]"
      ]
     },
     "execution_count": 89,
     "metadata": {},
     "output_type": "execute_result"
    }
   ],
   "source": [
    "trigram1 = n_gram(rating1['content'].sample(50000), n=3)\n",
    "trigram1[:20]"
   ]
  },
  {
   "cell_type": "markdown",
   "metadata": {},
   "source": [
    "## Rating 2"
   ]
  },
  {
   "cell_type": "code",
   "execution_count": 90,
   "metadata": {},
   "outputs": [
    {
     "data": {
      "text/plain": [
       "[('many ads', 2703),\n",
       " ('please fix', 1726),\n",
       " ('every time', 1303),\n",
       " ('way many', 1023),\n",
       " ('watch ad', 690),\n",
       " ('ads every', 635),\n",
       " ('give stars', 556),\n",
       " ('spend money', 554),\n",
       " ('every level', 550),\n",
       " ('ad every', 530),\n",
       " ('pay win', 524),\n",
       " ('real money', 494),\n",
       " ('every single', 482),\n",
       " ('waste time', 468),\n",
       " ('watch ads', 454),\n",
       " ('really like', 418),\n",
       " ('watching ads', 417),\n",
       " ('even though', 405),\n",
       " ('really fun', 370),\n",
       " ('ads ads', 364)]"
      ]
     },
     "execution_count": 90,
     "metadata": {},
     "output_type": "execute_result"
    }
   ],
   "source": [
    "bigram2 = n_gram(rating2['content'].sample(50000), n=2)\n",
    "bigram2[:20]"
   ]
  },
  {
   "cell_type": "code",
   "execution_count": 91,
   "metadata": {},
   "outputs": [
    {
     "data": {
      "text/plain": [
       "[('way many ads', 738),\n",
       " ('time watching ads', 143),\n",
       " ('ads ads ads', 137),\n",
       " ('30 second ad', 128),\n",
       " ('would give stars', 126),\n",
       " ('ad every level', 112),\n",
       " ('every single time', 112),\n",
       " ('fun way many', 108),\n",
       " ('every single level', 107),\n",
       " ('ads every level', 104),\n",
       " ('30 second ads', 97),\n",
       " ('watching ads playing', 96),\n",
       " ('every time try', 93),\n",
       " ('spend time watching', 93),\n",
       " ('spend real money', 85),\n",
       " ('fun many ads', 83),\n",
       " ('ad every single', 82),\n",
       " ('please fix problem', 82),\n",
       " ('way many adds', 76),\n",
       " ('get rid ads', 75)]"
      ]
     },
     "execution_count": 91,
     "metadata": {},
     "output_type": "execute_result"
    }
   ],
   "source": [
    "trigram2 = n_gram(rating2['content'].sample(50000), n=3)\n",
    "trigram2[:20]"
   ]
  },
  {
   "cell_type": "markdown",
   "metadata": {},
   "source": [
    "## Rating 3"
   ]
  },
  {
   "cell_type": "code",
   "execution_count": 92,
   "metadata": {},
   "outputs": [
    {
     "data": {
      "text/plain": [
       "[('please fix', 1889),\n",
       " ('many ads', 1855),\n",
       " ('every time', 944),\n",
       " ('give stars', 879),\n",
       " ('really like', 631),\n",
       " ('way many', 631),\n",
       " ('pretty good', 518),\n",
       " ('really fun', 518),\n",
       " ('really good', 514),\n",
       " ('would give', 460),\n",
       " ('would like', 433),\n",
       " ('even though', 406),\n",
       " ('real money', 393),\n",
       " ('please make', 381),\n",
       " ('please add', 374),\n",
       " ('spend money', 361),\n",
       " ('watch ad', 355),\n",
       " ('feel like', 352),\n",
       " ('three stars', 351),\n",
       " ('long time', 349)]"
      ]
     },
     "execution_count": 92,
     "metadata": {},
     "output_type": "execute_result"
    }
   ],
   "source": [
    "bigram3 = n_gram(rating3['content'].sample(50000), n=2)\n",
    "bigram3[:20]"
   ]
  },
  {
   "cell_type": "code",
   "execution_count": 93,
   "metadata": {},
   "outputs": [
    {
     "data": {
      "text/plain": [
       "[('way many ads', 407),\n",
       " ('would give stars', 208),\n",
       " ('please fix problem', 117),\n",
       " ('takes long time', 100),\n",
       " ('give three stars', 86),\n",
       " ('please fix bug', 84),\n",
       " ('fun many ads', 82),\n",
       " ('would given stars', 82),\n",
       " ('every single time', 81),\n",
       " ('give five stars', 80),\n",
       " ('good many ads', 78),\n",
       " ('please fix issue', 76),\n",
       " ('every time try', 74),\n",
       " ('get rid ads', 71),\n",
       " ('gave three stars', 69),\n",
       " ('way many adds', 69),\n",
       " ('would like see', 69),\n",
       " ('ads ads ads', 66),\n",
       " ('fun way many', 64),\n",
       " ('would give star', 64)]"
      ]
     },
     "execution_count": 93,
     "metadata": {},
     "output_type": "execute_result"
    }
   ],
   "source": [
    "trigram3 = n_gram(rating3['content'].sample(50000), n=3)\n",
    "trigram3[:20]"
   ]
  },
  {
   "cell_type": "markdown",
   "metadata": {},
   "source": [
    "# Rating 4"
   ]
  },
  {
   "cell_type": "code",
   "execution_count": 94,
   "metadata": {},
   "outputs": [
    {
     "data": {
      "text/plain": [
       "[('please fix', 1183),\n",
       " ('many ads', 1058),\n",
       " ('really fun', 991),\n",
       " ('really good', 970),\n",
       " ('really like', 898),\n",
       " ('give stars', 835),\n",
       " ('pretty good', 755),\n",
       " ('would like', 687),\n",
       " ('please add', 520),\n",
       " ('one thing', 515),\n",
       " ('every time', 490),\n",
       " ('would give', 480),\n",
       " ('would nice', 439),\n",
       " ('wish could', 434),\n",
       " ('please make', 413),\n",
       " ('pass time', 370),\n",
       " ('really enjoy', 365),\n",
       " ('good graphics', 347),\n",
       " ('four stars', 343),\n",
       " ('one problem', 330)]"
      ]
     },
     "execution_count": 94,
     "metadata": {},
     "output_type": "execute_result"
    }
   ],
   "source": [
    "bigram4 = n_gram(rating4['content'].sample(50000), n=2)\n",
    "bigram4[:20]"
   ]
  },
  {
   "cell_type": "code",
   "execution_count": 95,
   "metadata": {},
   "outputs": [
    {
     "data": {
      "text/plain": [
       "[('would give stars', 225),\n",
       " ('would like see', 172),\n",
       " ('keep good work', 171),\n",
       " ('give five stars', 134),\n",
       " ('way many ads', 123),\n",
       " ('way pass time', 104),\n",
       " ('gave four stars', 97),\n",
       " ('would given stars', 92),\n",
       " ('reason gave stars', 89),\n",
       " ('would love see', 86),\n",
       " ('great time killer', 84),\n",
       " ('would give five', 79),\n",
       " ('takes long time', 66),\n",
       " ('would give star', 66),\n",
       " ('good many ads', 65),\n",
       " ('reason give stars', 61),\n",
       " ('give four stars', 60),\n",
       " ('give five star', 59),\n",
       " ('good time killer', 59),\n",
       " ('please fix problem', 59)]"
      ]
     },
     "execution_count": 95,
     "metadata": {},
     "output_type": "execute_result"
    }
   ],
   "source": [
    "trigram4 = n_gram(rating4['content'].sample(50000), n=3)\n",
    "trigram4[:20]"
   ]
  },
  {
   "cell_type": "markdown",
   "metadata": {},
   "source": [
    "## Rating 5"
   ]
  },
  {
   "cell_type": "code",
   "execution_count": 97,
   "metadata": {},
   "outputs": [
    {
     "data": {
      "text/plain": [
       "[('best ever', 799),\n",
       " ('really fun', 738),\n",
       " ('one best', 689),\n",
       " ('really good', 678),\n",
       " ('really like', 667),\n",
       " ('love much', 636),\n",
       " ('much fun', 534),\n",
       " ('like much', 521),\n",
       " ('ever played', 506),\n",
       " ('love app', 400),\n",
       " ('good graphics', 389),\n",
       " ('really love', 377),\n",
       " ('lots fun', 343),\n",
       " ('good work', 340),\n",
       " ('highly recommend', 310),\n",
       " ('would like', 310),\n",
       " ('please make', 307),\n",
       " ('really enjoy', 305),\n",
       " ('great fun', 302),\n",
       " ('keep good', 297)]"
      ]
     },
     "execution_count": 97,
     "metadata": {},
     "output_type": "execute_result"
    }
   ],
   "source": [
    "bigram5 = n_gram(rating5['content'].sample(50000), n=2)\n",
    "bigram5[:20]"
   ]
  },
  {
   "cell_type": "code",
   "execution_count": 98,
   "metadata": {},
   "outputs": [
    {
     "data": {
      "text/plain": [
       "[('keep good work', 310),\n",
       " ('best ever played', 214),\n",
       " ('love love love', 110),\n",
       " ('way pass time', 106),\n",
       " ('please please please', 105),\n",
       " ('one best ever', 85),\n",
       " ('keep great work', 73),\n",
       " ('really enjoy playing', 72),\n",
       " ('great time killer', 70),\n",
       " ('worth every penny', 68),\n",
       " ('give five stars', 63),\n",
       " ('fun fun fun', 57),\n",
       " ('would like see', 56),\n",
       " ('would love see', 55),\n",
       " ('never get bored', 51),\n",
       " ('great way pass', 47),\n",
       " ('well worth money', 47),\n",
       " ('love much fun', 42),\n",
       " ('one best played', 41),\n",
       " ('good time killer', 40)]"
      ]
     },
     "execution_count": 98,
     "metadata": {},
     "output_type": "execute_result"
    }
   ],
   "source": [
    "trigram5 = n_gram(rating5['content'].sample(50000), n=3)\n",
    "trigram5[:20]"
   ]
  },
  {
   "cell_type": "code",
   "execution_count": null,
   "metadata": {},
   "outputs": [],
   "source": []
  }
 ],
 "metadata": {
  "kernelspec": {
   "display_name": "Python 3",
   "language": "python",
   "name": "python3"
  },
  "language_info": {
   "codemirror_mode": {
    "name": "ipython",
    "version": 3
   },
   "file_extension": ".py",
   "mimetype": "text/x-python",
   "name": "python",
   "nbconvert_exporter": "python",
   "pygments_lexer": "ipython3",
   "version": "3.7.6"
  }
 },
 "nbformat": 4,
 "nbformat_minor": 4
}
